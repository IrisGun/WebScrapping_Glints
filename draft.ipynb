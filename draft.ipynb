{
 "cells": [
  {
   "cell_type": "code",
   "execution_count": 25,
   "metadata": {},
   "outputs": [],
   "source": [
    "import pandas as pd\n",
    "path = r'D:\\Practice\\projects\\WebScrapping\\2022data.xlsx'\n",
    "# df1 = pd.read_excel(path, sheet_name='data')\n",
    "# df2 = pd.read_excel(path, sheet_name=\"Sheet1\")\n",
    "\n",
    "path = r'D:\\Practice\\projects\\WebScrapping\\Glintsdata_221111_Vietnam.csv'\n",
    "df = pd.read_csv(path)\n",
    "df.drop(columns=['Unnamed: 0'], inplace=True)"
   ]
  },
  {
   "cell_type": "code",
   "execution_count": 32,
   "metadata": {},
   "outputs": [
    {
     "data": {
      "text/html": [
       "<div>\n",
       "<style scoped>\n",
       "    .dataframe tbody tr th:only-of-type {\n",
       "        vertical-align: middle;\n",
       "    }\n",
       "\n",
       "    .dataframe tbody tr th {\n",
       "        vertical-align: top;\n",
       "    }\n",
       "\n",
       "    .dataframe thead th {\n",
       "        text-align: right;\n",
       "    }\n",
       "</style>\n",
       "<table border=\"1\" class=\"dataframe\">\n",
       "  <thead>\n",
       "    <tr style=\"text-align: right;\">\n",
       "      <th></th>\n",
       "      <th>job_title</th>\n",
       "      <th>job_link</th>\n",
       "      <th>company_name</th>\n",
       "      <th>company_link</th>\n",
       "      <th>salary</th>\n",
       "      <th>currency</th>\n",
       "      <th>category</th>\n",
       "      <th>contract</th>\n",
       "      <th>experience</th>\n",
       "      <th>benefit</th>\n",
       "      <th>...</th>\n",
       "      <th>company_size</th>\n",
       "      <th>company_location</th>\n",
       "      <th>job_location</th>\n",
       "      <th>posted</th>\n",
       "      <th>updated</th>\n",
       "      <th>scrapped_time</th>\n",
       "      <th>payment_period</th>\n",
       "      <th>lowerbound</th>\n",
       "      <th>upperbound</th>\n",
       "      <th>average</th>\n",
       "    </tr>\n",
       "  </thead>\n",
       "  <tbody>\n",
       "    <tr>\n",
       "      <th>0</th>\n",
       "      <td>[Glints 5 Ngày] Data Engineer</td>\n",
       "      <td>https://glints.com/vn/opportunities/jobs/glint...</td>\n",
       "      <td>Bbv Vietnam Co., Ltd</td>\n",
       "      <td>https://glints.com/vn/companies/bbv-vietnam-co...</td>\n",
       "      <td>VND40.000.000/month</td>\n",
       "      <td>VND</td>\n",
       "      <td>Software Engineering</td>\n",
       "      <td>Việc làm fulltime</td>\n",
       "      <td>3 - 5 năm kinh nghiệm</td>\n",
       "      <td>NaN</td>\n",
       "      <td>...</td>\n",
       "      <td>NaN</td>\n",
       "      <td>NaN</td>\n",
       "      <td>Ho Chi Minh City</td>\n",
       "      <td>7 ngày trước</td>\n",
       "      <td>nhật 4 ngày trước</td>\n",
       "      <td>2022-11-11 13:42:04</td>\n",
       "      <td>month</td>\n",
       "      <td>40000000.0</td>\n",
       "      <td>40000000.0</td>\n",
       "      <td>40000000.0</td>\n",
       "    </tr>\n",
       "    <tr>\n",
       "      <th>1</th>\n",
       "      <td>[Glints 5 Ngày] Head Of Product</td>\n",
       "      <td>https://glints.com/vn/opportunities/jobs/glint...</td>\n",
       "      <td>Be Group</td>\n",
       "      <td>https://glints.com/vn/companies/be-group/6a190...</td>\n",
       "      <td>USD7.000 - 10.000/month</td>\n",
       "      <td>USD</td>\n",
       "      <td>Product Management</td>\n",
       "      <td>Việc làm fulltime</td>\n",
       "      <td>5 - 10 năm kinh nghiệm</td>\n",
       "      <td>NaN</td>\n",
       "      <td>...</td>\n",
       "      <td>201-500 nhân viên</td>\n",
       "      <td>Địa chỉ văn phòngTầng 16, Tòa Nhà Sai Gon Towe...</td>\n",
       "      <td>Ho Chi Minh City</td>\n",
       "      <td>7 ngày trước</td>\n",
       "      <td>nhật 4 ngày trước</td>\n",
       "      <td>2022-11-11 13:42:09</td>\n",
       "      <td>month</td>\n",
       "      <td>7000.0</td>\n",
       "      <td>10000.0</td>\n",
       "      <td>8500.0</td>\n",
       "    </tr>\n",
       "    <tr>\n",
       "      <th>2</th>\n",
       "      <td>[Glints 5 Ngày] Backend Developer</td>\n",
       "      <td>https://glints.com/vn/opportunities/jobs/glint...</td>\n",
       "      <td>Poc Pharma</td>\n",
       "      <td>https://glints.com/vn/companies/poc-pharma/d54...</td>\n",
       "      <td>USD1.000 - 4.000/month</td>\n",
       "      <td>USD</td>\n",
       "      <td>Software Engineering</td>\n",
       "      <td>Việc làm fulltime</td>\n",
       "      <td>3 - 5 năm kinh nghiệm</td>\n",
       "      <td>NaN</td>\n",
       "      <td>...</td>\n",
       "      <td>51-200 nhân viên</td>\n",
       "      <td>Địa chỉ văn phòng 50 Tôn Thất Đạm, Phường Nguy...</td>\n",
       "      <td>Ho Chi Minh City</td>\n",
       "      <td>7 ngày trước</td>\n",
       "      <td>nhật 4 ngày trước</td>\n",
       "      <td>2022-11-11 13:42:17</td>\n",
       "      <td>month</td>\n",
       "      <td>1000.0</td>\n",
       "      <td>4000.0</td>\n",
       "      <td>2500.0</td>\n",
       "    </tr>\n",
       "    <tr>\n",
       "      <th>3</th>\n",
       "      <td>[Glints 5 Ngày] Senior/Lead Backend Engineer</td>\n",
       "      <td>https://glints.com/vn/opportunities/jobs/glint...</td>\n",
       "      <td>Elfie</td>\n",
       "      <td>https://glints.com/vn/companies/elfie/f3c32e5b...</td>\n",
       "      <td>USD3.500 - 5.500/month</td>\n",
       "      <td>USD</td>\n",
       "      <td>Software Engineering</td>\n",
       "      <td>Việc làm fulltime</td>\n",
       "      <td>5 - 10 năm kinh nghiệm</td>\n",
       "      <td>NaN</td>\n",
       "      <td>...</td>\n",
       "      <td>11-50 nhân viên</td>\n",
       "      <td>Địa chỉ văn phòngTầng 2, 124 Điện Biên Phủ, Ph...</td>\n",
       "      <td>Ho Chi Minh City</td>\n",
       "      <td>7 ngày trước</td>\n",
       "      <td>nhật 4 ngày trước</td>\n",
       "      <td>2022-11-11 13:42:21</td>\n",
       "      <td>month</td>\n",
       "      <td>3500.0</td>\n",
       "      <td>5500.0</td>\n",
       "      <td>4500.0</td>\n",
       "    </tr>\n",
       "    <tr>\n",
       "      <th>4</th>\n",
       "      <td>[Glints 5 Ngày] Head of Sales</td>\n",
       "      <td>https://glints.com/vn/opportunities/jobs/glint...</td>\n",
       "      <td>John Hu Migration Consulting Viet Nam</td>\n",
       "      <td>https://glints.com/vn/companies/john-hu-migrat...</td>\n",
       "      <td>USD4.000/month</td>\n",
       "      <td>USD</td>\n",
       "      <td>Business Development / Sales</td>\n",
       "      <td>Việc làm fulltime</td>\n",
       "      <td>Hơn 10 năm kinh nghiệm</td>\n",
       "      <td>NaN</td>\n",
       "      <td>...</td>\n",
       "      <td>11-50 nhân viên</td>\n",
       "      <td>NaN</td>\n",
       "      <td>Ho Chi Minh City</td>\n",
       "      <td>8 ngày trước</td>\n",
       "      <td>nhật 4 ngày trước</td>\n",
       "      <td>2022-11-11 13:42:25</td>\n",
       "      <td>month</td>\n",
       "      <td>4000.0</td>\n",
       "      <td>4000.0</td>\n",
       "      <td>4000.0</td>\n",
       "    </tr>\n",
       "    <tr>\n",
       "      <th>...</th>\n",
       "      <td>...</td>\n",
       "      <td>...</td>\n",
       "      <td>...</td>\n",
       "      <td>...</td>\n",
       "      <td>...</td>\n",
       "      <td>...</td>\n",
       "      <td>...</td>\n",
       "      <td>...</td>\n",
       "      <td>...</td>\n",
       "      <td>...</td>\n",
       "      <td>...</td>\n",
       "      <td>...</td>\n",
       "      <td>...</td>\n",
       "      <td>...</td>\n",
       "      <td>...</td>\n",
       "      <td>...</td>\n",
       "      <td>...</td>\n",
       "      <td>...</td>\n",
       "      <td>...</td>\n",
       "      <td>...</td>\n",
       "      <td>...</td>\n",
       "    </tr>\n",
       "    <tr>\n",
       "      <th>1964</th>\n",
       "      <td>Java developer (EDI tech)</td>\n",
       "      <td>https://glints.com/vn/opportunities/jobs/java-...</td>\n",
       "      <td>Ekino Vietnam</td>\n",
       "      <td>https://glints.com/vn/companies/ekino-vietnam/...</td>\n",
       "      <td>IDR100 - 200/month</td>\n",
       "      <td>IDR</td>\n",
       "      <td>Software Engineering</td>\n",
       "      <td>Việc làm fulltime</td>\n",
       "      <td>1 - 3 năm kinh nghiệm</td>\n",
       "      <td>NaN</td>\n",
       "      <td>...</td>\n",
       "      <td>51-200 nhân viên</td>\n",
       "      <td>NaN</td>\n",
       "      <td>Ho Chi Minh City</td>\n",
       "      <td>1 tháng trước</td>\n",
       "      <td>nhật 1 tháng trước</td>\n",
       "      <td>2022-11-11 16:47:56</td>\n",
       "      <td>month</td>\n",
       "      <td>100.0</td>\n",
       "      <td>200.0</td>\n",
       "      <td>150.0</td>\n",
       "    </tr>\n",
       "    <tr>\n",
       "      <th>1965</th>\n",
       "      <td>Content Manager</td>\n",
       "      <td>https://glints.com/vn/opportunities/jobs/conte...</td>\n",
       "      <td>Anneco Agency</td>\n",
       "      <td>https://glints.com/vn/companies/anneco-agency/...</td>\n",
       "      <td>NaN</td>\n",
       "      <td>NaN</td>\n",
       "      <td>Other</td>\n",
       "      <td>Việc làm fulltime</td>\n",
       "      <td>1 - 3 năm kinh nghiệm</td>\n",
       "      <td>NaN</td>\n",
       "      <td>...</td>\n",
       "      <td>11-50 nhân viên</td>\n",
       "      <td>Địa chỉ văn phòng85-86-87 Bến Vân Đồn, Phường ...</td>\n",
       "      <td>Ho Chi Minh City</td>\n",
       "      <td>5 tháng trước</td>\n",
       "      <td>nhật 26 ngày trước</td>\n",
       "      <td>2022-11-11 16:48:04</td>\n",
       "      <td>NaN</td>\n",
       "      <td>NaN</td>\n",
       "      <td>NaN</td>\n",
       "      <td>NaN</td>\n",
       "    </tr>\n",
       "    <tr>\n",
       "      <th>1966</th>\n",
       "      <td>Mobile Developer</td>\n",
       "      <td>https://glints.com/vn/opportunities/jobs/mobil...</td>\n",
       "      <td>Innomizetech</td>\n",
       "      <td>https://glints.com/vn/companies/innomizetech/1...</td>\n",
       "      <td>USD1.000 - 2.500/month</td>\n",
       "      <td>USD</td>\n",
       "      <td>Software Engineering</td>\n",
       "      <td>Việc làm fulltime</td>\n",
       "      <td>1 - 3 năm kinh nghiệm</td>\n",
       "      <td>NaN</td>\n",
       "      <td>...</td>\n",
       "      <td>11-50 nhân viên</td>\n",
       "      <td>NaN</td>\n",
       "      <td>Ho Chi Minh City</td>\n",
       "      <td>2 tháng trước</td>\n",
       "      <td>nhật 8 ngày trước</td>\n",
       "      <td>2022-11-11 16:48:11</td>\n",
       "      <td>month</td>\n",
       "      <td>1000.0</td>\n",
       "      <td>2500.0</td>\n",
       "      <td>1750.0</td>\n",
       "    </tr>\n",
       "    <tr>\n",
       "      <th>1967</th>\n",
       "      <td>UI/UX Designer (Product Design)</td>\n",
       "      <td>https://glints.com/vn/opportunities/jobs/ui-ux...</td>\n",
       "      <td>Advesa Digital Solutions</td>\n",
       "      <td>https://glints.com/vn/companies/advesa-digital...</td>\n",
       "      <td>USD1.700/month</td>\n",
       "      <td>USD</td>\n",
       "      <td>Design</td>\n",
       "      <td>Việc làm fulltime</td>\n",
       "      <td>1 - 3 năm kinh nghiệm</td>\n",
       "      <td>NaN</td>\n",
       "      <td>...</td>\n",
       "      <td>201-500 nhân viên</td>\n",
       "      <td>NaN</td>\n",
       "      <td>Hà Nội</td>\n",
       "      <td>4 tháng trước</td>\n",
       "      <td>nhật 2 ngày trước</td>\n",
       "      <td>2022-11-11 16:48:28</td>\n",
       "      <td>month</td>\n",
       "      <td>1700.0</td>\n",
       "      <td>1700.0</td>\n",
       "      <td>1700.0</td>\n",
       "    </tr>\n",
       "    <tr>\n",
       "      <th>1968</th>\n",
       "      <td>Senior Pentester</td>\n",
       "      <td>https://glints.com/vn/opportunities/jobs/senio...</td>\n",
       "      <td>Bouygues Construction IT Vietnam</td>\n",
       "      <td>https://glints.com/vn/companies/bouygues-const...</td>\n",
       "      <td>VND30.000.000 - 50.000.000/month</td>\n",
       "      <td>VND</td>\n",
       "      <td>Software Engineering</td>\n",
       "      <td>Việc làm fulltime</td>\n",
       "      <td>3 - 5 năm kinh nghiệm</td>\n",
       "      <td>NaN</td>\n",
       "      <td>...</td>\n",
       "      <td>51-200 nhân viên</td>\n",
       "      <td>Địa chỉ văn phòngEtown 1, 364 Cong Hoa Street,...</td>\n",
       "      <td>Ho Chi Minh City</td>\n",
       "      <td>24 ngày trước</td>\n",
       "      <td>nhật 23 ngày trước</td>\n",
       "      <td>2022-11-11 16:48:37</td>\n",
       "      <td>month</td>\n",
       "      <td>30000000.0</td>\n",
       "      <td>50000000.0</td>\n",
       "      <td>40000000.0</td>\n",
       "    </tr>\n",
       "  </tbody>\n",
       "</table>\n",
       "<p>1969 rows × 22 columns</p>\n",
       "</div>"
      ],
      "text/plain": [
       "                                         job_title  \\\n",
       "0                    [Glints 5 Ngày] Data Engineer   \n",
       "1                  [Glints 5 Ngày] Head Of Product   \n",
       "2                [Glints 5 Ngày] Backend Developer   \n",
       "3     [Glints 5 Ngày] Senior/Lead Backend Engineer   \n",
       "4                    [Glints 5 Ngày] Head of Sales   \n",
       "...                                            ...   \n",
       "1964                    Java developer (EDI tech)    \n",
       "1965                               Content Manager   \n",
       "1966                              Mobile Developer   \n",
       "1967               UI/UX Designer (Product Design)   \n",
       "1968                              Senior Pentester   \n",
       "\n",
       "                                               job_link  \\\n",
       "0     https://glints.com/vn/opportunities/jobs/glint...   \n",
       "1     https://glints.com/vn/opportunities/jobs/glint...   \n",
       "2     https://glints.com/vn/opportunities/jobs/glint...   \n",
       "3     https://glints.com/vn/opportunities/jobs/glint...   \n",
       "4     https://glints.com/vn/opportunities/jobs/glint...   \n",
       "...                                                 ...   \n",
       "1964  https://glints.com/vn/opportunities/jobs/java-...   \n",
       "1965  https://glints.com/vn/opportunities/jobs/conte...   \n",
       "1966  https://glints.com/vn/opportunities/jobs/mobil...   \n",
       "1967  https://glints.com/vn/opportunities/jobs/ui-ux...   \n",
       "1968  https://glints.com/vn/opportunities/jobs/senio...   \n",
       "\n",
       "                               company_name  \\\n",
       "0                      Bbv Vietnam Co., Ltd   \n",
       "1                                  Be Group   \n",
       "2                                Poc Pharma   \n",
       "3                                     Elfie   \n",
       "4     John Hu Migration Consulting Viet Nam   \n",
       "...                                     ...   \n",
       "1964                          Ekino Vietnam   \n",
       "1965                          Anneco Agency   \n",
       "1966                           Innomizetech   \n",
       "1967               Advesa Digital Solutions   \n",
       "1968       Bouygues Construction IT Vietnam   \n",
       "\n",
       "                                           company_link  \\\n",
       "0     https://glints.com/vn/companies/bbv-vietnam-co...   \n",
       "1     https://glints.com/vn/companies/be-group/6a190...   \n",
       "2     https://glints.com/vn/companies/poc-pharma/d54...   \n",
       "3     https://glints.com/vn/companies/elfie/f3c32e5b...   \n",
       "4     https://glints.com/vn/companies/john-hu-migrat...   \n",
       "...                                                 ...   \n",
       "1964  https://glints.com/vn/companies/ekino-vietnam/...   \n",
       "1965  https://glints.com/vn/companies/anneco-agency/...   \n",
       "1966  https://glints.com/vn/companies/innomizetech/1...   \n",
       "1967  https://glints.com/vn/companies/advesa-digital...   \n",
       "1968  https://glints.com/vn/companies/bouygues-const...   \n",
       "\n",
       "                                salary currency                      category  \\\n",
       "0                  VND40.000.000/month      VND          Software Engineering   \n",
       "1              USD7.000 - 10.000/month      USD            Product Management   \n",
       "2               USD1.000 - 4.000/month      USD          Software Engineering   \n",
       "3               USD3.500 - 5.500/month      USD          Software Engineering   \n",
       "4                       USD4.000/month      USD  Business Development / Sales   \n",
       "...                                ...      ...                           ...   \n",
       "1964                IDR100 - 200/month      IDR          Software Engineering   \n",
       "1965                               NaN      NaN                         Other   \n",
       "1966            USD1.000 - 2.500/month      USD          Software Engineering   \n",
       "1967                    USD1.700/month      USD                        Design   \n",
       "1968  VND30.000.000 - 50.000.000/month      VND          Software Engineering   \n",
       "\n",
       "               contract              experience  benefit  ...  \\\n",
       "0     Việc làm fulltime   3 - 5 năm kinh nghiệm      NaN  ...   \n",
       "1     Việc làm fulltime  5 - 10 năm kinh nghiệm      NaN  ...   \n",
       "2     Việc làm fulltime   3 - 5 năm kinh nghiệm      NaN  ...   \n",
       "3     Việc làm fulltime  5 - 10 năm kinh nghiệm      NaN  ...   \n",
       "4     Việc làm fulltime  Hơn 10 năm kinh nghiệm      NaN  ...   \n",
       "...                 ...                     ...      ...  ...   \n",
       "1964  Việc làm fulltime   1 - 3 năm kinh nghiệm      NaN  ...   \n",
       "1965  Việc làm fulltime   1 - 3 năm kinh nghiệm      NaN  ...   \n",
       "1966  Việc làm fulltime   1 - 3 năm kinh nghiệm      NaN  ...   \n",
       "1967  Việc làm fulltime   1 - 3 năm kinh nghiệm      NaN  ...   \n",
       "1968  Việc làm fulltime   3 - 5 năm kinh nghiệm      NaN  ...   \n",
       "\n",
       "           company_size                                   company_location  \\\n",
       "0                   NaN                                                NaN   \n",
       "1     201-500 nhân viên  Địa chỉ văn phòngTầng 16, Tòa Nhà Sai Gon Towe...   \n",
       "2      51-200 nhân viên  Địa chỉ văn phòng 50 Tôn Thất Đạm, Phường Nguy...   \n",
       "3       11-50 nhân viên  Địa chỉ văn phòngTầng 2, 124 Điện Biên Phủ, Ph...   \n",
       "4       11-50 nhân viên                                                NaN   \n",
       "...                 ...                                                ...   \n",
       "1964   51-200 nhân viên                                                NaN   \n",
       "1965    11-50 nhân viên  Địa chỉ văn phòng85-86-87 Bến Vân Đồn, Phường ...   \n",
       "1966    11-50 nhân viên                                                NaN   \n",
       "1967  201-500 nhân viên                                                NaN   \n",
       "1968   51-200 nhân viên  Địa chỉ văn phòngEtown 1, 364 Cong Hoa Street,...   \n",
       "\n",
       "          job_location         posted             updated  \\\n",
       "0     Ho Chi Minh City   7 ngày trước   nhật 4 ngày trước   \n",
       "1     Ho Chi Minh City   7 ngày trước   nhật 4 ngày trước   \n",
       "2     Ho Chi Minh City   7 ngày trước   nhật 4 ngày trước   \n",
       "3     Ho Chi Minh City   7 ngày trước   nhật 4 ngày trước   \n",
       "4     Ho Chi Minh City   8 ngày trước   nhật 4 ngày trước   \n",
       "...                ...            ...                 ...   \n",
       "1964  Ho Chi Minh City  1 tháng trước  nhật 1 tháng trước   \n",
       "1965  Ho Chi Minh City  5 tháng trước  nhật 26 ngày trước   \n",
       "1966  Ho Chi Minh City  2 tháng trước   nhật 8 ngày trước   \n",
       "1967            Hà Nội  4 tháng trước   nhật 2 ngày trước   \n",
       "1968  Ho Chi Minh City  24 ngày trước  nhật 23 ngày trước   \n",
       "\n",
       "            scrapped_time payment_period  lowerbound  upperbound     average  \n",
       "0     2022-11-11 13:42:04          month  40000000.0  40000000.0  40000000.0  \n",
       "1     2022-11-11 13:42:09          month      7000.0     10000.0      8500.0  \n",
       "2     2022-11-11 13:42:17          month      1000.0      4000.0      2500.0  \n",
       "3     2022-11-11 13:42:21          month      3500.0      5500.0      4500.0  \n",
       "4     2022-11-11 13:42:25          month      4000.0      4000.0      4000.0  \n",
       "...                   ...            ...         ...         ...         ...  \n",
       "1964  2022-11-11 16:47:56          month       100.0       200.0       150.0  \n",
       "1965  2022-11-11 16:48:04            NaN         NaN         NaN         NaN  \n",
       "1966  2022-11-11 16:48:11          month      1000.0      2500.0      1750.0  \n",
       "1967  2022-11-11 16:48:28          month      1700.0      1700.0      1700.0  \n",
       "1968  2022-11-11 16:48:37          month  30000000.0  50000000.0  40000000.0  \n",
       "\n",
       "[1969 rows x 22 columns]"
      ]
     },
     "execution_count": 32,
     "metadata": {},
     "output_type": "execute_result"
    }
   ],
   "source": [
    "def process_salary(salary):\n",
    "    if pd.isna(salary):\n",
    "        return pd.Series([np.nan, np.nan, np.nan, np.nan, np.nan])\n",
    "    \n",
    "    # Extract payment period\n",
    "    period = salary.split('/')[-1]\n",
    "    \n",
    "    # Extract currency\n",
    "    currency = ''.join([char for char in salary if char.isalpha() and char.isupper()])\n",
    "    \n",
    "    # Extract lower and upper bounds\n",
    "    numbers = salary.replace(currency, '').replace(period, '').replace('.', '').replace(',', '').strip()\n",
    "    numbers = numbers.rstrip('/')  # Remove trailing '/'\n",
    "    \n",
    "    if '-' in numbers:\n",
    "        lower, upper = numbers.split('-')\n",
    "        lower, upper = int(lower.strip()), int(upper.strip())\n",
    "    else:\n",
    "        lower = int(numbers.strip())\n",
    "        upper = lower\n",
    "\n",
    "    # Calculate average\n",
    "    average = (lower + upper) / 2\n",
    "\n",
    "    return pd.Series([period, currency, lower, upper, average])\n",
    "\n",
    "# Apply the function to the DataFrame\n",
    "df[['payment_period', 'currency', 'lowerbound', 'upperbound', 'average']] = df['salary'].apply(process_salary)\n",
    "\n",
    "# Display the updated DataFrame\n",
    "df"
   ]
  },
  {
   "cell_type": "code",
   "execution_count": null,
   "metadata": {},
   "outputs": [],
   "source": []
  },
  {
   "cell_type": "markdown",
   "metadata": {},
   "source": [
    "# 1. EDA ALL"
   ]
  },
  {
   "cell_type": "code",
   "execution_count": 6,
   "metadata": {},
   "outputs": [
    {
     "name": "stdout",
     "output_type": "stream",
     "text": [
      "File 1 Info:\n",
      "<class 'pandas.core.frame.DataFrame'>\n",
      "RangeIndex: 13 entries, 0 to 12\n",
      "Data columns (total 19 columns):\n",
      " #   Column            Non-Null Count  Dtype \n",
      "---  ------            --------------  ----- \n",
      " 0   inx               12 non-null     object\n",
      " 1   job_title         11 non-null     object\n",
      " 2   job_link          11 non-null     object\n",
      " 3   company_name      11 non-null     object\n",
      " 4   company_link      11 non-null     object\n",
      " 5   salary            10 non-null     object\n",
      " 6   currency          10 non-null     object\n",
      " 7   category          11 non-null     object\n",
      " 8   contract          11 non-null     object\n",
      " 9   experience        11 non-null     object\n",
      " 10  benefit           1 non-null      object\n",
      " 11  requirement       11 non-null     object\n",
      " 12  industry          6 non-null      object\n",
      " 13  company_size      10 non-null     object\n",
      " 14  company_location  6 non-null      object\n",
      " 15  job_location      11 non-null     object\n",
      " 16  posted            11 non-null     object\n",
      " 17  updated           11 non-null     object\n",
      " 18  scrapped_time     11 non-null     object\n",
      "dtypes: object(19)\n",
      "memory usage: 2.1+ KB\n",
      "None\n",
      "\n",
      "File 2 Info:\n",
      "<class 'pandas.core.frame.DataFrame'>\n",
      "RangeIndex: 122 entries, 0 to 121\n",
      "Data columns (total 19 columns):\n",
      " #   Column            Non-Null Count  Dtype         \n",
      "---  ------            --------------  -----         \n",
      " 0   index             122 non-null    int64         \n",
      " 1   job_title         121 non-null    object        \n",
      " 2   company_name      121 non-null    object        \n",
      " 3   company_link      121 non-null    object        \n",
      " 4   salary            76 non-null     object        \n",
      " 5   currency          76 non-null     object        \n",
      " 6   category          121 non-null    object        \n",
      " 7   contract          121 non-null    object        \n",
      " 8   experience        107 non-null    object        \n",
      " 9   benefit           0 non-null      float64       \n",
      " 10  requirement       121 non-null    object        \n",
      " 11  company_location  86 non-null     object        \n",
      " 12  job_location      121 non-null    object        \n",
      " 13  posted            121 non-null    object        \n",
      " 14  updated           121 non-null    object        \n",
      " 15  company_size      111 non-null    object        \n",
      " 16  industry          92 non-null     object        \n",
      " 17  scrapped_time     121 non-null    datetime64[ns]\n",
      " 18  salary_period     76 non-null     object        \n",
      "dtypes: datetime64[ns](1), float64(1), int64(1), object(16)\n",
      "memory usage: 18.2+ KB\n",
      "None\n",
      "\n",
      "File 1 Head:\n",
      "  inx                                     job_title  \\\n",
      "0   0                 [Glints 5 Ngày] Data Engineer   \n",
      "1   1               [Glints 5 Ngày] Head Of Product   \n",
      "2   2             [Glints 5 Ngày] Backend Developer   \n",
      "3   3  [Glints 5 Ngày] Senior/Lead Backend Engineer   \n",
      "4   4                 [Glints 5 Ngày] Head of Sales   \n",
      "\n",
      "                                            job_link  \\\n",
      "0  https://glints.com/vn/opportunities/jobs/glint...   \n",
      "1  https://glints.com/vn/opportunities/jobs/glint...   \n",
      "2  https://glints.com/vn/opportunities/jobs/glint...   \n",
      "3  https://glints.com/vn/opportunities/jobs/glint...   \n",
      "4  https://glints.com/vn/opportunities/jobs/glint...   \n",
      "\n",
      "                            company_name  \\\n",
      "0                   Bbv Vietnam Co., Ltd   \n",
      "1                               Be Group   \n",
      "2                             Poc Pharma   \n",
      "3                                  Elfie   \n",
      "4  John Hu Migration Consulting Viet Nam   \n",
      "\n",
      "                                        company_link                   salary  \\\n",
      "0  https://glints.com/vn/companies/bbv-vietnam-co...      VND40.000.000/month   \n",
      "1  https://glints.com/vn/companies/be-group/6a190...  USD7.000 - 10.000/month   \n",
      "2  https://glints.com/vn/companies/poc-pharma/d54...   USD1.000 - 4.000/month   \n",
      "3  https://glints.com/vn/companies/elfie/f3c32e5b...   USD3.500 - 5.500/month   \n",
      "4  https://glints.com/vn/companies/john-hu-migrat...           USD4.000/month   \n",
      "\n",
      "  currency                      category           contract  \\\n",
      "0      VND          Software Engineering  Việc làm fulltime   \n",
      "1      USD            Product Management  Việc làm fulltime   \n",
      "2      USD          Software Engineering  Việc làm fulltime   \n",
      "3      USD          Software Engineering  Việc làm fulltime   \n",
      "4      USD  Business Development / Sales  Việc làm fulltime   \n",
      "\n",
      "               experience benefit  \\\n",
      "0   3 - 5 năm kinh nghiệm     NaN   \n",
      "1  5 - 10 năm kinh nghiệm     NaN   \n",
      "2   3 - 5 năm kinh nghiệm     NaN   \n",
      "3  5 - 10 năm kinh nghiệm     NaN   \n",
      "4  Hơn 10 năm kinh nghiệm     NaN   \n",
      "\n",
      "                                         requirement         industry  \\\n",
      "0  Interpersonal Skills,English,Analyzing skills,...              NaN   \n",
      "1  English,Strong Leadership Skills,Product Devel...              NaN   \n",
      "2  Backend Developer,Data Structures,Critical Thi...  Pharmaceuticals   \n",
      "3  Nosql,Data Modeling,Cloud Infrastructure,nodej...              NaN   \n",
      "4  English,Financial Literacy,Stakeholder Managem...              NaN   \n",
      "\n",
      "        company_size                                   company_location  \\\n",
      "0                NaN                                                NaN   \n",
      "1  201-500 nhân viên  Địa chỉ văn phòngTầng 16, Tòa Nhà Sai Gon Towe...   \n",
      "2   51-200 nhân viên  Địa chỉ văn phòng 50 Tôn Thất Đạm, Phường Nguy...   \n",
      "3    11-50 nhân viên  Địa chỉ văn phòngTầng 2, 124 Điện Biên Phủ, Ph...   \n",
      "4    11-50 nhân viên                                                NaN   \n",
      "\n",
      "       job_location        posted            updated        scrapped_time  \n",
      "0  Ho Chi Minh City  7 ngày trước  nhật 4 ngày trước  2022-11-11 13:42:04  \n",
      "1  Ho Chi Minh City  7 ngày trước  nhật 4 ngày trước  2022-11-11 13:42:09  \n",
      "2  Ho Chi Minh City  7 ngày trước  nhật 4 ngày trước  2022-11-11 13:42:17  \n",
      "3  Ho Chi Minh City  7 ngày trước  nhật 4 ngày trước  2022-11-11 13:42:21  \n",
      "4  Ho Chi Minh City  8 ngày trước  nhật 4 ngày trước  2022-11-11 13:42:25  \n",
      "\n",
      "File 2 Head:\n",
      "   index     job_title                company_name  \\\n",
      "0      6  Data Analyst                     Cốc Cốc   \n",
      "1      7  Data Analyst                       Finan   \n",
      "2     16  Data Analyst                       DRCOM   \n",
      "3     17  Data Analyst  Công Ty CP Công Nghệ Sendo   \n",
      "4     18  Data Analyst                C2C TECH HUB   \n",
      "\n",
      "                                        company_link  \\\n",
      "0  https://glints.com/vn/companies/coc-coc/4089a7...   \n",
      "1  https://glints.com/vn/companies/finan/7f174009...   \n",
      "2  https://glints.com/vn/companies/drcom/d90fac59...   \n",
      "3  https://glints.com/vn/companies/cong-ty-cp-con...   \n",
      "4  https://glints.com/vn/companies/c2c-tech-hub/5...   \n",
      "\n",
      "                             salary currency      category           contract  \\\n",
      "0              USD700 - 1.300/month      USD  Data Science  Việc làm fulltime   \n",
      "1  VND15.000.000 - 25.000.000/month      VND  Data Science  Việc làm fulltime   \n",
      "2                               NaN      NaN  Data Science  Việc làm fulltime   \n",
      "3               VND30.000.000/month      VND  Data Science  Việc làm fulltime   \n",
      "4                               NaN      NaN  Data Science  Việc làm fulltime   \n",
      "\n",
      "              experience  benefit  \\\n",
      "0  1 - 3 năm kinh nghiệm      NaN   \n",
      "1  1 - 3 năm kinh nghiệm      NaN   \n",
      "2  1 - 3 năm kinh nghiệm      NaN   \n",
      "3  3 - 5 năm kinh nghiệm      NaN   \n",
      "4  1 - 3 năm kinh nghiệm      NaN   \n",
      "\n",
      "                                         requirement  \\\n",
      "0           SQL,DataVisualisation Skills,Mathematics   \n",
      "1  MySQL,Problem Solving,Teamwork,Business Object...   \n",
      "2                            MySQL,CDP,Data Analysis   \n",
      "3   Data Science,Business Intelligence,Data Analysis   \n",
      "4  A/B Testing,English,Analytics Skills,SQL/NoSQL...   \n",
      "\n",
      "                                    company_location      job_location  \\\n",
      "0                                                NaN            Hà Nội   \n",
      "1  Địa chỉ văn phòng198/10E Điện Biên Phủ, Phường...  Ho Chi Minh City   \n",
      "2  Địa chỉ văn phòng131 Xô Viết Nghệ Tĩnh, P17, B...  Ho Chi Minh City   \n",
      "3  Địa chỉ văn phòngĐường Số 8, Tân Thuận Đông, Q...  Ho Chi Minh City   \n",
      "4  Địa chỉ văn phòng2C12 Truong Sa Street, Ward 1...  Ho Chi Minh City   \n",
      "\n",
      "           posted             updated          company_size  \\\n",
      "0    9 ngày trước   nhật 9 ngày trước     201-500 nhân viên   \n",
      "1  10 tháng trước  nhật 1 tháng trước      51-200 nhân viên   \n",
      "2         hôm qua        nhật hôm qua      51-200 nhân viên   \n",
      "3         hôm qua        nhật hôm qua  501 - 1000 nhân viên   \n",
      "4    9 ngày trước   nhật 8 ngày trước      51-200 nhân viên   \n",
      "\n",
      "                              industry       scrapped_time salary_period  \n",
      "0  Information Technology and Services 2022-11-09 04:07:37         month  \n",
      "1  Information Technology and Services 2022-11-09 04:07:41         month  \n",
      "2               Hospital & Health Care 2022-11-09 04:11:58           NaN  \n",
      "3  Information Technology and Services 2022-11-09 04:12:03         month  \n",
      "4  Information Technology and Services 2022-11-09 04:14:36           NaN  \n",
      "\n",
      "Missing Values in File 1:\n",
      "inx                  1\n",
      "job_title            2\n",
      "job_link             2\n",
      "company_name         2\n",
      "company_link         2\n",
      "salary               3\n",
      "currency             3\n",
      "category             2\n",
      "contract             2\n",
      "experience           2\n",
      "benefit             12\n",
      "requirement          2\n",
      "industry             7\n",
      "company_size         3\n",
      "company_location     7\n",
      "job_location         2\n",
      "posted               2\n",
      "updated              2\n",
      "scrapped_time        2\n",
      "dtype: int64\n",
      "\n",
      "Missing Values in File 2:\n",
      "index                 0\n",
      "job_title             1\n",
      "company_name          1\n",
      "company_link          1\n",
      "salary               46\n",
      "currency             46\n",
      "category              1\n",
      "contract              1\n",
      "experience           15\n",
      "benefit             122\n",
      "requirement           1\n",
      "company_location     36\n",
      "job_location          1\n",
      "posted                1\n",
      "updated               1\n",
      "company_size         11\n",
      "industry             30\n",
      "scrapped_time         1\n",
      "salary_period        46\n",
      "dtype: int64\n",
      "\n",
      "Descriptive Statistics for File 1:\n",
      "        inx                      job_title  \\\n",
      "count    12                             11   \n",
      "unique   12                             11   \n",
      "top       0  [Glints 5 Ngày] Data Engineer   \n",
      "freq      1                              1   \n",
      "\n",
      "                                                 job_link  \\\n",
      "count                                                  11   \n",
      "unique                                                  7   \n",
      "top     https://glints.com/vn/opportunities/jobs/glint...   \n",
      "freq                                                    5   \n",
      "\n",
      "                company_name  \\\n",
      "count                     11   \n",
      "unique                    11   \n",
      "top     Bbv Vietnam Co., Ltd   \n",
      "freq                       1   \n",
      "\n",
      "                                             company_link  \\\n",
      "count                                                  11   \n",
      "unique                                                 11   \n",
      "top     https://glints.com/vn/companies/bbv-vietnam-co...   \n",
      "freq                                                    1   \n",
      "\n",
      "                     salary currency              category           contract  \\\n",
      "count                    10       10                    11                 11   \n",
      "unique                   10        4                     6                  2   \n",
      "top     VND40.000.000/month      USD  Software Engineering  Việc làm fulltime   \n",
      "freq                      1        6                     6                 10   \n",
      "\n",
      "                   experience benefit  \\\n",
      "count                      11       1   \n",
      "unique                      5       1   \n",
      "top     1 - 3 năm kinh nghiệm     ...   \n",
      "freq                        4       1   \n",
      "\n",
      "                                              requirement  \\\n",
      "count                                                  11   \n",
      "unique                                                 11   \n",
      "top     Interpersonal Skills,English,Analyzing skills,...   \n",
      "freq                                                    1   \n",
      "\n",
      "                                   industry     company_size  \\\n",
      "count                                     6               10   \n",
      "unique                                    5                4   \n",
      "top     Information Technology and Services  11-50 nhân viên   \n",
      "freq                                      2                4   \n",
      "\n",
      "                                         company_location      job_location  \\\n",
      "count                                                   6                11   \n",
      "unique                                                  6                 3   \n",
      "top     Địa chỉ văn phòngTầng 16, Tòa Nhà Sai Gon Towe...  Ho Chi Minh City   \n",
      "freq                                                    1                 9   \n",
      "\n",
      "              posted            updated        scrapped_time  \n",
      "count             11                 11                   11  \n",
      "unique             8                  7                   11  \n",
      "top     7 ngày trước  nhật 4 ngày trước  2022-11-11 13:42:04  \n",
      "freq               4                  5                    1  \n",
      "\n",
      "Descriptive Statistics for File 2:\n",
      "            index  benefit                  scrapped_time\n",
      "count  122.000000      0.0                            121\n",
      "mean   168.204918      NaN  2022-11-09 04:25:44.041322240\n",
      "min      6.000000      NaN            2022-11-09 04:07:37\n",
      "25%     58.250000      NaN            2022-11-09 04:18:28\n",
      "50%    150.000000      NaN            2022-11-09 04:26:02\n",
      "75%    222.750000      NaN            2022-11-09 04:30:03\n",
      "max    501.000000      NaN            2022-11-09 04:46:06\n",
      "std    134.182923      NaN                            NaN\n"
     ]
    },
    {
     "ename": "ValueError",
     "evalue": "could not convert string to float: '40000000/month'",
     "output_type": "error",
     "traceback": [
      "\u001b[1;31m---------------------------------------------------------------------------\u001b[0m",
      "\u001b[1;31mValueError\u001b[0m                                Traceback (most recent call last)",
      "Cell \u001b[1;32mIn[6], line 41\u001b[0m\n\u001b[0;32m     38\u001b[0m         \u001b[38;5;28;01mreturn\u001b[39;00m (\u001b[38;5;28mfloat\u001b[39m(low) \u001b[38;5;241m+\u001b[39m \u001b[38;5;28mfloat\u001b[39m(high)) \u001b[38;5;241m/\u001b[39m \u001b[38;5;241m2\u001b[39m\n\u001b[0;32m     39\u001b[0m     \u001b[38;5;28;01mreturn\u001b[39;00m \u001b[38;5;28mfloat\u001b[39m(salary)\n\u001b[1;32m---> 41\u001b[0m df1[\u001b[38;5;124m'\u001b[39m\u001b[38;5;124msalary_numeric\u001b[39m\u001b[38;5;124m'\u001b[39m] \u001b[38;5;241m=\u001b[39m \u001b[43mdf1\u001b[49m\u001b[43m[\u001b[49m\u001b[38;5;124;43m'\u001b[39;49m\u001b[38;5;124;43msalary\u001b[39;49m\u001b[38;5;124;43m'\u001b[39;49m\u001b[43m]\u001b[49m\u001b[38;5;241;43m.\u001b[39;49m\u001b[43mapply\u001b[49m\u001b[43m(\u001b[49m\u001b[43mconvert_salary\u001b[49m\u001b[43m)\u001b[49m\n\u001b[0;32m     42\u001b[0m df2[\u001b[38;5;124m'\u001b[39m\u001b[38;5;124msalary_numeric\u001b[39m\u001b[38;5;124m'\u001b[39m] \u001b[38;5;241m=\u001b[39m df2[\u001b[38;5;124m'\u001b[39m\u001b[38;5;124msalary\u001b[39m\u001b[38;5;124m'\u001b[39m]\u001b[38;5;241m.\u001b[39mapply(convert_salary)\n\u001b[0;32m     44\u001b[0m \u001b[38;5;66;03m# Plot salary distribution\u001b[39;00m\n",
      "File \u001b[1;32mc:\\Users\\trangnt341\\AppData\\Local\\Programs\\Python\\Python311\\Lib\\site-packages\\pandas\\core\\series.py:4630\u001b[0m, in \u001b[0;36mSeries.apply\u001b[1;34m(self, func, convert_dtype, args, **kwargs)\u001b[0m\n\u001b[0;32m   4520\u001b[0m \u001b[38;5;28;01mdef\u001b[39;00m \u001b[38;5;21mapply\u001b[39m(\n\u001b[0;32m   4521\u001b[0m     \u001b[38;5;28mself\u001b[39m,\n\u001b[0;32m   4522\u001b[0m     func: AggFuncType,\n\u001b[1;32m   (...)\u001b[0m\n\u001b[0;32m   4525\u001b[0m     \u001b[38;5;241m*\u001b[39m\u001b[38;5;241m*\u001b[39mkwargs,\n\u001b[0;32m   4526\u001b[0m ) \u001b[38;5;241m-\u001b[39m\u001b[38;5;241m>\u001b[39m DataFrame \u001b[38;5;241m|\u001b[39m Series:\n\u001b[0;32m   4527\u001b[0m \u001b[38;5;250m    \u001b[39m\u001b[38;5;124;03m\"\"\"\u001b[39;00m\n\u001b[0;32m   4528\u001b[0m \u001b[38;5;124;03m    Invoke function on values of Series.\u001b[39;00m\n\u001b[0;32m   4529\u001b[0m \n\u001b[1;32m   (...)\u001b[0m\n\u001b[0;32m   4628\u001b[0m \u001b[38;5;124;03m    dtype: float64\u001b[39;00m\n\u001b[0;32m   4629\u001b[0m \u001b[38;5;124;03m    \"\"\"\u001b[39;00m\n\u001b[1;32m-> 4630\u001b[0m     \u001b[38;5;28;01mreturn\u001b[39;00m \u001b[43mSeriesApply\u001b[49m\u001b[43m(\u001b[49m\u001b[38;5;28;43mself\u001b[39;49m\u001b[43m,\u001b[49m\u001b[43m \u001b[49m\u001b[43mfunc\u001b[49m\u001b[43m,\u001b[49m\u001b[43m \u001b[49m\u001b[43mconvert_dtype\u001b[49m\u001b[43m,\u001b[49m\u001b[43m \u001b[49m\u001b[43margs\u001b[49m\u001b[43m,\u001b[49m\u001b[43m \u001b[49m\u001b[43mkwargs\u001b[49m\u001b[43m)\u001b[49m\u001b[38;5;241;43m.\u001b[39;49m\u001b[43mapply\u001b[49m\u001b[43m(\u001b[49m\u001b[43m)\u001b[49m\n",
      "File \u001b[1;32mc:\\Users\\trangnt341\\AppData\\Local\\Programs\\Python\\Python311\\Lib\\site-packages\\pandas\\core\\apply.py:1025\u001b[0m, in \u001b[0;36mSeriesApply.apply\u001b[1;34m(self)\u001b[0m\n\u001b[0;32m   1022\u001b[0m     \u001b[38;5;28;01mreturn\u001b[39;00m \u001b[38;5;28mself\u001b[39m\u001b[38;5;241m.\u001b[39mapply_str()\n\u001b[0;32m   1024\u001b[0m \u001b[38;5;66;03m# self.f is Callable\u001b[39;00m\n\u001b[1;32m-> 1025\u001b[0m \u001b[38;5;28;01mreturn\u001b[39;00m \u001b[38;5;28;43mself\u001b[39;49m\u001b[38;5;241;43m.\u001b[39;49m\u001b[43mapply_standard\u001b[49m\u001b[43m(\u001b[49m\u001b[43m)\u001b[49m\n",
      "File \u001b[1;32mc:\\Users\\trangnt341\\AppData\\Local\\Programs\\Python\\Python311\\Lib\\site-packages\\pandas\\core\\apply.py:1076\u001b[0m, in \u001b[0;36mSeriesApply.apply_standard\u001b[1;34m(self)\u001b[0m\n\u001b[0;32m   1074\u001b[0m     \u001b[38;5;28;01melse\u001b[39;00m:\n\u001b[0;32m   1075\u001b[0m         values \u001b[38;5;241m=\u001b[39m obj\u001b[38;5;241m.\u001b[39mastype(\u001b[38;5;28mobject\u001b[39m)\u001b[38;5;241m.\u001b[39m_values\n\u001b[1;32m-> 1076\u001b[0m         mapped \u001b[38;5;241m=\u001b[39m \u001b[43mlib\u001b[49m\u001b[38;5;241;43m.\u001b[39;49m\u001b[43mmap_infer\u001b[49m\u001b[43m(\u001b[49m\n\u001b[0;32m   1077\u001b[0m \u001b[43m            \u001b[49m\u001b[43mvalues\u001b[49m\u001b[43m,\u001b[49m\n\u001b[0;32m   1078\u001b[0m \u001b[43m            \u001b[49m\u001b[43mf\u001b[49m\u001b[43m,\u001b[49m\n\u001b[0;32m   1079\u001b[0m \u001b[43m            \u001b[49m\u001b[43mconvert\u001b[49m\u001b[38;5;241;43m=\u001b[39;49m\u001b[38;5;28;43mself\u001b[39;49m\u001b[38;5;241;43m.\u001b[39;49m\u001b[43mconvert_dtype\u001b[49m\u001b[43m,\u001b[49m\n\u001b[0;32m   1080\u001b[0m \u001b[43m        \u001b[49m\u001b[43m)\u001b[49m\n\u001b[0;32m   1082\u001b[0m \u001b[38;5;28;01mif\u001b[39;00m \u001b[38;5;28mlen\u001b[39m(mapped) \u001b[38;5;129;01mand\u001b[39;00m \u001b[38;5;28misinstance\u001b[39m(mapped[\u001b[38;5;241m0\u001b[39m], ABCSeries):\n\u001b[0;32m   1083\u001b[0m     \u001b[38;5;66;03m# GH#43986 Need to do list(mapped) in order to get treated as nested\u001b[39;00m\n\u001b[0;32m   1084\u001b[0m     \u001b[38;5;66;03m#  See also GH#25959 regarding EA support\u001b[39;00m\n\u001b[0;32m   1085\u001b[0m     \u001b[38;5;28;01mreturn\u001b[39;00m obj\u001b[38;5;241m.\u001b[39m_constructor_expanddim(\u001b[38;5;28mlist\u001b[39m(mapped), index\u001b[38;5;241m=\u001b[39mobj\u001b[38;5;241m.\u001b[39mindex)\n",
      "File \u001b[1;32mc:\\Users\\trangnt341\\AppData\\Local\\Programs\\Python\\Python311\\Lib\\site-packages\\pandas\\_libs\\lib.pyx:2834\u001b[0m, in \u001b[0;36mpandas._libs.lib.map_infer\u001b[1;34m()\u001b[0m\n",
      "Cell \u001b[1;32mIn[6], line 39\u001b[0m, in \u001b[0;36mconvert_salary\u001b[1;34m(salary)\u001b[0m\n\u001b[0;32m     37\u001b[0m     low, high \u001b[38;5;241m=\u001b[39m salary\u001b[38;5;241m.\u001b[39msplit(\u001b[38;5;124m'\u001b[39m\u001b[38;5;124m-\u001b[39m\u001b[38;5;124m'\u001b[39m)\n\u001b[0;32m     38\u001b[0m     \u001b[38;5;28;01mreturn\u001b[39;00m (\u001b[38;5;28mfloat\u001b[39m(low) \u001b[38;5;241m+\u001b[39m \u001b[38;5;28mfloat\u001b[39m(high)) \u001b[38;5;241m/\u001b[39m \u001b[38;5;241m2\u001b[39m\n\u001b[1;32m---> 39\u001b[0m \u001b[38;5;28;01mreturn\u001b[39;00m \u001b[38;5;28;43mfloat\u001b[39;49m\u001b[43m(\u001b[49m\u001b[43msalary\u001b[49m\u001b[43m)\u001b[49m\n",
      "\u001b[1;31mValueError\u001b[0m: could not convert string to float: '40000000/month'"
     ]
    }
   ],
   "source": [
    "import pandas as pd\n",
    "import matplotlib.pyplot as plt\n",
    "import seaborn as sns\n",
    "\n",
    "\n",
    "# Display basic information about the datasets\n",
    "print(\"File 1 Info:\")\n",
    "print(df1.info())\n",
    "print(\"\\nFile 2 Info:\")\n",
    "print(df2.info())\n",
    "\n",
    "# Display the first few rows of each dataset\n",
    "print(\"\\nFile 1 Head:\")\n",
    "print(df1.head())\n",
    "print(\"\\nFile 2 Head:\")\n",
    "print(df2.head())\n",
    "\n",
    "# Check for missing values\n",
    "print(\"\\nMissing Values in File 1:\")\n",
    "print(df1.isnull().sum())\n",
    "print(\"\\nMissing Values in File 2:\")\n",
    "print(df2.isnull().sum())\n",
    "\n",
    "# Descriptive statistics\n",
    "print(\"\\nDescriptive Statistics for File 1:\")\n",
    "print(df1.describe())\n",
    "print(\"\\nDescriptive Statistics for File 2:\")\n",
    "print(df2.describe())\n",
    "\n",
    "# Convert salary to numeric for analysis\n",
    "def convert_salary(salary):\n",
    "    if pd.isnull(salary):\n",
    "        return None\n",
    "    salary = salary.replace(',', '').replace('USD', '').replace('VND', '').replace('IDR', '').replace('MYR', '').replace(\".\",'')\n",
    "    if '-' in salary:\n",
    "        low, high = salary.split('-')\n",
    "        return (float(low) + float(high)) / 2\n",
    "    return float(salary)\n",
    "\n",
    "df1['salary_numeric'] = df1['salary'].apply(convert_salary)\n",
    "df2['salary_numeric'] = df2['salary'].apply(convert_salary)\n",
    "\n",
    "# Plot salary distribution\n",
    "plt.figure(figsize=(12, 6))\n",
    "sns.histplot(df1['salary_numeric'], bins=30, kde=True, color='blue', label='File 1')\n",
    "sns.histplot(df2['salary_numeric'], bins=30, kde=True, color='orange', label='File 2')\n",
    "plt.title('Salary Distribution')\n",
    "plt.xlabel('Salary')\n",
    "plt.ylabel('Frequency')\n",
    "plt.legend()\n",
    "plt.show()\n",
    "\n",
    "# Plot job categories\n",
    "plt.figure(figsize=(12, 6))\n",
    "sns.countplot(y='category', data=df1, order=df1['category'].value_counts().index)\n",
    "plt.title('Job Categories in File 1')\n",
    "plt.xlabel('Count')\n",
    "plt.ylabel('Category')\n",
    "plt.show()\n",
    "\n",
    "plt.figure(figsize=(12, 6))\n",
    "sns.countplot(y='category', data=df2, order=df2['category'].value_counts().index)\n",
    "plt.title('Job Categories in File 2')\n",
    "plt.xlabel('Count')\n",
    "plt.ylabel('Category')\n",
    "plt.show()\n",
    "\n",
    "# Plot experience level distribution\n",
    "plt.figure(figsize=(12, 6))\n",
    "sns.countplot(y='experience', data=df1, order=df1['experience'].value_counts().index)\n",
    "plt.title('Experience Level in File 1')\n",
    "plt.xlabel('Count')\n",
    "plt.ylabel('Experience Level')\n",
    "plt.show()\n",
    "\n",
    "plt.figure(figsize=(12, 6))\n",
    "sns.countplot(y='experience', data=df2, order=df2['experience'].value_counts().index)\n",
    "plt.title('Experience Level in File 2')\n",
    "plt.xlabel('Count')\n",
    "plt.ylabel('Experience Level')\n",
    "plt.show()\n",
    "\n",
    "# Insights\n",
    "insights = []\n",
    "\n",
    "# Insight 1: Average salary\n",
    "avg_salary_file1 = df1['salary_numeric'].mean()\n",
    "avg_salary_file2 = df2['salary_numeric'].mean()\n",
    "insights.append(f\"Average salary in File 1: {avg_salary_file1:.2f}\")\n",
    "insights.append(f\"Average salary in File 2: {avg_salary_file2:.2f}\")\n",
    "\n",
    "# Insight 2: Most common job category\n",
    "common_category_file1 = df1['category'].mode()[0]\n",
    "common_category_file2 = df2['category'].mode()[0]\n",
    "insights.append(f\"Most common job category in File 1: {common_category_file1}\")\n",
    "insights.append(f\"Most common job category in File 2: {common_category_file2}\")\n",
    "\n",
    "# Insight 3: Most common experience level\n",
    "common_experience_file1 = df1['experience'].mode()[0]\n",
    "common_experience_file2 = df2['experience'].mode()[0]\n",
    "insights.append(f\"Most common experience level in File 1: {common_experience_file1}\")\n",
    "insights.append(f\"Most common experience level in File 2: {common_experience_file2}\")\n",
    "\n",
    "# Insight 4: Salary range for top category\n",
    "top_category_salary_file1 = df1[df1['category'] == common_category_file1]['salary_numeric'].mean()\n",
    "top_category_salary_file2 = df2[df2['category'] == common_category_file2]['salary_numeric'].mean()\n",
    "insights.append(f\"Average salary for top category in File 1: {top_category_salary_file1:.2f}\")\n",
    "insights.append(f\"Average salary for top category in File 2: {top_category_salary_file2:.2f}\")\n",
    "\n",
    "# Insight 5: Distribution of job locations\n",
    "location_counts_file1 = df1['column_17'].value_counts()\n",
    "location_counts_file2 = df2['job_location'].value_counts()\n",
    "insights.append(f\"Top job location in File 1: {location_counts_file1.idxmax()}\")\n",
    "insights.append(f\"Top job location in File 2: {location_counts_file2.idxmax()}\")\n",
    "\n",
    "# Insight 6: Number of jobs requiring more than 5 years of experience\n",
    "senior_jobs_file1 = df1[df1['experience'].str.contains('Hơn 10 năm kinh nghiệm', na=False)].shape[0]\n",
    "senior_jobs_file2 = df2[df2['experience'].str.contains('5 - 10 năm kinh nghiệm', na=False)].shape[0]\n",
    "insights.append(f\"Number of senior jobs in File 1: {senior_jobs_file1}\")\n",
    "insights.append(f\"Number of senior jobs in File 2: {senior_jobs_file2}\")\n",
    "\n",
    "# Insight 7: Companies with the most job postings\n",
    "top_company_file1 = df1['company_name'].value_counts().idxmax()\n",
    "top_company_file2 = df2['company_name'].value_counts().idxmax()\n",
    "insights.append(f\"Company with most job postings in File 1: {top_company_file1}\")\n",
    "insights.append(f\"Company with most job postings in File 2: {top_company_file2}\")\n",
    "\n",
    "# Insight 8: Currency distribution\n",
    "currency_counts_file1 = df1['currency'].value_counts()\n",
    "currency_counts_file2 = df2['currency'].value_counts()\n",
    "insights.append(f\"Currency distribution in File 1: {currency_counts_file1.to_dict()}\")\n",
    "insights.append(f\"Currency distribution in File 2: {currency_counts_file2.to_dict()}\")\n",
    "\n",
    "# Print insights\n",
    "print(\"\\nInsights:\")\n",
    "for insight in insights:\n",
    "    print(insight)\n",
    "\n",
    "# Actionable Insights for Job Seekers and Employers\n",
    "actionable_insights = \"\"\"\n",
    "For Job Seekers:\n",
    "1. Consider applying for jobs in the most common categories as they have more opportunities.\n",
    "2. If you have more than 5 years of experience, focus on senior roles which offer higher salaries.\n",
    "3. Look for jobs in top locations to increase your chances of finding a suitable position.\n",
    "\n",
    "For Employers:\n",
    "1. Consider offering competitive salaries in the most common job categories to attract talent.\n",
    "2. Focus on hiring in top job locations to tap into a larger talent pool.\n",
    "3. Ensure job postings are clear about experience requirements to attract the right candidates.\n",
    "\"\"\"\n",
    "\n",
    "print(\"\\nActionable Insights:\")\n",
    "print(actionable_insights)"
   ]
  },
  {
   "cell_type": "code",
   "execution_count": null,
   "metadata": {},
   "outputs": [],
   "source": []
  },
  {
   "cell_type": "code",
   "execution_count": null,
   "metadata": {},
   "outputs": [],
   "source": []
  },
  {
   "cell_type": "code",
   "execution_count": null,
   "metadata": {},
   "outputs": [],
   "source": []
  },
  {
   "cell_type": "markdown",
   "metadata": {},
   "source": [
    "# 2. Part by part"
   ]
  },
  {
   "cell_type": "code",
   "execution_count": 3,
   "metadata": {},
   "outputs": [],
   "source": [
    "\n",
    "import pandas as pd\n",
    "import numpy as np\n",
    "import re\n",
    "\n",
    "def standardize_salary(salary_str):\n",
    "    if pd.isna(salary_str) or salary_str == 'None':\n",
    "        return np.nan\n",
    "    # Extract currency and amounts\n",
    "    match = re.match(r'([A-Z]+)([\\d.,]+)(?: - ([\\d.,]+))?/(month|hour)', salary_str)\n",
    "    if match:\n",
    "        currency, min_salary, max_salary, period = match.groups()\n",
    "        min_salary = float(min_salary.replace(',', ''))\n",
    "        max_salary = float(max_salary.replace(',', '')) if max_salary else min_salary\n",
    "        # Convert to monthly salary if needed\n",
    "        if period == 'hour':\n",
    "            min_salary *= 160  # Assuming 160 working hours in a month\n",
    "            max_salary *= 160\n",
    "        return (min_salary + max_salary) / 2\n",
    "    return np.nan\n",
    "\n",
    "def invoke(input_0: pd.DataFrame, input_1: pd.DataFrame) -> pd.DataFrame:\n",
    "    # Step 1: Load the datasets\n",
    "    df1 = input_0.copy()\n",
    "    df2 = input_1.copy()\n",
    "    \n",
    "    # Step 2: Handle missing values\n",
    "    # Fill missing values with a placeholder or drop them\n",
    "    df1.fillna('Unknown', inplace=True)\n",
    "    df2.fillna('Unknown', inplace=True)\n",
    "    \n",
    "    # Step 3: Standardize salary formats\n",
    "    df1['standardized_salary'] = df1['salary'].apply(standardize_salary)\n",
    "    df2['standardized_salary'] = df2['salary'].apply(standardize_salary)\n",
    "    \n",
    "    # Step 4: Convert relevant columns to appropriate data types\n",
    "    # Convert 'scrapped_time' to datetime\n",
    "    df1['scrapped_time'] = pd.to_datetime(df1['scrapped_time'], errors='coerce')\n",
    "    df2['scrapped_time'] = pd.to_datetime(df2['scrapped_time'], errors='coerce')\n",
    "    \n",
    "    # Step 5: Return the cleaned and preprocessed data\n",
    "    output = pd.concat([df1, df2], ignore_index=True)\n",
    "    return output\n",
    "\n"
   ]
  },
  {
   "cell_type": "code",
   "execution_count": 5,
   "metadata": {},
   "outputs": [
    {
     "data": {
      "text/html": [
       "<div>\n",
       "<style scoped>\n",
       "    .dataframe tbody tr th:only-of-type {\n",
       "        vertical-align: middle;\n",
       "    }\n",
       "\n",
       "    .dataframe tbody tr th {\n",
       "        vertical-align: top;\n",
       "    }\n",
       "\n",
       "    .dataframe thead th {\n",
       "        text-align: right;\n",
       "    }\n",
       "</style>\n",
       "<table border=\"1\" class=\"dataframe\">\n",
       "  <thead>\n",
       "    <tr style=\"text-align: right;\">\n",
       "      <th></th>\n",
       "      <th>inx</th>\n",
       "      <th>job_title</th>\n",
       "      <th>job_link</th>\n",
       "      <th>company_name</th>\n",
       "      <th>company_link</th>\n",
       "      <th>salary</th>\n",
       "      <th>currency</th>\n",
       "      <th>category</th>\n",
       "      <th>contract</th>\n",
       "      <th>experience</th>\n",
       "      <th>...</th>\n",
       "      <th>industry</th>\n",
       "      <th>company_size</th>\n",
       "      <th>company_location</th>\n",
       "      <th>job_location</th>\n",
       "      <th>posted</th>\n",
       "      <th>updated</th>\n",
       "      <th>scrapped_time</th>\n",
       "      <th>standardized_salary</th>\n",
       "      <th>index</th>\n",
       "      <th>salary_period</th>\n",
       "    </tr>\n",
       "  </thead>\n",
       "  <tbody>\n",
       "    <tr>\n",
       "      <th>0</th>\n",
       "      <td>0</td>\n",
       "      <td>[Glints 5 Ngày] Data Engineer</td>\n",
       "      <td>https://glints.com/vn/opportunities/jobs/glint...</td>\n",
       "      <td>Bbv Vietnam Co., Ltd</td>\n",
       "      <td>https://glints.com/vn/companies/bbv-vietnam-co...</td>\n",
       "      <td>VND40.000.000/month</td>\n",
       "      <td>VND</td>\n",
       "      <td>Software Engineering</td>\n",
       "      <td>Việc làm fulltime</td>\n",
       "      <td>3 - 5 năm kinh nghiệm</td>\n",
       "      <td>...</td>\n",
       "      <td>Unknown</td>\n",
       "      <td>Unknown</td>\n",
       "      <td>Unknown</td>\n",
       "      <td>Ho Chi Minh City</td>\n",
       "      <td>7 ngày trước</td>\n",
       "      <td>nhật 4 ngày trước</td>\n",
       "      <td>2022-11-11 13:42:04</td>\n",
       "      <td>40000000.0</td>\n",
       "      <td>NaN</td>\n",
       "      <td>NaN</td>\n",
       "    </tr>\n",
       "    <tr>\n",
       "      <th>1</th>\n",
       "      <td>1</td>\n",
       "      <td>[Glints 5 Ngày] Head Of Product</td>\n",
       "      <td>https://glints.com/vn/opportunities/jobs/glint...</td>\n",
       "      <td>Be Group</td>\n",
       "      <td>https://glints.com/vn/companies/be-group/6a190...</td>\n",
       "      <td>USD7.000 - 10.000/month</td>\n",
       "      <td>USD</td>\n",
       "      <td>Product Management</td>\n",
       "      <td>Việc làm fulltime</td>\n",
       "      <td>5 - 10 năm kinh nghiệm</td>\n",
       "      <td>...</td>\n",
       "      <td>Unknown</td>\n",
       "      <td>201-500 nhân viên</td>\n",
       "      <td>Địa chỉ văn phòngTầng 16, Tòa Nhà Sai Gon Towe...</td>\n",
       "      <td>Ho Chi Minh City</td>\n",
       "      <td>7 ngày trước</td>\n",
       "      <td>nhật 4 ngày trước</td>\n",
       "      <td>2022-11-11 13:42:09</td>\n",
       "      <td>8500.0</td>\n",
       "      <td>NaN</td>\n",
       "      <td>NaN</td>\n",
       "    </tr>\n",
       "    <tr>\n",
       "      <th>2</th>\n",
       "      <td>2</td>\n",
       "      <td>[Glints 5 Ngày] Backend Developer</td>\n",
       "      <td>https://glints.com/vn/opportunities/jobs/glint...</td>\n",
       "      <td>Poc Pharma</td>\n",
       "      <td>https://glints.com/vn/companies/poc-pharma/d54...</td>\n",
       "      <td>USD1.000 - 4.000/month</td>\n",
       "      <td>USD</td>\n",
       "      <td>Software Engineering</td>\n",
       "      <td>Việc làm fulltime</td>\n",
       "      <td>3 - 5 năm kinh nghiệm</td>\n",
       "      <td>...</td>\n",
       "      <td>Pharmaceuticals</td>\n",
       "      <td>51-200 nhân viên</td>\n",
       "      <td>Địa chỉ văn phòng 50 Tôn Thất Đạm, Phường Nguy...</td>\n",
       "      <td>Ho Chi Minh City</td>\n",
       "      <td>7 ngày trước</td>\n",
       "      <td>nhật 4 ngày trước</td>\n",
       "      <td>2022-11-11 13:42:17</td>\n",
       "      <td>2500.0</td>\n",
       "      <td>NaN</td>\n",
       "      <td>NaN</td>\n",
       "    </tr>\n",
       "    <tr>\n",
       "      <th>3</th>\n",
       "      <td>3</td>\n",
       "      <td>[Glints 5 Ngày] Senior/Lead Backend Engineer</td>\n",
       "      <td>https://glints.com/vn/opportunities/jobs/glint...</td>\n",
       "      <td>Elfie</td>\n",
       "      <td>https://glints.com/vn/companies/elfie/f3c32e5b...</td>\n",
       "      <td>USD3.500 - 5.500/month</td>\n",
       "      <td>USD</td>\n",
       "      <td>Software Engineering</td>\n",
       "      <td>Việc làm fulltime</td>\n",
       "      <td>5 - 10 năm kinh nghiệm</td>\n",
       "      <td>...</td>\n",
       "      <td>Unknown</td>\n",
       "      <td>11-50 nhân viên</td>\n",
       "      <td>Địa chỉ văn phòngTầng 2, 124 Điện Biên Phủ, Ph...</td>\n",
       "      <td>Ho Chi Minh City</td>\n",
       "      <td>7 ngày trước</td>\n",
       "      <td>nhật 4 ngày trước</td>\n",
       "      <td>2022-11-11 13:42:21</td>\n",
       "      <td>4500.0</td>\n",
       "      <td>NaN</td>\n",
       "      <td>NaN</td>\n",
       "    </tr>\n",
       "    <tr>\n",
       "      <th>4</th>\n",
       "      <td>4</td>\n",
       "      <td>[Glints 5 Ngày] Head of Sales</td>\n",
       "      <td>https://glints.com/vn/opportunities/jobs/glint...</td>\n",
       "      <td>John Hu Migration Consulting Viet Nam</td>\n",
       "      <td>https://glints.com/vn/companies/john-hu-migrat...</td>\n",
       "      <td>USD4.000/month</td>\n",
       "      <td>USD</td>\n",
       "      <td>Business Development / Sales</td>\n",
       "      <td>Việc làm fulltime</td>\n",
       "      <td>Hơn 10 năm kinh nghiệm</td>\n",
       "      <td>...</td>\n",
       "      <td>Unknown</td>\n",
       "      <td>11-50 nhân viên</td>\n",
       "      <td>Unknown</td>\n",
       "      <td>Ho Chi Minh City</td>\n",
       "      <td>8 ngày trước</td>\n",
       "      <td>nhật 4 ngày trước</td>\n",
       "      <td>2022-11-11 13:42:25</td>\n",
       "      <td>4000.0</td>\n",
       "      <td>NaN</td>\n",
       "      <td>NaN</td>\n",
       "    </tr>\n",
       "    <tr>\n",
       "      <th>...</th>\n",
       "      <td>...</td>\n",
       "      <td>...</td>\n",
       "      <td>...</td>\n",
       "      <td>...</td>\n",
       "      <td>...</td>\n",
       "      <td>...</td>\n",
       "      <td>...</td>\n",
       "      <td>...</td>\n",
       "      <td>...</td>\n",
       "      <td>...</td>\n",
       "      <td>...</td>\n",
       "      <td>...</td>\n",
       "      <td>...</td>\n",
       "      <td>...</td>\n",
       "      <td>...</td>\n",
       "      <td>...</td>\n",
       "      <td>...</td>\n",
       "      <td>...</td>\n",
       "      <td>...</td>\n",
       "      <td>...</td>\n",
       "      <td>...</td>\n",
       "    </tr>\n",
       "    <tr>\n",
       "      <th>130</th>\n",
       "      <td>NaN</td>\n",
       "      <td>BA – Chuyên viên Phân tích Nghiệp vụ</td>\n",
       "      <td>NaN</td>\n",
       "      <td>GMO–Z.com RUNSYSTEM</td>\n",
       "      <td>https://glints.com/vn/companies/gmozcom-runsys...</td>\n",
       "      <td>USD1.000 - 1.500/month</td>\n",
       "      <td>USD</td>\n",
       "      <td>Data Science</td>\n",
       "      <td>Việc làm fulltime</td>\n",
       "      <td>1 - 3 năm kinh nghiệm</td>\n",
       "      <td>...</td>\n",
       "      <td>Information Technology and Services</td>\n",
       "      <td>501 - 1000 nhân viên</td>\n",
       "      <td>Unknown</td>\n",
       "      <td>Hà Nội</td>\n",
       "      <td>2 tháng trước</td>\n",
       "      <td>nhật 1 tháng trước</td>\n",
       "      <td>2022-11-09 04:45:47</td>\n",
       "      <td>1250.0</td>\n",
       "      <td>492.0</td>\n",
       "      <td>month</td>\n",
       "    </tr>\n",
       "    <tr>\n",
       "      <th>131</th>\n",
       "      <td>NaN</td>\n",
       "      <td>CHUYÊN VIÊN IT SUPPORT ( 18-20 TRIỆU/THÁNG)</td>\n",
       "      <td>NaN</td>\n",
       "      <td>Thẩm mỹ quốc tế Linh Anh</td>\n",
       "      <td>https://glints.com/vn/companies/tham-my-quoc-t...</td>\n",
       "      <td>VND15.000.000 - 20.000.000/month</td>\n",
       "      <td>VND</td>\n",
       "      <td>Data Science</td>\n",
       "      <td>Việc làm fulltime</td>\n",
       "      <td>1 - 3 năm kinh nghiệm</td>\n",
       "      <td>...</td>\n",
       "      <td>Cosmetics</td>\n",
       "      <td>51-200 nhân viên</td>\n",
       "      <td>Địa chỉ văn phòngsố 15, đường số 5, Hado Centr...</td>\n",
       "      <td>Ho Chi Minh City</td>\n",
       "      <td>1 tháng trước</td>\n",
       "      <td>nhật 1 tháng trước</td>\n",
       "      <td>2022-11-09 04:45:55</td>\n",
       "      <td>17500000.0</td>\n",
       "      <td>495.0</td>\n",
       "      <td>month</td>\n",
       "    </tr>\n",
       "    <tr>\n",
       "      <th>132</th>\n",
       "      <td>NaN</td>\n",
       "      <td>SYBSY Fashion Company Limited / E - commerce</td>\n",
       "      <td>NaN</td>\n",
       "      <td>Công Ty SOYOUNG</td>\n",
       "      <td>https://glints.com/vn/companies/cong-ty-soyoun...</td>\n",
       "      <td>USD700 - 1.500/month</td>\n",
       "      <td>USD</td>\n",
       "      <td>Data Science</td>\n",
       "      <td>Việc làm fulltime</td>\n",
       "      <td>1 - 3 năm kinh nghiệm</td>\n",
       "      <td>...</td>\n",
       "      <td>Apparel &amp; Fashion</td>\n",
       "      <td>51-200 nhân viên</td>\n",
       "      <td>Địa chỉ văn phòngĐồng Khởi, Hồ Chí Minh.</td>\n",
       "      <td>Ho Chi Minh City</td>\n",
       "      <td>7 tháng trước</td>\n",
       "      <td>nhật 4 ngày trước</td>\n",
       "      <td>2022-11-09 04:46:00</td>\n",
       "      <td>1100.0</td>\n",
       "      <td>496.0</td>\n",
       "      <td>month</td>\n",
       "    </tr>\n",
       "    <tr>\n",
       "      <th>133</th>\n",
       "      <td>NaN</td>\n",
       "      <td>CHUYÊN VIÊN PHÂN TÍCH NGHIỆP VỤ IT ( 18-25 TRI...</td>\n",
       "      <td>NaN</td>\n",
       "      <td>Thẩm mỹ quốc tế Linh Anh</td>\n",
       "      <td>https://glints.com/vn/companies/tham-my-quoc-t...</td>\n",
       "      <td>VND18.000.000 - 25.000.000/month</td>\n",
       "      <td>VND</td>\n",
       "      <td>Data Science</td>\n",
       "      <td>Việc làm fulltime</td>\n",
       "      <td>1 - 3 năm kinh nghiệm</td>\n",
       "      <td>...</td>\n",
       "      <td>Cosmetics</td>\n",
       "      <td>51-200 nhân viên</td>\n",
       "      <td>Địa chỉ văn phòngsố 15, đường số 5, Hado Centr...</td>\n",
       "      <td>Ho Chi Minh City</td>\n",
       "      <td>3 tháng trước</td>\n",
       "      <td>nhật 3 tháng trước</td>\n",
       "      <td>2022-11-09 04:46:06</td>\n",
       "      <td>21500000.0</td>\n",
       "      <td>497.0</td>\n",
       "      <td>month</td>\n",
       "    </tr>\n",
       "    <tr>\n",
       "      <th>134</th>\n",
       "      <td>NaN</td>\n",
       "      <td>Unknown</td>\n",
       "      <td>NaN</td>\n",
       "      <td>Unknown</td>\n",
       "      <td>Unknown</td>\n",
       "      <td>Unknown</td>\n",
       "      <td>Unknown</td>\n",
       "      <td>Unknown</td>\n",
       "      <td>Unknown</td>\n",
       "      <td>Unknown</td>\n",
       "      <td>...</td>\n",
       "      <td>Unknown</td>\n",
       "      <td>Unknown</td>\n",
       "      <td>Unknown</td>\n",
       "      <td>Unknown</td>\n",
       "      <td>Unknown</td>\n",
       "      <td>Unknown</td>\n",
       "      <td>NaT</td>\n",
       "      <td>NaN</td>\n",
       "      <td>501.0</td>\n",
       "      <td>Unknown</td>\n",
       "    </tr>\n",
       "  </tbody>\n",
       "</table>\n",
       "<p>135 rows × 22 columns</p>\n",
       "</div>"
      ],
      "text/plain": [
       "     inx                                          job_title  \\\n",
       "0      0                      [Glints 5 Ngày] Data Engineer   \n",
       "1      1                    [Glints 5 Ngày] Head Of Product   \n",
       "2      2                  [Glints 5 Ngày] Backend Developer   \n",
       "3      3       [Glints 5 Ngày] Senior/Lead Backend Engineer   \n",
       "4      4                      [Glints 5 Ngày] Head of Sales   \n",
       "..   ...                                                ...   \n",
       "130  NaN               BA – Chuyên viên Phân tích Nghiệp vụ   \n",
       "131  NaN        CHUYÊN VIÊN IT SUPPORT ( 18-20 TRIỆU/THÁNG)   \n",
       "132  NaN       SYBSY Fashion Company Limited / E - commerce   \n",
       "133  NaN  CHUYÊN VIÊN PHÂN TÍCH NGHIỆP VỤ IT ( 18-25 TRI...   \n",
       "134  NaN                                            Unknown   \n",
       "\n",
       "                                              job_link  \\\n",
       "0    https://glints.com/vn/opportunities/jobs/glint...   \n",
       "1    https://glints.com/vn/opportunities/jobs/glint...   \n",
       "2    https://glints.com/vn/opportunities/jobs/glint...   \n",
       "3    https://glints.com/vn/opportunities/jobs/glint...   \n",
       "4    https://glints.com/vn/opportunities/jobs/glint...   \n",
       "..                                                 ...   \n",
       "130                                                NaN   \n",
       "131                                                NaN   \n",
       "132                                                NaN   \n",
       "133                                                NaN   \n",
       "134                                                NaN   \n",
       "\n",
       "                              company_name  \\\n",
       "0                     Bbv Vietnam Co., Ltd   \n",
       "1                                 Be Group   \n",
       "2                               Poc Pharma   \n",
       "3                                    Elfie   \n",
       "4    John Hu Migration Consulting Viet Nam   \n",
       "..                                     ...   \n",
       "130                    GMO–Z.com RUNSYSTEM   \n",
       "131               Thẩm mỹ quốc tế Linh Anh   \n",
       "132                        Công Ty SOYOUNG   \n",
       "133               Thẩm mỹ quốc tế Linh Anh   \n",
       "134                                Unknown   \n",
       "\n",
       "                                          company_link  \\\n",
       "0    https://glints.com/vn/companies/bbv-vietnam-co...   \n",
       "1    https://glints.com/vn/companies/be-group/6a190...   \n",
       "2    https://glints.com/vn/companies/poc-pharma/d54...   \n",
       "3    https://glints.com/vn/companies/elfie/f3c32e5b...   \n",
       "4    https://glints.com/vn/companies/john-hu-migrat...   \n",
       "..                                                 ...   \n",
       "130  https://glints.com/vn/companies/gmozcom-runsys...   \n",
       "131  https://glints.com/vn/companies/tham-my-quoc-t...   \n",
       "132  https://glints.com/vn/companies/cong-ty-soyoun...   \n",
       "133  https://glints.com/vn/companies/tham-my-quoc-t...   \n",
       "134                                            Unknown   \n",
       "\n",
       "                               salary currency                      category  \\\n",
       "0                 VND40.000.000/month      VND          Software Engineering   \n",
       "1             USD7.000 - 10.000/month      USD            Product Management   \n",
       "2              USD1.000 - 4.000/month      USD          Software Engineering   \n",
       "3              USD3.500 - 5.500/month      USD          Software Engineering   \n",
       "4                      USD4.000/month      USD  Business Development / Sales   \n",
       "..                                ...      ...                           ...   \n",
       "130            USD1.000 - 1.500/month      USD                  Data Science   \n",
       "131  VND15.000.000 - 20.000.000/month      VND                  Data Science   \n",
       "132              USD700 - 1.500/month      USD                  Data Science   \n",
       "133  VND18.000.000 - 25.000.000/month      VND                  Data Science   \n",
       "134                           Unknown  Unknown                       Unknown   \n",
       "\n",
       "              contract              experience  ...  \\\n",
       "0    Việc làm fulltime   3 - 5 năm kinh nghiệm  ...   \n",
       "1    Việc làm fulltime  5 - 10 năm kinh nghiệm  ...   \n",
       "2    Việc làm fulltime   3 - 5 năm kinh nghiệm  ...   \n",
       "3    Việc làm fulltime  5 - 10 năm kinh nghiệm  ...   \n",
       "4    Việc làm fulltime  Hơn 10 năm kinh nghiệm  ...   \n",
       "..                 ...                     ...  ...   \n",
       "130  Việc làm fulltime   1 - 3 năm kinh nghiệm  ...   \n",
       "131  Việc làm fulltime   1 - 3 năm kinh nghiệm  ...   \n",
       "132  Việc làm fulltime   1 - 3 năm kinh nghiệm  ...   \n",
       "133  Việc làm fulltime   1 - 3 năm kinh nghiệm  ...   \n",
       "134            Unknown                 Unknown  ...   \n",
       "\n",
       "                                industry          company_size  \\\n",
       "0                                Unknown               Unknown   \n",
       "1                                Unknown     201-500 nhân viên   \n",
       "2                        Pharmaceuticals      51-200 nhân viên   \n",
       "3                                Unknown       11-50 nhân viên   \n",
       "4                                Unknown       11-50 nhân viên   \n",
       "..                                   ...                   ...   \n",
       "130  Information Technology and Services  501 - 1000 nhân viên   \n",
       "131                            Cosmetics      51-200 nhân viên   \n",
       "132                    Apparel & Fashion      51-200 nhân viên   \n",
       "133                            Cosmetics      51-200 nhân viên   \n",
       "134                              Unknown               Unknown   \n",
       "\n",
       "                                      company_location      job_location  \\\n",
       "0                                              Unknown  Ho Chi Minh City   \n",
       "1    Địa chỉ văn phòngTầng 16, Tòa Nhà Sai Gon Towe...  Ho Chi Minh City   \n",
       "2    Địa chỉ văn phòng 50 Tôn Thất Đạm, Phường Nguy...  Ho Chi Minh City   \n",
       "3    Địa chỉ văn phòngTầng 2, 124 Điện Biên Phủ, Ph...  Ho Chi Minh City   \n",
       "4                                              Unknown  Ho Chi Minh City   \n",
       "..                                                 ...               ...   \n",
       "130                                            Unknown            Hà Nội   \n",
       "131  Địa chỉ văn phòngsố 15, đường số 5, Hado Centr...  Ho Chi Minh City   \n",
       "132           Địa chỉ văn phòngĐồng Khởi, Hồ Chí Minh.  Ho Chi Minh City   \n",
       "133  Địa chỉ văn phòngsố 15, đường số 5, Hado Centr...  Ho Chi Minh City   \n",
       "134                                            Unknown           Unknown   \n",
       "\n",
       "            posted             updated       scrapped_time  \\\n",
       "0     7 ngày trước   nhật 4 ngày trước 2022-11-11 13:42:04   \n",
       "1     7 ngày trước   nhật 4 ngày trước 2022-11-11 13:42:09   \n",
       "2     7 ngày trước   nhật 4 ngày trước 2022-11-11 13:42:17   \n",
       "3     7 ngày trước   nhật 4 ngày trước 2022-11-11 13:42:21   \n",
       "4     8 ngày trước   nhật 4 ngày trước 2022-11-11 13:42:25   \n",
       "..             ...                 ...                 ...   \n",
       "130  2 tháng trước  nhật 1 tháng trước 2022-11-09 04:45:47   \n",
       "131  1 tháng trước  nhật 1 tháng trước 2022-11-09 04:45:55   \n",
       "132  7 tháng trước   nhật 4 ngày trước 2022-11-09 04:46:00   \n",
       "133  3 tháng trước  nhật 3 tháng trước 2022-11-09 04:46:06   \n",
       "134        Unknown             Unknown                 NaT   \n",
       "\n",
       "    standardized_salary  index  salary_period  \n",
       "0            40000000.0    NaN            NaN  \n",
       "1                8500.0    NaN            NaN  \n",
       "2                2500.0    NaN            NaN  \n",
       "3                4500.0    NaN            NaN  \n",
       "4                4000.0    NaN            NaN  \n",
       "..                  ...    ...            ...  \n",
       "130              1250.0  492.0          month  \n",
       "131          17500000.0  495.0          month  \n",
       "132              1100.0  496.0          month  \n",
       "133          21500000.0  497.0          month  \n",
       "134                 NaN  501.0        Unknown  \n",
       "\n",
       "[135 rows x 22 columns]"
      ]
     },
     "execution_count": 5,
     "metadata": {},
     "output_type": "execute_result"
    }
   ],
   "source": [
    "# 2\n",
    "\n",
    "import pandas as pd\n",
    "import numpy as np\n",
    "import re\n",
    "\n",
    "def standardize_salary(salary_str):\n",
    "    if pd.isna(salary_str) or salary_str == 'None':\n",
    "        return np.nan\n",
    "    # Extract currency and amounts\n",
    "    match = re.match(r'([A-Z]+)([\\d.,]+)(?: - ([\\d.,]+))?/(month|hour)', salary_str)\n",
    "    if match:\n",
    "        currency, min_salary, max_salary, period = match.groups()\n",
    "        # Remove periods used as thousand separators\n",
    "        min_salary = float(min_salary.replace('.', '').replace(',', ''))\n",
    "        max_salary = float(max_salary.replace('.', '').replace(',', '')) if max_salary else min_salary\n",
    "        # Convert to monthly salary if needed\n",
    "        if period == 'hour':\n",
    "            min_salary *= 160  # Assuming 160 working hours in a month\n",
    "            max_salary *= 160\n",
    "        return (min_salary + max_salary) / 2\n",
    "    return np.nan\n",
    "\n",
    "def invoke(input_0: pd.DataFrame, input_1: pd.DataFrame) -> pd.DataFrame:\n",
    "    # Step 1: Load the datasets\n",
    "    df1 = input_0.copy()\n",
    "    df2 = input_1.copy()\n",
    "    \n",
    "    # Step 2: Handle missing values\n",
    "    # Fill missing values with a placeholder or drop them\n",
    "    df1.fillna('Unknown', inplace=True)\n",
    "    df2.fillna('Unknown', inplace=True)\n",
    "    \n",
    "    # Step 3: Standardize salary formats\n",
    "    df1['standardized_salary'] = df1['salary'].apply(standardize_salary)\n",
    "    df2['standardized_salary'] = df2['salary'].apply(standardize_salary)\n",
    "    \n",
    "    # Step 4: Convert relevant columns to appropriate data types\n",
    "    # Convert 'scrapped_time' to datetime\n",
    "    df1['scrapped_time'] = pd.to_datetime(df1['scrapped_time'], errors='coerce')\n",
    "    df2['scrapped_time'] = pd.to_datetime(df2['scrapped_time'], errors='coerce')\n",
    "    \n",
    "    # Step 5: Return the cleaned and preprocessed data\n",
    "    output = pd.concat([df1, df2], ignore_index=True)\n",
    "    return output\n",
    "\n",
    "invoke(df1, df2)"
   ]
  },
  {
   "cell_type": "code",
   "execution_count": null,
   "metadata": {},
   "outputs": [],
   "source": [
    "# 3\n",
    "\n",
    "import pandas as pd\n",
    "\n",
    "def invoke(cleaned_data_0: pd.DataFrame, cleaned_data_1: pd.DataFrame) -> pd.DataFrame:\n",
    "    # Step 1: Concatenate the two DataFrames\n",
    "    combined_data = pd.concat([cleaned_data_0, cleaned_data_1], ignore_index=True)\n",
    "    \n",
    "    # Step 2: Normalize job titles to lowercase\n",
    "    combined_data['job_title'] = combined_data['job_title'].str.lower()\n",
    "    \n",
    "    # Step 3: Group by job_title and company_name to count occurrences\n",
    "    job_distribution = combined_data.groupby(['job_title', 'company_name']).size().reset_index(name='count')\n",
    "    \n",
    "    # Step 4: Sort the results by count in descending order\n",
    "    job_distribution = job_distribution.sort_values(by='count', ascending=False)\n",
    "    \n",
    "    # Step 5: Return the processed DataFrame\n",
    "    output = job_distribution\n",
    "    return output\n",
    "\n",
    "invoke()"
   ]
  },
  {
   "cell_type": "code",
   "execution_count": null,
   "metadata": {},
   "outputs": [],
   "source": [
    "# 4\n",
    "import pandas as pd\n",
    "\n",
    "def invoke(cleaned_data_0: pd.DataFrame, cleaned_data_1: pd.DataFrame) -> pd.DataFrame:\n",
    "    '''\n",
    "    cleaned_data_0: pd.DataFrame  cleaned_data_1.csv\n",
    "    cleaned_data_1: pd.DataFrame  cleaned_data_1.csv\n",
    "    '''\n",
    "    # Step 2: Concatenate the dataframes\n",
    "    combined_data = pd.concat([cleaned_data_0, cleaned_data_1], ignore_index=True)\n",
    "    \n",
    "    # Step 4: Group by 'category' and 'job_location' and calculate the average salary\n",
    "    salary_analysis = combined_data.groupby(['category', 'job_location'])['standardized_salary'].mean().reset_index()\n",
    "    \n",
    "    # Step 5: Rename columns for clarity\n",
    "    salary_analysis.columns = ['Category', 'Job Location', 'Average Salary']\n",
    "    \n",
    "    # Step 6: Assign the result to the output variable\n",
    "    output = salary_analysis\n",
    "    \n",
    "    return output"
   ]
  },
  {
   "cell_type": "code",
   "execution_count": null,
   "metadata": {},
   "outputs": [],
   "source": [
    "# 5\n",
    "\n",
    "import pandas as pd\n",
    "\n",
    "def invoke(cleaned_data_0: pd.DataFrame, cleaned_data_1: pd.DataFrame) -> pd.DataFrame:\n",
    "    '''\n",
    "    cleaned_data_0: pd.DataFrame  cleaned_data_1.csv\n",
    "    cleaned_data_1: pd.DataFrame  cleaned_data_1.csv\n",
    "    '''\n",
    "    # Step 2: Concatenate the two DataFrames\n",
    "    combined_data = pd.concat([cleaned_data_0, cleaned_data_1], ignore_index=True)\n",
    "    \n",
    "    # Step 3: Group by job_title and experience, and count the occurrences\n",
    "    experience_demand = combined_data.groupby(['job_title', 'experience']).size().reset_index(name='count')\n",
    "    \n",
    "    # Step 4: Reset index to make the DataFrame easier to read\n",
    "    # This is already done in the previous step with reset_index\n",
    "    \n",
    "    # Step 5: Assign the result to the variable `output`\n",
    "    output = experience_demand\n",
    "    \n",
    "    return output"
   ]
  },
  {
   "cell_type": "code",
   "execution_count": null,
   "metadata": {},
   "outputs": [],
   "source": [
    "# 6\n",
    "\n",
    "import pandas as pd\n",
    "\n",
    "def invoke(cleaned_data_0: pd.DataFrame, cleaned_data_1: pd.DataFrame) -> pd.DataFrame:\n",
    "    '''\n",
    "    Analyze the company size and industry data to identify trends in hiring practices across different industries and company sizes.\n",
    "    \n",
    "    Parameters:\n",
    "    cleaned_data_0: pd.DataFrame - First DataFrame containing job data.\n",
    "    cleaned_data_1: pd.DataFrame - Second DataFrame containing job data.\n",
    "    \n",
    "    Returns:\n",
    "    pd.DataFrame - A DataFrame showing the count of job postings for each industry and company size combination.\n",
    "    '''\n",
    "    \n",
    "    # Step 2: Concatenate the two DataFrames\n",
    "    combined_data = pd.concat([cleaned_data_0, cleaned_data_1], ignore_index=True)\n",
    "    \n",
    "    # Step 3: Group by 'industry' and 'company_size' and count the number of job postings\n",
    "    grouped_data = combined_data.groupby(['industry', 'company_size']).size().reset_index(name='job_posting_count')\n",
    "    \n",
    "    # Step 5: Rename columns for clarity\n",
    "    grouped_data.columns = ['Industry', 'Company Size', 'Job Posting Count']\n",
    "    \n",
    "    # Step 6: Return the processed DataFrame\n",
    "    output = grouped_data\n",
    "    return output"
   ]
  },
  {
   "cell_type": "code",
   "execution_count": null,
   "metadata": {},
   "outputs": [],
   "source": [
    "# 7\n",
    "\n",
    "import pandas as pd\n",
    "\n",
    "def invoke(cleaned_data_0: pd.DataFrame, cleaned_data_1: pd.DataFrame) -> pd.DataFrame:\n",
    "    # Combine the two DataFrames\n",
    "    combined_data = pd.concat([cleaned_data_0, cleaned_data_1], ignore_index=True)\n",
    "    \n",
    "    # Group by the 'contract' column and count the occurrences\n",
    "    contract_counts = combined_data['contract'].value_counts().reset_index()\n",
    "    \n",
    "    # Rename the columns for clarity\n",
    "    contract_counts.columns = ['contract_type', 'count']\n",
    "    \n",
    "    # Assign the result to the output variable\n",
    "    output = contract_counts\n",
    "    \n",
    "    return output"
   ]
  },
  {
   "cell_type": "code",
   "execution_count": 1,
   "metadata": {},
   "outputs": [],
   "source": [
    "# 8 \n",
    "\n",
    "import pandas as pd\n",
    "from datetime import datetime, timedelta\n",
    "\n",
    "def convert_relative_time_to_date(relative_time_str, current_time):\n",
    "    if 'tháng' in relative_time_str:\n",
    "        months_ago = int(relative_time_str.split()[0])\n",
    "        return current_time - pd.DateOffset(months=months_ago)\n",
    "    elif 'ngày' in relative_time_str:\n",
    "        days_ago = int(relative_time_str.split()[0])\n",
    "        return current_time - timedelta(days=days_ago)\n",
    "    elif 'hôm qua' in relative_time_str:\n",
    "        return current_time - timedelta(days=1)\n",
    "    else:\n",
    "        return pd.NaT\n",
    "\n",
    "def invoke(cleaned_data_0: pd.DataFrame, cleaned_data_1: pd.DataFrame) -> pd.DataFrame:\n",
    "    # Combine the dataframes\n",
    "    combined_data = pd.concat([cleaned_data_0, cleaned_data_1], ignore_index=True)\n",
    "    \n",
    "    # Define the current time\n",
    "    current_time = datetime(2024, 12, 12, 11, 32, 12)\n",
    "    \n",
    "    # Convert 'posted' and 'updated' columns to datetime\n",
    "    combined_data['posted_date'] = combined_data['posted'].apply(lambda x: convert_relative_time_to_date(x, current_time))\n",
    "    combined_data['updated_date'] = combined_data['updated'].apply(lambda x: convert_relative_time_to_date(x.replace('nhật ', ''), current_time))\n",
    "    \n",
    "    # Extract year and month for analysis\n",
    "    combined_data['posted_year_month'] = combined_data['posted_date'].dt.to_period('M')\n",
    "    combined_data['updated_year_month'] = combined_data['updated_date'].dt.to_period('M')\n",
    "    \n",
    "    # Aggregate data to find trends\n",
    "    posted_trends = combined_data['posted_year_month'].value_counts().sort_index().reset_index()\n",
    "    updated_trends = combined_data['updated_year_month'].value_counts().sort_index().reset_index()\n",
    "    \n",
    "    # Rename columns for clarity\n",
    "    posted_trends.columns = ['Year_Month', 'Posted_Count']\n",
    "    updated_trends.columns = ['Year_Month', 'Updated_Count']\n",
    "    \n",
    "    # Merge the trends data\n",
    "    trends = pd.merge(posted_trends, updated_trends, on='Year_Month', how='outer').fillna(0)\n",
    "    \n",
    "    # Sort by Year_Month\n",
    "    trends = trends.sort_values(by='Year_Month').reset_index(drop=True)\n",
    "    \n",
    "    # Assign to output\n",
    "    output = trends\n",
    "    \n",
    "    return output"
   ]
  },
  {
   "cell_type": "code",
   "execution_count": null,
   "metadata": {},
   "outputs": [],
   "source": [
    "# 9 \n",
    "\n",
    "import pandas as pd\n",
    "from datetime import datetime, timedelta\n",
    "\n",
    "def convert_relative_time_to_date(relative_time_str, current_time):\n",
    "    try:\n",
    "        if isinstance(relative_time_str, str):\n",
    "            if 'tháng' in relative_time_str:\n",
    "                months_ago = int(relative_time_str.split()[0])\n",
    "                return current_time - pd.DateOffset(months=months_ago)\n",
    "            elif 'ngày' in relative_time_str:\n",
    "                days_ago = int(relative_time_str.split()[0])\n",
    "                return current_time - timedelta(days=days_ago)\n",
    "            elif 'hôm qua' in relative_time_str:\n",
    "                return current_time - timedelta(days=1)\n",
    "        return pd.NaT\n",
    "    except Exception as e:\n",
    "        return pd.NaT\n",
    "\n",
    "def invoke(cleaned_data_0: pd.DataFrame, cleaned_data_1: pd.DataFrame) -> pd.DataFrame:\n",
    "    # Combine the dataframes\n",
    "    combined_data = pd.concat([cleaned_data_0, cleaned_data_1], ignore_index=True)\n",
    "    \n",
    "    # Define the current time\n",
    "    current_time = datetime(2024, 12, 12, 11, 32, 12)\n",
    "    \n",
    "    # Ensure 'posted' and 'updated' columns are strings\n",
    "    combined_data['posted'] = combined_data['posted'].astype(str)\n",
    "    combined_data['updated'] = combined_data['updated'].astype(str)\n",
    "    \n",
    "    # Convert 'posted' and 'updated' columns to datetime\n",
    "    combined_data['posted_date'] = combined_data['posted'].apply(lambda x: convert_relative_time_to_date(x, current_time))\n",
    "    combined_data['updated_date'] = combined_data['updated'].apply(lambda x: convert_relative_time_to_date(x.replace('nhật ', ''), current_time))\n",
    "    \n",
    "    # Extract year and month for analysis\n",
    "    combined_data['posted_year_month'] = combined_data['posted_date'].dt.to_period('M')\n",
    "    combined_data['updated_year_month'] = combined_data['updated_date'].dt.to_period('M')\n",
    "    \n",
    "    # Aggregate data to find trends\n",
    "    posted_trends = combined_data['posted_year_month'].value_counts().sort_index().reset_index()\n",
    "    updated_trends = combined_data['updated_year_month'].value_counts().sort_index().reset_index()\n",
    "    \n",
    "    # Rename columns for clarity\n",
    "    posted_trends.columns = ['Year_Month', 'Posted_Count']\n",
    "    updated_trends.columns = ['Year_Month', 'Updated_Count']\n",
    "    \n",
    "    # Merge the trends data\n",
    "    trends = pd.merge(posted_trends, updated_trends, on='Year_Month', how='outer').fillna(0)\n",
    "    \n",
    "    # Sort by Year_Month\n",
    "    trends = trends.sort_values(by='Year_Month').reset_index(drop=True)\n",
    "    \n",
    "    # Assign to output\n",
    "    output = trends\n",
    "    \n",
    "    return output"
   ]
  },
  {
   "cell_type": "code",
   "execution_count": null,
   "metadata": {},
   "outputs": [],
   "source": [
    "# 10\n",
    "\n",
    "import pandas as pd\n",
    "\n",
    "def invoke(cleaned_data_0: pd.DataFrame, cleaned_data_1: pd.DataFrame) -> pd.DataFrame:\n",
    "    '''\n",
    "    cleaned_data_0: pd.DataFrame  cleaned_data_1.csv\n",
    "    cleaned_data_1: pd.DataFrame  cleaned_data_1.csv\n",
    "    '''\n",
    "    # Step 2: Concatenate the two DataFrames\n",
    "    combined_data = pd.concat([cleaned_data_0, cleaned_data_1], ignore_index=True)\n",
    "    \n",
    "    # Step 3: Extract 'job_title' and 'requirement' columns\n",
    "    job_requirements = combined_data[['job_title', 'requirement']]\n",
    "    \n",
    "    # Step 4: Clean the 'requirement' column\n",
    "    # Remove 'Unknown' entries and split skills\n",
    "    job_requirements = job_requirements[job_requirements['requirement'] != 'Unknown']\n",
    "    job_requirements['requirement'] = job_requirements['requirement'].str.split(',')\n",
    "    \n",
    "    # Step 5: Explode the 'requirement' column to have one skill per row\n",
    "    job_requirements = job_requirements.explode('requirement')\n",
    "    \n",
    "    # Step 6: Return the resulting DataFrame\n",
    "    output = job_requirements.reset_index(drop=True)\n",
    "    return output"
   ]
  },
  {
   "cell_type": "code",
   "execution_count": null,
   "metadata": {},
   "outputs": [],
   "source": [
    "# 11\n",
    "\n",
    "import pandas as pd\n",
    "import matplotlib.pyplot as plt\n",
    "import io\n",
    "\n",
    "def invoke(job_role_distribution: pd.DataFrame, \n",
    "           salary_analysis: pd.DataFrame, \n",
    "           experience_analysis: pd.DataFrame, \n",
    "           company_industry_analysis: pd.DataFrame, \n",
    "           contract_type_analysis: pd.DataFrame, \n",
    "           posting_trends: pd.DataFrame, \n",
    "           skills_requirements_analysis: pd.DataFrame) -> io.BytesIO:\n",
    "    \n",
    "    # Create a figure with multiple subplots\n",
    "    fig, axs = plt.subplots(3, 2, figsize=(15, 15))\n",
    "    \n",
    "    # Job Role Distribution\n",
    "    top_job_roles = job_role_distribution.groupby('job_title')['count'].sum().nlargest(10)\n",
    "    axs[0, 0].bar(top_job_roles.index, top_job_roles.values)\n",
    "    axs[0, 0].set_title('Top 10 Job Role Distribution')\n",
    "    axs[0, 0].set_ylabel('Count')\n",
    "    axs[0, 0].tick_params(axis='x', rotation=45)\n",
    "    \n",
    "    # Salary Analysis\n",
    "    salary_analysis_pivot = salary_analysis.pivot(index='Category', columns='Job Location', values='Average Salary')\n",
    "    salary_analysis_pivot.plot(kind='bar', ax=axs[0, 1])\n",
    "    axs[0, 1].set_title('Average Salary by Category and Location')\n",
    "    axs[0, 1].set_ylabel('Average Salary')\n",
    "    axs[0, 1].tick_params(axis='x', rotation=45)\n",
    "    \n",
    "    # Experience Analysis\n",
    "    top_experience = experience_analysis.groupby('job_title')['count'].sum().nlargest(10)\n",
    "    axs[1, 0].bar(top_experience.index, top_experience.values)\n",
    "    axs[1, 0].set_title('Top 10 Experience Levels')\n",
    "    axs[1, 0].set_ylabel('Count')\n",
    "    axs[1, 0].tick_params(axis='x', rotation=45)\n",
    "    \n",
    "    # Company Industry Analysis\n",
    "    industry_counts = company_industry_analysis.groupby('Industry')['Job Posting Count'].sum()\n",
    "    axs[1, 1].bar(industry_counts.index, industry_counts.values)\n",
    "    axs[1, 1].set_title('Job Posting Count by Industry')\n",
    "    axs[1, 1].set_ylabel('Job Posting Count')\n",
    "    axs[1, 1].tick_params(axis='x', rotation=45)\n",
    "    \n",
    "    # Contract Type Analysis\n",
    "    contract_counts = contract_type_analysis.groupby('contract_type')['count'].sum()\n",
    "    axs[2, 0].pie(contract_counts, labels=contract_counts.index, autopct='%1.1f%%')\n",
    "    axs[2, 0].set_title('Contract Type Distribution')\n",
    "    \n",
    "    # Posting Trends\n",
    "    posting_trends.plot(x='Year_Month', y=['Posted_Count', 'Updated_Count'], ax=axs[2, 1])\n",
    "    axs[2, 1].set_title('Job Posting Trends Over Time')\n",
    "    axs[2, 1].set_ylabel('Count')\n",
    "    axs[2, 1].tick_params(axis='x', rotation=45)\n",
    "    \n",
    "    # Adjust layout\n",
    "    plt.tight_layout()\n",
    "    \n",
    "    # Save the figure to a BytesIO object\n",
    "    output = io.BytesIO()\n",
    "    plt.savefig(output, format='png')\n",
    "    plt.close(fig)\n",
    "    \n",
    "    # Seek to the beginning of the BytesIO object\n",
    "    output.seek(0)\n",
    "    \n",
    "    return output"
   ]
  },
  {
   "cell_type": "code",
   "execution_count": null,
   "metadata": {},
   "outputs": [],
   "source": []
  },
  {
   "cell_type": "markdown",
   "metadata": {},
   "source": [
    "# 3. "
   ]
  },
  {
   "cell_type": "code",
   "execution_count": 10,
   "metadata": {},
   "outputs": [
    {
     "name": "stderr",
     "output_type": "stream",
     "text": [
      "C:\\Users\\trangnt341\\AppData\\Local\\Temp\\ipykernel_2832\\3889681267.py:51: SettingWithCopyWarning:\n",
      "\n",
      "\n",
      "A value is trying to be set on a copy of a slice from a DataFrame.\n",
      "Try using .loc[row_indexer,col_indexer] = value instead\n",
      "\n",
      "See the caveats in the documentation: https://pandas.pydata.org/pandas-docs/stable/user_guide/indexing.html#returning-a-view-versus-a-copy\n",
      "\n",
      "C:\\Users\\trangnt341\\AppData\\Local\\Temp\\ipykernel_2832\\3889681267.py:51: SettingWithCopyWarning:\n",
      "\n",
      "\n",
      "A value is trying to be set on a copy of a slice from a DataFrame.\n",
      "Try using .loc[row_indexer,col_indexer] = value instead\n",
      "\n",
      "See the caveats in the documentation: https://pandas.pydata.org/pandas-docs/stable/user_guide/indexing.html#returning-a-view-versus-a-copy\n",
      "\n",
      "C:\\Users\\trangnt341\\AppData\\Local\\Temp\\ipykernel_2832\\3889681267.py:51: SettingWithCopyWarning:\n",
      "\n",
      "\n",
      "A value is trying to be set on a copy of a slice from a DataFrame.\n",
      "Try using .loc[row_indexer,col_indexer] = value instead\n",
      "\n",
      "See the caveats in the documentation: https://pandas.pydata.org/pandas-docs/stable/user_guide/indexing.html#returning-a-view-versus-a-copy\n",
      "\n",
      "C:\\Users\\trangnt341\\AppData\\Local\\Temp\\ipykernel_2832\\3889681267.py:51: SettingWithCopyWarning:\n",
      "\n",
      "\n",
      "A value is trying to be set on a copy of a slice from a DataFrame.\n",
      "Try using .loc[row_indexer,col_indexer] = value instead\n",
      "\n",
      "See the caveats in the documentation: https://pandas.pydata.org/pandas-docs/stable/user_guide/indexing.html#returning-a-view-versus-a-copy\n",
      "\n"
     ]
    },
    {
     "data": {
      "application/vnd.plotly.v1+json": {
       "config": {
        "plotlyServerURL": "https://plot.ly"
       },
       "data": [
        {
         "alignmentgroup": "True",
         "hovertemplate": "Loại công việc=%{x}<br>Số lượng=%{y}<extra></extra>",
         "legendgroup": "Business Development / Sales",
         "marker": {
          "color": "#636efa",
          "pattern": {
           "shape": ""
          }
         },
         "name": "Business Development / Sales",
         "offsetgroup": "Business Development / Sales",
         "orientation": "v",
         "showlegend": true,
         "textposition": "auto",
         "type": "bar",
         "x": [
          "Business Development / Sales"
         ],
         "xaxis": "x",
         "y": [
          319
         ],
         "yaxis": "y"
        },
        {
         "alignmentgroup": "True",
         "hovertemplate": "Loại công việc=%{x}<br>Số lượng=%{y}<extra></extra>",
         "legendgroup": "Software Engineering",
         "marker": {
          "color": "#EF553B",
          "pattern": {
           "shape": ""
          }
         },
         "name": "Software Engineering",
         "offsetgroup": "Software Engineering",
         "orientation": "v",
         "showlegend": true,
         "textposition": "auto",
         "type": "bar",
         "x": [
          "Software Engineering"
         ],
         "xaxis": "x",
         "y": [
          268
         ],
         "yaxis": "y"
        },
        {
         "alignmentgroup": "True",
         "hovertemplate": "Loại công việc=%{x}<br>Số lượng=%{y}<extra></extra>",
         "legendgroup": "Marketing",
         "marker": {
          "color": "#00cc96",
          "pattern": {
           "shape": ""
          }
         },
         "name": "Marketing",
         "offsetgroup": "Marketing",
         "orientation": "v",
         "showlegend": true,
         "textposition": "auto",
         "type": "bar",
         "x": [
          "Marketing"
         ],
         "xaxis": "x",
         "y": [
          195
         ],
         "yaxis": "y"
        },
        {
         "alignmentgroup": "True",
         "hovertemplate": "Loại công việc=%{x}<br>Số lượng=%{y}<extra></extra>",
         "legendgroup": "Data Science",
         "marker": {
          "color": "#ab63fa",
          "pattern": {
           "shape": ""
          }
         },
         "name": "Data Science",
         "offsetgroup": "Data Science",
         "orientation": "v",
         "showlegend": true,
         "textposition": "auto",
         "type": "bar",
         "x": [
          "Data Science"
         ],
         "xaxis": "x",
         "y": [
          88
         ],
         "yaxis": "y"
        },
        {
         "alignmentgroup": "True",
         "hovertemplate": "Loại công việc=%{x}<br>Số lượng=%{y}<extra></extra>",
         "legendgroup": "Human Resource",
         "marker": {
          "color": "#FFA15A",
          "pattern": {
           "shape": ""
          }
         },
         "name": "Human Resource",
         "offsetgroup": "Human Resource",
         "orientation": "v",
         "showlegend": true,
         "textposition": "auto",
         "type": "bar",
         "x": [
          "Human Resource"
         ],
         "xaxis": "x",
         "y": [
          52
         ],
         "yaxis": "y"
        },
        {
         "alignmentgroup": "True",
         "hovertemplate": "Loại công việc=%{x}<br>Số lượng=%{y}<extra></extra>",
         "legendgroup": "Other",
         "marker": {
          "color": "#19d3f3",
          "pattern": {
           "shape": ""
          }
         },
         "name": "Other",
         "offsetgroup": "Other",
         "orientation": "v",
         "showlegend": true,
         "textposition": "auto",
         "type": "bar",
         "x": [
          "Other"
         ],
         "xaxis": "x",
         "y": [
          48
         ],
         "yaxis": "y"
        },
        {
         "alignmentgroup": "True",
         "hovertemplate": "Loại công việc=%{x}<br>Số lượng=%{y}<extra></extra>",
         "legendgroup": "Finance",
         "marker": {
          "color": "#FF6692",
          "pattern": {
           "shape": ""
          }
         },
         "name": "Finance",
         "offsetgroup": "Finance",
         "orientation": "v",
         "showlegend": true,
         "textposition": "auto",
         "type": "bar",
         "x": [
          "Finance"
         ],
         "xaxis": "x",
         "y": [
          43
         ],
         "yaxis": "y"
        },
        {
         "alignmentgroup": "True",
         "hovertemplate": "Loại công việc=%{x}<br>Số lượng=%{y}<extra></extra>",
         "legendgroup": "Design",
         "marker": {
          "color": "#B6E880",
          "pattern": {
           "shape": ""
          }
         },
         "name": "Design",
         "offsetgroup": "Design",
         "orientation": "v",
         "showlegend": true,
         "textposition": "auto",
         "type": "bar",
         "x": [
          "Design"
         ],
         "xaxis": "x",
         "y": [
          35
         ],
         "yaxis": "y"
        },
        {
         "alignmentgroup": "True",
         "hovertemplate": "Loại công việc=%{x}<br>Số lượng=%{y}<extra></extra>",
         "legendgroup": "Product Management",
         "marker": {
          "color": "#FF97FF",
          "pattern": {
           "shape": ""
          }
         },
         "name": "Product Management",
         "offsetgroup": "Product Management",
         "orientation": "v",
         "showlegend": true,
         "textposition": "auto",
         "type": "bar",
         "x": [
          "Product Management"
         ],
         "xaxis": "x",
         "y": [
          27
         ],
         "yaxis": "y"
        },
        {
         "alignmentgroup": "True",
         "hovertemplate": "Loại công việc=%{x}<br>Số lượng=%{y}<extra></extra>",
         "legendgroup": "Education",
         "marker": {
          "color": "#FECB52",
          "pattern": {
           "shape": ""
          }
         },
         "name": "Education",
         "offsetgroup": "Education",
         "orientation": "v",
         "showlegend": true,
         "textposition": "auto",
         "type": "bar",
         "x": [
          "Education"
         ],
         "xaxis": "x",
         "y": [
          26
         ],
         "yaxis": "y"
        },
        {
         "alignmentgroup": "True",
         "hovertemplate": "Loại công việc=%{x}<br>Số lượng=%{y}<extra></extra>",
         "legendgroup": "Operations",
         "marker": {
          "color": "#636efa",
          "pattern": {
           "shape": ""
          }
         },
         "name": "Operations",
         "offsetgroup": "Operations",
         "orientation": "v",
         "showlegend": true,
         "textposition": "auto",
         "type": "bar",
         "x": [
          "Operations"
         ],
         "xaxis": "x",
         "y": [
          25
         ],
         "yaxis": "y"
        },
        {
         "alignmentgroup": "True",
         "hovertemplate": "Loại công việc=%{x}<br>Số lượng=%{y}<extra></extra>",
         "legendgroup": "Media & Communications",
         "marker": {
          "color": "#EF553B",
          "pattern": {
           "shape": ""
          }
         },
         "name": "Media & Communications",
         "offsetgroup": "Media & Communications",
         "orientation": "v",
         "showlegend": true,
         "textposition": "auto",
         "type": "bar",
         "x": [
          "Media & Communications"
         ],
         "xaxis": "x",
         "y": [
          16
         ],
         "yaxis": "y"
        },
        {
         "alignmentgroup": "True",
         "hovertemplate": "Loại công việc=%{x}<br>Số lượng=%{y}<extra></extra>",
         "legendgroup": "Administrative",
         "marker": {
          "color": "#00cc96",
          "pattern": {
           "shape": ""
          }
         },
         "name": "Administrative",
         "offsetgroup": "Administrative",
         "orientation": "v",
         "showlegend": true,
         "textposition": "auto",
         "type": "bar",
         "x": [
          "Administrative"
         ],
         "xaxis": "x",
         "y": [
          15
         ],
         "yaxis": "y"
        },
        {
         "alignmentgroup": "True",
         "hovertemplate": "Loại công việc=%{x}<br>Số lượng=%{y}<extra></extra>",
         "legendgroup": "Engineering",
         "marker": {
          "color": "#ab63fa",
          "pattern": {
           "shape": ""
          }
         },
         "name": "Engineering",
         "offsetgroup": "Engineering",
         "orientation": "v",
         "showlegend": true,
         "textposition": "auto",
         "type": "bar",
         "x": [
          "Engineering"
         ],
         "xaxis": "x",
         "y": [
          14
         ],
         "yaxis": "y"
        },
        {
         "alignmentgroup": "True",
         "hovertemplate": "Loại công việc=%{x}<br>Số lượng=%{y}<extra></extra>",
         "legendgroup": "Consulting",
         "marker": {
          "color": "#FFA15A",
          "pattern": {
           "shape": ""
          }
         },
         "name": "Consulting",
         "offsetgroup": "Consulting",
         "orientation": "v",
         "showlegend": true,
         "textposition": "auto",
         "type": "bar",
         "x": [
          "Consulting"
         ],
         "xaxis": "x",
         "y": [
          13
         ],
         "yaxis": "y"
        },
        {
         "alignmentgroup": "True",
         "hovertemplate": "Loại công việc=%{x}<br>Số lượng=%{y}<extra></extra>",
         "legendgroup": "Management",
         "marker": {
          "color": "#19d3f3",
          "pattern": {
           "shape": ""
          }
         },
         "name": "Management",
         "offsetgroup": "Management",
         "orientation": "v",
         "showlegend": true,
         "textposition": "auto",
         "type": "bar",
         "x": [
          "Management"
         ],
         "xaxis": "x",
         "y": [
          9
         ],
         "yaxis": "y"
        },
        {
         "alignmentgroup": "True",
         "hovertemplate": "Loại công việc=%{x}<br>Số lượng=%{y}<extra></extra>",
         "legendgroup": "Healthcare",
         "marker": {
          "color": "#FF6692",
          "pattern": {
           "shape": ""
          }
         },
         "name": "Healthcare",
         "offsetgroup": "Healthcare",
         "orientation": "v",
         "showlegend": true,
         "textposition": "auto",
         "type": "bar",
         "x": [
          "Healthcare"
         ],
         "xaxis": "x",
         "y": [
          8
         ],
         "yaxis": "y"
        },
        {
         "alignmentgroup": "True",
         "hovertemplate": "Loại công việc=%{x}<br>Số lượng=%{y}<extra></extra>",
         "legendgroup": "Legal",
         "marker": {
          "color": "#B6E880",
          "pattern": {
           "shape": ""
          }
         },
         "name": "Legal",
         "offsetgroup": "Legal",
         "orientation": "v",
         "showlegend": true,
         "textposition": "auto",
         "type": "bar",
         "x": [
          "Legal"
         ],
         "xaxis": "x",
         "y": [
          4
         ],
         "yaxis": "y"
        },
        {
         "alignmentgroup": "True",
         "hovertemplate": "Loại công việc=%{x}<br>Số lượng=%{y}<extra></extra>",
         "legendgroup": "Language and Translation",
         "marker": {
          "color": "#FF97FF",
          "pattern": {
           "shape": ""
          }
         },
         "name": "Language and Translation",
         "offsetgroup": "Language and Translation",
         "orientation": "v",
         "showlegend": true,
         "textposition": "auto",
         "type": "bar",
         "x": [
          "Language and Translation"
         ],
         "xaxis": "x",
         "y": [
          1
         ],
         "yaxis": "y"
        }
       ],
       "layout": {
        "barmode": "relative",
        "legend": {
         "title": {
          "text": "Loại công việc"
         },
         "tracegroupgap": 0
        },
        "template": {
         "data": {
          "bar": [
           {
            "error_x": {
             "color": "#2a3f5f"
            },
            "error_y": {
             "color": "#2a3f5f"
            },
            "marker": {
             "line": {
              "color": "#E5ECF6",
              "width": 0.5
             },
             "pattern": {
              "fillmode": "overlay",
              "size": 10,
              "solidity": 0.2
             }
            },
            "type": "bar"
           }
          ],
          "barpolar": [
           {
            "marker": {
             "line": {
              "color": "#E5ECF6",
              "width": 0.5
             },
             "pattern": {
              "fillmode": "overlay",
              "size": 10,
              "solidity": 0.2
             }
            },
            "type": "barpolar"
           }
          ],
          "carpet": [
           {
            "aaxis": {
             "endlinecolor": "#2a3f5f",
             "gridcolor": "white",
             "linecolor": "white",
             "minorgridcolor": "white",
             "startlinecolor": "#2a3f5f"
            },
            "baxis": {
             "endlinecolor": "#2a3f5f",
             "gridcolor": "white",
             "linecolor": "white",
             "minorgridcolor": "white",
             "startlinecolor": "#2a3f5f"
            },
            "type": "carpet"
           }
          ],
          "choropleth": [
           {
            "colorbar": {
             "outlinewidth": 0,
             "ticks": ""
            },
            "type": "choropleth"
           }
          ],
          "contour": [
           {
            "colorbar": {
             "outlinewidth": 0,
             "ticks": ""
            },
            "colorscale": [
             [
              0,
              "#0d0887"
             ],
             [
              0.1111111111111111,
              "#46039f"
             ],
             [
              0.2222222222222222,
              "#7201a8"
             ],
             [
              0.3333333333333333,
              "#9c179e"
             ],
             [
              0.4444444444444444,
              "#bd3786"
             ],
             [
              0.5555555555555556,
              "#d8576b"
             ],
             [
              0.6666666666666666,
              "#ed7953"
             ],
             [
              0.7777777777777778,
              "#fb9f3a"
             ],
             [
              0.8888888888888888,
              "#fdca26"
             ],
             [
              1,
              "#f0f921"
             ]
            ],
            "type": "contour"
           }
          ],
          "contourcarpet": [
           {
            "colorbar": {
             "outlinewidth": 0,
             "ticks": ""
            },
            "type": "contourcarpet"
           }
          ],
          "heatmap": [
           {
            "colorbar": {
             "outlinewidth": 0,
             "ticks": ""
            },
            "colorscale": [
             [
              0,
              "#0d0887"
             ],
             [
              0.1111111111111111,
              "#46039f"
             ],
             [
              0.2222222222222222,
              "#7201a8"
             ],
             [
              0.3333333333333333,
              "#9c179e"
             ],
             [
              0.4444444444444444,
              "#bd3786"
             ],
             [
              0.5555555555555556,
              "#d8576b"
             ],
             [
              0.6666666666666666,
              "#ed7953"
             ],
             [
              0.7777777777777778,
              "#fb9f3a"
             ],
             [
              0.8888888888888888,
              "#fdca26"
             ],
             [
              1,
              "#f0f921"
             ]
            ],
            "type": "heatmap"
           }
          ],
          "heatmapgl": [
           {
            "colorbar": {
             "outlinewidth": 0,
             "ticks": ""
            },
            "colorscale": [
             [
              0,
              "#0d0887"
             ],
             [
              0.1111111111111111,
              "#46039f"
             ],
             [
              0.2222222222222222,
              "#7201a8"
             ],
             [
              0.3333333333333333,
              "#9c179e"
             ],
             [
              0.4444444444444444,
              "#bd3786"
             ],
             [
              0.5555555555555556,
              "#d8576b"
             ],
             [
              0.6666666666666666,
              "#ed7953"
             ],
             [
              0.7777777777777778,
              "#fb9f3a"
             ],
             [
              0.8888888888888888,
              "#fdca26"
             ],
             [
              1,
              "#f0f921"
             ]
            ],
            "type": "heatmapgl"
           }
          ],
          "histogram": [
           {
            "marker": {
             "pattern": {
              "fillmode": "overlay",
              "size": 10,
              "solidity": 0.2
             }
            },
            "type": "histogram"
           }
          ],
          "histogram2d": [
           {
            "colorbar": {
             "outlinewidth": 0,
             "ticks": ""
            },
            "colorscale": [
             [
              0,
              "#0d0887"
             ],
             [
              0.1111111111111111,
              "#46039f"
             ],
             [
              0.2222222222222222,
              "#7201a8"
             ],
             [
              0.3333333333333333,
              "#9c179e"
             ],
             [
              0.4444444444444444,
              "#bd3786"
             ],
             [
              0.5555555555555556,
              "#d8576b"
             ],
             [
              0.6666666666666666,
              "#ed7953"
             ],
             [
              0.7777777777777778,
              "#fb9f3a"
             ],
             [
              0.8888888888888888,
              "#fdca26"
             ],
             [
              1,
              "#f0f921"
             ]
            ],
            "type": "histogram2d"
           }
          ],
          "histogram2dcontour": [
           {
            "colorbar": {
             "outlinewidth": 0,
             "ticks": ""
            },
            "colorscale": [
             [
              0,
              "#0d0887"
             ],
             [
              0.1111111111111111,
              "#46039f"
             ],
             [
              0.2222222222222222,
              "#7201a8"
             ],
             [
              0.3333333333333333,
              "#9c179e"
             ],
             [
              0.4444444444444444,
              "#bd3786"
             ],
             [
              0.5555555555555556,
              "#d8576b"
             ],
             [
              0.6666666666666666,
              "#ed7953"
             ],
             [
              0.7777777777777778,
              "#fb9f3a"
             ],
             [
              0.8888888888888888,
              "#fdca26"
             ],
             [
              1,
              "#f0f921"
             ]
            ],
            "type": "histogram2dcontour"
           }
          ],
          "mesh3d": [
           {
            "colorbar": {
             "outlinewidth": 0,
             "ticks": ""
            },
            "type": "mesh3d"
           }
          ],
          "parcoords": [
           {
            "line": {
             "colorbar": {
              "outlinewidth": 0,
              "ticks": ""
             }
            },
            "type": "parcoords"
           }
          ],
          "pie": [
           {
            "automargin": true,
            "type": "pie"
           }
          ],
          "scatter": [
           {
            "fillpattern": {
             "fillmode": "overlay",
             "size": 10,
             "solidity": 0.2
            },
            "type": "scatter"
           }
          ],
          "scatter3d": [
           {
            "line": {
             "colorbar": {
              "outlinewidth": 0,
              "ticks": ""
             }
            },
            "marker": {
             "colorbar": {
              "outlinewidth": 0,
              "ticks": ""
             }
            },
            "type": "scatter3d"
           }
          ],
          "scattercarpet": [
           {
            "marker": {
             "colorbar": {
              "outlinewidth": 0,
              "ticks": ""
             }
            },
            "type": "scattercarpet"
           }
          ],
          "scattergeo": [
           {
            "marker": {
             "colorbar": {
              "outlinewidth": 0,
              "ticks": ""
             }
            },
            "type": "scattergeo"
           }
          ],
          "scattergl": [
           {
            "marker": {
             "colorbar": {
              "outlinewidth": 0,
              "ticks": ""
             }
            },
            "type": "scattergl"
           }
          ],
          "scattermapbox": [
           {
            "marker": {
             "colorbar": {
              "outlinewidth": 0,
              "ticks": ""
             }
            },
            "type": "scattermapbox"
           }
          ],
          "scatterpolar": [
           {
            "marker": {
             "colorbar": {
              "outlinewidth": 0,
              "ticks": ""
             }
            },
            "type": "scatterpolar"
           }
          ],
          "scatterpolargl": [
           {
            "marker": {
             "colorbar": {
              "outlinewidth": 0,
              "ticks": ""
             }
            },
            "type": "scatterpolargl"
           }
          ],
          "scatterternary": [
           {
            "marker": {
             "colorbar": {
              "outlinewidth": 0,
              "ticks": ""
             }
            },
            "type": "scatterternary"
           }
          ],
          "surface": [
           {
            "colorbar": {
             "outlinewidth": 0,
             "ticks": ""
            },
            "colorscale": [
             [
              0,
              "#0d0887"
             ],
             [
              0.1111111111111111,
              "#46039f"
             ],
             [
              0.2222222222222222,
              "#7201a8"
             ],
             [
              0.3333333333333333,
              "#9c179e"
             ],
             [
              0.4444444444444444,
              "#bd3786"
             ],
             [
              0.5555555555555556,
              "#d8576b"
             ],
             [
              0.6666666666666666,
              "#ed7953"
             ],
             [
              0.7777777777777778,
              "#fb9f3a"
             ],
             [
              0.8888888888888888,
              "#fdca26"
             ],
             [
              1,
              "#f0f921"
             ]
            ],
            "type": "surface"
           }
          ],
          "table": [
           {
            "cells": {
             "fill": {
              "color": "#EBF0F8"
             },
             "line": {
              "color": "white"
             }
            },
            "header": {
             "fill": {
              "color": "#C8D4E3"
             },
             "line": {
              "color": "white"
             }
            },
            "type": "table"
           }
          ]
         },
         "layout": {
          "annotationdefaults": {
           "arrowcolor": "#2a3f5f",
           "arrowhead": 0,
           "arrowwidth": 1
          },
          "autotypenumbers": "strict",
          "coloraxis": {
           "colorbar": {
            "outlinewidth": 0,
            "ticks": ""
           }
          },
          "colorscale": {
           "diverging": [
            [
             0,
             "#8e0152"
            ],
            [
             0.1,
             "#c51b7d"
            ],
            [
             0.2,
             "#de77ae"
            ],
            [
             0.3,
             "#f1b6da"
            ],
            [
             0.4,
             "#fde0ef"
            ],
            [
             0.5,
             "#f7f7f7"
            ],
            [
             0.6,
             "#e6f5d0"
            ],
            [
             0.7,
             "#b8e186"
            ],
            [
             0.8,
             "#7fbc41"
            ],
            [
             0.9,
             "#4d9221"
            ],
            [
             1,
             "#276419"
            ]
           ],
           "sequential": [
            [
             0,
             "#0d0887"
            ],
            [
             0.1111111111111111,
             "#46039f"
            ],
            [
             0.2222222222222222,
             "#7201a8"
            ],
            [
             0.3333333333333333,
             "#9c179e"
            ],
            [
             0.4444444444444444,
             "#bd3786"
            ],
            [
             0.5555555555555556,
             "#d8576b"
            ],
            [
             0.6666666666666666,
             "#ed7953"
            ],
            [
             0.7777777777777778,
             "#fb9f3a"
            ],
            [
             0.8888888888888888,
             "#fdca26"
            ],
            [
             1,
             "#f0f921"
            ]
           ],
           "sequentialminus": [
            [
             0,
             "#0d0887"
            ],
            [
             0.1111111111111111,
             "#46039f"
            ],
            [
             0.2222222222222222,
             "#7201a8"
            ],
            [
             0.3333333333333333,
             "#9c179e"
            ],
            [
             0.4444444444444444,
             "#bd3786"
            ],
            [
             0.5555555555555556,
             "#d8576b"
            ],
            [
             0.6666666666666666,
             "#ed7953"
            ],
            [
             0.7777777777777778,
             "#fb9f3a"
            ],
            [
             0.8888888888888888,
             "#fdca26"
            ],
            [
             1,
             "#f0f921"
            ]
           ]
          },
          "colorway": [
           "#636efa",
           "#EF553B",
           "#00cc96",
           "#ab63fa",
           "#FFA15A",
           "#19d3f3",
           "#FF6692",
           "#B6E880",
           "#FF97FF",
           "#FECB52"
          ],
          "font": {
           "color": "#2a3f5f"
          },
          "geo": {
           "bgcolor": "white",
           "lakecolor": "white",
           "landcolor": "#E5ECF6",
           "showlakes": true,
           "showland": true,
           "subunitcolor": "white"
          },
          "hoverlabel": {
           "align": "left"
          },
          "hovermode": "closest",
          "mapbox": {
           "style": "light"
          },
          "paper_bgcolor": "white",
          "plot_bgcolor": "#E5ECF6",
          "polar": {
           "angularaxis": {
            "gridcolor": "white",
            "linecolor": "white",
            "ticks": ""
           },
           "bgcolor": "#E5ECF6",
           "radialaxis": {
            "gridcolor": "white",
            "linecolor": "white",
            "ticks": ""
           }
          },
          "scene": {
           "xaxis": {
            "backgroundcolor": "#E5ECF6",
            "gridcolor": "white",
            "gridwidth": 2,
            "linecolor": "white",
            "showbackground": true,
            "ticks": "",
            "zerolinecolor": "white"
           },
           "yaxis": {
            "backgroundcolor": "#E5ECF6",
            "gridcolor": "white",
            "gridwidth": 2,
            "linecolor": "white",
            "showbackground": true,
            "ticks": "",
            "zerolinecolor": "white"
           },
           "zaxis": {
            "backgroundcolor": "#E5ECF6",
            "gridcolor": "white",
            "gridwidth": 2,
            "linecolor": "white",
            "showbackground": true,
            "ticks": "",
            "zerolinecolor": "white"
           }
          },
          "shapedefaults": {
           "line": {
            "color": "#2a3f5f"
           }
          },
          "ternary": {
           "aaxis": {
            "gridcolor": "white",
            "linecolor": "white",
            "ticks": ""
           },
           "baxis": {
            "gridcolor": "white",
            "linecolor": "white",
            "ticks": ""
           },
           "bgcolor": "#E5ECF6",
           "caxis": {
            "gridcolor": "white",
            "linecolor": "white",
            "ticks": ""
           }
          },
          "title": {
           "x": 0.05
          },
          "xaxis": {
           "automargin": true,
           "gridcolor": "white",
           "linecolor": "white",
           "ticks": "",
           "title": {
            "standoff": 15
           },
           "zerolinecolor": "white",
           "zerolinewidth": 2
          },
          "yaxis": {
           "automargin": true,
           "gridcolor": "white",
           "linecolor": "white",
           "ticks": "",
           "title": {
            "standoff": 15
           },
           "zerolinecolor": "white",
           "zerolinewidth": 2
          }
         }
        },
        "title": {
         "text": "Số lượng công việc theo vị trí"
        },
        "xaxis": {
         "anchor": "y",
         "categoryarray": [
          "Business Development / Sales",
          "Software Engineering",
          "Marketing",
          "Data Science",
          "Human Resource",
          "Other",
          "Finance",
          "Design",
          "Product Management",
          "Education",
          "Operations",
          "Media & Communications",
          "Administrative",
          "Engineering",
          "Consulting",
          "Management",
          "Healthcare",
          "Legal",
          "Language and Translation"
         ],
         "categoryorder": "array",
         "domain": [
          0,
          1
         ],
         "tickangle": -45,
         "title": {
          "text": "Loại công việc"
         }
        },
        "yaxis": {
         "anchor": "x",
         "domain": [
          0,
          1
         ],
         "title": {
          "text": "Số lượng"
         }
        }
       }
      }
     },
     "metadata": {},
     "output_type": "display_data"
    },
    {
     "data": {
      "application/vnd.plotly.v1+json": {
       "config": {
        "plotlyServerURL": "https://plot.ly"
       },
       "data": [
        {
         "alignmentgroup": "True",
         "hovertemplate": "Loại công việc=%{x}<br>Mức lương (VND/USD)=%{y}<extra></extra>",
         "legendgroup": "Software Engineering",
         "marker": {
          "color": "#636efa"
         },
         "name": "Software Engineering",
         "notched": false,
         "offsetgroup": "Software Engineering",
         "orientation": "v",
         "showlegend": true,
         "type": "box",
         "x": [
          "Software Engineering",
          "Software Engineering",
          "Software Engineering",
          "Software Engineering",
          "Software Engineering",
          "Software Engineering",
          "Software Engineering",
          "Software Engineering",
          "Software Engineering",
          "Software Engineering",
          "Software Engineering",
          "Software Engineering",
          "Software Engineering",
          "Software Engineering",
          "Software Engineering",
          "Software Engineering",
          "Software Engineering",
          "Software Engineering",
          "Software Engineering",
          "Software Engineering",
          "Software Engineering",
          "Software Engineering",
          "Software Engineering",
          "Software Engineering",
          "Software Engineering",
          "Software Engineering",
          "Software Engineering",
          "Software Engineering",
          "Software Engineering",
          "Software Engineering",
          "Software Engineering",
          "Software Engineering",
          "Software Engineering",
          "Software Engineering",
          "Software Engineering",
          "Software Engineering",
          "Software Engineering",
          "Software Engineering",
          "Software Engineering",
          "Software Engineering",
          "Software Engineering",
          "Software Engineering",
          "Software Engineering",
          "Software Engineering",
          "Software Engineering",
          "Software Engineering",
          "Software Engineering",
          "Software Engineering",
          "Software Engineering",
          "Software Engineering",
          "Software Engineering",
          "Software Engineering",
          "Software Engineering",
          "Software Engineering",
          "Software Engineering",
          "Software Engineering",
          "Software Engineering",
          "Software Engineering",
          "Software Engineering",
          "Software Engineering",
          "Software Engineering",
          "Software Engineering",
          "Software Engineering",
          "Software Engineering",
          "Software Engineering",
          "Software Engineering",
          "Software Engineering",
          "Software Engineering",
          "Software Engineering",
          "Software Engineering",
          "Software Engineering",
          "Software Engineering",
          "Software Engineering",
          "Software Engineering",
          "Software Engineering",
          "Software Engineering",
          "Software Engineering",
          "Software Engineering",
          "Software Engineering",
          "Software Engineering",
          "Software Engineering",
          "Software Engineering",
          "Software Engineering",
          "Software Engineering",
          "Software Engineering",
          "Software Engineering",
          "Software Engineering",
          "Software Engineering",
          "Software Engineering",
          "Software Engineering",
          "Software Engineering",
          "Software Engineering",
          "Software Engineering",
          "Software Engineering",
          "Software Engineering",
          "Software Engineering",
          "Software Engineering",
          "Software Engineering",
          "Software Engineering",
          "Software Engineering",
          "Software Engineering",
          "Software Engineering",
          "Software Engineering",
          "Software Engineering",
          "Software Engineering",
          "Software Engineering",
          "Software Engineering",
          "Software Engineering",
          "Software Engineering",
          "Software Engineering",
          "Software Engineering",
          "Software Engineering",
          "Software Engineering",
          "Software Engineering",
          "Software Engineering",
          "Software Engineering",
          "Software Engineering",
          "Software Engineering",
          "Software Engineering",
          "Software Engineering",
          "Software Engineering",
          "Software Engineering",
          "Software Engineering",
          "Software Engineering",
          "Software Engineering",
          "Software Engineering",
          "Software Engineering",
          "Software Engineering",
          "Software Engineering",
          "Software Engineering",
          "Software Engineering",
          "Software Engineering",
          "Software Engineering",
          "Software Engineering",
          "Software Engineering",
          "Software Engineering",
          "Software Engineering",
          "Software Engineering",
          "Software Engineering",
          "Software Engineering",
          "Software Engineering",
          "Software Engineering",
          "Software Engineering",
          "Software Engineering",
          "Software Engineering",
          "Software Engineering",
          "Software Engineering",
          "Software Engineering",
          "Software Engineering",
          "Software Engineering",
          "Software Engineering",
          "Software Engineering",
          "Software Engineering",
          "Software Engineering",
          "Software Engineering",
          "Software Engineering",
          "Software Engineering",
          "Software Engineering",
          "Software Engineering",
          "Software Engineering",
          "Software Engineering",
          "Software Engineering",
          "Software Engineering",
          "Software Engineering",
          "Software Engineering",
          "Software Engineering",
          "Software Engineering",
          "Software Engineering",
          "Software Engineering",
          "Software Engineering",
          "Software Engineering",
          "Software Engineering",
          "Software Engineering",
          "Software Engineering",
          "Software Engineering",
          "Software Engineering",
          "Software Engineering",
          "Software Engineering",
          "Software Engineering",
          "Software Engineering",
          "Software Engineering",
          "Software Engineering",
          "Software Engineering",
          "Software Engineering",
          "Software Engineering",
          "Software Engineering",
          "Software Engineering",
          "Software Engineering",
          "Software Engineering",
          "Software Engineering",
          "Software Engineering",
          "Software Engineering",
          "Software Engineering",
          "Software Engineering",
          "Software Engineering",
          "Software Engineering",
          "Software Engineering",
          "Software Engineering",
          "Software Engineering",
          "Software Engineering",
          "Software Engineering",
          "Software Engineering",
          "Software Engineering",
          "Software Engineering",
          "Software Engineering",
          "Software Engineering",
          "Software Engineering",
          "Software Engineering",
          "Software Engineering",
          "Software Engineering",
          "Software Engineering",
          "Software Engineering",
          "Software Engineering",
          "Software Engineering",
          "Software Engineering",
          "Software Engineering",
          "Software Engineering",
          "Software Engineering",
          "Software Engineering",
          "Software Engineering",
          "Software Engineering",
          "Software Engineering",
          "Software Engineering",
          "Software Engineering",
          "Software Engineering",
          "Software Engineering",
          "Software Engineering",
          "Software Engineering",
          "Software Engineering",
          "Software Engineering",
          "Software Engineering",
          "Software Engineering",
          "Software Engineering",
          "Software Engineering",
          "Software Engineering",
          "Software Engineering",
          "Software Engineering",
          "Software Engineering",
          "Software Engineering",
          "Software Engineering",
          "Software Engineering",
          "Software Engineering",
          "Software Engineering",
          "Software Engineering",
          "Software Engineering",
          "Software Engineering",
          "Software Engineering",
          "Software Engineering",
          "Software Engineering",
          "Software Engineering",
          "Software Engineering",
          "Software Engineering",
          "Software Engineering",
          "Software Engineering",
          "Software Engineering",
          "Software Engineering",
          "Software Engineering",
          "Software Engineering",
          "Software Engineering",
          "Software Engineering",
          "Software Engineering",
          "Software Engineering",
          "Software Engineering",
          "Software Engineering",
          "Software Engineering",
          "Software Engineering",
          "Software Engineering",
          "Software Engineering"
         ],
         "x0": " ",
         "xaxis": "x",
         "y": [
          40000000,
          2500,
          4500,
          25000000,
          1300,
          2500000,
          2500000,
          150,
          1250,
          25000000,
          12000000,
          150,
          17500000,
          1750,
          30000000,
          1100,
          17500000,
          17500000,
          30000000,
          3000,
          17.5,
          2400,
          22500000,
          3750000,
          6000000,
          12000000,
          14000000,
          3000000,
          1000000,
          2750,
          350,
          27500000,
          20000000,
          35000000,
          18000000,
          40000000,
          35000000,
          22500000,
          450,
          1500,
          150,
          10500000,
          150,
          150,
          19000000,
          2000,
          60000000,
          17500000,
          16000000,
          700,
          38500000,
          2750,
          2250,
          10000000,
          2500,
          37500000,
          4600,
          3200,
          1600,
          3250,
          1600,
          800,
          2000,
          25000050,
          2000,
          2250,
          2000,
          2000,
          1250,
          1150,
          750,
          17500000,
          150,
          22500000,
          1400,
          2050,
          2050,
          2150,
          1000,
          150,
          2500,
          500,
          16000000,
          2000,
          2750,
          35000000,
          22500000,
          1150,
          1000,
          3250,
          32000000,
          13000000,
          3000,
          150,
          1750,
          16000000,
          3050,
          2500,
          3000000,
          3000,
          2000,
          130000000,
          1750,
          800,
          1250.5,
          3250,
          30000000,
          1500,
          1050,
          25000000,
          16500000,
          3500,
          1150,
          900,
          25000000,
          1100,
          2500,
          13000000,
          900,
          2100,
          3000,
          13000000,
          3000,
          100,
          20000000,
          50000000,
          150,
          2500,
          37000000,
          1500,
          1050,
          35000000,
          1900,
          17000,
          150,
          1750000,
          1750,
          5500,
          3250,
          425,
          300,
          300,
          13000000,
          150,
          3000,
          21000000,
          25000000,
          20000000,
          150,
          32500000,
          22500000,
          2000,
          17500000,
          1500,
          800,
          1000,
          16500000,
          1500,
          150,
          3000,
          1250,
          1750,
          6500000,
          22500000,
          2000000,
          45000000,
          150,
          2250,
          150,
          38500000,
          3000,
          3000,
          1900,
          1500,
          33500000,
          2000,
          2100,
          35000000,
          2050,
          1750,
          150,
          150,
          4000,
          4000000,
          1500,
          25000000,
          1500,
          1750,
          2250,
          25000000,
          13000000,
          1250,
          1500,
          150,
          1400,
          3000,
          1750,
          2000,
          400000000,
          17500000,
          2000000,
          1500,
          1350,
          800,
          16500000,
          8000000,
          1250,
          12000,
          2500,
          2900,
          2000,
          950,
          1750,
          850,
          17500000,
          150,
          1500,
          50000000,
          4000,
          850,
          1000,
          1000,
          2500,
          15000000,
          30000000,
          2500,
          3000000,
          3000,
          2000,
          1600,
          1500,
          40000000,
          2050,
          1375,
          150,
          32500000,
          40000000,
          1600,
          150,
          150,
          55000000,
          30000050,
          1075000,
          1600,
          150,
          25000000,
          1500,
          2250,
          2200,
          2750,
          1300,
          5500,
          3000,
          1500000,
          1550,
          30000000,
          150,
          2000,
          150,
          1550,
          150,
          6000000,
          6000000,
          2000,
          46500000,
          150,
          1750,
          40000000
         ],
         "y0": " ",
         "yaxis": "y"
        },
        {
         "alignmentgroup": "True",
         "hovertemplate": "Loại công việc=%{x}<br>Mức lương (VND/USD)=%{y}<extra></extra>",
         "legendgroup": "Product Management",
         "marker": {
          "color": "#EF553B"
         },
         "name": "Product Management",
         "notched": false,
         "offsetgroup": "Product Management",
         "orientation": "v",
         "showlegend": true,
         "type": "box",
         "x": [
          "Product Management",
          "Product Management",
          "Product Management",
          "Product Management",
          "Product Management",
          "Product Management",
          "Product Management",
          "Product Management",
          "Product Management",
          "Product Management",
          "Product Management",
          "Product Management",
          "Product Management",
          "Product Management",
          "Product Management",
          "Product Management",
          "Product Management",
          "Product Management",
          "Product Management",
          "Product Management",
          "Product Management",
          "Product Management",
          "Product Management",
          "Product Management",
          "Product Management",
          "Product Management",
          "Product Management"
         ],
         "x0": " ",
         "xaxis": "x",
         "y": [
          8500,
          1150,
          150,
          1600,
          1600,
          1750,
          1250,
          25000000,
          11500000,
          1000,
          40000000,
          3000,
          21500000,
          2000,
          2000,
          150,
          2500,
          1050,
          150,
          1050.5,
          22500000,
          150,
          32500000,
          42500000,
          4600000,
          3200,
          39500000
         ],
         "y0": " ",
         "yaxis": "y"
        },
        {
         "alignmentgroup": "True",
         "hovertemplate": "Loại công việc=%{x}<br>Mức lương (VND/USD)=%{y}<extra></extra>",
         "legendgroup": "Business Development / Sales",
         "marker": {
          "color": "#00cc96"
         },
         "name": "Business Development / Sales",
         "notched": false,
         "offsetgroup": "Business Development / Sales",
         "orientation": "v",
         "showlegend": true,
         "type": "box",
         "x": [
          "Business Development / Sales",
          "Business Development / Sales",
          "Business Development / Sales",
          "Business Development / Sales",
          "Business Development / Sales",
          "Business Development / Sales",
          "Business Development / Sales",
          "Business Development / Sales",
          "Business Development / Sales",
          "Business Development / Sales",
          "Business Development / Sales",
          "Business Development / Sales",
          "Business Development / Sales",
          "Business Development / Sales",
          "Business Development / Sales",
          "Business Development / Sales",
          "Business Development / Sales",
          "Business Development / Sales",
          "Business Development / Sales",
          "Business Development / Sales",
          "Business Development / Sales",
          "Business Development / Sales",
          "Business Development / Sales",
          "Business Development / Sales",
          "Business Development / Sales",
          "Business Development / Sales",
          "Business Development / Sales",
          "Business Development / Sales",
          "Business Development / Sales",
          "Business Development / Sales",
          "Business Development / Sales",
          "Business Development / Sales",
          "Business Development / Sales",
          "Business Development / Sales",
          "Business Development / Sales",
          "Business Development / Sales",
          "Business Development / Sales",
          "Business Development / Sales",
          "Business Development / Sales",
          "Business Development / Sales",
          "Business Development / Sales",
          "Business Development / Sales",
          "Business Development / Sales",
          "Business Development / Sales",
          "Business Development / Sales",
          "Business Development / Sales",
          "Business Development / Sales",
          "Business Development / Sales",
          "Business Development / Sales",
          "Business Development / Sales",
          "Business Development / Sales",
          "Business Development / Sales",
          "Business Development / Sales",
          "Business Development / Sales",
          "Business Development / Sales",
          "Business Development / Sales",
          "Business Development / Sales",
          "Business Development / Sales",
          "Business Development / Sales",
          "Business Development / Sales",
          "Business Development / Sales",
          "Business Development / Sales",
          "Business Development / Sales",
          "Business Development / Sales",
          "Business Development / Sales",
          "Business Development / Sales",
          "Business Development / Sales",
          "Business Development / Sales",
          "Business Development / Sales",
          "Business Development / Sales",
          "Business Development / Sales",
          "Business Development / Sales",
          "Business Development / Sales",
          "Business Development / Sales",
          "Business Development / Sales",
          "Business Development / Sales",
          "Business Development / Sales",
          "Business Development / Sales",
          "Business Development / Sales",
          "Business Development / Sales",
          "Business Development / Sales",
          "Business Development / Sales",
          "Business Development / Sales",
          "Business Development / Sales",
          "Business Development / Sales",
          "Business Development / Sales",
          "Business Development / Sales",
          "Business Development / Sales",
          "Business Development / Sales",
          "Business Development / Sales",
          "Business Development / Sales",
          "Business Development / Sales",
          "Business Development / Sales",
          "Business Development / Sales",
          "Business Development / Sales",
          "Business Development / Sales",
          "Business Development / Sales",
          "Business Development / Sales",
          "Business Development / Sales",
          "Business Development / Sales",
          "Business Development / Sales",
          "Business Development / Sales",
          "Business Development / Sales",
          "Business Development / Sales",
          "Business Development / Sales",
          "Business Development / Sales",
          "Business Development / Sales",
          "Business Development / Sales",
          "Business Development / Sales",
          "Business Development / Sales",
          "Business Development / Sales",
          "Business Development / Sales",
          "Business Development / Sales",
          "Business Development / Sales",
          "Business Development / Sales",
          "Business Development / Sales",
          "Business Development / Sales",
          "Business Development / Sales",
          "Business Development / Sales",
          "Business Development / Sales",
          "Business Development / Sales",
          "Business Development / Sales",
          "Business Development / Sales",
          "Business Development / Sales",
          "Business Development / Sales",
          "Business Development / Sales",
          "Business Development / Sales",
          "Business Development / Sales",
          "Business Development / Sales",
          "Business Development / Sales",
          "Business Development / Sales",
          "Business Development / Sales",
          "Business Development / Sales",
          "Business Development / Sales",
          "Business Development / Sales",
          "Business Development / Sales",
          "Business Development / Sales",
          "Business Development / Sales",
          "Business Development / Sales",
          "Business Development / Sales",
          "Business Development / Sales",
          "Business Development / Sales",
          "Business Development / Sales",
          "Business Development / Sales",
          "Business Development / Sales",
          "Business Development / Sales",
          "Business Development / Sales",
          "Business Development / Sales",
          "Business Development / Sales",
          "Business Development / Sales",
          "Business Development / Sales",
          "Business Development / Sales",
          "Business Development / Sales",
          "Business Development / Sales",
          "Business Development / Sales",
          "Business Development / Sales",
          "Business Development / Sales",
          "Business Development / Sales",
          "Business Development / Sales",
          "Business Development / Sales",
          "Business Development / Sales",
          "Business Development / Sales",
          "Business Development / Sales",
          "Business Development / Sales",
          "Business Development / Sales",
          "Business Development / Sales",
          "Business Development / Sales",
          "Business Development / Sales",
          "Business Development / Sales",
          "Business Development / Sales",
          "Business Development / Sales",
          "Business Development / Sales",
          "Business Development / Sales",
          "Business Development / Sales",
          "Business Development / Sales",
          "Business Development / Sales",
          "Business Development / Sales",
          "Business Development / Sales",
          "Business Development / Sales",
          "Business Development / Sales",
          "Business Development / Sales",
          "Business Development / Sales",
          "Business Development / Sales",
          "Business Development / Sales",
          "Business Development / Sales",
          "Business Development / Sales",
          "Business Development / Sales",
          "Business Development / Sales",
          "Business Development / Sales",
          "Business Development / Sales",
          "Business Development / Sales",
          "Business Development / Sales",
          "Business Development / Sales",
          "Business Development / Sales",
          "Business Development / Sales",
          "Business Development / Sales",
          "Business Development / Sales",
          "Business Development / Sales",
          "Business Development / Sales",
          "Business Development / Sales",
          "Business Development / Sales",
          "Business Development / Sales",
          "Business Development / Sales",
          "Business Development / Sales",
          "Business Development / Sales",
          "Business Development / Sales",
          "Business Development / Sales",
          "Business Development / Sales",
          "Business Development / Sales",
          "Business Development / Sales",
          "Business Development / Sales",
          "Business Development / Sales",
          "Business Development / Sales",
          "Business Development / Sales",
          "Business Development / Sales",
          "Business Development / Sales",
          "Business Development / Sales",
          "Business Development / Sales",
          "Business Development / Sales",
          "Business Development / Sales",
          "Business Development / Sales",
          "Business Development / Sales",
          "Business Development / Sales",
          "Business Development / Sales",
          "Business Development / Sales",
          "Business Development / Sales",
          "Business Development / Sales",
          "Business Development / Sales",
          "Business Development / Sales",
          "Business Development / Sales",
          "Business Development / Sales",
          "Business Development / Sales",
          "Business Development / Sales",
          "Business Development / Sales",
          "Business Development / Sales",
          "Business Development / Sales",
          "Business Development / Sales",
          "Business Development / Sales",
          "Business Development / Sales",
          "Business Development / Sales",
          "Business Development / Sales",
          "Business Development / Sales",
          "Business Development / Sales",
          "Business Development / Sales",
          "Business Development / Sales",
          "Business Development / Sales",
          "Business Development / Sales",
          "Business Development / Sales",
          "Business Development / Sales",
          "Business Development / Sales",
          "Business Development / Sales",
          "Business Development / Sales",
          "Business Development / Sales",
          "Business Development / Sales",
          "Business Development / Sales",
          "Business Development / Sales",
          "Business Development / Sales",
          "Business Development / Sales",
          "Business Development / Sales",
          "Business Development / Sales",
          "Business Development / Sales",
          "Business Development / Sales",
          "Business Development / Sales",
          "Business Development / Sales",
          "Business Development / Sales",
          "Business Development / Sales",
          "Business Development / Sales",
          "Business Development / Sales",
          "Business Development / Sales",
          "Business Development / Sales",
          "Business Development / Sales",
          "Business Development / Sales",
          "Business Development / Sales",
          "Business Development / Sales",
          "Business Development / Sales",
          "Business Development / Sales",
          "Business Development / Sales",
          "Business Development / Sales",
          "Business Development / Sales",
          "Business Development / Sales",
          "Business Development / Sales",
          "Business Development / Sales",
          "Business Development / Sales",
          "Business Development / Sales",
          "Business Development / Sales",
          "Business Development / Sales",
          "Business Development / Sales",
          "Business Development / Sales",
          "Business Development / Sales",
          "Business Development / Sales",
          "Business Development / Sales",
          "Business Development / Sales",
          "Business Development / Sales",
          "Business Development / Sales",
          "Business Development / Sales",
          "Business Development / Sales",
          "Business Development / Sales",
          "Business Development / Sales",
          "Business Development / Sales",
          "Business Development / Sales",
          "Business Development / Sales",
          "Business Development / Sales",
          "Business Development / Sales",
          "Business Development / Sales",
          "Business Development / Sales",
          "Business Development / Sales",
          "Business Development / Sales",
          "Business Development / Sales",
          "Business Development / Sales",
          "Business Development / Sales",
          "Business Development / Sales",
          "Business Development / Sales",
          "Business Development / Sales",
          "Business Development / Sales",
          "Business Development / Sales",
          "Business Development / Sales",
          "Business Development / Sales",
          "Business Development / Sales",
          "Business Development / Sales"
         ],
         "x0": " ",
         "xaxis": "x",
         "y": [
          4000,
          25000000,
          4500000,
          20000000,
          150,
          21000000,
          12500050,
          13000000,
          12500000,
          1000,
          10000000,
          750,
          1750,
          8000000,
          11500000,
          11500000,
          40000000,
          36000000,
          100,
          21500000,
          800,
          11500000,
          1050.5,
          1750,
          2000000,
          32500000,
          7500000,
          10500000,
          150,
          28000000,
          22500000,
          2000000,
          3250000,
          150,
          17000000,
          9000000,
          27500000,
          27500000,
          10000000,
          9500000,
          850,
          2000000,
          11000000,
          12000000,
          150,
          1000,
          1000,
          2700000,
          8500000,
          11000000,
          11000000,
          11000000,
          1000,
          11000000,
          13500000,
          13000000,
          1050.5,
          150,
          23500000,
          13000000,
          13000000,
          15000000,
          150,
          8000000,
          13000000,
          13000000,
          13000000,
          13000000,
          13000000,
          13000000,
          10000000,
          9000000,
          15000000,
          1100000,
          13000000,
          13000000,
          28500000,
          15000000,
          12500000,
          150,
          16000000,
          2500000,
          7500000,
          22500000,
          12000000,
          14000000,
          21500000,
          15000000,
          3000050,
          1000,
          21500000,
          11500000,
          17500000,
          25000000,
          25000000,
          12500000,
          24000000,
          11500000,
          20000000,
          10000000,
          450,
          12500000,
          35000000,
          12500000,
          31000000,
          35000000,
          8000000,
          20000000,
          12500000,
          35000000,
          8000000,
          26500000,
          150,
          1000000,
          12500000,
          1000000,
          3000,
          750,
          7000000,
          12000000,
          150,
          7500000,
          150,
          4000000,
          8000000,
          12500000,
          13500000,
          9000000,
          17500000,
          8500000,
          100,
          25000000,
          11500000,
          22500000,
          1500000,
          6000000,
          2000000,
          23050,
          7000000,
          22500000,
          18500000,
          10000000,
          15500000,
          21000000,
          9000000,
          8500000,
          24000000,
          14000000,
          150,
          16500000,
          2250000,
          2250000,
          11500000,
          2000,
          5000000,
          125000000,
          13000000,
          13000000,
          150,
          11500000,
          20000,
          18500000,
          11500000,
          14000000,
          12500000,
          7000000,
          2000000,
          35000000,
          9000000,
          2000000,
          12000000,
          10500000,
          8500000,
          8500000,
          22500000,
          10000000,
          6000000,
          6000000,
          6000000,
          17500000,
          20000000,
          16000000,
          11500000,
          11500000,
          10000000,
          10500000,
          11500000,
          11500000,
          1999900,
          11500000,
          11500000,
          11500000,
          20000000,
          8000000,
          150,
          150,
          15000000,
          850,
          17500000,
          11500000,
          150,
          12000000,
          11500000,
          10000000,
          15000000,
          15000000,
          18500000,
          18500000,
          5000,
          4750000,
          8500000,
          10000000,
          8500000,
          6000000,
          2000,
          10000000,
          10000000,
          8500000,
          14000000,
          10000000,
          20000000,
          2000000,
          16500000,
          5000000,
          13000000,
          15000000,
          20000000,
          30000000,
          1250,
          750,
          750,
          10000000,
          14000000,
          56000000,
          8500000,
          18500000,
          9000000,
          9000000,
          10000000,
          50000000,
          17500000,
          17500000,
          9000000,
          150,
          10000000,
          2500,
          5500000,
          1350,
          20000000,
          150,
          32500000,
          32500000,
          10000000,
          7000000,
          16500000,
          150,
          2500,
          7500000,
          1500,
          650,
          23000,
          2000000,
          32500000,
          15000000,
          15000000,
          22500000,
          150,
          10000000,
          5,
          15000000,
          150,
          19000000,
          19000000,
          30000000,
          20000,
          8000000,
          20000000,
          8500000,
          8500000,
          2500,
          30000000,
          10000000,
          7000000,
          2500000,
          150,
          8500000,
          30000000,
          11500000,
          150,
          9000,
          20000000,
          150,
          25000000,
          7800000,
          7800000,
          150,
          17500000,
          25000000,
          150,
          2000000,
          2000000,
          2000000,
          2000000,
          2000000,
          2050,
          150,
          14000000,
          1200,
          17500000,
          17500000,
          150,
          150,
          16000000,
          6000,
          10000000,
          10000000,
          10000000,
          10000000,
          1500
         ],
         "y0": " ",
         "yaxis": "y"
        },
        {
         "alignmentgroup": "True",
         "hovertemplate": "Loại công việc=%{x}<br>Mức lương (VND/USD)=%{y}<extra></extra>",
         "legendgroup": "Data Science",
         "marker": {
          "color": "#ab63fa"
         },
         "name": "Data Science",
         "notched": false,
         "offsetgroup": "Data Science",
         "orientation": "v",
         "showlegend": true,
         "type": "box",
         "x": [
          "Data Science",
          "Data Science",
          "Data Science",
          "Data Science",
          "Data Science",
          "Data Science",
          "Data Science",
          "Data Science",
          "Data Science",
          "Data Science",
          "Data Science",
          "Data Science",
          "Data Science",
          "Data Science",
          "Data Science",
          "Data Science",
          "Data Science",
          "Data Science",
          "Data Science",
          "Data Science",
          "Data Science",
          "Data Science",
          "Data Science",
          "Data Science",
          "Data Science",
          "Data Science",
          "Data Science",
          "Data Science",
          "Data Science",
          "Data Science",
          "Data Science",
          "Data Science",
          "Data Science",
          "Data Science",
          "Data Science",
          "Data Science",
          "Data Science",
          "Data Science",
          "Data Science",
          "Data Science",
          "Data Science",
          "Data Science",
          "Data Science",
          "Data Science",
          "Data Science",
          "Data Science",
          "Data Science",
          "Data Science",
          "Data Science",
          "Data Science",
          "Data Science",
          "Data Science",
          "Data Science",
          "Data Science",
          "Data Science",
          "Data Science",
          "Data Science",
          "Data Science",
          "Data Science",
          "Data Science",
          "Data Science",
          "Data Science",
          "Data Science",
          "Data Science",
          "Data Science",
          "Data Science",
          "Data Science",
          "Data Science",
          "Data Science",
          "Data Science",
          "Data Science",
          "Data Science",
          "Data Science",
          "Data Science",
          "Data Science",
          "Data Science",
          "Data Science",
          "Data Science",
          "Data Science",
          "Data Science",
          "Data Science",
          "Data Science",
          "Data Science",
          "Data Science",
          "Data Science",
          "Data Science",
          "Data Science",
          "Data Science"
         ],
         "x0": " ",
         "xaxis": "x",
         "y": [
          1000,
          20000000,
          30000000,
          38000000,
          150,
          18000000,
          1500,
          8000000,
          3000000,
          15000000,
          15000000,
          2250,
          850,
          3000000,
          150,
          950,
          15000000,
          1450,
          22500000,
          1300,
          14000000,
          1100,
          20000000,
          150,
          150,
          37000000,
          1050,
          850,
          150,
          150,
          25000,
          150,
          150,
          17500000,
          15000,
          16500000,
          25000000,
          1000,
          150,
          1500,
          3250,
          2250,
          1000,
          2000,
          25000000,
          14000000,
          3250,
          2000,
          150,
          3000000,
          3000,
          8000000,
          150,
          150,
          3150,
          3150,
          4000,
          100,
          150,
          150,
          3000,
          3000000,
          1055,
          2000,
          11500000,
          11000000,
          4750000,
          14000000,
          11500000,
          22500000,
          9000000,
          1250,
          17500000,
          1100,
          21500000,
          2000000,
          8500000,
          15000000,
          150,
          150,
          150,
          150,
          25000000,
          150,
          150,
          150,
          20000000,
          51000000
         ],
         "y0": " ",
         "yaxis": "y"
        },
        {
         "alignmentgroup": "True",
         "hovertemplate": "Loại công việc=%{x}<br>Mức lương (VND/USD)=%{y}<extra></extra>",
         "legendgroup": "Engineering",
         "marker": {
          "color": "#FFA15A"
         },
         "name": "Engineering",
         "notched": false,
         "offsetgroup": "Engineering",
         "orientation": "v",
         "showlegend": true,
         "type": "box",
         "x": [
          "Engineering",
          "Engineering",
          "Engineering",
          "Engineering",
          "Engineering",
          "Engineering",
          "Engineering",
          "Engineering",
          "Engineering",
          "Engineering",
          "Engineering",
          "Engineering",
          "Engineering",
          "Engineering"
         ],
         "x0": " ",
         "xaxis": "x",
         "y": [
          11999900,
          15000000,
          15000000,
          1500,
          1250,
          150,
          2750,
          50000000,
          22500000,
          1700,
          10000000,
          150,
          1500,
          22500000
         ],
         "y0": " ",
         "yaxis": "y"
        },
        {
         "alignmentgroup": "True",
         "hovertemplate": "Loại công việc=%{x}<br>Mức lương (VND/USD)=%{y}<extra></extra>",
         "legendgroup": "Marketing",
         "marker": {
          "color": "#19d3f3"
         },
         "name": "Marketing",
         "notched": false,
         "offsetgroup": "Marketing",
         "orientation": "v",
         "showlegend": true,
         "type": "box",
         "x": [
          "Marketing",
          "Marketing",
          "Marketing",
          "Marketing",
          "Marketing",
          "Marketing",
          "Marketing",
          "Marketing",
          "Marketing",
          "Marketing",
          "Marketing",
          "Marketing",
          "Marketing",
          "Marketing",
          "Marketing",
          "Marketing",
          "Marketing",
          "Marketing",
          "Marketing",
          "Marketing",
          "Marketing",
          "Marketing",
          "Marketing",
          "Marketing",
          "Marketing",
          "Marketing",
          "Marketing",
          "Marketing",
          "Marketing",
          "Marketing",
          "Marketing",
          "Marketing",
          "Marketing",
          "Marketing",
          "Marketing",
          "Marketing",
          "Marketing",
          "Marketing",
          "Marketing",
          "Marketing",
          "Marketing",
          "Marketing",
          "Marketing",
          "Marketing",
          "Marketing",
          "Marketing",
          "Marketing",
          "Marketing",
          "Marketing",
          "Marketing",
          "Marketing",
          "Marketing",
          "Marketing",
          "Marketing",
          "Marketing",
          "Marketing",
          "Marketing",
          "Marketing",
          "Marketing",
          "Marketing",
          "Marketing",
          "Marketing",
          "Marketing",
          "Marketing",
          "Marketing",
          "Marketing",
          "Marketing",
          "Marketing",
          "Marketing",
          "Marketing",
          "Marketing",
          "Marketing",
          "Marketing",
          "Marketing",
          "Marketing",
          "Marketing",
          "Marketing",
          "Marketing",
          "Marketing",
          "Marketing",
          "Marketing",
          "Marketing",
          "Marketing",
          "Marketing",
          "Marketing",
          "Marketing",
          "Marketing",
          "Marketing",
          "Marketing",
          "Marketing",
          "Marketing",
          "Marketing",
          "Marketing",
          "Marketing",
          "Marketing",
          "Marketing",
          "Marketing",
          "Marketing",
          "Marketing",
          "Marketing",
          "Marketing",
          "Marketing",
          "Marketing",
          "Marketing",
          "Marketing",
          "Marketing",
          "Marketing",
          "Marketing",
          "Marketing",
          "Marketing",
          "Marketing",
          "Marketing",
          "Marketing",
          "Marketing",
          "Marketing",
          "Marketing",
          "Marketing",
          "Marketing",
          "Marketing",
          "Marketing",
          "Marketing",
          "Marketing",
          "Marketing",
          "Marketing",
          "Marketing",
          "Marketing",
          "Marketing",
          "Marketing",
          "Marketing",
          "Marketing",
          "Marketing",
          "Marketing",
          "Marketing",
          "Marketing",
          "Marketing",
          "Marketing",
          "Marketing",
          "Marketing",
          "Marketing",
          "Marketing",
          "Marketing",
          "Marketing",
          "Marketing",
          "Marketing",
          "Marketing",
          "Marketing",
          "Marketing",
          "Marketing",
          "Marketing",
          "Marketing",
          "Marketing",
          "Marketing",
          "Marketing",
          "Marketing",
          "Marketing",
          "Marketing",
          "Marketing",
          "Marketing",
          "Marketing",
          "Marketing",
          "Marketing",
          "Marketing",
          "Marketing",
          "Marketing",
          "Marketing",
          "Marketing",
          "Marketing",
          "Marketing",
          "Marketing",
          "Marketing",
          "Marketing",
          "Marketing",
          "Marketing",
          "Marketing",
          "Marketing",
          "Marketing",
          "Marketing",
          "Marketing",
          "Marketing",
          "Marketing",
          "Marketing",
          "Marketing",
          "Marketing",
          "Marketing",
          "Marketing",
          "Marketing",
          "Marketing",
          "Marketing",
          "Marketing",
          "Marketing",
          "Marketing",
          "Marketing",
          "Marketing",
          "Marketing",
          "Marketing"
         ],
         "x0": " ",
         "xaxis": "x",
         "y": [
          14000000,
          11500000,
          25000000,
          5000000,
          1000,
          3000000,
          12000000,
          150,
          1050.5,
          2000,
          1050.5,
          12500000,
          20000000,
          100,
          16000000,
          900,
          11500000,
          750,
          17000000,
          17500000,
          37500000,
          150,
          30000000,
          4000000,
          4000000,
          6000000,
          13500000,
          20000000,
          45000000,
          12500000,
          150,
          3000000,
          150,
          18000000,
          100,
          2250,
          1050.5,
          150,
          17000000,
          150,
          150,
          300,
          200,
          2000000,
          40000000,
          12500000,
          12500000,
          150,
          15000000,
          5000000,
          45000000,
          14500000,
          14000000,
          1250,
          30000000,
          13500000,
          13500000,
          1500,
          150,
          22500000,
          16500000,
          40000000,
          65000000,
          19000000,
          25000000,
          3000000,
          11000000,
          8500000,
          2250,
          1750,
          18000000,
          60000000,
          18000000,
          18000000,
          22500000,
          700,
          150,
          150,
          16500000,
          14500000,
          2000,
          18000000,
          150,
          45000000,
          35000000,
          10000,
          2250,
          6000000,
          5999900,
          12500000,
          1100,
          150,
          450,
          20000000,
          25000000,
          12500000,
          10000000,
          750,
          40000000,
          40000000,
          12500000,
          150,
          9500000,
          4500000,
          27500000,
          18000000,
          3500000,
          4600000,
          25000000,
          150,
          65000000,
          13500000,
          750,
          15000000,
          1050.5,
          20500000,
          3000000,
          150,
          15500000,
          150,
          150,
          3000000,
          1750,
          900,
          9000000,
          1500000,
          14000000,
          30000000,
          15000000,
          2500000,
          64500000,
          16000000,
          1050.5,
          11500000,
          11000000,
          22000000,
          4420000,
          12500000,
          20000000,
          20000000,
          900,
          12000000,
          14000000,
          9000000,
          12500000,
          24000000,
          17500000,
          150,
          25000000,
          150,
          12500000,
          11000000,
          16000000,
          65000000,
          18000000,
          2250,
          16000000,
          11000000,
          30000000,
          11000000,
          750,
          4420000,
          17500000,
          27500000,
          35000000,
          150000000,
          15000000,
          15000000,
          10000000,
          11500000,
          15000000,
          17500000,
          21500000,
          150,
          30500000,
          30500000,
          15000000,
          150,
          20000000,
          13000000,
          150,
          1050.5,
          17500,
          11000000,
          35000000,
          450,
          45000000,
          900,
          16000000,
          4500000,
          850,
          450,
          150,
          17000000,
          17000000
         ],
         "y0": " ",
         "yaxis": "y"
        },
        {
         "alignmentgroup": "True",
         "hovertemplate": "Loại công việc=%{x}<br>Mức lương (VND/USD)=%{y}<extra></extra>",
         "legendgroup": "Other",
         "marker": {
          "color": "#FF6692"
         },
         "name": "Other",
         "notched": false,
         "offsetgroup": "Other",
         "orientation": "v",
         "showlegend": true,
         "type": "box",
         "x": [
          "Other",
          "Other",
          "Other",
          "Other",
          "Other",
          "Other",
          "Other",
          "Other",
          "Other",
          "Other",
          "Other",
          "Other",
          "Other",
          "Other",
          "Other",
          "Other",
          "Other",
          "Other",
          "Other",
          "Other",
          "Other",
          "Other",
          "Other",
          "Other",
          "Other",
          "Other",
          "Other",
          "Other",
          "Other",
          "Other",
          "Other",
          "Other",
          "Other",
          "Other",
          "Other",
          "Other",
          "Other",
          "Other",
          "Other",
          "Other",
          "Other",
          "Other",
          "Other",
          "Other",
          "Other",
          "Other",
          "Other",
          "Other"
         ],
         "x0": " ",
         "xaxis": "x",
         "y": [
          150,
          900,
          750,
          1800,
          150,
          2800,
          2800,
          1850,
          12500000,
          21000000,
          150,
          775,
          825,
          150,
          525,
          4000000,
          16000000,
          8500000,
          150,
          37500000,
          16500000,
          1750,
          20500000,
          950,
          30000000,
          7000000,
          10100,
          2000000,
          150,
          17000000,
          1850,
          5000000,
          30000000,
          150,
          14000000,
          2000,
          11500000,
          3500,
          12500050,
          6000000,
          12500000,
          1200,
          150,
          8500000,
          12500000,
          8000000,
          2000000,
          1750
         ],
         "y0": " ",
         "yaxis": "y"
        },
        {
         "alignmentgroup": "True",
         "hovertemplate": "Loại công việc=%{x}<br>Mức lương (VND/USD)=%{y}<extra></extra>",
         "legendgroup": "Finance",
         "marker": {
          "color": "#B6E880"
         },
         "name": "Finance",
         "notched": false,
         "offsetgroup": "Finance",
         "orientation": "v",
         "showlegend": true,
         "type": "box",
         "x": [
          "Finance",
          "Finance",
          "Finance",
          "Finance",
          "Finance",
          "Finance",
          "Finance",
          "Finance",
          "Finance",
          "Finance",
          "Finance",
          "Finance",
          "Finance",
          "Finance",
          "Finance",
          "Finance",
          "Finance",
          "Finance",
          "Finance",
          "Finance",
          "Finance",
          "Finance",
          "Finance",
          "Finance",
          "Finance",
          "Finance",
          "Finance",
          "Finance",
          "Finance",
          "Finance",
          "Finance",
          "Finance",
          "Finance",
          "Finance",
          "Finance",
          "Finance",
          "Finance",
          "Finance",
          "Finance",
          "Finance",
          "Finance",
          "Finance",
          "Finance"
         ],
         "x0": " ",
         "xaxis": "x",
         "y": [
          650,
          18000000,
          17500000,
          150,
          12500000,
          11500000,
          10000000,
          1050.5,
          36500000,
          20000000,
          150,
          37500000,
          1550,
          150,
          2000000,
          750,
          2000000,
          350,
          14500000,
          150,
          1250,
          37500000,
          22500000,
          3000000,
          13500000,
          150,
          10000000,
          150,
          17000000,
          2500000,
          12500000,
          17500000,
          16500000,
          1500,
          17500000,
          17500000,
          15000000,
          5000000,
          5000000,
          20500000,
          150,
          150,
          150
         ],
         "y0": " ",
         "yaxis": "y"
        },
        {
         "alignmentgroup": "True",
         "hovertemplate": "Loại công việc=%{x}<br>Mức lương (VND/USD)=%{y}<extra></extra>",
         "legendgroup": "Administrative",
         "marker": {
          "color": "#FF97FF"
         },
         "name": "Administrative",
         "notched": false,
         "offsetgroup": "Administrative",
         "orientation": "v",
         "showlegend": true,
         "type": "box",
         "x": [
          "Administrative",
          "Administrative",
          "Administrative",
          "Administrative",
          "Administrative",
          "Administrative",
          "Administrative",
          "Administrative",
          "Administrative",
          "Administrative",
          "Administrative",
          "Administrative",
          "Administrative",
          "Administrative",
          "Administrative"
         ],
         "x0": " ",
         "xaxis": "x",
         "y": [
          8500000,
          7500000,
          7500000,
          12500000,
          150,
          2000000,
          10000000,
          10500000,
          13500000,
          250,
          27500000,
          1000000,
          7000000,
          2500000,
          150
         ],
         "y0": " ",
         "yaxis": "y"
        },
        {
         "alignmentgroup": "True",
         "hovertemplate": "Loại công việc=%{x}<br>Mức lương (VND/USD)=%{y}<extra></extra>",
         "legendgroup": "Consulting",
         "marker": {
          "color": "#FECB52"
         },
         "name": "Consulting",
         "notched": false,
         "offsetgroup": "Consulting",
         "orientation": "v",
         "showlegend": true,
         "type": "box",
         "x": [
          "Consulting",
          "Consulting",
          "Consulting",
          "Consulting",
          "Consulting",
          "Consulting",
          "Consulting",
          "Consulting",
          "Consulting",
          "Consulting",
          "Consulting",
          "Consulting",
          "Consulting"
         ],
         "x0": " ",
         "xaxis": "x",
         "y": [
          15000000,
          1500,
          700,
          10500000,
          8500000,
          11000000,
          650,
          650,
          150,
          9000000,
          17500000,
          27500000,
          20000000
         ],
         "y0": " ",
         "yaxis": "y"
        },
        {
         "alignmentgroup": "True",
         "hovertemplate": "Loại công việc=%{x}<br>Mức lương (VND/USD)=%{y}<extra></extra>",
         "legendgroup": "Operations",
         "marker": {
          "color": "#636efa"
         },
         "name": "Operations",
         "notched": false,
         "offsetgroup": "Operations",
         "orientation": "v",
         "showlegend": true,
         "type": "box",
         "x": [
          "Operations",
          "Operations",
          "Operations",
          "Operations",
          "Operations",
          "Operations",
          "Operations",
          "Operations",
          "Operations",
          "Operations",
          "Operations",
          "Operations",
          "Operations",
          "Operations",
          "Operations",
          "Operations",
          "Operations",
          "Operations",
          "Operations",
          "Operations",
          "Operations",
          "Operations",
          "Operations",
          "Operations",
          "Operations"
         ],
         "x0": " ",
         "xaxis": "x",
         "y": [
          7000000,
          50000000,
          3500,
          150,
          24500000,
          30000000,
          16000000,
          9000000,
          17500000,
          16000000,
          150,
          150,
          10000000,
          14500000,
          5000000,
          12500000,
          13500000,
          27500000,
          13500000,
          13500000,
          1750,
          13500000,
          14000000,
          1050.5,
          20000000
         ],
         "y0": " ",
         "yaxis": "y"
        },
        {
         "alignmentgroup": "True",
         "hovertemplate": "Loại công việc=%{x}<br>Mức lương (VND/USD)=%{y}<extra></extra>",
         "legendgroup": "Human Resource",
         "marker": {
          "color": "#EF553B"
         },
         "name": "Human Resource",
         "notched": false,
         "offsetgroup": "Human Resource",
         "orientation": "v",
         "showlegend": true,
         "type": "box",
         "x": [
          "Human Resource",
          "Human Resource",
          "Human Resource",
          "Human Resource",
          "Human Resource",
          "Human Resource",
          "Human Resource",
          "Human Resource",
          "Human Resource",
          "Human Resource",
          "Human Resource",
          "Human Resource",
          "Human Resource",
          "Human Resource",
          "Human Resource",
          "Human Resource",
          "Human Resource",
          "Human Resource",
          "Human Resource",
          "Human Resource",
          "Human Resource",
          "Human Resource",
          "Human Resource",
          "Human Resource",
          "Human Resource",
          "Human Resource",
          "Human Resource",
          "Human Resource",
          "Human Resource",
          "Human Resource",
          "Human Resource",
          "Human Resource",
          "Human Resource",
          "Human Resource",
          "Human Resource",
          "Human Resource",
          "Human Resource",
          "Human Resource",
          "Human Resource",
          "Human Resource",
          "Human Resource",
          "Human Resource",
          "Human Resource",
          "Human Resource",
          "Human Resource",
          "Human Resource",
          "Human Resource",
          "Human Resource",
          "Human Resource",
          "Human Resource",
          "Human Resource",
          "Human Resource"
         ],
         "x0": " ",
         "xaxis": "x",
         "y": [
          17500000,
          50000000,
          2000000,
          65000000,
          2500000,
          6500000,
          15000000,
          14500000,
          15000000,
          8000000,
          7000000,
          16500000,
          3000000,
          3000000,
          13500000,
          150,
          3000000,
          3000000,
          16000000,
          15000000,
          18000000,
          12000000,
          15000000,
          18500000,
          12000000,
          12000000,
          18000000,
          20000000,
          750,
          15000000,
          1400,
          10500000,
          3000000,
          4000000,
          21500000,
          11500000,
          8500000,
          150,
          16500000,
          3750000,
          3500000,
          9500000,
          9000000,
          150,
          2000,
          15000000,
          800,
          150,
          150,
          730,
          150,
          20000000
         ],
         "y0": " ",
         "yaxis": "y"
        },
        {
         "alignmentgroup": "True",
         "hovertemplate": "Loại công việc=%{x}<br>Mức lương (VND/USD)=%{y}<extra></extra>",
         "legendgroup": "Management",
         "marker": {
          "color": "#00cc96"
         },
         "name": "Management",
         "notched": false,
         "offsetgroup": "Management",
         "orientation": "v",
         "showlegend": true,
         "type": "box",
         "x": [
          "Management",
          "Management",
          "Management",
          "Management",
          "Management",
          "Management",
          "Management",
          "Management",
          "Management"
         ],
         "x0": " ",
         "xaxis": "x",
         "y": [
          150,
          11500000,
          20000000,
          150,
          47500000,
          850,
          1750,
          17500000,
          700
         ],
         "y0": " ",
         "yaxis": "y"
        },
        {
         "alignmentgroup": "True",
         "hovertemplate": "Loại công việc=%{x}<br>Mức lương (VND/USD)=%{y}<extra></extra>",
         "legendgroup": "Media & Communications",
         "marker": {
          "color": "#ab63fa"
         },
         "name": "Media & Communications",
         "notched": false,
         "offsetgroup": "Media & Communications",
         "orientation": "v",
         "showlegend": true,
         "type": "box",
         "x": [
          "Media & Communications",
          "Media & Communications",
          "Media & Communications",
          "Media & Communications",
          "Media & Communications",
          "Media & Communications",
          "Media & Communications",
          "Media & Communications",
          "Media & Communications",
          "Media & Communications",
          "Media & Communications",
          "Media & Communications",
          "Media & Communications",
          "Media & Communications",
          "Media & Communications",
          "Media & Communications"
         ],
         "x0": " ",
         "xaxis": "x",
         "y": [
          132500000,
          700,
          80000000,
          150,
          12000050,
          1850,
          600,
          17500000,
          30000000,
          25000000,
          12500000,
          11500000,
          4000000,
          150,
          27500000,
          12000000
         ],
         "y0": " ",
         "yaxis": "y"
        },
        {
         "alignmentgroup": "True",
         "hovertemplate": "Loại công việc=%{x}<br>Mức lương (VND/USD)=%{y}<extra></extra>",
         "legendgroup": "Design",
         "marker": {
          "color": "#FFA15A"
         },
         "name": "Design",
         "notched": false,
         "offsetgroup": "Design",
         "orientation": "v",
         "showlegend": true,
         "type": "box",
         "x": [
          "Design",
          "Design",
          "Design",
          "Design",
          "Design",
          "Design",
          "Design",
          "Design",
          "Design",
          "Design",
          "Design",
          "Design",
          "Design",
          "Design",
          "Design",
          "Design",
          "Design",
          "Design",
          "Design",
          "Design",
          "Design",
          "Design",
          "Design",
          "Design",
          "Design",
          "Design",
          "Design",
          "Design",
          "Design",
          "Design",
          "Design",
          "Design",
          "Design",
          "Design",
          "Design"
         ],
         "x0": " ",
         "xaxis": "x",
         "y": [
          1250,
          1250,
          1400,
          17500000,
          150,
          15000000,
          25000000,
          22500000,
          18500000,
          1300,
          1500,
          2250,
          1800,
          50000000,
          22500000,
          2000,
          10000000,
          40000000,
          150,
          12500000,
          2500000,
          2000,
          850,
          2000,
          4000000,
          18500000,
          20000000,
          700,
          30000000,
          25000000,
          25000000,
          25000000,
          750,
          150,
          1700
         ],
         "y0": " ",
         "yaxis": "y"
        },
        {
         "alignmentgroup": "True",
         "hovertemplate": "Loại công việc=%{x}<br>Mức lương (VND/USD)=%{y}<extra></extra>",
         "legendgroup": "Education",
         "marker": {
          "color": "#19d3f3"
         },
         "name": "Education",
         "notched": false,
         "offsetgroup": "Education",
         "orientation": "v",
         "showlegend": true,
         "type": "box",
         "x": [
          "Education",
          "Education",
          "Education",
          "Education",
          "Education",
          "Education",
          "Education",
          "Education",
          "Education",
          "Education",
          "Education",
          "Education",
          "Education",
          "Education",
          "Education",
          "Education",
          "Education",
          "Education",
          "Education",
          "Education",
          "Education",
          "Education",
          "Education",
          "Education",
          "Education",
          "Education"
         ],
         "x0": " ",
         "xaxis": "x",
         "y": [
          8500000,
          8500000,
          12000000,
          10000000,
          25000000,
          8500000,
          3000000,
          1500000,
          6000000,
          6000000,
          4000000,
          8500000,
          3000000,
          29000000,
          29000000,
          29000000,
          29000000,
          29000000,
          14000000,
          14000000,
          25,
          14000000,
          26.5,
          9000000,
          20000000,
          15
         ],
         "y0": " ",
         "yaxis": "y"
        },
        {
         "alignmentgroup": "True",
         "hovertemplate": "Loại công việc=%{x}<br>Mức lương (VND/USD)=%{y}<extra></extra>",
         "legendgroup": "Language and Translation",
         "marker": {
          "color": "#FF6692"
         },
         "name": "Language and Translation",
         "notched": false,
         "offsetgroup": "Language and Translation",
         "orientation": "v",
         "showlegend": true,
         "type": "box",
         "x": [
          "Language and Translation"
         ],
         "x0": " ",
         "xaxis": "x",
         "y": [
          1250
         ],
         "y0": " ",
         "yaxis": "y"
        },
        {
         "alignmentgroup": "True",
         "hovertemplate": "Loại công việc=%{x}<br>Mức lương (VND/USD)=%{y}<extra></extra>",
         "legendgroup": "Legal",
         "marker": {
          "color": "#B6E880"
         },
         "name": "Legal",
         "notched": false,
         "offsetgroup": "Legal",
         "orientation": "v",
         "showlegend": true,
         "type": "box",
         "x": [
          "Legal",
          "Legal",
          "Legal",
          "Legal"
         ],
         "x0": " ",
         "xaxis": "x",
         "y": [
          11000000,
          20000000,
          150,
          11000000
         ],
         "y0": " ",
         "yaxis": "y"
        },
        {
         "alignmentgroup": "True",
         "hovertemplate": "Loại công việc=%{x}<br>Mức lương (VND/USD)=%{y}<extra></extra>",
         "legendgroup": "Healthcare",
         "marker": {
          "color": "#FF97FF"
         },
         "name": "Healthcare",
         "notched": false,
         "offsetgroup": "Healthcare",
         "orientation": "v",
         "showlegend": true,
         "type": "box",
         "x": [
          "Healthcare",
          "Healthcare",
          "Healthcare",
          "Healthcare",
          "Healthcare",
          "Healthcare",
          "Healthcare",
          "Healthcare"
         ],
         "x0": " ",
         "xaxis": "x",
         "y": [
          750,
          150,
          11000000,
          11000000,
          11000000,
          11000000,
          16500000,
          150
         ],
         "y0": " ",
         "yaxis": "y"
        }
       ],
       "layout": {
        "boxmode": "overlay",
        "legend": {
         "title": {
          "text": "Loại công việc"
         },
         "tracegroupgap": 0
        },
        "template": {
         "data": {
          "bar": [
           {
            "error_x": {
             "color": "#2a3f5f"
            },
            "error_y": {
             "color": "#2a3f5f"
            },
            "marker": {
             "line": {
              "color": "#E5ECF6",
              "width": 0.5
             },
             "pattern": {
              "fillmode": "overlay",
              "size": 10,
              "solidity": 0.2
             }
            },
            "type": "bar"
           }
          ],
          "barpolar": [
           {
            "marker": {
             "line": {
              "color": "#E5ECF6",
              "width": 0.5
             },
             "pattern": {
              "fillmode": "overlay",
              "size": 10,
              "solidity": 0.2
             }
            },
            "type": "barpolar"
           }
          ],
          "carpet": [
           {
            "aaxis": {
             "endlinecolor": "#2a3f5f",
             "gridcolor": "white",
             "linecolor": "white",
             "minorgridcolor": "white",
             "startlinecolor": "#2a3f5f"
            },
            "baxis": {
             "endlinecolor": "#2a3f5f",
             "gridcolor": "white",
             "linecolor": "white",
             "minorgridcolor": "white",
             "startlinecolor": "#2a3f5f"
            },
            "type": "carpet"
           }
          ],
          "choropleth": [
           {
            "colorbar": {
             "outlinewidth": 0,
             "ticks": ""
            },
            "type": "choropleth"
           }
          ],
          "contour": [
           {
            "colorbar": {
             "outlinewidth": 0,
             "ticks": ""
            },
            "colorscale": [
             [
              0,
              "#0d0887"
             ],
             [
              0.1111111111111111,
              "#46039f"
             ],
             [
              0.2222222222222222,
              "#7201a8"
             ],
             [
              0.3333333333333333,
              "#9c179e"
             ],
             [
              0.4444444444444444,
              "#bd3786"
             ],
             [
              0.5555555555555556,
              "#d8576b"
             ],
             [
              0.6666666666666666,
              "#ed7953"
             ],
             [
              0.7777777777777778,
              "#fb9f3a"
             ],
             [
              0.8888888888888888,
              "#fdca26"
             ],
             [
              1,
              "#f0f921"
             ]
            ],
            "type": "contour"
           }
          ],
          "contourcarpet": [
           {
            "colorbar": {
             "outlinewidth": 0,
             "ticks": ""
            },
            "type": "contourcarpet"
           }
          ],
          "heatmap": [
           {
            "colorbar": {
             "outlinewidth": 0,
             "ticks": ""
            },
            "colorscale": [
             [
              0,
              "#0d0887"
             ],
             [
              0.1111111111111111,
              "#46039f"
             ],
             [
              0.2222222222222222,
              "#7201a8"
             ],
             [
              0.3333333333333333,
              "#9c179e"
             ],
             [
              0.4444444444444444,
              "#bd3786"
             ],
             [
              0.5555555555555556,
              "#d8576b"
             ],
             [
              0.6666666666666666,
              "#ed7953"
             ],
             [
              0.7777777777777778,
              "#fb9f3a"
             ],
             [
              0.8888888888888888,
              "#fdca26"
             ],
             [
              1,
              "#f0f921"
             ]
            ],
            "type": "heatmap"
           }
          ],
          "heatmapgl": [
           {
            "colorbar": {
             "outlinewidth": 0,
             "ticks": ""
            },
            "colorscale": [
             [
              0,
              "#0d0887"
             ],
             [
              0.1111111111111111,
              "#46039f"
             ],
             [
              0.2222222222222222,
              "#7201a8"
             ],
             [
              0.3333333333333333,
              "#9c179e"
             ],
             [
              0.4444444444444444,
              "#bd3786"
             ],
             [
              0.5555555555555556,
              "#d8576b"
             ],
             [
              0.6666666666666666,
              "#ed7953"
             ],
             [
              0.7777777777777778,
              "#fb9f3a"
             ],
             [
              0.8888888888888888,
              "#fdca26"
             ],
             [
              1,
              "#f0f921"
             ]
            ],
            "type": "heatmapgl"
           }
          ],
          "histogram": [
           {
            "marker": {
             "pattern": {
              "fillmode": "overlay",
              "size": 10,
              "solidity": 0.2
             }
            },
            "type": "histogram"
           }
          ],
          "histogram2d": [
           {
            "colorbar": {
             "outlinewidth": 0,
             "ticks": ""
            },
            "colorscale": [
             [
              0,
              "#0d0887"
             ],
             [
              0.1111111111111111,
              "#46039f"
             ],
             [
              0.2222222222222222,
              "#7201a8"
             ],
             [
              0.3333333333333333,
              "#9c179e"
             ],
             [
              0.4444444444444444,
              "#bd3786"
             ],
             [
              0.5555555555555556,
              "#d8576b"
             ],
             [
              0.6666666666666666,
              "#ed7953"
             ],
             [
              0.7777777777777778,
              "#fb9f3a"
             ],
             [
              0.8888888888888888,
              "#fdca26"
             ],
             [
              1,
              "#f0f921"
             ]
            ],
            "type": "histogram2d"
           }
          ],
          "histogram2dcontour": [
           {
            "colorbar": {
             "outlinewidth": 0,
             "ticks": ""
            },
            "colorscale": [
             [
              0,
              "#0d0887"
             ],
             [
              0.1111111111111111,
              "#46039f"
             ],
             [
              0.2222222222222222,
              "#7201a8"
             ],
             [
              0.3333333333333333,
              "#9c179e"
             ],
             [
              0.4444444444444444,
              "#bd3786"
             ],
             [
              0.5555555555555556,
              "#d8576b"
             ],
             [
              0.6666666666666666,
              "#ed7953"
             ],
             [
              0.7777777777777778,
              "#fb9f3a"
             ],
             [
              0.8888888888888888,
              "#fdca26"
             ],
             [
              1,
              "#f0f921"
             ]
            ],
            "type": "histogram2dcontour"
           }
          ],
          "mesh3d": [
           {
            "colorbar": {
             "outlinewidth": 0,
             "ticks": ""
            },
            "type": "mesh3d"
           }
          ],
          "parcoords": [
           {
            "line": {
             "colorbar": {
              "outlinewidth": 0,
              "ticks": ""
             }
            },
            "type": "parcoords"
           }
          ],
          "pie": [
           {
            "automargin": true,
            "type": "pie"
           }
          ],
          "scatter": [
           {
            "fillpattern": {
             "fillmode": "overlay",
             "size": 10,
             "solidity": 0.2
            },
            "type": "scatter"
           }
          ],
          "scatter3d": [
           {
            "line": {
             "colorbar": {
              "outlinewidth": 0,
              "ticks": ""
             }
            },
            "marker": {
             "colorbar": {
              "outlinewidth": 0,
              "ticks": ""
             }
            },
            "type": "scatter3d"
           }
          ],
          "scattercarpet": [
           {
            "marker": {
             "colorbar": {
              "outlinewidth": 0,
              "ticks": ""
             }
            },
            "type": "scattercarpet"
           }
          ],
          "scattergeo": [
           {
            "marker": {
             "colorbar": {
              "outlinewidth": 0,
              "ticks": ""
             }
            },
            "type": "scattergeo"
           }
          ],
          "scattergl": [
           {
            "marker": {
             "colorbar": {
              "outlinewidth": 0,
              "ticks": ""
             }
            },
            "type": "scattergl"
           }
          ],
          "scattermapbox": [
           {
            "marker": {
             "colorbar": {
              "outlinewidth": 0,
              "ticks": ""
             }
            },
            "type": "scattermapbox"
           }
          ],
          "scatterpolar": [
           {
            "marker": {
             "colorbar": {
              "outlinewidth": 0,
              "ticks": ""
             }
            },
            "type": "scatterpolar"
           }
          ],
          "scatterpolargl": [
           {
            "marker": {
             "colorbar": {
              "outlinewidth": 0,
              "ticks": ""
             }
            },
            "type": "scatterpolargl"
           }
          ],
          "scatterternary": [
           {
            "marker": {
             "colorbar": {
              "outlinewidth": 0,
              "ticks": ""
             }
            },
            "type": "scatterternary"
           }
          ],
          "surface": [
           {
            "colorbar": {
             "outlinewidth": 0,
             "ticks": ""
            },
            "colorscale": [
             [
              0,
              "#0d0887"
             ],
             [
              0.1111111111111111,
              "#46039f"
             ],
             [
              0.2222222222222222,
              "#7201a8"
             ],
             [
              0.3333333333333333,
              "#9c179e"
             ],
             [
              0.4444444444444444,
              "#bd3786"
             ],
             [
              0.5555555555555556,
              "#d8576b"
             ],
             [
              0.6666666666666666,
              "#ed7953"
             ],
             [
              0.7777777777777778,
              "#fb9f3a"
             ],
             [
              0.8888888888888888,
              "#fdca26"
             ],
             [
              1,
              "#f0f921"
             ]
            ],
            "type": "surface"
           }
          ],
          "table": [
           {
            "cells": {
             "fill": {
              "color": "#EBF0F8"
             },
             "line": {
              "color": "white"
             }
            },
            "header": {
             "fill": {
              "color": "#C8D4E3"
             },
             "line": {
              "color": "white"
             }
            },
            "type": "table"
           }
          ]
         },
         "layout": {
          "annotationdefaults": {
           "arrowcolor": "#2a3f5f",
           "arrowhead": 0,
           "arrowwidth": 1
          },
          "autotypenumbers": "strict",
          "coloraxis": {
           "colorbar": {
            "outlinewidth": 0,
            "ticks": ""
           }
          },
          "colorscale": {
           "diverging": [
            [
             0,
             "#8e0152"
            ],
            [
             0.1,
             "#c51b7d"
            ],
            [
             0.2,
             "#de77ae"
            ],
            [
             0.3,
             "#f1b6da"
            ],
            [
             0.4,
             "#fde0ef"
            ],
            [
             0.5,
             "#f7f7f7"
            ],
            [
             0.6,
             "#e6f5d0"
            ],
            [
             0.7,
             "#b8e186"
            ],
            [
             0.8,
             "#7fbc41"
            ],
            [
             0.9,
             "#4d9221"
            ],
            [
             1,
             "#276419"
            ]
           ],
           "sequential": [
            [
             0,
             "#0d0887"
            ],
            [
             0.1111111111111111,
             "#46039f"
            ],
            [
             0.2222222222222222,
             "#7201a8"
            ],
            [
             0.3333333333333333,
             "#9c179e"
            ],
            [
             0.4444444444444444,
             "#bd3786"
            ],
            [
             0.5555555555555556,
             "#d8576b"
            ],
            [
             0.6666666666666666,
             "#ed7953"
            ],
            [
             0.7777777777777778,
             "#fb9f3a"
            ],
            [
             0.8888888888888888,
             "#fdca26"
            ],
            [
             1,
             "#f0f921"
            ]
           ],
           "sequentialminus": [
            [
             0,
             "#0d0887"
            ],
            [
             0.1111111111111111,
             "#46039f"
            ],
            [
             0.2222222222222222,
             "#7201a8"
            ],
            [
             0.3333333333333333,
             "#9c179e"
            ],
            [
             0.4444444444444444,
             "#bd3786"
            ],
            [
             0.5555555555555556,
             "#d8576b"
            ],
            [
             0.6666666666666666,
             "#ed7953"
            ],
            [
             0.7777777777777778,
             "#fb9f3a"
            ],
            [
             0.8888888888888888,
             "#fdca26"
            ],
            [
             1,
             "#f0f921"
            ]
           ]
          },
          "colorway": [
           "#636efa",
           "#EF553B",
           "#00cc96",
           "#ab63fa",
           "#FFA15A",
           "#19d3f3",
           "#FF6692",
           "#B6E880",
           "#FF97FF",
           "#FECB52"
          ],
          "font": {
           "color": "#2a3f5f"
          },
          "geo": {
           "bgcolor": "white",
           "lakecolor": "white",
           "landcolor": "#E5ECF6",
           "showlakes": true,
           "showland": true,
           "subunitcolor": "white"
          },
          "hoverlabel": {
           "align": "left"
          },
          "hovermode": "closest",
          "mapbox": {
           "style": "light"
          },
          "paper_bgcolor": "white",
          "plot_bgcolor": "#E5ECF6",
          "polar": {
           "angularaxis": {
            "gridcolor": "white",
            "linecolor": "white",
            "ticks": ""
           },
           "bgcolor": "#E5ECF6",
           "radialaxis": {
            "gridcolor": "white",
            "linecolor": "white",
            "ticks": ""
           }
          },
          "scene": {
           "xaxis": {
            "backgroundcolor": "#E5ECF6",
            "gridcolor": "white",
            "gridwidth": 2,
            "linecolor": "white",
            "showbackground": true,
            "ticks": "",
            "zerolinecolor": "white"
           },
           "yaxis": {
            "backgroundcolor": "#E5ECF6",
            "gridcolor": "white",
            "gridwidth": 2,
            "linecolor": "white",
            "showbackground": true,
            "ticks": "",
            "zerolinecolor": "white"
           },
           "zaxis": {
            "backgroundcolor": "#E5ECF6",
            "gridcolor": "white",
            "gridwidth": 2,
            "linecolor": "white",
            "showbackground": true,
            "ticks": "",
            "zerolinecolor": "white"
           }
          },
          "shapedefaults": {
           "line": {
            "color": "#2a3f5f"
           }
          },
          "ternary": {
           "aaxis": {
            "gridcolor": "white",
            "linecolor": "white",
            "ticks": ""
           },
           "baxis": {
            "gridcolor": "white",
            "linecolor": "white",
            "ticks": ""
           },
           "bgcolor": "#E5ECF6",
           "caxis": {
            "gridcolor": "white",
            "linecolor": "white",
            "ticks": ""
           }
          },
          "title": {
           "x": 0.05
          },
          "xaxis": {
           "automargin": true,
           "gridcolor": "white",
           "linecolor": "white",
           "ticks": "",
           "title": {
            "standoff": 15
           },
           "zerolinecolor": "white",
           "zerolinewidth": 2
          },
          "yaxis": {
           "automargin": true,
           "gridcolor": "white",
           "linecolor": "white",
           "ticks": "",
           "title": {
            "standoff": 15
           },
           "zerolinecolor": "white",
           "zerolinewidth": 2
          }
         }
        },
        "title": {
         "text": "Phân phối mức lương theo vị trí"
        },
        "xaxis": {
         "anchor": "y",
         "categoryarray": [
          "Software Engineering",
          "Product Management",
          "Business Development / Sales",
          "Data Science",
          "Engineering",
          "Marketing",
          "Other",
          "Finance",
          "Administrative",
          "Consulting",
          "Operations",
          "Human Resource",
          "Management",
          "Media & Communications",
          "Design",
          "Education",
          "Language and Translation",
          "Legal",
          "Healthcare"
         ],
         "categoryorder": "array",
         "domain": [
          0,
          1
         ],
         "title": {
          "text": "Loại công việc"
         }
        },
        "yaxis": {
         "anchor": "x",
         "domain": [
          0,
          1
         ],
         "title": {
          "text": "Mức lương (VND/USD)"
         }
        }
       }
      }
     },
     "metadata": {},
     "output_type": "display_data"
    },
    {
     "data": {
      "application/vnd.plotly.v1+json": {
       "config": {
        "plotlyServerURL": "https://plot.ly"
       },
       "data": [
        {
         "domain": {
          "x": [
           0,
           1
          ],
          "y": [
           0,
           1
          ]
         },
         "hole": 0.3,
         "hovertemplate": "experience=%{label}<br>count=%{value}<extra></extra>",
         "labels": [
          "1 - 3 năm kinh nghiệm",
          "Dưới một năm kinh nghiệm",
          "3 - 5 năm kinh nghiệm",
          "5 - 10 năm kinh nghiệm",
          "Hơn 10 năm kinh nghiệm",
          "Việc làm fulltime"
         ],
         "legendgroup": "",
         "name": "",
         "showlegend": true,
         "type": "pie",
         "values": [
          508,
          243,
          233,
          65,
          5,
          2
         ]
        }
       ],
       "layout": {
        "legend": {
         "tracegroupgap": 0
        },
        "template": {
         "data": {
          "bar": [
           {
            "error_x": {
             "color": "#2a3f5f"
            },
            "error_y": {
             "color": "#2a3f5f"
            },
            "marker": {
             "line": {
              "color": "#E5ECF6",
              "width": 0.5
             },
             "pattern": {
              "fillmode": "overlay",
              "size": 10,
              "solidity": 0.2
             }
            },
            "type": "bar"
           }
          ],
          "barpolar": [
           {
            "marker": {
             "line": {
              "color": "#E5ECF6",
              "width": 0.5
             },
             "pattern": {
              "fillmode": "overlay",
              "size": 10,
              "solidity": 0.2
             }
            },
            "type": "barpolar"
           }
          ],
          "carpet": [
           {
            "aaxis": {
             "endlinecolor": "#2a3f5f",
             "gridcolor": "white",
             "linecolor": "white",
             "minorgridcolor": "white",
             "startlinecolor": "#2a3f5f"
            },
            "baxis": {
             "endlinecolor": "#2a3f5f",
             "gridcolor": "white",
             "linecolor": "white",
             "minorgridcolor": "white",
             "startlinecolor": "#2a3f5f"
            },
            "type": "carpet"
           }
          ],
          "choropleth": [
           {
            "colorbar": {
             "outlinewidth": 0,
             "ticks": ""
            },
            "type": "choropleth"
           }
          ],
          "contour": [
           {
            "colorbar": {
             "outlinewidth": 0,
             "ticks": ""
            },
            "colorscale": [
             [
              0,
              "#0d0887"
             ],
             [
              0.1111111111111111,
              "#46039f"
             ],
             [
              0.2222222222222222,
              "#7201a8"
             ],
             [
              0.3333333333333333,
              "#9c179e"
             ],
             [
              0.4444444444444444,
              "#bd3786"
             ],
             [
              0.5555555555555556,
              "#d8576b"
             ],
             [
              0.6666666666666666,
              "#ed7953"
             ],
             [
              0.7777777777777778,
              "#fb9f3a"
             ],
             [
              0.8888888888888888,
              "#fdca26"
             ],
             [
              1,
              "#f0f921"
             ]
            ],
            "type": "contour"
           }
          ],
          "contourcarpet": [
           {
            "colorbar": {
             "outlinewidth": 0,
             "ticks": ""
            },
            "type": "contourcarpet"
           }
          ],
          "heatmap": [
           {
            "colorbar": {
             "outlinewidth": 0,
             "ticks": ""
            },
            "colorscale": [
             [
              0,
              "#0d0887"
             ],
             [
              0.1111111111111111,
              "#46039f"
             ],
             [
              0.2222222222222222,
              "#7201a8"
             ],
             [
              0.3333333333333333,
              "#9c179e"
             ],
             [
              0.4444444444444444,
              "#bd3786"
             ],
             [
              0.5555555555555556,
              "#d8576b"
             ],
             [
              0.6666666666666666,
              "#ed7953"
             ],
             [
              0.7777777777777778,
              "#fb9f3a"
             ],
             [
              0.8888888888888888,
              "#fdca26"
             ],
             [
              1,
              "#f0f921"
             ]
            ],
            "type": "heatmap"
           }
          ],
          "heatmapgl": [
           {
            "colorbar": {
             "outlinewidth": 0,
             "ticks": ""
            },
            "colorscale": [
             [
              0,
              "#0d0887"
             ],
             [
              0.1111111111111111,
              "#46039f"
             ],
             [
              0.2222222222222222,
              "#7201a8"
             ],
             [
              0.3333333333333333,
              "#9c179e"
             ],
             [
              0.4444444444444444,
              "#bd3786"
             ],
             [
              0.5555555555555556,
              "#d8576b"
             ],
             [
              0.6666666666666666,
              "#ed7953"
             ],
             [
              0.7777777777777778,
              "#fb9f3a"
             ],
             [
              0.8888888888888888,
              "#fdca26"
             ],
             [
              1,
              "#f0f921"
             ]
            ],
            "type": "heatmapgl"
           }
          ],
          "histogram": [
           {
            "marker": {
             "pattern": {
              "fillmode": "overlay",
              "size": 10,
              "solidity": 0.2
             }
            },
            "type": "histogram"
           }
          ],
          "histogram2d": [
           {
            "colorbar": {
             "outlinewidth": 0,
             "ticks": ""
            },
            "colorscale": [
             [
              0,
              "#0d0887"
             ],
             [
              0.1111111111111111,
              "#46039f"
             ],
             [
              0.2222222222222222,
              "#7201a8"
             ],
             [
              0.3333333333333333,
              "#9c179e"
             ],
             [
              0.4444444444444444,
              "#bd3786"
             ],
             [
              0.5555555555555556,
              "#d8576b"
             ],
             [
              0.6666666666666666,
              "#ed7953"
             ],
             [
              0.7777777777777778,
              "#fb9f3a"
             ],
             [
              0.8888888888888888,
              "#fdca26"
             ],
             [
              1,
              "#f0f921"
             ]
            ],
            "type": "histogram2d"
           }
          ],
          "histogram2dcontour": [
           {
            "colorbar": {
             "outlinewidth": 0,
             "ticks": ""
            },
            "colorscale": [
             [
              0,
              "#0d0887"
             ],
             [
              0.1111111111111111,
              "#46039f"
             ],
             [
              0.2222222222222222,
              "#7201a8"
             ],
             [
              0.3333333333333333,
              "#9c179e"
             ],
             [
              0.4444444444444444,
              "#bd3786"
             ],
             [
              0.5555555555555556,
              "#d8576b"
             ],
             [
              0.6666666666666666,
              "#ed7953"
             ],
             [
              0.7777777777777778,
              "#fb9f3a"
             ],
             [
              0.8888888888888888,
              "#fdca26"
             ],
             [
              1,
              "#f0f921"
             ]
            ],
            "type": "histogram2dcontour"
           }
          ],
          "mesh3d": [
           {
            "colorbar": {
             "outlinewidth": 0,
             "ticks": ""
            },
            "type": "mesh3d"
           }
          ],
          "parcoords": [
           {
            "line": {
             "colorbar": {
              "outlinewidth": 0,
              "ticks": ""
             }
            },
            "type": "parcoords"
           }
          ],
          "pie": [
           {
            "automargin": true,
            "type": "pie"
           }
          ],
          "scatter": [
           {
            "fillpattern": {
             "fillmode": "overlay",
             "size": 10,
             "solidity": 0.2
            },
            "type": "scatter"
           }
          ],
          "scatter3d": [
           {
            "line": {
             "colorbar": {
              "outlinewidth": 0,
              "ticks": ""
             }
            },
            "marker": {
             "colorbar": {
              "outlinewidth": 0,
              "ticks": ""
             }
            },
            "type": "scatter3d"
           }
          ],
          "scattercarpet": [
           {
            "marker": {
             "colorbar": {
              "outlinewidth": 0,
              "ticks": ""
             }
            },
            "type": "scattercarpet"
           }
          ],
          "scattergeo": [
           {
            "marker": {
             "colorbar": {
              "outlinewidth": 0,
              "ticks": ""
             }
            },
            "type": "scattergeo"
           }
          ],
          "scattergl": [
           {
            "marker": {
             "colorbar": {
              "outlinewidth": 0,
              "ticks": ""
             }
            },
            "type": "scattergl"
           }
          ],
          "scattermapbox": [
           {
            "marker": {
             "colorbar": {
              "outlinewidth": 0,
              "ticks": ""
             }
            },
            "type": "scattermapbox"
           }
          ],
          "scatterpolar": [
           {
            "marker": {
             "colorbar": {
              "outlinewidth": 0,
              "ticks": ""
             }
            },
            "type": "scatterpolar"
           }
          ],
          "scatterpolargl": [
           {
            "marker": {
             "colorbar": {
              "outlinewidth": 0,
              "ticks": ""
             }
            },
            "type": "scatterpolargl"
           }
          ],
          "scatterternary": [
           {
            "marker": {
             "colorbar": {
              "outlinewidth": 0,
              "ticks": ""
             }
            },
            "type": "scatterternary"
           }
          ],
          "surface": [
           {
            "colorbar": {
             "outlinewidth": 0,
             "ticks": ""
            },
            "colorscale": [
             [
              0,
              "#0d0887"
             ],
             [
              0.1111111111111111,
              "#46039f"
             ],
             [
              0.2222222222222222,
              "#7201a8"
             ],
             [
              0.3333333333333333,
              "#9c179e"
             ],
             [
              0.4444444444444444,
              "#bd3786"
             ],
             [
              0.5555555555555556,
              "#d8576b"
             ],
             [
              0.6666666666666666,
              "#ed7953"
             ],
             [
              0.7777777777777778,
              "#fb9f3a"
             ],
             [
              0.8888888888888888,
              "#fdca26"
             ],
             [
              1,
              "#f0f921"
             ]
            ],
            "type": "surface"
           }
          ],
          "table": [
           {
            "cells": {
             "fill": {
              "color": "#EBF0F8"
             },
             "line": {
              "color": "white"
             }
            },
            "header": {
             "fill": {
              "color": "#C8D4E3"
             },
             "line": {
              "color": "white"
             }
            },
            "type": "table"
           }
          ]
         },
         "layout": {
          "annotationdefaults": {
           "arrowcolor": "#2a3f5f",
           "arrowhead": 0,
           "arrowwidth": 1
          },
          "autotypenumbers": "strict",
          "coloraxis": {
           "colorbar": {
            "outlinewidth": 0,
            "ticks": ""
           }
          },
          "colorscale": {
           "diverging": [
            [
             0,
             "#8e0152"
            ],
            [
             0.1,
             "#c51b7d"
            ],
            [
             0.2,
             "#de77ae"
            ],
            [
             0.3,
             "#f1b6da"
            ],
            [
             0.4,
             "#fde0ef"
            ],
            [
             0.5,
             "#f7f7f7"
            ],
            [
             0.6,
             "#e6f5d0"
            ],
            [
             0.7,
             "#b8e186"
            ],
            [
             0.8,
             "#7fbc41"
            ],
            [
             0.9,
             "#4d9221"
            ],
            [
             1,
             "#276419"
            ]
           ],
           "sequential": [
            [
             0,
             "#0d0887"
            ],
            [
             0.1111111111111111,
             "#46039f"
            ],
            [
             0.2222222222222222,
             "#7201a8"
            ],
            [
             0.3333333333333333,
             "#9c179e"
            ],
            [
             0.4444444444444444,
             "#bd3786"
            ],
            [
             0.5555555555555556,
             "#d8576b"
            ],
            [
             0.6666666666666666,
             "#ed7953"
            ],
            [
             0.7777777777777778,
             "#fb9f3a"
            ],
            [
             0.8888888888888888,
             "#fdca26"
            ],
            [
             1,
             "#f0f921"
            ]
           ],
           "sequentialminus": [
            [
             0,
             "#0d0887"
            ],
            [
             0.1111111111111111,
             "#46039f"
            ],
            [
             0.2222222222222222,
             "#7201a8"
            ],
            [
             0.3333333333333333,
             "#9c179e"
            ],
            [
             0.4444444444444444,
             "#bd3786"
            ],
            [
             0.5555555555555556,
             "#d8576b"
            ],
            [
             0.6666666666666666,
             "#ed7953"
            ],
            [
             0.7777777777777778,
             "#fb9f3a"
            ],
            [
             0.8888888888888888,
             "#fdca26"
            ],
            [
             1,
             "#f0f921"
            ]
           ]
          },
          "colorway": [
           "#636efa",
           "#EF553B",
           "#00cc96",
           "#ab63fa",
           "#FFA15A",
           "#19d3f3",
           "#FF6692",
           "#B6E880",
           "#FF97FF",
           "#FECB52"
          ],
          "font": {
           "color": "#2a3f5f"
          },
          "geo": {
           "bgcolor": "white",
           "lakecolor": "white",
           "landcolor": "#E5ECF6",
           "showlakes": true,
           "showland": true,
           "subunitcolor": "white"
          },
          "hoverlabel": {
           "align": "left"
          },
          "hovermode": "closest",
          "mapbox": {
           "style": "light"
          },
          "paper_bgcolor": "white",
          "plot_bgcolor": "#E5ECF6",
          "polar": {
           "angularaxis": {
            "gridcolor": "white",
            "linecolor": "white",
            "ticks": ""
           },
           "bgcolor": "#E5ECF6",
           "radialaxis": {
            "gridcolor": "white",
            "linecolor": "white",
            "ticks": ""
           }
          },
          "scene": {
           "xaxis": {
            "backgroundcolor": "#E5ECF6",
            "gridcolor": "white",
            "gridwidth": 2,
            "linecolor": "white",
            "showbackground": true,
            "ticks": "",
            "zerolinecolor": "white"
           },
           "yaxis": {
            "backgroundcolor": "#E5ECF6",
            "gridcolor": "white",
            "gridwidth": 2,
            "linecolor": "white",
            "showbackground": true,
            "ticks": "",
            "zerolinecolor": "white"
           },
           "zaxis": {
            "backgroundcolor": "#E5ECF6",
            "gridcolor": "white",
            "gridwidth": 2,
            "linecolor": "white",
            "showbackground": true,
            "ticks": "",
            "zerolinecolor": "white"
           }
          },
          "shapedefaults": {
           "line": {
            "color": "#2a3f5f"
           }
          },
          "ternary": {
           "aaxis": {
            "gridcolor": "white",
            "linecolor": "white",
            "ticks": ""
           },
           "baxis": {
            "gridcolor": "white",
            "linecolor": "white",
            "ticks": ""
           },
           "bgcolor": "#E5ECF6",
           "caxis": {
            "gridcolor": "white",
            "linecolor": "white",
            "ticks": ""
           }
          },
          "title": {
           "x": 0.05
          },
          "xaxis": {
           "automargin": true,
           "gridcolor": "white",
           "linecolor": "white",
           "ticks": "",
           "title": {
            "standoff": 15
           },
           "zerolinecolor": "white",
           "zerolinewidth": 2
          },
          "yaxis": {
           "automargin": true,
           "gridcolor": "white",
           "linecolor": "white",
           "ticks": "",
           "title": {
            "standoff": 15
           },
           "zerolinecolor": "white",
           "zerolinewidth": 2
          }
         }
        },
        "title": {
         "text": "Phân phối yêu cầu kinh nghiệm"
        }
       }
      }
     },
     "metadata": {},
     "output_type": "display_data"
    },
    {
     "data": {
      "application/vnd.plotly.v1+json": {
       "config": {
        "plotlyServerURL": "https://plot.ly"
       },
       "data": [
        {
         "alignmentgroup": "True",
         "hovertemplate": "Địa điểm=%{x}<br>Số lượng=%{y}<extra></extra>",
         "legendgroup": "Ho Chi Minh City",
         "marker": {
          "color": "#636efa",
          "pattern": {
           "shape": ""
          }
         },
         "name": "Ho Chi Minh City",
         "offsetgroup": "Ho Chi Minh City",
         "orientation": "v",
         "showlegend": true,
         "textposition": "auto",
         "type": "bar",
         "x": [
          "Ho Chi Minh City"
         ],
         "xaxis": "x",
         "y": [
          822
         ],
         "yaxis": "y"
        },
        {
         "alignmentgroup": "True",
         "hovertemplate": "Địa điểm=%{x}<br>Số lượng=%{y}<extra></extra>",
         "legendgroup": "Hà Nội",
         "marker": {
          "color": "#EF553B",
          "pattern": {
           "shape": ""
          }
         },
         "name": "Hà Nội",
         "offsetgroup": "Hà Nội",
         "orientation": "v",
         "showlegend": true,
         "textposition": "auto",
         "type": "bar",
         "x": [
          "Hà Nội"
         ],
         "xaxis": "x",
         "y": [
          327
         ],
         "yaxis": "y"
        },
        {
         "alignmentgroup": "True",
         "hovertemplate": "Địa điểm=%{x}<br>Số lượng=%{y}<extra></extra>",
         "legendgroup": "Da Nang",
         "marker": {
          "color": "#00cc96",
          "pattern": {
           "shape": ""
          }
         },
         "name": "Da Nang",
         "offsetgroup": "Da Nang",
         "orientation": "v",
         "showlegend": true,
         "textposition": "auto",
         "type": "bar",
         "x": [
          "Da Nang"
         ],
         "xaxis": "x",
         "y": [
          15
         ],
         "yaxis": "y"
        },
        {
         "alignmentgroup": "True",
         "hovertemplate": "Địa điểm=%{x}<br>Số lượng=%{y}<extra></extra>",
         "legendgroup": "Buôn Ma Thuột",
         "marker": {
          "color": "#ab63fa",
          "pattern": {
           "shape": ""
          }
         },
         "name": "Buôn Ma Thuột",
         "offsetgroup": "Buôn Ma Thuột",
         "orientation": "v",
         "showlegend": true,
         "textposition": "auto",
         "type": "bar",
         "x": [
          "Buôn Ma Thuột"
         ],
         "xaxis": "x",
         "y": [
          8
         ],
         "yaxis": "y"
        },
        {
         "alignmentgroup": "True",
         "hovertemplate": "Địa điểm=%{x}<br>Số lượng=%{y}<extra></extra>",
         "legendgroup": "hủ Đức",
         "marker": {
          "color": "#FFA15A",
          "pattern": {
           "shape": ""
          }
         },
         "name": "hủ Đức",
         "offsetgroup": "hủ Đức",
         "orientation": "v",
         "showlegend": true,
         "textposition": "auto",
         "type": "bar",
         "x": [
          "hủ Đức"
         ],
         "xaxis": "x",
         "y": [
          5
         ],
         "yaxis": "y"
        },
        {
         "alignmentgroup": "True",
         "hovertemplate": "Địa điểm=%{x}<br>Số lượng=%{y}<extra></extra>",
         "legendgroup": "Nha Trang",
         "marker": {
          "color": "#19d3f3",
          "pattern": {
           "shape": ""
          }
         },
         "name": "Nha Trang",
         "offsetgroup": "Nha Trang",
         "orientation": "v",
         "showlegend": true,
         "textposition": "auto",
         "type": "bar",
         "x": [
          "Nha Trang"
         ],
         "xaxis": "x",
         "y": [
          4
         ],
         "yaxis": "y"
        },
        {
         "alignmentgroup": "True",
         "hovertemplate": "Địa điểm=%{x}<br>Số lượng=%{y}<extra></extra>",
         "legendgroup": "Biên Hòa",
         "marker": {
          "color": "#FF6692",
          "pattern": {
           "shape": ""
          }
         },
         "name": "Biên Hòa",
         "offsetgroup": "Biên Hòa",
         "orientation": "v",
         "showlegend": true,
         "textposition": "auto",
         "type": "bar",
         "x": [
          "Biên Hòa"
         ],
         "xaxis": "x",
         "y": [
          4
         ],
         "yaxis": "y"
        },
        {
         "alignmentgroup": "True",
         "hovertemplate": "Địa điểm=%{x}<br>Số lượng=%{y}<extra></extra>",
         "legendgroup": "Cần Thơ",
         "marker": {
          "color": "#B6E880",
          "pattern": {
           "shape": ""
          }
         },
         "name": "Cần Thơ",
         "offsetgroup": "Cần Thơ",
         "orientation": "v",
         "showlegend": true,
         "textposition": "auto",
         "type": "bar",
         "x": [
          "Cần Thơ"
         ],
         "xaxis": "x",
         "y": [
          4
         ],
         "yaxis": "y"
        },
        {
         "alignmentgroup": "True",
         "hovertemplate": "Địa điểm=%{x}<br>Số lượng=%{y}<extra></extra>",
         "legendgroup": "Quận Bình Thạnh",
         "marker": {
          "color": "#FF97FF",
          "pattern": {
           "shape": ""
          }
         },
         "name": "Quận Bình Thạnh",
         "offsetgroup": "Quận Bình Thạnh",
         "orientation": "v",
         "showlegend": true,
         "textposition": "auto",
         "type": "bar",
         "x": [
          "Quận Bình Thạnh"
         ],
         "xaxis": "x",
         "y": [
          3
         ],
         "yaxis": "y"
        },
        {
         "alignmentgroup": "True",
         "hovertemplate": "Địa điểm=%{x}<br>Số lượng=%{y}<extra></extra>",
         "legendgroup": "Bình Dương",
         "marker": {
          "color": "#FECB52",
          "pattern": {
           "shape": ""
          }
         },
         "name": "Bình Dương",
         "offsetgroup": "Bình Dương",
         "orientation": "v",
         "showlegend": true,
         "textposition": "auto",
         "type": "bar",
         "x": [
          "Bình Dương"
         ],
         "xaxis": "x",
         "y": [
          3
         ],
         "yaxis": "y"
        },
        {
         "alignmentgroup": "True",
         "hovertemplate": "Địa điểm=%{x}<br>Số lượng=%{y}<extra></extra>",
         "legendgroup": "Đắk Lắk",
         "marker": {
          "color": "#636efa",
          "pattern": {
           "shape": ""
          }
         },
         "name": "Đắk Lắk",
         "offsetgroup": "Đắk Lắk",
         "orientation": "v",
         "showlegend": true,
         "textposition": "auto",
         "type": "bar",
         "x": [
          "Đắk Lắk"
         ],
         "xaxis": "x",
         "y": [
          1
         ],
         "yaxis": "y"
        },
        {
         "alignmentgroup": "True",
         "hovertemplate": "Địa điểm=%{x}<br>Số lượng=%{y}<extra></extra>",
         "legendgroup": "Khánh Hòa",
         "marker": {
          "color": "#EF553B",
          "pattern": {
           "shape": ""
          }
         },
         "name": "Khánh Hòa",
         "offsetgroup": "Khánh Hòa",
         "orientation": "v",
         "showlegend": true,
         "textposition": "auto",
         "type": "bar",
         "x": [
          "Khánh Hòa"
         ],
         "xaxis": "x",
         "y": [
          1
         ],
         "yaxis": "y"
        },
        {
         "alignmentgroup": "True",
         "hovertemplate": "Địa điểm=%{x}<br>Số lượng=%{y}<extra></extra>",
         "legendgroup": "An Nhơn",
         "marker": {
          "color": "#00cc96",
          "pattern": {
           "shape": ""
          }
         },
         "name": "An Nhơn",
         "offsetgroup": "An Nhơn",
         "orientation": "v",
         "showlegend": true,
         "textposition": "auto",
         "type": "bar",
         "x": [
          "An Nhơn"
         ],
         "xaxis": "x",
         "y": [
          1
         ],
         "yaxis": "y"
        },
        {
         "alignmentgroup": "True",
         "hovertemplate": "Địa điểm=%{x}<br>Số lượng=%{y}<extra></extra>",
         "legendgroup": "Nhơn Trạch",
         "marker": {
          "color": "#ab63fa",
          "pattern": {
           "shape": ""
          }
         },
         "name": "Nhơn Trạch",
         "offsetgroup": "Nhơn Trạch",
         "orientation": "v",
         "showlegend": true,
         "textposition": "auto",
         "type": "bar",
         "x": [
          "Nhơn Trạch"
         ],
         "xaxis": "x",
         "y": [
          1
         ],
         "yaxis": "y"
        },
        {
         "alignmentgroup": "True",
         "hovertemplate": "Địa điểm=%{x}<br>Số lượng=%{y}<extra></extra>",
         "legendgroup": "A Lưới",
         "marker": {
          "color": "#FFA15A",
          "pattern": {
           "shape": ""
          }
         },
         "name": "A Lưới",
         "offsetgroup": "A Lưới",
         "orientation": "v",
         "showlegend": true,
         "textposition": "auto",
         "type": "bar",
         "x": [
          "A Lưới"
         ],
         "xaxis": "x",
         "y": [
          1
         ],
         "yaxis": "y"
        },
        {
         "alignmentgroup": "True",
         "hovertemplate": "Địa điểm=%{x}<br>Số lượng=%{y}<extra></extra>",
         "legendgroup": "Phan Thiết",
         "marker": {
          "color": "#19d3f3",
          "pattern": {
           "shape": ""
          }
         },
         "name": "Phan Thiết",
         "offsetgroup": "Phan Thiết",
         "orientation": "v",
         "showlegend": true,
         "textposition": "auto",
         "type": "bar",
         "x": [
          "Phan Thiết"
         ],
         "xaxis": "x",
         "y": [
          1
         ],
         "yaxis": "y"
        },
        {
         "alignmentgroup": "True",
         "hovertemplate": "Địa điểm=%{x}<br>Số lượng=%{y}<extra></extra>",
         "legendgroup": "Cầu Giấy",
         "marker": {
          "color": "#FF6692",
          "pattern": {
           "shape": ""
          }
         },
         "name": "Cầu Giấy",
         "offsetgroup": "Cầu Giấy",
         "orientation": "v",
         "showlegend": true,
         "textposition": "auto",
         "type": "bar",
         "x": [
          "Cầu Giấy"
         ],
         "xaxis": "x",
         "y": [
          1
         ],
         "yaxis": "y"
        },
        {
         "alignmentgroup": "True",
         "hovertemplate": "Địa điểm=%{x}<br>Số lượng=%{y}<extra></extra>",
         "legendgroup": "Ðà Lạt",
         "marker": {
          "color": "#B6E880",
          "pattern": {
           "shape": ""
          }
         },
         "name": "Ðà Lạt",
         "offsetgroup": "Ðà Lạt",
         "orientation": "v",
         "showlegend": true,
         "textposition": "auto",
         "type": "bar",
         "x": [
          "Ðà Lạt"
         ],
         "xaxis": "x",
         "y": [
          1
         ],
         "yaxis": "y"
        },
        {
         "alignmentgroup": "True",
         "hovertemplate": "Địa điểm=%{x}<br>Số lượng=%{y}<extra></extra>",
         "legendgroup": "Quận Bốn",
         "marker": {
          "color": "#FF97FF",
          "pattern": {
           "shape": ""
          }
         },
         "name": "Quận Bốn",
         "offsetgroup": "Quận Bốn",
         "orientation": "v",
         "showlegend": true,
         "textposition": "auto",
         "type": "bar",
         "x": [
          "Quận Bốn"
         ],
         "xaxis": "x",
         "y": [
          1
         ],
         "yaxis": "y"
        },
        {
         "alignmentgroup": "True",
         "hovertemplate": "Địa điểm=%{x}<br>Số lượng=%{y}<extra></extra>",
         "legendgroup": "Hà Nam",
         "marker": {
          "color": "#FECB52",
          "pattern": {
           "shape": ""
          }
         },
         "name": "Hà Nam",
         "offsetgroup": "Hà Nam",
         "orientation": "v",
         "showlegend": true,
         "textposition": "auto",
         "type": "bar",
         "x": [
          "Hà Nam"
         ],
         "xaxis": "x",
         "y": [
          1
         ],
         "yaxis": "y"
        },
        {
         "alignmentgroup": "True",
         "hovertemplate": "Địa điểm=%{x}<br>Số lượng=%{y}<extra></extra>",
         "legendgroup": "Hai BàTrưng",
         "marker": {
          "color": "#636efa",
          "pattern": {
           "shape": ""
          }
         },
         "name": "Hai BàTrưng",
         "offsetgroup": "Hai BàTrưng",
         "orientation": "v",
         "showlegend": true,
         "textposition": "auto",
         "type": "bar",
         "x": [
          "Hai BàTrưng"
         ],
         "xaxis": "x",
         "y": [
          1
         ],
         "yaxis": "y"
        }
       ],
       "layout": {
        "barmode": "relative",
        "legend": {
         "title": {
          "text": "Địa điểm"
         },
         "tracegroupgap": 0
        },
        "template": {
         "data": {
          "bar": [
           {
            "error_x": {
             "color": "#2a3f5f"
            },
            "error_y": {
             "color": "#2a3f5f"
            },
            "marker": {
             "line": {
              "color": "#E5ECF6",
              "width": 0.5
             },
             "pattern": {
              "fillmode": "overlay",
              "size": 10,
              "solidity": 0.2
             }
            },
            "type": "bar"
           }
          ],
          "barpolar": [
           {
            "marker": {
             "line": {
              "color": "#E5ECF6",
              "width": 0.5
             },
             "pattern": {
              "fillmode": "overlay",
              "size": 10,
              "solidity": 0.2
             }
            },
            "type": "barpolar"
           }
          ],
          "carpet": [
           {
            "aaxis": {
             "endlinecolor": "#2a3f5f",
             "gridcolor": "white",
             "linecolor": "white",
             "minorgridcolor": "white",
             "startlinecolor": "#2a3f5f"
            },
            "baxis": {
             "endlinecolor": "#2a3f5f",
             "gridcolor": "white",
             "linecolor": "white",
             "minorgridcolor": "white",
             "startlinecolor": "#2a3f5f"
            },
            "type": "carpet"
           }
          ],
          "choropleth": [
           {
            "colorbar": {
             "outlinewidth": 0,
             "ticks": ""
            },
            "type": "choropleth"
           }
          ],
          "contour": [
           {
            "colorbar": {
             "outlinewidth": 0,
             "ticks": ""
            },
            "colorscale": [
             [
              0,
              "#0d0887"
             ],
             [
              0.1111111111111111,
              "#46039f"
             ],
             [
              0.2222222222222222,
              "#7201a8"
             ],
             [
              0.3333333333333333,
              "#9c179e"
             ],
             [
              0.4444444444444444,
              "#bd3786"
             ],
             [
              0.5555555555555556,
              "#d8576b"
             ],
             [
              0.6666666666666666,
              "#ed7953"
             ],
             [
              0.7777777777777778,
              "#fb9f3a"
             ],
             [
              0.8888888888888888,
              "#fdca26"
             ],
             [
              1,
              "#f0f921"
             ]
            ],
            "type": "contour"
           }
          ],
          "contourcarpet": [
           {
            "colorbar": {
             "outlinewidth": 0,
             "ticks": ""
            },
            "type": "contourcarpet"
           }
          ],
          "heatmap": [
           {
            "colorbar": {
             "outlinewidth": 0,
             "ticks": ""
            },
            "colorscale": [
             [
              0,
              "#0d0887"
             ],
             [
              0.1111111111111111,
              "#46039f"
             ],
             [
              0.2222222222222222,
              "#7201a8"
             ],
             [
              0.3333333333333333,
              "#9c179e"
             ],
             [
              0.4444444444444444,
              "#bd3786"
             ],
             [
              0.5555555555555556,
              "#d8576b"
             ],
             [
              0.6666666666666666,
              "#ed7953"
             ],
             [
              0.7777777777777778,
              "#fb9f3a"
             ],
             [
              0.8888888888888888,
              "#fdca26"
             ],
             [
              1,
              "#f0f921"
             ]
            ],
            "type": "heatmap"
           }
          ],
          "heatmapgl": [
           {
            "colorbar": {
             "outlinewidth": 0,
             "ticks": ""
            },
            "colorscale": [
             [
              0,
              "#0d0887"
             ],
             [
              0.1111111111111111,
              "#46039f"
             ],
             [
              0.2222222222222222,
              "#7201a8"
             ],
             [
              0.3333333333333333,
              "#9c179e"
             ],
             [
              0.4444444444444444,
              "#bd3786"
             ],
             [
              0.5555555555555556,
              "#d8576b"
             ],
             [
              0.6666666666666666,
              "#ed7953"
             ],
             [
              0.7777777777777778,
              "#fb9f3a"
             ],
             [
              0.8888888888888888,
              "#fdca26"
             ],
             [
              1,
              "#f0f921"
             ]
            ],
            "type": "heatmapgl"
           }
          ],
          "histogram": [
           {
            "marker": {
             "pattern": {
              "fillmode": "overlay",
              "size": 10,
              "solidity": 0.2
             }
            },
            "type": "histogram"
           }
          ],
          "histogram2d": [
           {
            "colorbar": {
             "outlinewidth": 0,
             "ticks": ""
            },
            "colorscale": [
             [
              0,
              "#0d0887"
             ],
             [
              0.1111111111111111,
              "#46039f"
             ],
             [
              0.2222222222222222,
              "#7201a8"
             ],
             [
              0.3333333333333333,
              "#9c179e"
             ],
             [
              0.4444444444444444,
              "#bd3786"
             ],
             [
              0.5555555555555556,
              "#d8576b"
             ],
             [
              0.6666666666666666,
              "#ed7953"
             ],
             [
              0.7777777777777778,
              "#fb9f3a"
             ],
             [
              0.8888888888888888,
              "#fdca26"
             ],
             [
              1,
              "#f0f921"
             ]
            ],
            "type": "histogram2d"
           }
          ],
          "histogram2dcontour": [
           {
            "colorbar": {
             "outlinewidth": 0,
             "ticks": ""
            },
            "colorscale": [
             [
              0,
              "#0d0887"
             ],
             [
              0.1111111111111111,
              "#46039f"
             ],
             [
              0.2222222222222222,
              "#7201a8"
             ],
             [
              0.3333333333333333,
              "#9c179e"
             ],
             [
              0.4444444444444444,
              "#bd3786"
             ],
             [
              0.5555555555555556,
              "#d8576b"
             ],
             [
              0.6666666666666666,
              "#ed7953"
             ],
             [
              0.7777777777777778,
              "#fb9f3a"
             ],
             [
              0.8888888888888888,
              "#fdca26"
             ],
             [
              1,
              "#f0f921"
             ]
            ],
            "type": "histogram2dcontour"
           }
          ],
          "mesh3d": [
           {
            "colorbar": {
             "outlinewidth": 0,
             "ticks": ""
            },
            "type": "mesh3d"
           }
          ],
          "parcoords": [
           {
            "line": {
             "colorbar": {
              "outlinewidth": 0,
              "ticks": ""
             }
            },
            "type": "parcoords"
           }
          ],
          "pie": [
           {
            "automargin": true,
            "type": "pie"
           }
          ],
          "scatter": [
           {
            "fillpattern": {
             "fillmode": "overlay",
             "size": 10,
             "solidity": 0.2
            },
            "type": "scatter"
           }
          ],
          "scatter3d": [
           {
            "line": {
             "colorbar": {
              "outlinewidth": 0,
              "ticks": ""
             }
            },
            "marker": {
             "colorbar": {
              "outlinewidth": 0,
              "ticks": ""
             }
            },
            "type": "scatter3d"
           }
          ],
          "scattercarpet": [
           {
            "marker": {
             "colorbar": {
              "outlinewidth": 0,
              "ticks": ""
             }
            },
            "type": "scattercarpet"
           }
          ],
          "scattergeo": [
           {
            "marker": {
             "colorbar": {
              "outlinewidth": 0,
              "ticks": ""
             }
            },
            "type": "scattergeo"
           }
          ],
          "scattergl": [
           {
            "marker": {
             "colorbar": {
              "outlinewidth": 0,
              "ticks": ""
             }
            },
            "type": "scattergl"
           }
          ],
          "scattermapbox": [
           {
            "marker": {
             "colorbar": {
              "outlinewidth": 0,
              "ticks": ""
             }
            },
            "type": "scattermapbox"
           }
          ],
          "scatterpolar": [
           {
            "marker": {
             "colorbar": {
              "outlinewidth": 0,
              "ticks": ""
             }
            },
            "type": "scatterpolar"
           }
          ],
          "scatterpolargl": [
           {
            "marker": {
             "colorbar": {
              "outlinewidth": 0,
              "ticks": ""
             }
            },
            "type": "scatterpolargl"
           }
          ],
          "scatterternary": [
           {
            "marker": {
             "colorbar": {
              "outlinewidth": 0,
              "ticks": ""
             }
            },
            "type": "scatterternary"
           }
          ],
          "surface": [
           {
            "colorbar": {
             "outlinewidth": 0,
             "ticks": ""
            },
            "colorscale": [
             [
              0,
              "#0d0887"
             ],
             [
              0.1111111111111111,
              "#46039f"
             ],
             [
              0.2222222222222222,
              "#7201a8"
             ],
             [
              0.3333333333333333,
              "#9c179e"
             ],
             [
              0.4444444444444444,
              "#bd3786"
             ],
             [
              0.5555555555555556,
              "#d8576b"
             ],
             [
              0.6666666666666666,
              "#ed7953"
             ],
             [
              0.7777777777777778,
              "#fb9f3a"
             ],
             [
              0.8888888888888888,
              "#fdca26"
             ],
             [
              1,
              "#f0f921"
             ]
            ],
            "type": "surface"
           }
          ],
          "table": [
           {
            "cells": {
             "fill": {
              "color": "#EBF0F8"
             },
             "line": {
              "color": "white"
             }
            },
            "header": {
             "fill": {
              "color": "#C8D4E3"
             },
             "line": {
              "color": "white"
             }
            },
            "type": "table"
           }
          ]
         },
         "layout": {
          "annotationdefaults": {
           "arrowcolor": "#2a3f5f",
           "arrowhead": 0,
           "arrowwidth": 1
          },
          "autotypenumbers": "strict",
          "coloraxis": {
           "colorbar": {
            "outlinewidth": 0,
            "ticks": ""
           }
          },
          "colorscale": {
           "diverging": [
            [
             0,
             "#8e0152"
            ],
            [
             0.1,
             "#c51b7d"
            ],
            [
             0.2,
             "#de77ae"
            ],
            [
             0.3,
             "#f1b6da"
            ],
            [
             0.4,
             "#fde0ef"
            ],
            [
             0.5,
             "#f7f7f7"
            ],
            [
             0.6,
             "#e6f5d0"
            ],
            [
             0.7,
             "#b8e186"
            ],
            [
             0.8,
             "#7fbc41"
            ],
            [
             0.9,
             "#4d9221"
            ],
            [
             1,
             "#276419"
            ]
           ],
           "sequential": [
            [
             0,
             "#0d0887"
            ],
            [
             0.1111111111111111,
             "#46039f"
            ],
            [
             0.2222222222222222,
             "#7201a8"
            ],
            [
             0.3333333333333333,
             "#9c179e"
            ],
            [
             0.4444444444444444,
             "#bd3786"
            ],
            [
             0.5555555555555556,
             "#d8576b"
            ],
            [
             0.6666666666666666,
             "#ed7953"
            ],
            [
             0.7777777777777778,
             "#fb9f3a"
            ],
            [
             0.8888888888888888,
             "#fdca26"
            ],
            [
             1,
             "#f0f921"
            ]
           ],
           "sequentialminus": [
            [
             0,
             "#0d0887"
            ],
            [
             0.1111111111111111,
             "#46039f"
            ],
            [
             0.2222222222222222,
             "#7201a8"
            ],
            [
             0.3333333333333333,
             "#9c179e"
            ],
            [
             0.4444444444444444,
             "#bd3786"
            ],
            [
             0.5555555555555556,
             "#d8576b"
            ],
            [
             0.6666666666666666,
             "#ed7953"
            ],
            [
             0.7777777777777778,
             "#fb9f3a"
            ],
            [
             0.8888888888888888,
             "#fdca26"
            ],
            [
             1,
             "#f0f921"
            ]
           ]
          },
          "colorway": [
           "#636efa",
           "#EF553B",
           "#00cc96",
           "#ab63fa",
           "#FFA15A",
           "#19d3f3",
           "#FF6692",
           "#B6E880",
           "#FF97FF",
           "#FECB52"
          ],
          "font": {
           "color": "#2a3f5f"
          },
          "geo": {
           "bgcolor": "white",
           "lakecolor": "white",
           "landcolor": "#E5ECF6",
           "showlakes": true,
           "showland": true,
           "subunitcolor": "white"
          },
          "hoverlabel": {
           "align": "left"
          },
          "hovermode": "closest",
          "mapbox": {
           "style": "light"
          },
          "paper_bgcolor": "white",
          "plot_bgcolor": "#E5ECF6",
          "polar": {
           "angularaxis": {
            "gridcolor": "white",
            "linecolor": "white",
            "ticks": ""
           },
           "bgcolor": "#E5ECF6",
           "radialaxis": {
            "gridcolor": "white",
            "linecolor": "white",
            "ticks": ""
           }
          },
          "scene": {
           "xaxis": {
            "backgroundcolor": "#E5ECF6",
            "gridcolor": "white",
            "gridwidth": 2,
            "linecolor": "white",
            "showbackground": true,
            "ticks": "",
            "zerolinecolor": "white"
           },
           "yaxis": {
            "backgroundcolor": "#E5ECF6",
            "gridcolor": "white",
            "gridwidth": 2,
            "linecolor": "white",
            "showbackground": true,
            "ticks": "",
            "zerolinecolor": "white"
           },
           "zaxis": {
            "backgroundcolor": "#E5ECF6",
            "gridcolor": "white",
            "gridwidth": 2,
            "linecolor": "white",
            "showbackground": true,
            "ticks": "",
            "zerolinecolor": "white"
           }
          },
          "shapedefaults": {
           "line": {
            "color": "#2a3f5f"
           }
          },
          "ternary": {
           "aaxis": {
            "gridcolor": "white",
            "linecolor": "white",
            "ticks": ""
           },
           "baxis": {
            "gridcolor": "white",
            "linecolor": "white",
            "ticks": ""
           },
           "bgcolor": "#E5ECF6",
           "caxis": {
            "gridcolor": "white",
            "linecolor": "white",
            "ticks": ""
           }
          },
          "title": {
           "x": 0.05
          },
          "xaxis": {
           "automargin": true,
           "gridcolor": "white",
           "linecolor": "white",
           "ticks": "",
           "title": {
            "standoff": 15
           },
           "zerolinecolor": "white",
           "zerolinewidth": 2
          },
          "yaxis": {
           "automargin": true,
           "gridcolor": "white",
           "linecolor": "white",
           "ticks": "",
           "title": {
            "standoff": 15
           },
           "zerolinecolor": "white",
           "zerolinewidth": 2
          }
         }
        },
        "title": {
         "text": "Phân bố công việc theo địa điểm"
        },
        "xaxis": {
         "anchor": "y",
         "categoryarray": [
          "Ho Chi Minh City",
          "Hà Nội",
          "Da Nang",
          "Buôn Ma Thuột",
          "hủ Đức",
          "Nha Trang",
          "Biên Hòa",
          "Cần Thơ",
          "Quận Bình Thạnh",
          "Bình Dương",
          "Đắk Lắk",
          "Khánh Hòa",
          "An Nhơn",
          "Nhơn Trạch",
          "A Lưới",
          "Phan Thiết",
          "Cầu Giấy",
          "Ðà Lạt",
          "Quận Bốn",
          "Hà Nam",
          "Hai BàTrưng"
         ],
         "categoryorder": "array",
         "domain": [
          0,
          1
         ],
         "tickangle": -45,
         "title": {
          "text": "Địa điểm"
         }
        },
        "yaxis": {
         "anchor": "x",
         "domain": [
          0,
          1
         ],
         "title": {
          "text": "Số lượng"
         }
        }
       }
      }
     },
     "metadata": {},
     "output_type": "display_data"
    },
    {
     "data": {
      "application/vnd.plotly.v1+json": {
       "config": {
        "plotlyServerURL": "https://plot.ly"
       },
       "data": [
        {
         "alignmentgroup": "True",
         "hovertemplate": "Kỹ năng=%{x}<br>Số lượng=%{y}<extra></extra>",
         "legendgroup": "English",
         "marker": {
          "color": "#636efa",
          "pattern": {
           "shape": ""
          }
         },
         "name": "English",
         "offsetgroup": "English",
         "orientation": "v",
         "showlegend": true,
         "textposition": "auto",
         "type": "bar",
         "x": [
          "English"
         ],
         "xaxis": "x",
         "y": [
          127
         ],
         "yaxis": "y"
        },
        {
         "alignmentgroup": "True",
         "hovertemplate": "Kỹ năng=%{x}<br>Số lượng=%{y}<extra></extra>",
         "legendgroup": "Good Communication Skills",
         "marker": {
          "color": "#EF553B",
          "pattern": {
           "shape": ""
          }
         },
         "name": "Good Communication Skills",
         "offsetgroup": "Good Communication Skills",
         "orientation": "v",
         "showlegend": true,
         "textposition": "auto",
         "type": "bar",
         "x": [
          "Good Communication Skills"
         ],
         "xaxis": "x",
         "y": [
          110
         ],
         "yaxis": "y"
        },
        {
         "alignmentgroup": "True",
         "hovertemplate": "Kỹ năng=%{x}<br>Số lượng=%{y}<extra></extra>",
         "legendgroup": "Sales",
         "marker": {
          "color": "#00cc96",
          "pattern": {
           "shape": ""
          }
         },
         "name": "Sales",
         "offsetgroup": "Sales",
         "orientation": "v",
         "showlegend": true,
         "textposition": "auto",
         "type": "bar",
         "x": [
          "Sales"
         ],
         "xaxis": "x",
         "y": [
          63
         ],
         "yaxis": "y"
        },
        {
         "alignmentgroup": "True",
         "hovertemplate": "Kỹ năng=%{x}<br>Số lượng=%{y}<extra></extra>",
         "legendgroup": "Marketing",
         "marker": {
          "color": "#ab63fa",
          "pattern": {
           "shape": ""
          }
         },
         "name": "Marketing",
         "offsetgroup": "Marketing",
         "orientation": "v",
         "showlegend": true,
         "textposition": "auto",
         "type": "bar",
         "x": [
          "Marketing"
         ],
         "xaxis": "x",
         "y": [
          55
         ],
         "yaxis": "y"
        },
        {
         "alignmentgroup": "True",
         "hovertemplate": "Kỹ năng=%{x}<br>Số lượng=%{y}<extra></extra>",
         "legendgroup": "Digital Marketing",
         "marker": {
          "color": "#FFA15A",
          "pattern": {
           "shape": ""
          }
         },
         "name": "Digital Marketing",
         "offsetgroup": "Digital Marketing",
         "orientation": "v",
         "showlegend": true,
         "textposition": "auto",
         "type": "bar",
         "x": [
          "Digital Marketing"
         ],
         "xaxis": "x",
         "y": [
          53
         ],
         "yaxis": "y"
        },
        {
         "alignmentgroup": "True",
         "hovertemplate": "Kỹ năng=%{x}<br>Số lượng=%{y}<extra></extra>",
         "legendgroup": "Data Analysis",
         "marker": {
          "color": "#19d3f3",
          "pattern": {
           "shape": ""
          }
         },
         "name": "Data Analysis",
         "offsetgroup": "Data Analysis",
         "orientation": "v",
         "showlegend": true,
         "textposition": "auto",
         "type": "bar",
         "x": [
          "Data Analysis"
         ],
         "xaxis": "x",
         "y": [
          45
         ],
         "yaxis": "y"
        },
        {
         "alignmentgroup": "True",
         "hovertemplate": "Kỹ năng=%{x}<br>Số lượng=%{y}<extra></extra>",
         "legendgroup": "Analytical Skills",
         "marker": {
          "color": "#FF6692",
          "pattern": {
           "shape": ""
          }
         },
         "name": "Analytical Skills",
         "offsetgroup": "Analytical Skills",
         "orientation": "v",
         "showlegend": true,
         "textposition": "auto",
         "type": "bar",
         "x": [
          "Analytical Skills"
         ],
         "xaxis": "x",
         "y": [
          40
         ],
         "yaxis": "y"
        },
        {
         "alignmentgroup": "True",
         "hovertemplate": "Kỹ năng=%{x}<br>Số lượng=%{y}<extra></extra>",
         "legendgroup": "Python",
         "marker": {
          "color": "#B6E880",
          "pattern": {
           "shape": ""
          }
         },
         "name": "Python",
         "offsetgroup": "Python",
         "orientation": "v",
         "showlegend": true,
         "textposition": "auto",
         "type": "bar",
         "x": [
          "Python"
         ],
         "xaxis": "x",
         "y": [
          40
         ],
         "yaxis": "y"
        },
        {
         "alignmentgroup": "True",
         "hovertemplate": "Kỹ năng=%{x}<br>Số lượng=%{y}<extra></extra>",
         "legendgroup": "Giao Tiếp Tốt",
         "marker": {
          "color": "#FF97FF",
          "pattern": {
           "shape": ""
          }
         },
         "name": "Giao Tiếp Tốt",
         "offsetgroup": "Giao Tiếp Tốt",
         "orientation": "v",
         "showlegend": true,
         "textposition": "auto",
         "type": "bar",
         "x": [
          "Giao Tiếp Tốt"
         ],
         "xaxis": "x",
         "y": [
          39
         ],
         "yaxis": "y"
        },
        {
         "alignmentgroup": "True",
         "hovertemplate": "Kỹ năng=%{x}<br>Số lượng=%{y}<extra></extra>",
         "legendgroup": "Kỹ năng giao tiếp",
         "marker": {
          "color": "#FECB52",
          "pattern": {
           "shape": ""
          }
         },
         "name": "Kỹ năng giao tiếp",
         "offsetgroup": "Kỹ năng giao tiếp",
         "orientation": "v",
         "showlegend": true,
         "textposition": "auto",
         "type": "bar",
         "x": [
          "Kỹ năng giao tiếp"
         ],
         "xaxis": "x",
         "y": [
          38
         ],
         "yaxis": "y"
        },
        {
         "alignmentgroup": "True",
         "hovertemplate": "Kỹ năng=%{x}<br>Số lượng=%{y}<extra></extra>",
         "legendgroup": "Fluent In English Both Oral And Written",
         "marker": {
          "color": "#636efa",
          "pattern": {
           "shape": ""
          }
         },
         "name": "Fluent In English Both Oral And Written",
         "offsetgroup": "Fluent In English Both Oral And Written",
         "orientation": "v",
         "showlegend": true,
         "textposition": "auto",
         "type": "bar",
         "x": [
          "Fluent In English Both Oral And Written"
         ],
         "xaxis": "x",
         "y": [
          38
         ],
         "yaxis": "y"
        },
        {
         "alignmentgroup": "True",
         "hovertemplate": "Kỹ năng=%{x}<br>Số lượng=%{y}<extra></extra>",
         "legendgroup": "Teamwork",
         "marker": {
          "color": "#EF553B",
          "pattern": {
           "shape": ""
          }
         },
         "name": "Teamwork",
         "offsetgroup": "Teamwork",
         "orientation": "v",
         "showlegend": true,
         "textposition": "auto",
         "type": "bar",
         "x": [
          "Teamwork"
         ],
         "xaxis": "x",
         "y": [
          37
         ],
         "yaxis": "y"
        },
        {
         "alignmentgroup": "True",
         "hovertemplate": "Kỹ năng=%{x}<br>Số lượng=%{y}<extra></extra>",
         "legendgroup": "SQL",
         "marker": {
          "color": "#00cc96",
          "pattern": {
           "shape": ""
          }
         },
         "name": "SQL",
         "offsetgroup": "SQL",
         "orientation": "v",
         "showlegend": true,
         "textposition": "auto",
         "type": "bar",
         "x": [
          "SQL"
         ],
         "xaxis": "x",
         "y": [
          35
         ],
         "yaxis": "y"
        },
        {
         "alignmentgroup": "True",
         "hovertemplate": "Kỹ năng=%{x}<br>Số lượng=%{y}<extra></extra>",
         "legendgroup": "Business Analyst",
         "marker": {
          "color": "#ab63fa",
          "pattern": {
           "shape": ""
          }
         },
         "name": "Business Analyst",
         "offsetgroup": "Business Analyst",
         "orientation": "v",
         "showlegend": true,
         "textposition": "auto",
         "type": "bar",
         "x": [
          "Business Analyst"
         ],
         "xaxis": "x",
         "y": [
          35
         ],
         "yaxis": "y"
        },
        {
         "alignmentgroup": "True",
         "hovertemplate": "Kỹ năng=%{x}<br>Số lượng=%{y}<extra></extra>",
         "legendgroup": "Telesales",
         "marker": {
          "color": "#FFA15A",
          "pattern": {
           "shape": ""
          }
         },
         "name": "Telesales",
         "offsetgroup": "Telesales",
         "orientation": "v",
         "showlegend": true,
         "textposition": "auto",
         "type": "bar",
         "x": [
          "Telesales"
         ],
         "xaxis": "x",
         "y": [
          34
         ],
         "yaxis": "y"
        },
        {
         "alignmentgroup": "True",
         "hovertemplate": "Kỹ năng=%{x}<br>Số lượng=%{y}<extra></extra>",
         "legendgroup": "Microsoft Office",
         "marker": {
          "color": "#19d3f3",
          "pattern": {
           "shape": ""
          }
         },
         "name": "Microsoft Office",
         "offsetgroup": "Microsoft Office",
         "orientation": "v",
         "showlegend": true,
         "textposition": "auto",
         "type": "bar",
         "x": [
          "Microsoft Office"
         ],
         "xaxis": "x",
         "y": [
          31
         ],
         "yaxis": "y"
        },
        {
         "alignmentgroup": "True",
         "hovertemplate": "Kỹ năng=%{x}<br>Số lượng=%{y}<extra></extra>",
         "legendgroup": "Communication",
         "marker": {
          "color": "#FF6692",
          "pattern": {
           "shape": ""
          }
         },
         "name": "Communication",
         "offsetgroup": "Communication",
         "orientation": "v",
         "showlegend": true,
         "textposition": "auto",
         "type": "bar",
         "x": [
          "Communication"
         ],
         "xaxis": "x",
         "y": [
          30
         ],
         "yaxis": "y"
        },
        {
         "alignmentgroup": "True",
         "hovertemplate": "Kỹ năng=%{x}<br>Số lượng=%{y}<extra></extra>",
         "legendgroup": "Tốt Nghiệp Đại Học",
         "marker": {
          "color": "#B6E880",
          "pattern": {
           "shape": ""
          }
         },
         "name": "Tốt Nghiệp Đại Học",
         "offsetgroup": "Tốt Nghiệp Đại Học",
         "orientation": "v",
         "showlegend": true,
         "textposition": "auto",
         "type": "bar",
         "x": [
          "Tốt Nghiệp Đại Học"
         ],
         "xaxis": "x",
         "y": [
          29
         ],
         "yaxis": "y"
        },
        {
         "alignmentgroup": "True",
         "hovertemplate": "Kỹ năng=%{x}<br>Số lượng=%{y}<extra></extra>",
         "legendgroup": "JavaScript",
         "marker": {
          "color": "#FF97FF",
          "pattern": {
           "shape": ""
          }
         },
         "name": "JavaScript",
         "offsetgroup": "JavaScript",
         "orientation": "v",
         "showlegend": true,
         "textposition": "auto",
         "type": "bar",
         "x": [
          "JavaScript"
         ],
         "xaxis": "x",
         "y": [
          29
         ],
         "yaxis": "y"
        },
        {
         "alignmentgroup": "True",
         "hovertemplate": "Kỹ năng=%{x}<br>Số lượng=%{y}<extra></extra>",
         "legendgroup": "Chăm Sóc Khách Hàng",
         "marker": {
          "color": "#FECB52",
          "pattern": {
           "shape": ""
          }
         },
         "name": "Chăm Sóc Khách Hàng",
         "offsetgroup": "Chăm Sóc Khách Hàng",
         "orientation": "v",
         "showlegend": true,
         "textposition": "auto",
         "type": "bar",
         "x": [
          "Chăm Sóc Khách Hàng"
         ],
         "xaxis": "x",
         "y": [
          29
         ],
         "yaxis": "y"
        }
       ],
       "layout": {
        "barmode": "relative",
        "legend": {
         "title": {
          "text": "Kỹ năng"
         },
         "tracegroupgap": 0
        },
        "template": {
         "data": {
          "bar": [
           {
            "error_x": {
             "color": "#2a3f5f"
            },
            "error_y": {
             "color": "#2a3f5f"
            },
            "marker": {
             "line": {
              "color": "#E5ECF6",
              "width": 0.5
             },
             "pattern": {
              "fillmode": "overlay",
              "size": 10,
              "solidity": 0.2
             }
            },
            "type": "bar"
           }
          ],
          "barpolar": [
           {
            "marker": {
             "line": {
              "color": "#E5ECF6",
              "width": 0.5
             },
             "pattern": {
              "fillmode": "overlay",
              "size": 10,
              "solidity": 0.2
             }
            },
            "type": "barpolar"
           }
          ],
          "carpet": [
           {
            "aaxis": {
             "endlinecolor": "#2a3f5f",
             "gridcolor": "white",
             "linecolor": "white",
             "minorgridcolor": "white",
             "startlinecolor": "#2a3f5f"
            },
            "baxis": {
             "endlinecolor": "#2a3f5f",
             "gridcolor": "white",
             "linecolor": "white",
             "minorgridcolor": "white",
             "startlinecolor": "#2a3f5f"
            },
            "type": "carpet"
           }
          ],
          "choropleth": [
           {
            "colorbar": {
             "outlinewidth": 0,
             "ticks": ""
            },
            "type": "choropleth"
           }
          ],
          "contour": [
           {
            "colorbar": {
             "outlinewidth": 0,
             "ticks": ""
            },
            "colorscale": [
             [
              0,
              "#0d0887"
             ],
             [
              0.1111111111111111,
              "#46039f"
             ],
             [
              0.2222222222222222,
              "#7201a8"
             ],
             [
              0.3333333333333333,
              "#9c179e"
             ],
             [
              0.4444444444444444,
              "#bd3786"
             ],
             [
              0.5555555555555556,
              "#d8576b"
             ],
             [
              0.6666666666666666,
              "#ed7953"
             ],
             [
              0.7777777777777778,
              "#fb9f3a"
             ],
             [
              0.8888888888888888,
              "#fdca26"
             ],
             [
              1,
              "#f0f921"
             ]
            ],
            "type": "contour"
           }
          ],
          "contourcarpet": [
           {
            "colorbar": {
             "outlinewidth": 0,
             "ticks": ""
            },
            "type": "contourcarpet"
           }
          ],
          "heatmap": [
           {
            "colorbar": {
             "outlinewidth": 0,
             "ticks": ""
            },
            "colorscale": [
             [
              0,
              "#0d0887"
             ],
             [
              0.1111111111111111,
              "#46039f"
             ],
             [
              0.2222222222222222,
              "#7201a8"
             ],
             [
              0.3333333333333333,
              "#9c179e"
             ],
             [
              0.4444444444444444,
              "#bd3786"
             ],
             [
              0.5555555555555556,
              "#d8576b"
             ],
             [
              0.6666666666666666,
              "#ed7953"
             ],
             [
              0.7777777777777778,
              "#fb9f3a"
             ],
             [
              0.8888888888888888,
              "#fdca26"
             ],
             [
              1,
              "#f0f921"
             ]
            ],
            "type": "heatmap"
           }
          ],
          "heatmapgl": [
           {
            "colorbar": {
             "outlinewidth": 0,
             "ticks": ""
            },
            "colorscale": [
             [
              0,
              "#0d0887"
             ],
             [
              0.1111111111111111,
              "#46039f"
             ],
             [
              0.2222222222222222,
              "#7201a8"
             ],
             [
              0.3333333333333333,
              "#9c179e"
             ],
             [
              0.4444444444444444,
              "#bd3786"
             ],
             [
              0.5555555555555556,
              "#d8576b"
             ],
             [
              0.6666666666666666,
              "#ed7953"
             ],
             [
              0.7777777777777778,
              "#fb9f3a"
             ],
             [
              0.8888888888888888,
              "#fdca26"
             ],
             [
              1,
              "#f0f921"
             ]
            ],
            "type": "heatmapgl"
           }
          ],
          "histogram": [
           {
            "marker": {
             "pattern": {
              "fillmode": "overlay",
              "size": 10,
              "solidity": 0.2
             }
            },
            "type": "histogram"
           }
          ],
          "histogram2d": [
           {
            "colorbar": {
             "outlinewidth": 0,
             "ticks": ""
            },
            "colorscale": [
             [
              0,
              "#0d0887"
             ],
             [
              0.1111111111111111,
              "#46039f"
             ],
             [
              0.2222222222222222,
              "#7201a8"
             ],
             [
              0.3333333333333333,
              "#9c179e"
             ],
             [
              0.4444444444444444,
              "#bd3786"
             ],
             [
              0.5555555555555556,
              "#d8576b"
             ],
             [
              0.6666666666666666,
              "#ed7953"
             ],
             [
              0.7777777777777778,
              "#fb9f3a"
             ],
             [
              0.8888888888888888,
              "#fdca26"
             ],
             [
              1,
              "#f0f921"
             ]
            ],
            "type": "histogram2d"
           }
          ],
          "histogram2dcontour": [
           {
            "colorbar": {
             "outlinewidth": 0,
             "ticks": ""
            },
            "colorscale": [
             [
              0,
              "#0d0887"
             ],
             [
              0.1111111111111111,
              "#46039f"
             ],
             [
              0.2222222222222222,
              "#7201a8"
             ],
             [
              0.3333333333333333,
              "#9c179e"
             ],
             [
              0.4444444444444444,
              "#bd3786"
             ],
             [
              0.5555555555555556,
              "#d8576b"
             ],
             [
              0.6666666666666666,
              "#ed7953"
             ],
             [
              0.7777777777777778,
              "#fb9f3a"
             ],
             [
              0.8888888888888888,
              "#fdca26"
             ],
             [
              1,
              "#f0f921"
             ]
            ],
            "type": "histogram2dcontour"
           }
          ],
          "mesh3d": [
           {
            "colorbar": {
             "outlinewidth": 0,
             "ticks": ""
            },
            "type": "mesh3d"
           }
          ],
          "parcoords": [
           {
            "line": {
             "colorbar": {
              "outlinewidth": 0,
              "ticks": ""
             }
            },
            "type": "parcoords"
           }
          ],
          "pie": [
           {
            "automargin": true,
            "type": "pie"
           }
          ],
          "scatter": [
           {
            "fillpattern": {
             "fillmode": "overlay",
             "size": 10,
             "solidity": 0.2
            },
            "type": "scatter"
           }
          ],
          "scatter3d": [
           {
            "line": {
             "colorbar": {
              "outlinewidth": 0,
              "ticks": ""
             }
            },
            "marker": {
             "colorbar": {
              "outlinewidth": 0,
              "ticks": ""
             }
            },
            "type": "scatter3d"
           }
          ],
          "scattercarpet": [
           {
            "marker": {
             "colorbar": {
              "outlinewidth": 0,
              "ticks": ""
             }
            },
            "type": "scattercarpet"
           }
          ],
          "scattergeo": [
           {
            "marker": {
             "colorbar": {
              "outlinewidth": 0,
              "ticks": ""
             }
            },
            "type": "scattergeo"
           }
          ],
          "scattergl": [
           {
            "marker": {
             "colorbar": {
              "outlinewidth": 0,
              "ticks": ""
             }
            },
            "type": "scattergl"
           }
          ],
          "scattermapbox": [
           {
            "marker": {
             "colorbar": {
              "outlinewidth": 0,
              "ticks": ""
             }
            },
            "type": "scattermapbox"
           }
          ],
          "scatterpolar": [
           {
            "marker": {
             "colorbar": {
              "outlinewidth": 0,
              "ticks": ""
             }
            },
            "type": "scatterpolar"
           }
          ],
          "scatterpolargl": [
           {
            "marker": {
             "colorbar": {
              "outlinewidth": 0,
              "ticks": ""
             }
            },
            "type": "scatterpolargl"
           }
          ],
          "scatterternary": [
           {
            "marker": {
             "colorbar": {
              "outlinewidth": 0,
              "ticks": ""
             }
            },
            "type": "scatterternary"
           }
          ],
          "surface": [
           {
            "colorbar": {
             "outlinewidth": 0,
             "ticks": ""
            },
            "colorscale": [
             [
              0,
              "#0d0887"
             ],
             [
              0.1111111111111111,
              "#46039f"
             ],
             [
              0.2222222222222222,
              "#7201a8"
             ],
             [
              0.3333333333333333,
              "#9c179e"
             ],
             [
              0.4444444444444444,
              "#bd3786"
             ],
             [
              0.5555555555555556,
              "#d8576b"
             ],
             [
              0.6666666666666666,
              "#ed7953"
             ],
             [
              0.7777777777777778,
              "#fb9f3a"
             ],
             [
              0.8888888888888888,
              "#fdca26"
             ],
             [
              1,
              "#f0f921"
             ]
            ],
            "type": "surface"
           }
          ],
          "table": [
           {
            "cells": {
             "fill": {
              "color": "#EBF0F8"
             },
             "line": {
              "color": "white"
             }
            },
            "header": {
             "fill": {
              "color": "#C8D4E3"
             },
             "line": {
              "color": "white"
             }
            },
            "type": "table"
           }
          ]
         },
         "layout": {
          "annotationdefaults": {
           "arrowcolor": "#2a3f5f",
           "arrowhead": 0,
           "arrowwidth": 1
          },
          "autotypenumbers": "strict",
          "coloraxis": {
           "colorbar": {
            "outlinewidth": 0,
            "ticks": ""
           }
          },
          "colorscale": {
           "diverging": [
            [
             0,
             "#8e0152"
            ],
            [
             0.1,
             "#c51b7d"
            ],
            [
             0.2,
             "#de77ae"
            ],
            [
             0.3,
             "#f1b6da"
            ],
            [
             0.4,
             "#fde0ef"
            ],
            [
             0.5,
             "#f7f7f7"
            ],
            [
             0.6,
             "#e6f5d0"
            ],
            [
             0.7,
             "#b8e186"
            ],
            [
             0.8,
             "#7fbc41"
            ],
            [
             0.9,
             "#4d9221"
            ],
            [
             1,
             "#276419"
            ]
           ],
           "sequential": [
            [
             0,
             "#0d0887"
            ],
            [
             0.1111111111111111,
             "#46039f"
            ],
            [
             0.2222222222222222,
             "#7201a8"
            ],
            [
             0.3333333333333333,
             "#9c179e"
            ],
            [
             0.4444444444444444,
             "#bd3786"
            ],
            [
             0.5555555555555556,
             "#d8576b"
            ],
            [
             0.6666666666666666,
             "#ed7953"
            ],
            [
             0.7777777777777778,
             "#fb9f3a"
            ],
            [
             0.8888888888888888,
             "#fdca26"
            ],
            [
             1,
             "#f0f921"
            ]
           ],
           "sequentialminus": [
            [
             0,
             "#0d0887"
            ],
            [
             0.1111111111111111,
             "#46039f"
            ],
            [
             0.2222222222222222,
             "#7201a8"
            ],
            [
             0.3333333333333333,
             "#9c179e"
            ],
            [
             0.4444444444444444,
             "#bd3786"
            ],
            [
             0.5555555555555556,
             "#d8576b"
            ],
            [
             0.6666666666666666,
             "#ed7953"
            ],
            [
             0.7777777777777778,
             "#fb9f3a"
            ],
            [
             0.8888888888888888,
             "#fdca26"
            ],
            [
             1,
             "#f0f921"
            ]
           ]
          },
          "colorway": [
           "#636efa",
           "#EF553B",
           "#00cc96",
           "#ab63fa",
           "#FFA15A",
           "#19d3f3",
           "#FF6692",
           "#B6E880",
           "#FF97FF",
           "#FECB52"
          ],
          "font": {
           "color": "#2a3f5f"
          },
          "geo": {
           "bgcolor": "white",
           "lakecolor": "white",
           "landcolor": "#E5ECF6",
           "showlakes": true,
           "showland": true,
           "subunitcolor": "white"
          },
          "hoverlabel": {
           "align": "left"
          },
          "hovermode": "closest",
          "mapbox": {
           "style": "light"
          },
          "paper_bgcolor": "white",
          "plot_bgcolor": "#E5ECF6",
          "polar": {
           "angularaxis": {
            "gridcolor": "white",
            "linecolor": "white",
            "ticks": ""
           },
           "bgcolor": "#E5ECF6",
           "radialaxis": {
            "gridcolor": "white",
            "linecolor": "white",
            "ticks": ""
           }
          },
          "scene": {
           "xaxis": {
            "backgroundcolor": "#E5ECF6",
            "gridcolor": "white",
            "gridwidth": 2,
            "linecolor": "white",
            "showbackground": true,
            "ticks": "",
            "zerolinecolor": "white"
           },
           "yaxis": {
            "backgroundcolor": "#E5ECF6",
            "gridcolor": "white",
            "gridwidth": 2,
            "linecolor": "white",
            "showbackground": true,
            "ticks": "",
            "zerolinecolor": "white"
           },
           "zaxis": {
            "backgroundcolor": "#E5ECF6",
            "gridcolor": "white",
            "gridwidth": 2,
            "linecolor": "white",
            "showbackground": true,
            "ticks": "",
            "zerolinecolor": "white"
           }
          },
          "shapedefaults": {
           "line": {
            "color": "#2a3f5f"
           }
          },
          "ternary": {
           "aaxis": {
            "gridcolor": "white",
            "linecolor": "white",
            "ticks": ""
           },
           "baxis": {
            "gridcolor": "white",
            "linecolor": "white",
            "ticks": ""
           },
           "bgcolor": "#E5ECF6",
           "caxis": {
            "gridcolor": "white",
            "linecolor": "white",
            "ticks": ""
           }
          },
          "title": {
           "x": 0.05
          },
          "xaxis": {
           "automargin": true,
           "gridcolor": "white",
           "linecolor": "white",
           "ticks": "",
           "title": {
            "standoff": 15
           },
           "zerolinecolor": "white",
           "zerolinewidth": 2
          },
          "yaxis": {
           "automargin": true,
           "gridcolor": "white",
           "linecolor": "white",
           "ticks": "",
           "title": {
            "standoff": 15
           },
           "zerolinecolor": "white",
           "zerolinewidth": 2
          }
         }
        },
        "title": {
         "text": "Top 20 kỹ năng được yêu cầu"
        },
        "xaxis": {
         "anchor": "y",
         "categoryarray": [
          "English",
          "Good Communication Skills",
          "Sales",
          "Marketing",
          "Digital Marketing",
          "Data Analysis",
          "Analytical Skills",
          "Python",
          "Giao Tiếp Tốt",
          "Kỹ năng giao tiếp",
          "Fluent In English Both Oral And Written",
          "Teamwork",
          "SQL",
          "Business Analyst",
          "Telesales",
          "Microsoft Office",
          "Communication",
          "Tốt Nghiệp Đại Học",
          "JavaScript",
          "Chăm Sóc Khách Hàng"
         ],
         "categoryorder": "array",
         "domain": [
          0,
          1
         ],
         "tickangle": -45,
         "title": {
          "text": "Kỹ năng"
         }
        },
        "yaxis": {
         "anchor": "x",
         "domain": [
          0,
          1
         ],
         "title": {
          "text": "Số lượng"
         }
        }
       }
      }
     },
     "metadata": {},
     "output_type": "display_data"
    }
   ],
   "source": [
    "import pandas as pd\n",
    "import plotly.express as px\n",
    "import plotly.graph_objects as go\n",
    "\n",
    "# Đọc dữ liệu\n",
    "file_path = r'D:\\Practice\\projects\\WebScrapping\\Glintsdata_221111_Vietnam.csv'\n",
    "  # Thay bằng đường dẫn file của bạn\n",
    "data = pd.read_csv(file_path)\n",
    "\n",
    "# Xử lý dữ liệu\n",
    "# Loại bỏ hàng thiếu thông tin cơ bản\n",
    "cleaned_data = data.dropna(subset=['job_title', 'salary', 'category', 'job_location'])\n",
    "\n",
    "# Chuyển đổi dữ liệu lương về dạng số (khoảng lương lấy giá trị trung bình)\n",
    "import pandas as pd\n",
    "import numpy as np\n",
    "\n",
    "\n",
    "\n",
    "def process_salary(salary):\n",
    "    if pd.isna(salary):\n",
    "        return pd.Series([np.nan, np.nan, np.nan, np.nan, np.nan])\n",
    "    \n",
    "    # Extract payment period\n",
    "    period = salary.split('/')[-1]\n",
    "    \n",
    "    # Extract currency\n",
    "    currency = ''.join([char for char in salary if char.isalpha() and char.isupper()])\n",
    "    \n",
    "    # Extract lower and upper bounds\n",
    "    numbers = salary.replace(currency, '').replace(period, '').replace('.', '').replace(',', '').strip()\n",
    "    numbers = numbers.rstrip('/')  # Remove trailing '/'\n",
    "    \n",
    "    if '-' in numbers:\n",
    "        lower, upper = numbers.split('-')\n",
    "        lower, upper = int(lower.strip()), int(upper.strip())\n",
    "    else:\n",
    "        lower = int(numbers.strip())\n",
    "        upper = lower\n",
    "\n",
    "    # Calculate average\n",
    "    average = (lower + upper) / 2\n",
    "\n",
    "    if period == 'hour':\n",
    "        lower *= 160  # Assuming 160 working hours in a month\n",
    "        upper *= 160\n",
    "\n",
    "    return pd.Series([period, currency, lower, upper, average])\n",
    "\n",
    "\n",
    "cleaned_data[['salary_period', 'currency', 'lowerbound', 'upperbound', 'salary_parsed']] = cleaned_data['salary'].apply(process_salary)\n",
    "\n",
    "# Tổng quan số lượng công việc theo vị trí\n",
    "job_counts = cleaned_data['category'].value_counts().reset_index()\n",
    "job_counts.columns = ['category', 'count']\n",
    "\n",
    "fig_job_counts = px.bar(job_counts, x='category', y='count', \n",
    "                        title='Số lượng công việc theo vị trí',\n",
    "                        labels={'category': 'Loại công việc', 'count': 'Số lượng'},\n",
    "                        color='category')\n",
    "fig_job_counts.update_layout(xaxis_tickangle=-45)\n",
    "\n",
    "# Phân phối mức lương theo vị trí\n",
    "fig_salary_distribution = px.box(cleaned_data, x='category', y='salary_parsed', \n",
    "                                  title='Phân phối mức lương theo vị trí',\n",
    "                                  labels={'category': 'Loại công việc', 'salary_parsed': 'Mức lương (VND/USD)'},\n",
    "                                  color='category')\n",
    "\n",
    "# Yêu cầu kinh nghiệm\n",
    "experience_counts = cleaned_data['experience'].value_counts().reset_index()\n",
    "experience_counts.columns = ['experience', 'count']\n",
    "fig_experience_counts = px.pie(experience_counts, values='count', names='experience', \n",
    "                               title='Phân phối yêu cầu kinh nghiệm',\n",
    "                               hole=0.3)\n",
    "\n",
    "# Phân bố địa lý\n",
    "location_counts = cleaned_data['job_location'].value_counts().reset_index()\n",
    "location_counts.columns = ['location', 'count']\n",
    "fig_location_counts = px.bar(location_counts, x='location', y='count', \n",
    "                              title='Phân bố công việc theo địa điểm',\n",
    "                              labels={'location': 'Địa điểm', 'count': 'Số lượng'},\n",
    "                              color='location')\n",
    "fig_location_counts.update_layout(xaxis_tickangle=-45)\n",
    "\n",
    "# Kỹ năng yêu cầu\n",
    "skills = cleaned_data['requirement'].dropna().str.split(',').explode().str.strip()\n",
    "skill_counts = skills.value_counts().reset_index()\n",
    "skill_counts.columns = ['skill', 'count']\n",
    "fig_skill_counts = px.bar(skill_counts.head(20), x='skill', y='count', \n",
    "                          title='Top 20 kỹ năng được yêu cầu',\n",
    "                          labels={'skill': 'Kỹ năng', 'count': 'Số lượng'},\n",
    "                          color='skill')\n",
    "fig_skill_counts.update_layout(xaxis_tickangle=-45)\n",
    "\n",
    "# Hiển thị các biểu đồ\n",
    "fig_job_counts.show()\n",
    "fig_salary_distribution.show()\n",
    "fig_experience_counts.show()\n",
    "fig_location_counts.show()\n",
    "fig_skill_counts.show()\n"
   ]
  },
  {
   "cell_type": "code",
   "execution_count": null,
   "metadata": {},
   "outputs": [
    {
     "name": "stderr",
     "output_type": "stream",
     "text": [
      "C:\\Users\\trangnt341\\AppData\\Local\\Temp\\ipykernel_2832\\2634750310.py:20: SettingWithCopyWarning:\n",
      "\n",
      "\n",
      "A value is trying to be set on a copy of a slice from a DataFrame.\n",
      "Try using .loc[row_indexer,col_indexer] = value instead\n",
      "\n",
      "See the caveats in the documentation: https://pandas.pydata.org/pandas-docs/stable/user_guide/indexing.html#returning-a-view-versus-a-copy\n",
      "\n"
     ]
    },
    {
     "data": {
      "application/vnd.plotly.v1+json": {
       "config": {
        "plotlyServerURL": "https://plot.ly"
       },
       "data": [
        {
         "customdata": [
          [
           "[Glints 5 Ngày] Data Engineer"
          ],
          [
           "[Glints 5 Ngày] Head Of Product"
          ],
          [
           "[Glints 5 Ngày] Backend Developer"
          ],
          [
           "[Glints 5 Ngày] Senior/Lead Backend Engineer"
          ],
          [
           "[Glints 5 Ngày] Head of Sales"
          ],
          [
           "Data Analyst"
          ],
          [
           "Data Analyst"
          ],
          [
           "Data Analyst "
          ],
          [
           "Data Analyst"
          ],
          [
           "Data Analyst"
          ],
          [
           "DATA ANALYST SPECIALIST"
          ],
          [
           "Data Analyst Intern"
          ],
          [
           "DATA ANALYST INTERN"
          ],
          [
           "Data Analyst Intern"
          ],
          [
           "Junior Data Analyst"
          ],
          [
           "Data Analyst / Data Research Engineer"
          ],
          [
           "Data Analyst (BI Controller)"
          ],
          [
           "Digital Execution and Data Analyst"
          ],
          [
           "Game Data Analyst - Phân Tích Dữ Liệu Game"
          ],
          [
           "Data Engineer"
          ],
          [
           "Data Scientist"
          ],
          [
           "Thực tập sinh Business Data Analysis"
          ],
          [
           "Data Engineer"
          ],
          [
           "Data Engineer"
          ],
          [
           "Data Scientist"
          ],
          [
           " Data Engineer"
          ],
          [
           "Business Analyst"
          ],
          [
           "Business Analyst"
          ],
          [
           "Business Analyst"
          ],
          [
           "Business Analyst"
          ],
          [
           "Business Analyst"
          ],
          [
           "Business Analyst"
          ],
          [
           "BUSINESS ANALYST"
          ],
          [
           "Business Analyst"
          ],
          [
           "Risk Analyst"
          ],
          [
           "Business Analyst"
          ],
          [
           "Business Analyst"
          ],
          [
           "Product Analyst"
          ],
          [
           "Business Analyst"
          ],
          [
           "Business Analyst"
          ],
          [
           "Cloud Data Engineer"
          ],
          [
           "Technical Data Steward"
          ],
          [
           "Big Data Engineer"
          ],
          [
           "Master Data Controller"
          ],
          [
           "ETL Data Engineer "
          ],
          [
           "DATA PERFORMANCE INTERN"
          ],
          [
           "Accounting Data Processing"
          ],
          [
           "Junior Data Scientist "
          ],
          [
           "Business Intelligence Analyst"
          ],
          [
           "[REMOTE] Business Analyst"
          ],
          [
           "Senior Business Analyst"
          ],
          [
           "Product Business Analyst"
          ],
          [
           "Junior Investment Analyst"
          ],
          [
           "IT Business Analyst"
          ],
          [
           "Business Analyst (BA)"
          ],
          [
           "Middle Business Analyst"
          ],
          [
           "Product Business Analyst"
          ],
          [
           "BUSINESS ANALYST (TPHCM)"
          ],
          [
           "Business Analyst (HCM)"
          ],
          [
           "SENIOR BUSINESS ANALYST"
          ],
          [
           "FINANCIAL PLANNING ANALYST"
          ],
          [
           "Business Intelligence Analyst - HCM"
          ],
          [
           "[Glints 5 Ngày] Data Lead"
          ],
          [
           "[HCM] Senior Business Analyst"
          ],
          [
           "Business Analyst ( Junior/Senior )"
          ],
          [
           "Risk Analyst - Vietnam Speaking"
          ],
          [
           "BUSINESS AND MARKETING ANALYST"
          ],
          [
           "[Glints 5 Ngày] Data Platform Manager"
          ],
          [
           "Data Scientist (Python) (Salary 1500-3000)"
          ],
          [
           "[Glints 5 Ngày] Data Maintenance Operator"
          ],
          [
           "Business Analyst -Ecommerce/ERP/English"
          ],
          [
           "[Glints 5 Ngày] Business Analyst"
          ],
          [
           "[Glints 5 Ngày] Business Analyst"
          ],
          [
           "Junior/Exp Business Intelligence Analyst"
          ],
          [
           "[HCM] Business Analyst, $2500 - $3000"
          ],
          [
           "IT Business Analyst (Fulltime-Onsite)"
          ],
          [
           "THỰC TẬP SINH BUSINESS ANALYST "
          ],
          [
           "Senior Business Analyst (Agile/ English)"
          ],
          [
           "Thực tập sinh Business Analyst"
          ],
          [
           "Finance Planning & Analysis (FP&A)"
          ],
          [
           "Fullstack Engineer (data industry) - upto 4500 gross"
          ],
          [
           "R/Python Data Engineer - Upto 860M/year"
          ],
          [
           "Senior IT Business Analyst (Back Office) "
          ],
          [
           "Middle IT Business Analyst (Middle Office) "
          ],
          [
           "Nhân Viên Admin Xử Lý Data Dự Án"
          ],
          [
           "IT Business Analyst (Phân tích nghiệp vụ)"
          ],
          [
           "IT Business Analyst (Phân tích nghiệp vụ)"
          ],
          [
           "Thực tập sinh Business Analyst (Mảng Marketing)"
          ],
          [
           "[HCM] Business Analyst (Credit Cards) - 3300 Gross (Hybrid)"
          ],
          [
           "[Glints 5 Ngày] Lead Data Engineering and BI Solutions"
          ],
          [
           "Nhân viên Chăm Sóc Khách Hàng (Không gọi data)"
          ],
          [
           "Junior IT Business Analyst (Back Office) Full Time"
          ],
          [
           "Chuyên Viên Phân Tích Nghiệp Vụ (Business Analyst)"
          ],
          [
           "Thực tập sinh trải nghiệm khách hàng (CX Analyst Intern)"
          ],
          [
           "Finance Planning and Analysis"
          ],
          [
           "Nhân viên/chuyên viên Business Analyst và Lập trình viên"
          ],
          [
           "PRODUCT ANALYSIS ASSOCIATE MANAGER"
          ],
          [
           "Finance Specialist (HCM)"
          ],
          [
           "Nhân Viên Tư Vấn Dịch Thuật (Chỉ tư vấn - Data có nhu cầu)"
          ],
          [
           "Nhân Viên Đặt hàng - Ordering Analysis Executive"
          ],
          [
           "Digital Marketing (Tăng trưởng đơn hàng và download app)"
          ],
          [
           "[Glints 5 Ngày] Customer Care Manager"
          ],
          [
           "[HCM] Project Manager  (Banking) - Contract 6 months"
          ],
          [
           "DIGITAL EXPERIENCE SPECIALIST (CRM)"
          ],
          [
           "Campaign Planning Management"
          ],
          [
           "Assistant Brand Manager"
          ],
          [
           "[Glints 5 Ngày] Marketing Manager"
          ],
          [
           "Digital Executive"
          ],
          [
           "Finance Controller"
          ],
          [
           "Trade Marketing Executive"
          ],
          [
           "[Glints 5 Ngày] Senior Strategy Planner"
          ],
          [
           "Back-end Developer"
          ],
          [
           "Strategic Planner"
          ],
          [
           "[Glints 5 Ngày] BA"
          ],
          [
           "Operations Manager"
          ],
          [
           "Thực tập sinh Phát triển Dự án - Có lương"
          ],
          [
           "Associate Management Consultant"
          ],
          [
           "Monetization/ Platform Operations Intern"
          ],
          [
           "Trade Marketing Specialist"
          ],
          [
           "Senior Performance Marketing Specialist"
          ],
          [
           "Merchandiser staff (E- Commerce)"
          ],
          [
           "BUSINESS DEVELOPMENT EXECUTIVE (JUNIOR/SENIOR)"
          ],
          [
           "CATEGORY MANAGER "
          ],
          [
           "Product Marketing Executive (Remote)"
          ],
          [
           "SENIOR MARKETING EXECUTIVE"
          ],
          [
           "E-commerce Marketplace Specialist - Phong Vũ & VnShop"
          ],
          [
           "Sales Consultant"
          ],
          [
           "Accounting Intern (Urgent)"
          ],
          [
           "Digital Marketing Executive"
          ],
          [
           "Product Manager (Advertising Platform)"
          ],
          [
           "NodeJS Developer – Junior/ Senior"
          ],
          [
           "PANDORA VIỆT NAM- Senior CRM Executive"
          ],
          [
           "Database Administration Officer"
          ],
          [
           "Senior Software Engineer Vietnam"
          ],
          [
           "Sales Planning & Performance Management Specialist"
          ],
          [
           "Distribution Management (District 7)"
          ],
          [
           "[Media Agency] Digital Intern "
          ],
          [
           "Senior Strategic Planner "
          ],
          [
           "Direct sales"
          ],
          [
           "Customer Relationship Management Intern (CRM) - Talent Program"
          ],
          [
           "Tuyển dụng Intern research"
          ],
          [
           " Product Executive (Website/Mobile App)"
          ],
          [
           "Machine Learning Engineer"
          ],
          [
           "Communication Strategic Planner"
          ],
          [
           "Senior Paid Marketing Executive (CV in English)"
          ],
          [
           "[Glints 5 Ngày] Database Admin"
          ],
          [
           "Paid Marketing Executive (CV in English)"
          ],
          [
           "Junior Software Engineer (Angular)"
          ],
          [
           "[Glints 5 Ngày] Head of Account background  Chicilon/Goldsun"
          ],
          [
           "Accounting Intern"
          ],
          [
           "[Glints 5 Ngày] NET Software Engineer"
          ],
          [
           "Marketing Intern"
          ],
          [
           "Marketing Intern (Full-time)"
          ],
          [
           "Digital Marketing"
          ],
          [
           "[HCM] Daehong Communications VN  -  Senior Strategic Planner "
          ],
          [
           "Finance Intern (Controlling)"
          ],
          [
           "SEO Specialist (Search Engine Optimization Specialist) "
          ],
          [
           "Marketing Intern"
          ],
          [
           "JAVA DEVELOPER (ALL LEVEL)"
          ],
          [
           "[Glints 5 Ngày] Marketing Manager"
          ],
          [
           "Business Development Specialist ( Urgent)"
          ],
          [
           "KEY ACCOUNT SUPERVISOR - FOOD SERVICES"
          ],
          [
           "Market Specialist"
          ],
          [
           "[Glints 5 Ngày] Senior DevOps"
          ],
          [
           "General Accountant"
          ],
          [
           "Account Manager (Finance - Loan Project)"
          ],
          [
           "Senior Project Management Executive "
          ],
          [
           "[Glints 5 Ngày] Strategic Planning Lead"
          ],
          [
           "[Glints 5 Ngày] Frontend Engineer"
          ],
          [
           "Fresher Game Developer"
          ],
          [
           "[Glints 5 Ngày] Senior Backend Cloud Engineer"
          ],
          [
           "UI/UX Designer"
          ],
          [
           "UI/UX Designer"
          ],
          [
           "TRADE MARKETING SPECIALIST"
          ],
          [
           "CHIEF FINANCIAL OFFICER"
          ],
          [
           "[Glints 5 Ngày] Senior Tech Lead"
          ],
          [
           "[Glints 5 Ngày] Senior Software Engineers"
          ],
          [
           "Event Planner "
          ],
          [
           "Marketing Executive"
          ],
          [
           "[Glints 5 Ngày] Programmatic Operations Executive"
          ],
          [
           "Strategic Planning"
          ],
          [
           "QA/QC Lead"
          ],
          [
           "Event Planner"
          ],
          [
           "MARKETING INTERN"
          ],
          [
           "[Glints 5 Ngày] Web Developer"
          ],
          [
           "Senior Performance Marketing Manager (CV in English)"
          ],
          [
           "Nhân viên Web admin"
          ],
          [
           "IT INTERN"
          ],
          [
           "Manual Tester"
          ],
          [
           "Sales Planning Executive (Temporary 6 Months)"
          ],
          [
           "Phân Tích Thiết Kế Hệ Thống"
          ],
          [
           "Phân Tích Thiết Kế Hệ Thống"
          ],
          [
           "K-12 Coding Program Manager"
          ],
          [
           "Digital Marketing Specialist"
          ],
          [
           "Database Administrator"
          ],
          [
           "Account Intern"
          ],
          [
           "Fundraising Assistant Manager"
          ],
          [
           "[Glints 5 Ngày] QC"
          ],
          [
           "CATEGORY - NHÂN VIÊN PHÂN TÍCH DỮ LIỆU VÀ PHÁT TRIỂN THỊ TRƯỜNG"
          ],
          [
           "WORDPRESS INTEGRATION SPECIALIST / WEB DEVELOPER"
          ],
          [
           "Marketing Executive"
          ],
          [
           "ACCOUNT INTERN"
          ],
          [
           "CHUYÊN VIÊN IT SUPPORT ( 18-20 TRIỆU/THÁNG)"
          ],
          [
           "BRAND MANAGER"
          ],
          [
           "SYBSY Fashion Company Limited / E - commerce"
          ],
          [
           "CHUYÊN VIÊN PHÂN TÍCH NGHIỆP VỤ IT ( 18-25 TRIỆU/THÁNG)"
          ],
          [
           "Mid/Senior Back End Developer (dotNet)"
          ],
          [
           "SOCIAL SPECIALIST"
          ],
          [
           "Purchaser (Own Brand)"
          ],
          [
           "Fresher Nodejs"
          ],
          [
           "[Glints 5 Ngày] Digital marketing specialist"
          ],
          [
           "[Glints 5 Ngày] Key Account Manager (MT)"
          ],
          [
           "Application Engineer (Ansys/CFD/Mechanical) "
          ],
          [
           "Buyer Admin "
          ],
          [
           "Senior Product Executive"
          ],
          [
           "PANDORA VIỆT NAM- Senior Digital Marketing "
          ],
          [
           "BACKEND DEVELOPER (PHP-MYSQL-AJAX)"
          ],
          [
           "[Glints 5 Ngày] Senior Marketing Automation Specialist"
          ],
          [
           "Project Coordinator"
          ],
          [
           "BIM Modeler"
          ],
          [
           "Business Operations Coordinator"
          ],
          [
           "PART TIME TELESALES "
          ],
          [
           "CATEGORY MANAGER"
          ],
          [
           "Tìm Đồng Đội Telesale Mỹ Phẩm (Lương Cứng -Hoa Hồng Cao)"
          ],
          [
           "Chief Accountant"
          ],
          [
           "MEDIA MANAGER"
          ],
          [
           "Accountant Part time/ Intern"
          ],
          [
           "NHÂN VIÊN CHĂM SÓC KHÁCH HÀNG"
          ],
          [
           "MARKET RESEARCHER"
          ],
          [
           "Senior Marketing "
          ],
          [
           "[Glints 5 Ngày] Creative Director"
          ],
          [
           "Blockchain Developer"
          ],
          [
           "CRM Leader "
          ],
          [
           "Performance Marketing Manager"
          ],
          [
           "NHÂN VIÊN KẾ TOÁN"
          ],
          [
           "Middle Front End Developer"
          ],
          [
           "Thực Tập Sinh Business Development"
          ],
          [
           "[Glints 5 Ngày] Software Tester (Manual)"
          ],
          [
           "UX/UI Designer"
          ],
          [
           "Test Automation Engineer "
          ],
          [
           "GrabLingo Tuyển Dụng Thực Tập Sinh Sale Admin"
          ],
          [
           "Finance Executive"
          ],
          [
           "MARKETING MANAGER"
          ],
          [
           "CAE Application (Remoted work) "
          ],
          [
           "Performance Marketing Executive (Middle)"
          ],
          [
           "Salesforce/Mulesoft Developers"
          ],
          [
           "BUSINESS DEVELOPMENT EXECUTIVE"
          ],
          [
           "Blockchain Developer (HCM)"
          ],
          [
           "Sales Consultant (Personal Development - Individuals)"
          ],
          [
           "Senior Backend Developer"
          ],
          [
           "Market Research Specialist"
          ],
          [
           "Fullstack Developer"
          ],
          [
           "Nhân viên Telesales Partime - Làm việc tại Quận 2 "
          ],
          [
           "Senior NET Developer "
          ],
          [
           "Nhân viên Telesales Partime - Hoa hồng - Lương cb 5M/tháng "
          ],
          [
           "Nhân Viên Quản Lý Account - Ứng Dụng Grab"
          ],
          [
           "Offline/Trade Marketing (Đi Làm Ngay)"
          ],
          [
           "Front-End Developer ( React JS )"
          ],
          [
           "[Glints 5 Ngày] Fullstack Engineer"
          ],
          [
           "[Glints 5 Ngày] Senior Developer (Java/Python/AWS)"
          ],
          [
           "Country Specialist (VN)"
          ],
          [
           "Product Development Senior Officer"
          ],
          [
           "Performance Marketing Executive (Junior)"
          ],
          [
           "Trade Marketing (Đi Làm Ngay)"
          ],
          [
           "Thực Tập Sinh"
          ],
          [
           "NHÂN VIÊN KINH DOANH (DỊCH VỤ NHA KHOA)"
          ],
          [
           "Strategic Planning Lead"
          ],
          [
           "Fresher Python"
          ],
          [
           "Digital Marketing Specialist"
          ],
          [
           "NHÂN VIÊN KINH DOANH (DỊCH VỤ NHA KHOA)"
          ],
          [
           "KEY ACCOUNT SUPERVISOR"
          ],
          [
           "Creative Content Specialist"
          ],
          [
           "[Glints 5 Ngày] Brand Manager"
          ],
          [
           "CONTENT SPECIALIST"
          ],
          [
           "Nhân viên kinh doanh (Thu nhập đến 30 triệu)"
          ],
          [
           "Nhân viên tư vấn tuyển sinh  (Thu nhập đến 30 triệu)"
          ],
          [
           "Nhân viên tư vấn"
          ],
          [
           "DIGITAL MARKETING SPECIALIST"
          ],
          [
           "Beverage Sales Manager"
          ],
          [
           "Marcom Team Leader"
          ],
          [
           "Office Manager "
          ],
          [
           "Senior Marketing Executive (Product Marketing)"
          ],
          [
           "[Glints 5 Ngày] Test engineer"
          ],
          [
           "[Glints 5 Ngày] Backup Administrator"
          ],
          [
           "Nhân viên IT"
          ],
          [
           "Marketing Lead (HMC)"
          ],
          [
           "(Entry Level) Business Development "
          ],
          [
           "[Glints 5 Ngày] Senior Strategic Planner"
          ],
          [
           "Nhân Viên kinh Doanh Phần Mềm"
          ],
          [
           "TỔNG ĐÀI VIÊN TƯ VẤN"
          ],
          [
           "Business Development Executive - Hybrid Working"
          ],
          [
           "Accountant Clerk "
          ],
          [
           "[HCM] Junior Fullstack Software Engineer"
          ],
          [
           "Payable Accountant (Hybrid Working)"
          ],
          [
           "[Glints 5 Ngày] Cloud Security Consultant"
          ],
          [
           "Sales Executive"
          ],
          [
           "HEAD OF MARKETING"
          ],
          [
           "Power Platform Developer"
          ],
          [
           " Algorithm Engineer "
          ],
          [
           "CHUYÊN VIÊN DIGITAL MARKETING"
          ],
          [
           "[Glints 5 Ngày] Senior Java Developer"
          ],
          [
           "[HCM] UX/ UI Designer "
          ],
          [
           "PERFORMANCE MARKETING EXECUTIVE"
          ],
          [
           "[Glints 5 Ngày] Senior Backend (Java)"
          ],
          [
           "Nhân Viên Kinh Doanh Bất Động Sản ( Không Yêu Cầu Kinh Nghiệm) "
          ],
          [
           "Business And Partnership Development Senior Officer"
          ],
          [
           "Senior Frontend Developer"
          ],
          [
           "Back-End Developer (Golang)"
          ],
          [
           "SALE ADMIN RUG"
          ],
          [
           "Digital Marketing Specialist"
          ],
          [
           "Nhân Viên Tư Vấn Giáo Dục "
          ],
          [
           "NHÂN VIÊN TƯ VẤN QUA ĐIỆN THOẠI - KHÔNG YÊU CẦU KINH NGHIỆM"
          ],
          [
           "Human Resources Intern "
          ],
          [
           "[Glints 5 Ngày] Microsoft Dynamic Developer"
          ],
          [
           "NHÂN VIÊN TƯ VẤN (KHÔNG YÊU CẦU KINH NGHIỆM)"
          ],
          [
           "QUALITATIVE RESEARCH SPECIALIST"
          ],
          [
           "Nhân viên Chăm sóc khách hàng Part-time Không y/c kinh nghiệm"
          ],
          [
           "Customer Service Executive"
          ],
          [
           "SENIOR AD ROI PERFORMER - MEDIA DEPT"
          ],
          [
           "MERCHANDISE INTERN"
          ],
          [
           "TUYỂN DỤNG FLUTTER"
          ],
          [
           "TELESALES (KHÔNG YÊU CẦU KINH NGHIỆM)"
          ],
          [
           "BUSINESS CUSTOMER CONSULTANCY - B2B "
          ],
          [
           "ASSOCIATE DIGITAL MEDIA MANAGER"
          ],
          [
           "iOS Developer"
          ],
          [
           "Content Creator Executive"
          ],
          [
           "Content Creative Intern "
          ],
          [
           "Solution Architect / Technical Lead"
          ],
          [
           "Thực Tập Sinh Phân Tích Đầu Tư (Investment Intern)"
          ],
          [
           "CHUYÊN VIÊN TƯ VẤN - ĐƯỢC ĐÀO TẠO - LƯƠNG CƠ BẢN 20TR-HH HẤP DẪN"
          ],
          [
           "Fresh/Junior Automation Tester (QA/QC)"
          ],
          [
           "NHÂN VIÊN TƯ VẤN - LƯƠNG CỨNG 20 TRIỆU - KHÔNG KINH NGHIỆM"
          ],
          [
           "NHÂN VIÊN KINH DOANH - LƯƠNG CỨNG 20 TRIỆU - KHÔNG KINH NGHIỆM"
          ],
          [
           "[HCM] NHÂN VIÊN TELEMARKETING FULL-TIME"
          ],
          [
           "2D artist"
          ],
          [
           "REGIONAL SALES MANAGER (QUẢN LÝ BÁN HÀNG VÙNG)"
          ],
          [
           "Nhân viên Tư vấn phần mềm"
          ],
          [
           "Nhân viên Tư vấn phần mềm"
          ],
          [
           "Dynamite tuyển dụng Senior dotNET Developer"
          ],
          [
           "UIX Designer"
          ],
          [
           "Senior Digital Marketing"
          ],
          [
           "SALES EXECUTIVE"
          ],
          [
           "Web Developers (HTML CSS - JavaScript - PHP)"
          ],
          [
           "Japanese IT Communicator"
          ],
          [
           "Immigration Processing Executive"
          ],
          [
           "[HCM] Senior Software Tester"
          ],
          [
           "Business Development Intern"
          ],
          [
           "TRADE MARKETING MANAGER"
          ],
          [
           "[HCM] Cty CP KALAPA - Product Specialist"
          ],
          [
           "[Glints 5 Ngày] CRM - NAV Business Central Integration"
          ],
          [
           "NHÂN VIÊN TELESALE TẠI VĂN PHÒNG - LƯƠNG CỨNG ĐẾN 20 TRIỆU"
          ],
          [
           "SOCIAL MEDIA LEADER"
          ],
          [
           "CHUYÊN VIÊN TƯ VẤN BÁN HÀNG - LƯƠNG CỨNG 20 TRIỆU "
          ],
          [
           "Digital Marketing Leader"
          ],
          [
           "BASE TUYỂN DỤNG VỊ TRÍ BUSINESS CONSULTANT"
          ],
          [
           "Junior Accountant"
          ],
          [
           "Branded Content Writer [CV in English]"
          ],
          [
           "Building Infrastructure Engineering Manager"
          ],
          [
           "Marketing Specialist"
          ],
          [
           "Merchandise Intern"
          ],
          [
           "Pre-sale/Solution Consultant"
          ],
          [
           "Beverage Technical Sales"
          ],
          [
           "Business Development Intern"
          ],
          [
           "[Glints 5 Ngày] Senior software (embedded)"
          ],
          [
           "SCM / ERP Solution Consultant"
          ],
          [
           "[Glints 5 Ngày] Communication Manager"
          ],
          [
           "[Glints 5 Ngày] Marketing Executive"
          ],
          [
           "Performance Marketing Executive (Fresher)"
          ],
          [
           "Admin Yannews (Ưu tiên Nam/LGBT)"
          ],
          [
           "Fresher/Junior Tester [Quận Bình Thạnh - Nhận Việc Đi Làm Ngay]"
          ],
          [
           "Tuyển Dụng Social Media Marketer Part-time/Full-time 2022"
          ],
          [
           "Contract Management Executive"
          ],
          [
           "Nhân viên Telesales"
          ],
          [
           "RPA Developer ( All levels from Junior to Senior)"
          ],
          [
           "Chuyên Viên Tư Vấn Giải Pháp Công Nghệ"
          ],
          [
           "HR Intern"
          ],
          [
           "NHÂN VIÊN TELESALE "
          ],
          [
           "Assistant Procurement Manager (Construction)"
          ],
          [
           "[Glints 5 Ngày] Fullstack / Backend (Senior)"
          ],
          [
           "Senior Merchadiser"
          ],
          [
           "Sales Admin Intern"
          ],
          [
           "Thực Tập Sinh Investment Full-time 2022"
          ],
          [
           "Sales Executive"
          ],
          [
           "Chuyên Viên Telesales - Sản Phẩm Tiếng Anh Online Cho Trẻ Em"
          ],
          [
           "Fresher/Junior Tester"
          ],
          [
           "[Glints 5 Ngày] M365 Cloud Consultant"
          ],
          [
           "SENIOR COMMUNITY MANAGEMENT "
          ],
          [
           "Performance Marketing Intern"
          ],
          [
           "PR & Brand Manager "
          ],
          [
           "Tuyển dụng Flutter Dev"
          ],
          [
           "Nhân Viên Phát Triển Kinh Doanh (Business Development)"
          ],
          [
           "UX/UI Designer"
          ],
          [
           "Nhân Viên Kinh Doanh  Phụ Kiện Ô Tô ( Thu Nhập 15 - 30 Triệu)"
          ],
          [
           " Content and Creative Marketing (Part-Time/Intern)"
          ],
          [
           "Sales Assistant"
          ],
          [
           "SOCIAL COMMUNITY SENIOR EXECUTIVE"
          ],
          [
           "TELESALE VĂN PHÒNG - LƯƠNG CỨNG 20 TRIỆU - KHÔNG KINH NGHIỆM "
          ],
          [
           "Programming Teacher (Full-time/Part-time)"
          ],
          [
           "Business Development Executive (Phát Triển Kinh Doanh)"
          ],
          [
           "Customer Service Associate"
          ],
          [
           "Nhân Viên Telesale (Mỹ Phẩm)"
          ],
          [
           "HR Executive (Recruitment)"
          ],
          [
           "SENIOR MARKETING CRM MANAGER"
          ],
          [
           "Salesforce Developer Team Leader"
          ],
          [
           "[Glints 5 Ngày] Customer Success Executive"
          ],
          [
           "SALES BẤT ĐỘNG SẢN - CHUYÊN VIÊN KINH DOANH BẤT ĐỘNG SẢN"
          ],
          [
           "Experienced Automation Tester (QA/QC)"
          ],
          [
           "NHÂN VIÊN KINH DOANH"
          ],
          [
           "JAVA DEVELOPER (TPHCM - TT THANH TOÁN TRỰC TUYẾN FOXPAY)"
          ],
          [
           "Product Owner"
          ],
          [
           "Payment Gateway Specialist"
          ],
          [
           "[Glints 5 Ngày] Automation Tester"
          ],
          [
           "[Glints 5 Ngày] Software Engineer"
          ],
          [
           "Android Developer (Java)"
          ],
          [
           "Product Manager"
          ],
          [
           "Software Engineer Vietnam"
          ],
          [
           "Marketing and Personal Assistant"
          ],
          [
           "Content Specialist"
          ],
          [
           "Thực Tập Sinh Kinh Doanh Mảng Digital Marketing"
          ],
          [
           "General Accountant"
          ],
          [
           "[Glints 5 Ngày] Technical Lead – Technology  "
          ],
          [
           "PHP Laravel Developer"
          ],
          [
           "Thực Tập Sinh Kinh Doanh Mảng Digital Marketing"
          ],
          [
           "[Glints 5 Ngày] Business Development Associate"
          ],
          [
           "TUYỂN DỤNG BUSINESS DEVELOPMENT "
          ],
          [
           "CHUYÊN VIÊN QUẢN LÝ ĐỐI TÁC (E-COMMERCE)"
          ],
          [
           "Digital Marketing Senior Specialist"
          ],
          [
           "[Glints 5 Ngày] Java Software Architect"
          ],
          [
           "Event Planner"
          ],
          [
           "Product Owner "
          ],
          [
           "[Glints 5 Ngày] Exchange/Messaging Administrator"
          ],
          [
           "Business Development Executive "
          ],
          [
           "Tư vấn viên"
          ],
          [
           "Software Tester"
          ],
          [
           "Account Intern (Làm việc tại HCM)"
          ],
          [
           "Nhân Viên Phát Triển Kinh Doanh Part-time"
          ],
          [
           "IT Support"
          ],
          [
           "Account Supervisor (Account Supervisor)"
          ],
          [
           "Thực Tập Sinh Lập Trình Web (Back-end)"
          ],
          [
           "Thực Tập Sinh Lập Trình Web (Back-end)"
          ],
          [
           "Account and Business Development Executive"
          ],
          [
           "Senior Professional Financial Advisor"
          ],
          [
           "Fresher/Junior Backend Developer (Nodejs)"
          ],
          [
           "Nhân viên Telesales (8 - 10 triệu lương cứng) và Thưởng "
          ],
          [
           "CHUYÊN VIÊN QUAN HỆ KHÁCH HÀNG CÁ NHÂN"
          ],
          [
           "ACCOUNT SUPERVISOR (COMMUNICATION AGENCY)"
          ],
          [
           "Account Manager"
          ],
          [
           "[Gò Vấp - HCM] Nhân viên tư vấn khách hàng"
          ],
          [
           "Middle Software Tester"
          ],
          [
           "Business Intern"
          ],
          [
           "Sales Admin"
          ],
          [
           "[Glints 5 Ngày]Mid-Senior Frontend Developer (ReactJS)"
          ],
          [
           "[Glints 5 Ngày] Backend Developer"
          ],
          [
           "[EMERS] Business development manager for Golf/ sports fashion"
          ],
          [
           "[Glints 5 Ngày] Fullstack Developer"
          ],
          [
           "Junior Developer"
          ],
          [
           "[Glints 5 Ngày] General Manager"
          ],
          [
           "Thực Tập Sinh Kinh Doanh ( Lương Cứng/Hỗ Trợ Dấu Mộc/ HCM ) "
          ],
          [
           "Sales Admin - Influencer Marketing Executive"
          ],
          [
           "Account Supervisor"
          ],
          [
           "Marketing Executive Intern "
          ],
          [
           "Sr Software QA"
          ],
          [
           "THỰC TẬP SINH KINH DOANH FULL-TIME"
          ],
          [
           "Nhân viên Hành chính - Nhân sự tổng hợp"
          ],
          [
           "TUYỂN NHÂN VIÊN KINH DOANH SÀN THƯƠNG MẠI ĐIỆN TỬ LUU.VN"
          ],
          [
           "Telesale Part-time"
          ],
          [
           "Software Engineer (ReactJS/NextJS/Golang)"
          ],
          [
           "Cộng Tác viên Kinh Doanh sản phẩm cho Thú cưng"
          ],
          [
           "Admin Executive "
          ],
          [
           "Senior Marketing Executive"
          ],
          [
           "Store Trainer, Vietnam"
          ],
          [
           "Cộng tác viên Telemarketing "
          ],
          [
           "Nhân Viên Telesale Full Time / Part Time"
          ],
          [
           "TƯ VẤN TUYỂN SINH -PV ONLINE "
          ],
          [
           "Quản trị Website và IT"
          ],
          [
           "Senior Legal Team Leader"
          ],
          [
           "[Glints 5 Ngày] Account Executive"
          ],
          [
           "[Glints 5 Ngày] Business Executive"
          ],
          [
           "[HCM] NET Developer"
          ],
          [
           "Telesales Team Leader (Nutrition Project)"
          ],
          [
           "[Glints 5 Ngày] Software Engineer"
          ],
          [
           "Manual QC ( Also open for LEAD position)"
          ],
          [
           "[HCM] Angular Developer"
          ],
          [
           "Senior UI UX Designer AIA Vietnam lương upto 60M làm hybrid"
          ],
          [
           "Dcor l Nhân viên bán hàng nội thất cao cấp lương upto 40M"
          ],
          [
           "HCM - ZaloPay - Java Developer (Open All Level)"
          ],
          [
           "[Glints 5 Ngày] Digital Media Manager"
          ],
          [
           "[Glints 5 Ngày] Frontend Bridge Engineer (ReactJS/JLPT N2)"
          ],
          [
           "Partnership Development Specialist"
          ],
          [
           "Marketing Specialist"
          ],
          [
           "[Glints 5 Ngày] Fullstack C"
          ],
          [
           "Junior Quality Controller"
          ],
          [
           "Thực Tập Sinh Telesales"
          ],
          [
           "Thực Tập Sinh Kinh Doanh ( Lương Cứng/Hỗ Trợ Dấu Mộc)"
          ],
          [
           "[Glints 5 Ngày] Program Officer"
          ],
          [
           "Associate Product Management (APM) Intern"
          ],
          [
           "[Glints 5 Ngày] Sales Manager"
          ],
          [
           "Nhân Viên Tư Vấn Part time"
          ],
          [
           "[Glints 5 Ngày] Head of Commercial"
          ],
          [
           "Chuyên Viên Điều Phối Kiểm Soát Chất Lượng Thu Hồi Nợ"
          ],
          [
           "Sales Assistant"
          ],
          [
           "SENIOR ACCOUNT EXECUTIVE"
          ],
          [
           "Customer Service Executive"
          ],
          [
           "PHP Developer"
          ],
          [
           "Nhân Viên Tư Vấn Tuyển Sinh"
          ],
          [
           "Nhân Viên Kinh Doanh"
          ],
          [
           "Sale Admin"
          ],
          [
           "Project Coordinator Intern"
          ],
          [
           "Senior Developer (Techlead)"
          ],
          [
           "CHUYÊN VIÊN TƯ VẤN TUYỂN SINH ( 10-15 TRIỆU/THÁNG)"
          ],
          [
           "Nhân viên Telesale Part time"
          ],
          [
           "Thực Tập Sinh Công Nghệ Thông Tin"
          ],
          [
           "Talent Sourcer - Fresh Graduate"
          ],
          [
           "[Glints 5 Ngày] Backend Engineer - UCC"
          ],
          [
           "Nhân Viên Kinh Doanh"
          ],
          [
           "[HCM] Thực tập sinh Kinh doanh cho thuê"
          ],
          [
           "Sales Admin"
          ],
          [
           "Customer Support Executive"
          ],
          [
           "[GRABLINGO] TUYỂN DỤNG CHUYÊN VIÊN TƯ VẤN TUYỂN SINH"
          ],
          [
           "Digital Marketing Executive"
          ],
          [
           "Voice Over LTE/5G Software Engineer"
          ],
          [
           "Content Leader (Trưởng phòng)"
          ],
          [
           "Senior Sales (Chemical) "
          ],
          [
           "[Glints 5 Ngày] Java Developer"
          ],
          [
           "[Glints 5 Ngày] Senior Backend Engineer (PHP/Go/NodeJS)"
          ],
          [
           "[Glints 5 Ngày] Mid-Senior Fullstack Developer "
          ],
          [
           "NHÂN VIÊN KINH DOANH (ĐI LÀM NGAY)"
          ],
          [
           "[Glints 5 Ngày] Junior/Senior/Mid Ruby/Golang Developer"
          ],
          [
           "PANDORA VIỆT NAM- DESIGNER"
          ],
          [
           "[HCM] Tư Vấn Viên - Part Time"
          ],
          [
           "Marketing Executive (Korean Topik 5)"
          ],
          [
           "HR and Admin Intern"
          ],
          [
           "Nhân Viên Telesale LƯƠNG CAO (Ca Đêm )"
          ],
          [
           "[Glints 5 Ngày] iOS Developer"
          ],
          [
           "DevOps Engineer (Python) - Salary 1700-2500"
          ],
          [
           "Unity Developer"
          ],
          [
           "Thực Tập Sinh Tuyển Dụng"
          ],
          [
           "Chuyên Viên Tuyển Dụng"
          ],
          [
           "[Glints 5 Ngày] C Bridge Software Engineer (JLPT N2)"
          ],
          [
           "[HCM] Nhân Viên Kinh Doanh Thang Máy"
          ],
          [
           "[HCM] NHÂN VIÊN TRADE MARKETING"
          ],
          [
           "Nhân Viên Tư Vấn Khách Hàng (không yêu cầu kinh nghiệm)"
          ],
          [
           "Nhân Viên Tư Vấn Chăm Sóc Khách Hàng (không yêu cầu kinh nghiệm)"
          ],
          [
           "Nhân Viên Tư Vấn Chăm Sóc Khách Hàng (Lương cứng 8 triệu)"
          ],
          [
           "Nhân Viên Kinh Doanh Tư Vấn Chăm Sóc Khách Hàng "
          ],
          [
           "Nhân Viên Kinh Doanh"
          ],
          [
           "Nhân Viên Telesale Ca Đêm LƯƠNG CAO Ổn Định"
          ],
          [
           "BUSINESS INTERN"
          ],
          [
           "SALES - BEVERAGE"
          ],
          [
           "Thực Tập Sinh Marketing"
          ],
          [
           "Delivery Manager"
          ],
          [
           "Digital Marketing - Ngành Phụ trợ ô tô Quận 7 (Junior/Senior)"
          ],
          [
           "[Glints 5 Ngày] QA Developer (Microsoft Dynamic)"
          ],
          [
           "Barista "
          ],
          [
           "TUYỂN DỤNG CHUYÊN VIÊN XÂY DỰNG THƯƠNG HIỆU TUYỂN DỤNG"
          ],
          [
           "Content Leader - Mỹ Phẩm"
          ],
          [
           "Marketing Project Manager"
          ],
          [
           "Lập trình viên FPT SOFTWARE - Làm online tại nhà"
          ],
          [
           "EMPLOYER BRANDING SPECIALIST"
          ],
          [
           " IT SUPPORT INTERN"
          ],
          [
           "Full stack developer"
          ],
          [
           "Partnerships Assistant Manager"
          ],
          [
           "Nhân viên tư vấn tuyển sinh"
          ],
          [
           "Game Designer"
          ],
          [
           "Nhân Viên Telesales Tư Vấn Kinh Doanh"
          ],
          [
           "Nhân Viên Chăm Sóc Khách Hàng (Nữ)"
          ],
          [
           "Customer Support Executive"
          ],
          [
           "[Gấp] DIRECT SALE SPA – Thu nhập hấp dẫn lên đến 50tr"
          ],
          [
           "Customer Success Executive (Day and Nights Shifts)"
          ],
          [
           "[Glints 5 Ngày] Procurement Manager"
          ],
          [
           "[Glints 5 Ngày] System and Network Engineer"
          ],
          [
           "[HCM] Nhân Viên Kinh Doanh Tour Outbound"
          ],
          [
           "Flutter Mobile Developer (iOS/Android)"
          ],
          [
           "[Glints 5 Ngày] PHP Developer"
          ],
          [
           "[Glints 5 Ngày] Head Domestic Sales Director"
          ],
          [
           "JUNIOR ACCOUNT EXECUTIVE"
          ],
          [
           "[Glints 5 Ngày] Senior Salesforce"
          ],
          [
           "Nhân viên Telesales (Part - time)"
          ],
          [
           "Fresher/Junior Mobile Developer (React Native)"
          ],
          [
           "HR and Admin Manager"
          ],
          [
           "[Glints 5 Ngày] Applications Security Engineer"
          ],
          [
           "Marketing Intern"
          ],
          [
           "ACCOUNT MANAGER"
          ],
          [
           "Nhân viên Tư vấn qua Điện thoại"
          ],
          [
           "[HCM] Program Officer (immigration) - upto 30mil"
          ],
          [
           "FINANCIAL CONSULTANT"
          ],
          [
           "[Glints 5 Ngày] PM (Japanese)"
          ],
          [
           "Product Engineer"
          ],
          [
           "Nhân viên Telesales - Đi làm ngay"
          ],
          [
           "Thực Tập Sinh Kinh Doanh"
          ],
          [
           "Immigration Processing Executive"
          ],
          [
           "COPYWRITER"
          ],
          [
           "Brand - Communication Leader"
          ],
          [
           "Chuyên Viên Tuyển Dụng"
          ],
          [
           "NHÂN VIÊN KINH DOANH"
          ],
          [
           "NHÂN VIÊN KINH DOANH"
          ],
          [
           "Full Stack Developer"
          ],
          [
           "Senior Frontend Software Engineer"
          ],
          [
           "Trưởng phòng Thu mua- NXK"
          ],
          [
           "IT Helpdesk Support and Administrator"
          ],
          [
           "Tuyển Dụng Finance Executive"
          ],
          [
           "Content Creator"
          ],
          [
           "[Glints 5 Ngày] Commvault Backup Administrator"
          ],
          [
           "Assistant to the Chief Financial Officer (AI Edtech Company)"
          ],
          [
           "Performance Marketing Executive"
          ],
          [
           "[Glints 5 Ngày] Senior SharePoint Engineer"
          ],
          [
           "Android Developer (Junior – Senior Level)"
          ],
          [
           "[Glints 5 Ngày] Digital Sales Manager"
          ],
          [
           "Sales Executive (IT/Telecom Services – B2B)"
          ],
          [
           "NHÂN VIÊN KINH DOANH "
          ],
          [
           "Recruitment Executive"
          ],
          [
           "Chuyên viên tư vấn bảo hiểm"
          ],
          [
           "Software Engineer Intern (dotNET)"
          ],
          [
           "[HCM] Credit Intern ( Thực Tập Sinh Thẩm Định) "
          ],
          [
           "Thực Tập Sinh Telesales "
          ],
          [
           "Nhân Viên Phòng Kinh Doanh/Chăm Sóc Khách Hàng"
          ],
          [
           "TTS SALES MARKETING"
          ],
          [
           "Thực Tập Sinh Tuyển Dụng"
          ],
          [
           "Cộng Tác Viên Tuyển Dụng - Nhân Sự"
          ],
          [
           "Customer Support Executive"
          ],
          [
           "Unity Developer"
          ],
          [
           "[HCM] Student Care Officer"
          ],
          [
           "[Glints 5 Ngày] Frontend Developer (Flutter)"
          ],
          [
           "Nhân viên Tư vấn qua Điện thoại (Part - time)"
          ],
          [
           "[Zumstart] Recruitment Specialist"
          ],
          [
           "Electrical Engineer"
          ],
          [
           "[Glints 5 Ngày] DevOps Engineer"
          ],
          [
           "(FRESHER - SENIOR) BACKEND DEVELOPER"
          ],
          [
           "Thực Tập Sinh Phòng Kinh Doanh/Chăm Sóc Khách Hàng"
          ],
          [
           "AI Engineer "
          ],
          [
           "[Glints 5 Ngày] Embedded Android Engineer"
          ],
          [
           "Software Development Manager in fast developing vibrant startup"
          ],
          [
           "[Glints 5 Ngày] Senior Software Engineer – Technology  "
          ],
          [
           " Account Manager"
          ],
          [
           "Learning and Development Intern"
          ],
          [
           "[Glints 5 Ngày] Citrix Administrator"
          ],
          [
           "[Glints 5 Ngày] Sales Team Leader"
          ],
          [
           "Management Accountant "
          ],
          [
           "Tax Accountant"
          ],
          [
           "THỰC TẬP SINH HÀNH CHÍNH KẾ TOÁN"
          ],
          [
           "[Glints 5 Ngày] Java Developer/ Senior"
          ],
          [
           "Strategic Planner"
          ],
          [
           "[Glints 5 Ngày] Sales Manager"
          ],
          [
           "Fullstack Developer"
          ],
          [
           "Junior Devops Engineer"
          ],
          [
           "Nhân viên bán hàng Online (Có thể làm việc từ xa)"
          ],
          [
           "NHÂN VIÊN NHẮC PHÍ/THU HỒI NỢ QUA ĐIỆN THOẠI (8 - 20 TRIỆU)"
          ],
          [
           "CHUYÊN VIÊN TƯ VẤN KHÁCH HÀNG THU NHẬP TỪ 8 TRIỆU TRỞ LÊN"
          ],
          [
           "Software Developer"
          ],
          [
           " Trưởng Phòng Kinh Doanh Bất Động Sản (Đất Nền)"
          ],
          [
           "Nhân Viên Kiểm Soát Chất Lượng (QC)"
          ],
          [
           "Unity Developer (Game NFT)"
          ],
          [
           "Content Creator"
          ],
          [
           "ENGLISH CONTENT WRITER"
          ],
          [
           "Trưởng Phòng Quản Trị Hệ Thống Mạng"
          ],
          [
           "[Glints 5 Ngày] DevEx Engineer (DevSecOps)"
          ],
          [
           "THỰC TẬP SINH TÀI NĂNG CÁN BỘ CHẤT LƯỢNG (TPHCM)"
          ],
          [
           "Nhân Viên Kinh doanh Q8"
          ],
          [
           "[Glints 5 Ngày] Sales Manager"
          ],
          [
           "[HCM] Product Designer"
          ],
          [
           "Điều phối viên dự án ( biết nói Tiếng Hàn )"
          ],
          [
           "Telemarketing - Tư vấn giải pháp phần mềm qua điện thoại"
          ],
          [
           "Sr Fullstack developer (HTML5/JS/ basic backend)"
          ],
          [
           "[Glints 5 Ngày] Group Brand Manager"
          ],
          [
           "[HCM] CORPORATE PR INTERN"
          ],
          [
           "[Quận 8- HCM] Nhân Viên Kinh doanh"
          ],
          [
           "Graphic Designer"
          ],
          [
           "Content Leader"
          ],
          [
           "Nhân Viên Bán Hàng - Siêu Thị Farmers Market"
          ],
          [
           "Business Development Leader"
          ],
          [
           "BEVERAGE R AND D (BARISTA)"
          ],
          [
           "Content Writer (Salary 10M - 12M) "
          ],
          [
           "Partnership - PR Manager [CV in English]"
          ],
          [
           "Nhân Viên Kinh Doanh Bất Động Sản"
          ],
          [
           "Nhân Viên QC (Tester)"
          ],
          [
           "TUYỂN DỤNG NHÂN VIÊN KINH DOANH"
          ],
          [
           "Sales Leader (B2B)"
          ],
          [
           "Digital and Transformation Project Risk Manager"
          ],
          [
           "[Glints 5 Ngày] Senior Backend (NodeJS)"
          ],
          [
           "ADMIN HÀNH CHÍNH LỄ TÂN"
          ],
          [
           "Graphic Design Intern"
          ],
          [
           "Payable Accountant"
          ],
          [
           "KEY ACCOUNT EXECUTIVE – BAKERY"
          ],
          [
           "[Glints 5 Ngày] Lead Account Manager - Enterprise"
          ],
          [
           "Nhân Viên Content Marketing"
          ],
          [
           "Thực tập sinh Back - End Developer"
          ],
          [
           "[Glints 5 Ngày] Software Architect"
          ],
          [
           "Nodejs Developer"
          ],
          [
           "Business Development Manager"
          ],
          [
           "HRBP Specialist"
          ],
          [
           "Recruitment Team Leader"
          ],
          [
           "UI/UX Designer"
          ],
          [
           "Full Time Advisor"
          ],
          [
           "Nhân Viên Telesales (Chăm Sóc Khách Hàng) Part-time"
          ],
          [
           "Thực Tập Sinh Kinh Doanh ( Lương Cứng/Hỗ Trợ Dấu Mộc)"
          ],
          [
           "[HCM] Nhân Viên Kinh Doanh"
          ],
          [
           "Scrum Master (Agile PM)"
          ],
          [
           "React Native Developer"
          ],
          [
           "Thực Tập Sinh Account"
          ],
          [
           "Business Development Manager (Agoda Homes Vietnam)"
          ],
          [
           "Golang Developer"
          ],
          [
           "NET Developer - All Levels"
          ],
          [
           "Telecommunication Application Developer (Fresher)"
          ],
          [
           "Java Developer – Senior/ Middle"
          ],
          [
           "Senior PHP Developer (Drupal)"
          ],
          [
           "NHÂN VIÊN KINH DOANH"
          ],
          [
           "Nhân Viên Tư Vấn Part-time"
          ],
          [
           "Admin Intern"
          ],
          [
           "Senior College Compass Program Consultant"
          ],
          [
           "Mobile Engineer (Flutter)"
          ],
          [
           "System Admin (Quản Trị Hệ Thống) "
          ],
          [
           "IOS Developer "
          ],
          [
           "Software Developer"
          ],
          [
           "Account Executive (CV in English)"
          ],
          [
           "NHÂN VIÊN HÀNH CHÍNH VĂN PHÒNG"
          ],
          [
           "NHÂN VIÊN VĂN PHÒNG"
          ],
          [
           "[FTI/HCM] Nhân Viên Kinh Doanh Dự Án (B2B)"
          ],
          [
           "Mid-Senior Java Developer (Middle Office) "
          ],
          [
           "[HCM] Dynamite tuyển dụng Game Designer"
          ],
          [
           "Senior Marketing Executive"
          ],
          [
           "Social Media Executive"
          ],
          [
           "[Glints 5 Ngày] Blockchain Developer"
          ],
          [
           "PERSONAL ASSISTANT "
          ],
          [
           "Mid/Senior ReactJs/Vuejs Developer"
          ],
          [
           "TRƯỞNG PHÒNG MARKETING"
          ],
          [
           "Nhân viên Kinh doanh (Part-time)"
          ],
          [
           "Nhân Viên Chăm Sóc Khách Hàng"
          ],
          [
           "UI/UX Designer "
          ],
          [
           "SOCIAL MEDIA LEADER"
          ],
          [
           "Deputy Brand Manager | Phong Vũ Computer"
          ],
          [
           "[Agency] Design Intern "
          ],
          [
           "Senior Power Platform Developer"
          ],
          [
           "[Remote 3-6 tháng]TỔNG ĐÀI VIÊN CSKH"
          ],
          [
           "[Glints 5 Ngày] Sales Manager (Study Abroad)"
          ],
          [
           "Graphic Designer (Middle/Senior)"
          ],
          [
           "Nhân Viên Hỗ Trợ Ứng Dụng (Y/c Tiếng Pháp)"
          ],
          [
           "Nhân Viên Kinh Doanh ( Phần mềm)"
          ],
          [
           "[HCM] Quản Lý Cơ Sở"
          ],
          [
           "Digital Marketing Team Leader"
          ],
          [
           "[HCM] Performance Digital Marketing "
          ],
          [
           "[Glints 5 Ngày] Mobile Developer (Flutter)"
          ],
          [
           "Python Developer (Django) – All Levels"
          ],
          [
           "Principal Software Engineer - Web3 Backend"
          ],
          [
           "Steel Structural Engineer"
          ],
          [
           "[The Meaningful Agency] Senior Graphic Designer "
          ],
          [
           "[Media Agency] Digital Designer "
          ],
          [
           "SALE ADMIN"
          ],
          [
           "SALE ACCOUNT EXECUTIVE (Online)"
          ],
          [
           "Nhân Viên Tư Vấn Khóa Học Fulltime"
          ],
          [
           "Nhân Viên Kinh Doanh Sales Website"
          ],
          [
           "Communication Officer"
          ],
          [
           "HN/HCM/DN - Application Security Engineer (1000 - 2000 USD )"
          ],
          [
           "TUYỂN DỤNG  NHÂN SỰ KINH DOANH SÀN THƯƠNG MẠI ĐIỆN TỬ LUU"
          ],
          [
           "[Glints 5 Ngày] Solution Architect"
          ],
          [
           "[HCM] ACCOUNT EXECUTIVE "
          ],
          [
           "[Glints 5 Ngày] Senior Software Developer"
          ],
          [
           "[Glints 5 Ngày] HRBP"
          ],
          [
           "LOGISTICS MANAGER"
          ],
          [
           "Assistant CEO"
          ],
          [
           "Sales Lead (Events)"
          ],
          [
           "Trưởng Nhóm Kinh Doanh"
          ],
          [
           "Software Engineer Intern (Net)"
          ],
          [
           "Game Design"
          ],
          [
           "CHUYÊN VIÊN MARKETING"
          ],
          [
           "[HCM] Nhân Viên Kinh Doanh"
          ],
          [
           "[HCM] UI/UX Designer"
          ],
          [
           "[HCM] Nhân Viên Tư Vấn Tuyển Sinh"
          ],
          [
           "Senior Event Planner"
          ],
          [
           "UI/UX Designer"
          ],
          [
           "Digital Marketing Manager (Vietnam - Remote)"
          ],
          [
           "Marketing Manager (Vietnam - Remote)"
          ],
          [
           "DIGITAL MARKETING"
          ],
          [
           "General Accountant (Temporary 8 months)"
          ],
          [
           "Employer Branding/Internal Communication"
          ],
          [
           "Điều Dưỡng Viên - Chi Nhánh Quận 1 HCM"
          ],
          [
           "Điều Dưỡng Viên - Chi nhánh Nguyễn Văn Luông (Quận 6-HCM)"
          ],
          [
           "Điều Dưỡng Viên - Chi Nhánh Huỳnh Tấn Phát (Quận 7-HCM)"
          ],
          [
           "Điều Dưỡng Viên - Chi Nhánh Nguyễn Kiệm (Gò Vấp-HCM)"
          ],
          [
           "Senior Project Engineer"
          ],
          [
           "Customer Service Representative "
          ],
          [
           "CHUYÊN VIÊN QUẢN TRỊ CRM"
          ],
          [
           "Content Leader "
          ],
          [
           "Brand Manager (FMCG)"
          ],
          [
           "Sales Support Executive (GT Channel)"
          ],
          [
           "Customer Success Specialist remote"
          ],
          [
           "Thực tập sinh chăm sóc khách hàng remote (Customer Service)"
          ],
          [
           "SOCIAL MEDIA LEADER "
          ],
          [
           "CnB Executive"
          ],
          [
           "THỰC TẬP SINH (LẬP TRÌNH MOBILE - ANDROID)"
          ],
          [
           "Trưởng phòng Marketing"
          ],
          [
           "HCM - Middle/Senior NodeJS Developer"
          ],
          [
           "Partnership Manager"
          ],
          [
           " (HCM) Senior Product Specialist (Industry/Institution)"
          ],
          [
           "[HCM] Nhân Viên Tư Vấn Tuyển Sinh"
          ],
          [
           "DIGITAL MARKETING MANAGER"
          ],
          [
           "Max Group tuyển dụng Digital Performance Marketing Leader"
          ],
          [
           "[HCM] Công ty Thái Mậu Tuyển Chuyên Viên Tuyển Dụng"
          ],
          [
           "Remote Java Developer"
          ],
          [
           "Sale Manager (E-Commerce)"
          ],
          [
           "Assistant to CEO"
          ],
          [
           "[Glints 5 Ngày] DevOps Engineer"
          ],
          [
           "Salesforce Developer (6 months contract)"
          ],
          [
           "COPYWRITER INTERN"
          ],
          [
           "Thực Tập Sinh Quản Lý Dự Án "
          ],
          [
           "Project Management Intern (Backend Team) "
          ],
          [
           "BUSINESS DEVELOPMENT/ BUSINESS CONSULTANT (B2B SALES)"
          ],
          [
           "TUYỂN CTV KINH DOANH SÀN TMĐT LUU.VN"
          ],
          [
           "Angular/NodeJS Full Stack Developer (remote)"
          ],
          [
           "Dynamite tuyển dụng Product Game Designer (UI/UX)"
          ],
          [
           "Communication Manager"
          ],
          [
           "Senior UIUX Designer "
          ],
          [
           "Nhân Viên Kinh Doanh"
          ],
          [
           "Nhân viên tư vấn tuyển sinh - Thu nhập hấp dẫn từ 10 triệu"
          ],
          [
           "NHÂN VIÊN TƯ VẤN TUYỂN SINH"
          ],
          [
           "HR Generalist"
          ],
          [
           "Nhân viên Tư vấn tuyển sinh (Telesales)"
          ],
          [
           "Regional Employee Experience Manager"
          ],
          [
           "[Urgent] UX Engineer (Up to 3000USD)"
          ],
          [
           "[HCM] Digital Marketing Team Leader"
          ],
          [
           "Java developer (EDI tech) "
          ],
          [
           "Mobile Developer"
          ],
          [
           "Senior Pentester"
          ]
         ],
         "hovertemplate": "job_location=Ho Chi Minh City<br>Mức lương=%{x}<br>Số năm kinh nghiệm=%{y}<br>Loại công việc=%{z}<br>job_title=%{customdata[0]}<extra></extra>",
         "legendgroup": "Ho Chi Minh City",
         "marker": {
          "color": "#636efa",
          "symbol": "circle"
         },
         "mode": "markers",
         "name": "Ho Chi Minh City",
         "scene": "scene",
         "showlegend": true,
         "type": "scatter3d",
         "x": [
          40000000,
          8500,
          2500,
          4500,
          4000,
          20000000,
          30000000,
          38000000,
          25000000,
          150,
          18000000,
          2500000,
          3000000,
          2500000,
          150,
          11999900,
          1250,
          14000000,
          15000000,
          2250,
          850,
          3000000,
          15000000,
          15000000,
          150,
          150,
          15000000,
          1450,
          1100,
          900,
          22500000,
          1150,
          750,
          17500000,
          18000000,
          30000000,
          150,
          17.5,
          1800,
          150,
          1100,
          2800,
          2400,
          17500000,
          20000000,
          5000000,
          150,
          37000000,
          1050,
          1600,
          1850,
          3750000,
          11500000,
          850,
          15000000,
          150,
          25000,
          20000000,
          7000000,
          150,
          10000000,
          17500000,
          15000,
          16500000,
          1000,
          1050.5,
          150,
          3250,
          2250,
          12500000,
          1250,
          2000,
          25000000,
          14000000,
          3250,
          21000000,
          1000000,
          150,
          3000000,
          36500000,
          2750,
          350,
          775,
          825,
          8000000,
          150,
          150,
          3000000,
          3150,
          4000,
          150,
          525,
          18000000,
          4000000,
          37500000,
          150,
          40000000,
          1550,
          13000000,
          8500000,
          12000000,
          50000000,
          3000,
          150,
          12500000,
          1050.5,
          2000,
          150,
          150,
          1050.5,
          21500000,
          1500,
          20000000,
          3000,
          150,
          3000000,
          700,
          100,
          16000000,
          900,
          11500000,
          1000,
          150,
          750,
          17000000,
          17500000,
          10000000,
          2000000,
          150,
          2000,
          2000,
          30000000,
          1055,
          60000000,
          750,
          24500000,
          4000000,
          1750,
          8000000,
          6000000,
          750,
          17500000,
          16000000,
          132500000,
          20000000,
          2000,
          12500000,
          700,
          40000000,
          2000000,
          38500000,
          150,
          3000000,
          150,
          150,
          350,
          18000000,
          100,
          36000000,
          2250,
          100,
          21500000,
          1050.5,
          2750,
          14500000,
          800,
          150,
          37500000,
          2250,
          10000000,
          2500,
          1250,
          1250,
          17000000,
          150,
          4600,
          3200,
          150,
          150,
          30000000,
          300,
          2500,
          200,
          2000000,
          3250,
          40000000,
          11000000,
          4750000,
          800,
          1050.5,
          14000000,
          11500000,
          25000050,
          150,
          22500000,
          2000000,
          32500000,
          2000,
          9000000,
          2250,
          15000000,
          5000000,
          17500000,
          45000000,
          1100,
          21500000,
          1250,
          14500000,
          16500000,
          1150,
          14000000,
          37500000,
          1250,
          12500000,
          1050,
          30000000,
          17500000,
          1500,
          150,
          150,
          150,
          150,
          150,
          28000000,
          22500000,
          20000000,
          3000000,
          10500000,
          22500000,
          16500000,
          80000000,
          22500000,
          25000000,
          40000000,
          150,
          150,
          2000000,
          1400,
          1400,
          2050,
          20000000,
          13500000,
          65000000,
          150,
          19000000,
          2150,
          150,
          150,
          17000000,
          2500,
          25000000,
          500,
          27500000,
          1750,
          27500000,
          10000000,
          9500000,
          2000,
          2750,
          35000000,
          850,
          1050.5,
          11000000,
          8500000,
          2000000,
          11000000,
          2250,
          1150,
          1750,
          12000000,
          150,
          18000000,
          60000000,
          18000000,
          8500000,
          8500000,
          8500000,
          18000000,
          150,
          22500000,
          47500000,
          700,
          1000,
          3250,
          950,
          150,
          11000000,
          30000000,
          11000000,
          11000000,
          1000,
          150,
          13000000,
          17000000,
          3000,
          13500000,
          150,
          150,
          16000000,
          16500000,
          3050,
          150,
          14500000,
          2500,
          13000000,
          1050.5,
          3000,
          2000,
          150,
          2000,
          8500000,
          10100,
          2000000,
          1750,
          17500000,
          18000000,
          150,
          11000000,
          150,
          2000000,
          800,
          16000000,
          23500000,
          35000000,
          1250.5,
          10000,
          2250,
          3250,
          2500000,
          13000000,
          150,
          13000000,
          15000000,
          5999900,
          18500000,
          150,
          650,
          650,
          1500,
          1300,
          1100,
          10000000,
          1050,
          1250,
          11000000,
          16500000,
          1100000,
          150,
          22500000,
          3500,
          13000000,
          20000000,
          13000000,
          25000000,
          28500000,
          12500000,
          12500000,
          2750,
          750,
          150,
          150,
          16000000,
          2500000,
          2500,
          150,
          1850,
          12500000,
          150,
          150,
          13000000,
          4500000,
          20000000,
          7500000,
          2100,
          12000000,
          2500000,
          14000000,
          14500000,
          3000,
          15000000,
          2000000,
          3000050,
          1000,
          21500000,
          13000000,
          3000,
          18000000,
          4600000,
          25000000,
          100,
          12500000,
          2250,
          20000000,
          5000000,
          10000000,
          150,
          450,
          10000000,
          12500000,
          12500000,
          12500000,
          15000000,
          65000000,
          50000000,
          10000000,
          31000000,
          150,
          8000000,
          20000000,
          150,
          17500000,
          2500,
          37000000,
          1500,
          32500000,
          1050,
          750,
          15000000,
          1000000,
          16500000,
          17000,
          1750000,
          1000000,
          3000,
          750,
          17000000,
          1050.5,
          5500,
          20500000,
          42500000,
          3250,
          150,
          150,
          1850,
          3000000,
          4000000,
          425,
          150,
          300,
          300,
          8000000,
          13500000,
          13000000,
          9000000,
          17500000,
          15500000,
          150,
          8500000,
          150,
          100,
          10500000,
          3000,
          21000000,
          25000000,
          25000000,
          20000000,
          1750,
          11500000,
          600,
          150,
          3000000,
          150,
          1500000,
          8000000,
          6000000,
          2000000,
          32500000,
          5000000,
          13500000,
          900,
          25000000,
          1500000,
          23050,
          7000000,
          14000000,
          150,
          1500,
          22500000,
          17500000,
          15500000,
          800,
          1000,
          16500000,
          50000000,
          24000000,
          150,
          30000000,
          3000,
          16500000,
          15000000,
          1750,
          6500000,
          2250000,
          2250000,
          30000000,
          4600000,
          2000,
          5000000,
          125000000,
          150,
          150,
          17500000,
          9000000,
          22500000,
          18500000,
          11500000,
          14000000,
          2000000,
          45000000,
          12500000,
          2000000,
          150,
          7000000,
          2250,
          9000000,
          2000000,
          12000000,
          13500000,
          8500000,
          64500000,
          150,
          16000000,
          22500000,
          38500000,
          3000,
          3000,
          10000000,
          33500000,
          22500000,
          6000000,
          1050.5,
          150,
          20000000,
          2000,
          2100,
          35000000,
          3000000,
          16000000,
          2050,
          11500000,
          11000000,
          11500000,
          11500000,
          11500000,
          11500000,
          11500000,
          20000000,
          150,
          150,
          4420000,
          27500000,
          12500000,
          1750,
          850,
          18000000,
          20000000,
          20000000,
          4000,
          18000000,
          4000000,
          1500,
          150,
          12000000,
          10000000,
          11500000,
          10000000,
          13500000,
          15000000,
          13500000,
          27500000,
          50000000,
          18500000,
          1500,
          1750,
          5000,
          14000000,
          2250,
          4750000,
          13000000,
          750,
          1250,
          150,
          30000000,
          8500000,
          27500000,
          10000000,
          3200,
          40000000,
          8500000,
          6000000,
          11000000,
          9000000,
          25000000,
          15000000,
          10000000,
          10000000,
          2000,
          3000,
          24000000,
          11500000,
          17500000,
          12500000,
          1750,
          17500000,
          17500000,
          2000,
          400000000,
          1750,
          14000000,
          10000000,
          10500000,
          20000000,
          2000000,
          5000000,
          2000000,
          16500000,
          150,
          3000000,
          4000000,
          13500000,
          1500,
          8500000,
          1350,
          5000000,
          11500000,
          22500000,
          800,
          16500000,
          13000000,
          8000000,
          1700,
          1250,
          12000,
          25000000,
          3000000,
          2900,
          20000000,
          20500000,
          150,
          1000000,
          2000,
          150,
          1250,
          750,
          950,
          10000000,
          14000000,
          14000000,
          1750,
          56000000,
          8500000,
          150,
          12500000,
          11000000,
          50000000,
          4000,
          6000000,
          10000000,
          50000000,
          150,
          17500000,
          9000000,
          2500,
          65000000,
          4000000,
          10000000,
          12500000,
          16000000,
          5500000,
          1350,
          150,
          11000000,
          30000000,
          10000000,
          30000000,
          7000000,
          16500000,
          1050.5,
          2500,
          7000000,
          2500000,
          150,
          150,
          2500,
          11000000,
          3000000,
          3000,
          2000,
          1500,
          150,
          16500000,
          2000,
          650,
          23000,
          2000000,
          15000000,
          39500000,
          1500,
          4420000,
          150,
          2050,
          1375,
          150,
          32500000,
          40000000,
          10000000,
          5,
          2500000,
          15000000,
          150,
          150,
          55000000,
          150,
          12500000,
          9500000,
          9000000,
          19000000,
          1200,
          850,
          17500000,
          150,
          1075000,
          150,
          1600,
          27500000,
          20000,
          8000000,
          2000,
          27500000,
          35000000,
          4000000,
          150,
          8500000,
          2500,
          18500000,
          20000000,
          7000000,
          14000000,
          150000000,
          15000000,
          2250,
          2200,
          2750,
          150,
          20000000,
          700,
          150,
          15000000,
          30000000,
          11500000,
          12000000,
          1500,
          150,
          5500,
          9000,
          3000,
          2000,
          20000000,
          150,
          150,
          25000000,
          1500000,
          30000000,
          17500000,
          7800000,
          25000000,
          20000000,
          150,
          25000000,
          30500000,
          30500000,
          15000000,
          150,
          150,
          11000000,
          11000000,
          11000000,
          11000000,
          22500000,
          16500000,
          13000000,
          150,
          1050.5,
          150,
          2000000,
          2000000,
          17500,
          150,
          8000000,
          35000000,
          2050,
          150,
          1200,
          17500000,
          45000000,
          900,
          730,
          150,
          150,
          150,
          1550,
          150,
          2000000,
          6000000,
          6000000,
          16000000,
          6000,
          2000,
          750,
          150,
          150,
          10000000,
          10000000,
          10000000,
          20000000,
          10000000,
          1750,
          46500000,
          17000000,
          150,
          1750,
          40000000
         ],
         "y": [
          35,
          510,
          35,
          510,
          10,
          13,
          35,
          13,
          13,
          13,
          13,
          null,
          null,
          null,
          13,
          13,
          35,
          13,
          13,
          35,
          13,
          null,
          13,
          13,
          35,
          null,
          13,
          35,
          13,
          13,
          13,
          13,
          13,
          13,
          13,
          35,
          13,
          13,
          13,
          35,
          13,
          35,
          35,
          35,
          35,
          null,
          null,
          13,
          13,
          35,
          35,
          null,
          13,
          13,
          13,
          35,
          null,
          13,
          13,
          35,
          null,
          13,
          510,
          35,
          35,
          13,
          null,
          35,
          13,
          13,
          35,
          510,
          35,
          13,
          510,
          13,
          null,
          35,
          null,
          null,
          13,
          null,
          13,
          13,
          13,
          13,
          13,
          null,
          35,
          510,
          13,
          null,
          13,
          null,
          35,
          null,
          35,
          13,
          null,
          null,
          13,
          35,
          510,
          35,
          13,
          13,
          35,
          null,
          35,
          13,
          35,
          null,
          13,
          35,
          10,
          null,
          13,
          null,
          13,
          35,
          13,
          13,
          13,
          13,
          13,
          13,
          13,
          null,
          13,
          510,
          13,
          35,
          13,
          35,
          13,
          13,
          null,
          35,
          13,
          null,
          null,
          null,
          13,
          13,
          35,
          35,
          null,
          null,
          35,
          null,
          35,
          null,
          null,
          13,
          35,
          null,
          13,
          null,
          null,
          510,
          13,
          35,
          13,
          35,
          13,
          13,
          35,
          510,
          35,
          null,
          35,
          13,
          13,
          13,
          510,
          10,
          510,
          13,
          13,
          35,
          13,
          13,
          13,
          null,
          35,
          35,
          13,
          null,
          13,
          13,
          null,
          null,
          510,
          13,
          13,
          null,
          510,
          35,
          null,
          13,
          13,
          null,
          13,
          510,
          13,
          13,
          35,
          13,
          35,
          13,
          13,
          510,
          35,
          13,
          13,
          35,
          null,
          13,
          13,
          null,
          35,
          null,
          35,
          null,
          13,
          35,
          null,
          null,
          13,
          35,
          510,
          13,
          13,
          510,
          13,
          35,
          null,
          35,
          35,
          35,
          null,
          13,
          510,
          13,
          13,
          13,
          13,
          35,
          13,
          35,
          35,
          13,
          null,
          35,
          null,
          13,
          null,
          13,
          13,
          35,
          13,
          13,
          null,
          null,
          null,
          null,
          510,
          13,
          35,
          null,
          null,
          13,
          35,
          13,
          13,
          13,
          null,
          13,
          13,
          35,
          510,
          35,
          13,
          10,
          13,
          35,
          null,
          35,
          null,
          null,
          13,
          null,
          13,
          13,
          13,
          null,
          35,
          13,
          13,
          13,
          510,
          13,
          13,
          35,
          null,
          35,
          35,
          35,
          13,
          35,
          13,
          null,
          null,
          35,
          null,
          35,
          null,
          13,
          13,
          null,
          13,
          null,
          13,
          35,
          13,
          null,
          null,
          510,
          null,
          null,
          null,
          null,
          null,
          null,
          13,
          35,
          null,
          null,
          35,
          13,
          13,
          13,
          13,
          35,
          13,
          35,
          null,
          510,
          13,
          510,
          null,
          35,
          null,
          35,
          null,
          null,
          null,
          35,
          13,
          null,
          13,
          13,
          null,
          510,
          13,
          510,
          13,
          null,
          13,
          13,
          13,
          13,
          null,
          13,
          13,
          null,
          13,
          13,
          35,
          35,
          null,
          null,
          13,
          null,
          13,
          13,
          13,
          null,
          13,
          13,
          null,
          13,
          13,
          null,
          null,
          35,
          null,
          13,
          null,
          13,
          null,
          13,
          null,
          35,
          13,
          null,
          13,
          13,
          13,
          13,
          510,
          35,
          510,
          13,
          13,
          13,
          null,
          13,
          null,
          13,
          510,
          13,
          null,
          13,
          13,
          13,
          35,
          510,
          13,
          13,
          510,
          13,
          null,
          35,
          null,
          null,
          null,
          35,
          null,
          null,
          13,
          13,
          13,
          null,
          null,
          13,
          35,
          null,
          13,
          null,
          13,
          35,
          35,
          35,
          35,
          13,
          35,
          null,
          13,
          35,
          null,
          35,
          null,
          null,
          null,
          null,
          13,
          null,
          13,
          35,
          35,
          null,
          null,
          null,
          13,
          510,
          13,
          35,
          13,
          13,
          13,
          13,
          35,
          35,
          null,
          null,
          35,
          35,
          null,
          35,
          35,
          null,
          null,
          null,
          13,
          null,
          35,
          null,
          510,
          13,
          13,
          13,
          null,
          13,
          null,
          null,
          13,
          null,
          35,
          null,
          null,
          null,
          null,
          35,
          null,
          null,
          13,
          13,
          null,
          13,
          null,
          13,
          13,
          35,
          35,
          35,
          null,
          35,
          35,
          null,
          13,
          null,
          13,
          35,
          13,
          13,
          null,
          13,
          35,
          13,
          13,
          null,
          null,
          null,
          null,
          null,
          13,
          null,
          13,
          null,
          510,
          13,
          510,
          35,
          13,
          13,
          35,
          13,
          13,
          null,
          13,
          35,
          null,
          null,
          null,
          null,
          13,
          13,
          13,
          13,
          13,
          null,
          13,
          35,
          510,
          13,
          35,
          null,
          13,
          13,
          13,
          null,
          35,
          null,
          13,
          null,
          35,
          510,
          null,
          null,
          13,
          13,
          35,
          13,
          null,
          null,
          13,
          510,
          35,
          13,
          13,
          13,
          510,
          13,
          13,
          510,
          13,
          510,
          13,
          null,
          13,
          null,
          null,
          null,
          null,
          null,
          null,
          null,
          null,
          13,
          35,
          13,
          35,
          null,
          13,
          13,
          13,
          null,
          null,
          13,
          13,
          35,
          510,
          35,
          null,
          510,
          35,
          13,
          13,
          null,
          35,
          13,
          13,
          null,
          null,
          null,
          null,
          null,
          35,
          13,
          null,
          13,
          13,
          35,
          10,
          510,
          null,
          13,
          35,
          13,
          13,
          13,
          35,
          35,
          null,
          null,
          13,
          35,
          13,
          13,
          13,
          13,
          35,
          null,
          13,
          null,
          35,
          35,
          35,
          null,
          null,
          13,
          null,
          510,
          13,
          null,
          510,
          35,
          35,
          13,
          13,
          35,
          null,
          null,
          null,
          null,
          13,
          13,
          null,
          510,
          13,
          13,
          13,
          35,
          510,
          13,
          null,
          null,
          35,
          13,
          13,
          13,
          35,
          13,
          null,
          null,
          13,
          35,
          13,
          13,
          13,
          35,
          13,
          35,
          35,
          null,
          null,
          13,
          35,
          35,
          null,
          null,
          null,
          35,
          13,
          35,
          null,
          13,
          35,
          13,
          13,
          13,
          35,
          null,
          13,
          13,
          null,
          13,
          null,
          13,
          13,
          13,
          null,
          510,
          null,
          510,
          510,
          35,
          13,
          510,
          13,
          null,
          35,
          13,
          null,
          13,
          null,
          13,
          13,
          35,
          35,
          35,
          35,
          13,
          35,
          35,
          35,
          35,
          13,
          13,
          13,
          13,
          510,
          13,
          null,
          null,
          13,
          13,
          null,
          510,
          35,
          35,
          35,
          null,
          510,
          35,
          13,
          35,
          35,
          13,
          510,
          35,
          null,
          null,
          null,
          13,
          null,
          35,
          13,
          510,
          13,
          null,
          13,
          null,
          13,
          13,
          35,
          35,
          35,
          13,
          13,
          35
         ],
         "z": [
          "Software Engineering",
          "Product Management",
          "Software Engineering",
          "Software Engineering",
          "Business Development / Sales",
          "Data Science",
          "Data Science",
          "Data Science",
          "Software Engineering",
          "Data Science",
          "Data Science",
          "Software Engineering",
          "Data Science",
          "Software Engineering",
          "Software Engineering",
          "Engineering",
          "Software Engineering",
          "Marketing",
          "Data Science",
          "Data Science",
          "Data Science",
          "Data Science",
          "Engineering",
          "Engineering",
          "Data Science",
          "Software Engineering",
          "Data Science",
          "Data Science",
          "Software Engineering",
          "Other",
          "Data Science",
          "Product Management",
          "Other",
          "Software Engineering",
          "Finance",
          "Software Engineering",
          "Product Management",
          "Software Engineering",
          "Other",
          "Other",
          "Data Science",
          "Other",
          "Software Engineering",
          "Finance",
          "Data Science",
          "Marketing",
          "Finance",
          "Data Science",
          "Data Science",
          "Product Management",
          "Other",
          "Software Engineering",
          "Finance",
          "Data Science",
          "Consulting",
          "Data Science",
          "Data Science",
          "Business Development / Sales",
          "Operations",
          "Data Science",
          "Finance",
          "Data Science",
          "Data Science",
          "Data Science",
          "Data Science",
          "Finance",
          "Business Development / Sales",
          "Data Science",
          "Data Science",
          "Other",
          "Product Management",
          "Data Science",
          "Data Science",
          "Data Science",
          "Data Science",
          "Other",
          "Software Engineering",
          "Data Science",
          "Data Science",
          "Finance",
          "Software Engineering",
          "Software Engineering",
          "Other",
          "Other",
          "Data Science",
          "Data Science",
          "Data Science",
          "Marketing",
          "Data Science",
          "Data Science",
          "Other",
          "Other",
          "Software Engineering",
          "Other",
          "Finance",
          "Data Science",
          "Product Management",
          "Finance",
          "Business Development / Sales",
          "Other",
          "Marketing",
          "Operations",
          "Product Management",
          "Marketing",
          "Business Development / Sales",
          "Marketing",
          "Marketing",
          "Data Science",
          "Finance",
          "Marketing",
          "Product Management",
          "Software Engineering",
          "Marketing",
          "Data Science",
          "Operations",
          "Data Science",
          "Consulting",
          "Marketing",
          "Marketing",
          "Marketing",
          "Marketing",
          "Business Development / Sales",
          "Management",
          "Marketing",
          "Marketing",
          "Marketing",
          "Business Development / Sales",
          "Finance",
          "Marketing",
          "Product Management",
          "Software Engineering",
          "Marketing",
          "Data Science",
          "Software Engineering",
          "Business Development / Sales",
          "Operations",
          "Marketing",
          "Business Development / Sales",
          "Business Development / Sales",
          "Marketing",
          "Finance",
          "Software Engineering",
          "Software Engineering",
          "Media & Communications",
          "Marketing",
          "Data Science",
          "Marketing",
          "Software Engineering",
          "Business Development / Sales",
          "Finance",
          "Software Engineering",
          "Marketing",
          "Marketing",
          "Marketing",
          "Other",
          "Finance",
          "Marketing",
          "Marketing",
          "Business Development / Sales",
          "Marketing",
          "Business Development / Sales",
          "Business Development / Sales",
          "Marketing",
          "Software Engineering",
          "Finance",
          "Business Development / Sales",
          "Product Management",
          "Other",
          "Software Engineering",
          "Software Engineering",
          "Software Engineering",
          "Design",
          "Design",
          "Marketing",
          "Finance",
          "Software Engineering",
          "Software Engineering",
          "Marketing",
          "Marketing",
          "Operations",
          "Marketing",
          "Product Management",
          "Marketing",
          "Marketing",
          "Software Engineering",
          "Marketing",
          "Data Science",
          "Data Science",
          "Software Engineering",
          "Business Development / Sales",
          "Data Science",
          "Data Science",
          "Software Engineering",
          "Marketing",
          "Data Science",
          "Business Development / Sales",
          "Business Development / Sales",
          "Software Engineering",
          "Data Science",
          "Software Engineering",
          "Marketing",
          "Marketing",
          "Data Science",
          "Marketing",
          "Data Science",
          "Data Science",
          "Software Engineering",
          "Marketing",
          "Other",
          "Software Engineering",
          "Marketing",
          "Finance",
          "Engineering",
          "Administrative",
          "Product Management",
          "Marketing",
          "Software Engineering",
          "Marketing",
          "Marketing",
          "Data Science",
          "Business Development / Sales",
          "Data Science",
          "Product Management",
          "Business Development / Sales",
          "Finance",
          "Management",
          "Finance",
          "Consulting",
          "Marketing",
          "Marketing",
          "Media & Communications",
          "Software Engineering",
          "Data Science",
          "Marketing",
          "Data Science",
          "Data Science",
          "Business Development / Sales",
          "Software Engineering",
          "Design",
          "Software Engineering",
          "Data Science",
          "Finance",
          "Marketing",
          "Engineering",
          "Marketing",
          "Software Engineering",
          "Business Development / Sales",
          "Software Engineering",
          "Business Development / Sales",
          "Software Engineering",
          "Marketing",
          "Software Engineering",
          "Business Development / Sales",
          "Other",
          "Business Development / Sales",
          "Business Development / Sales",
          "Business Development / Sales",
          "Software Engineering",
          "Software Engineering",
          "Software Engineering",
          "Business Development / Sales",
          "Product Management",
          "Marketing",
          "Marketing",
          "Business Development / Sales",
          "Business Development / Sales",
          "Marketing",
          "Software Engineering",
          "Marketing",
          "Business Development / Sales",
          "Business Development / Sales",
          "Marketing",
          "Marketing",
          "Marketing",
          "Education",
          "Education",
          "Business Development / Sales",
          "Marketing",
          "Management",
          "Marketing",
          "Management",
          "Marketing",
          "Software Engineering",
          "Software Engineering",
          "Other",
          "Marketing",
          "Business Development / Sales",
          "Other",
          "Business Development / Sales",
          "Business Development / Sales",
          "Business Development / Sales",
          "Finance",
          "Software Engineering",
          "Finance",
          "Software Engineering",
          "Business Development / Sales",
          "Marketing",
          "Software Engineering",
          "Software Engineering",
          "Marketing",
          "Software Engineering",
          "Design",
          "Marketing",
          "Software Engineering",
          "Business Development / Sales",
          "Business Development / Sales",
          "Software Engineering",
          "Software Engineering",
          "Business Development / Sales",
          "Marketing",
          "Consulting",
          "Other",
          "Human Resource",
          "Software Engineering",
          "Operations",
          "Marketing",
          "Marketing",
          "Consulting",
          "Media & Communications",
          "Other",
          "Software Engineering",
          "Operations",
          "Business Development / Sales",
          "Marketing",
          "Software Engineering",
          "Marketing",
          "Marketing",
          "Software Engineering",
          "Finance",
          "Business Development / Sales",
          "Operations",
          "Business Development / Sales",
          "Business Development / Sales",
          "Marketing",
          "Design",
          "Business Development / Sales",
          "Consulting",
          "Consulting",
          "Software Engineering",
          "Design",
          "Marketing",
          "Business Development / Sales",
          "Software Engineering",
          "Language and Translation",
          "Legal",
          "Software Engineering",
          "Business Development / Sales",
          "Marketing",
          "Product Management",
          "Software Engineering",
          "Business Development / Sales",
          "Marketing",
          "Business Development / Sales",
          "Marketing",
          "Business Development / Sales",
          "Finance",
          "Marketing",
          "Engineering",
          "Marketing",
          "Operations",
          "Business Development / Sales",
          "Business Development / Sales",
          "Business Development / Sales",
          "Software Engineering",
          "Consulting",
          "Media & Communications",
          "Marketing",
          "Marketing",
          "Administrative",
          "Software Engineering",
          "Marketing",
          "Legal",
          "Business Development / Sales",
          "Software Engineering",
          "Business Development / Sales",
          "Human Resource",
          "Business Development / Sales",
          "Operations",
          "Software Engineering",
          "Business Development / Sales",
          "Administrative",
          "Business Development / Sales",
          "Business Development / Sales",
          "Business Development / Sales",
          "Software Engineering",
          "Software Engineering",
          "Marketing",
          "Marketing",
          "Marketing",
          "Software Engineering",
          "Business Development / Sales",
          "Design",
          "Business Development / Sales",
          "Operations",
          "Business Development / Sales",
          "Marketing",
          "Business Development / Sales",
          "Education",
          "Business Development / Sales",
          "Operations",
          "Business Development / Sales",
          "Human Resource",
          "Marketing",
          "Software Engineering",
          "Administrative",
          "Business Development / Sales",
          "Software Engineering",
          "Business Development / Sales",
          "Business Development / Sales",
          "Product Management",
          "Finance",
          "Software Engineering",
          "Software Engineering",
          "Software Engineering",
          "Product Management",
          "Software Engineering",
          "Marketing",
          "Marketing",
          "Business Development / Sales",
          "Finance",
          "Software Engineering",
          "Software Engineering",
          "Business Development / Sales",
          "Business Development / Sales",
          "Business Development / Sales",
          "Other",
          "Marketing",
          "Software Engineering",
          "Marketing",
          "Product Management",
          "Software Engineering",
          "Business Development / Sales",
          "Business Development / Sales",
          "Other",
          "Marketing",
          "Business Development / Sales",
          "Software Engineering",
          "Marketing",
          "Software Engineering",
          "Software Engineering",
          "Business Development / Sales",
          "Business Development / Sales",
          "Software Engineering",
          "Business Development / Sales",
          "Business Development / Sales",
          "Marketing",
          "Marketing",
          "Business Development / Sales",
          "Software Engineering",
          "Business Development / Sales",
          "Administrative",
          "Software Engineering",
          "Software Engineering",
          "Business Development / Sales",
          "Software Engineering",
          "Software Engineering",
          "Management",
          "Business Development / Sales",
          "Media & Communications",
          "Marketing",
          "Marketing",
          "Software Engineering",
          "Business Development / Sales",
          "Human Resource",
          "Business Development / Sales",
          "Business Development / Sales",
          "Software Engineering",
          "Other",
          "Administrative",
          "Marketing",
          "Education",
          "Marketing",
          "Business Development / Sales",
          "Business Development / Sales",
          "Marketing",
          "Legal",
          "Finance",
          "Business Development / Sales",
          "Software Engineering",
          "Business Development / Sales",
          "Software Engineering",
          "Software Engineering",
          "Software Engineering",
          "Design",
          "Business Development / Sales",
          "Software Engineering",
          "Marketing",
          "Software Engineering",
          "Business Development / Sales",
          "Marketing",
          "Software Engineering",
          "Software Engineering",
          "Business Development / Sales",
          "Business Development / Sales",
          "Other",
          "Product Management",
          "Business Development / Sales",
          "Business Development / Sales",
          "Business Development / Sales",
          "Other",
          "Business Development / Sales",
          "Media & Communications",
          "Consulting",
          "Software Engineering",
          "Business Development / Sales",
          "Business Development / Sales",
          "Business Development / Sales",
          "Software Engineering",
          "Software Engineering",
          "Business Development / Sales",
          "Business Development / Sales",
          "Software Engineering",
          "Human Resource",
          "Software Engineering",
          "Business Development / Sales",
          "Business Development / Sales",
          "Business Development / Sales",
          "Operations",
          "Business Development / Sales",
          "Marketing",
          "Software Engineering",
          "Marketing",
          "Business Development / Sales",
          "Software Engineering",
          "Software Engineering",
          "Software Engineering",
          "Business Development / Sales",
          "Software Engineering",
          "Design",
          "Business Development / Sales",
          "Marketing",
          "Human Resource",
          "Business Development / Sales",
          "Software Engineering",
          "Software Engineering",
          "Software Engineering",
          "Human Resource",
          "Human Resource",
          "Software Engineering",
          "Business Development / Sales",
          "Marketing",
          "Business Development / Sales",
          "Business Development / Sales",
          "Business Development / Sales",
          "Business Development / Sales",
          "Business Development / Sales",
          "Business Development / Sales",
          "Business Development / Sales",
          "Business Development / Sales",
          "Marketing",
          "Operations",
          "Marketing",
          "Software Engineering",
          "Business Development / Sales",
          "Human Resource",
          "Marketing",
          "Marketing",
          "Software Engineering",
          "Human Resource",
          "Software Engineering",
          "Software Engineering",
          "Business Development / Sales",
          "Business Development / Sales",
          "Design",
          "Business Development / Sales",
          "Business Development / Sales",
          "Operations",
          "Business Development / Sales",
          "Operations",
          "Administrative",
          "Engineering",
          "Business Development / Sales",
          "Software Engineering",
          "Software Engineering",
          "Business Development / Sales",
          "Marketing",
          "Software Engineering",
          "Business Development / Sales",
          "Software Engineering",
          "Human Resource",
          "Software Engineering",
          "Software Engineering",
          "Media & Communications",
          "Business Development / Sales",
          "Consulting",
          "Business Development / Sales",
          "Product Management",
          "Design",
          "Business Development / Sales",
          "Business Development / Sales",
          "Legal",
          "Marketing",
          "Media & Communications",
          "Human Resource",
          "Business Development / Sales",
          "Business Development / Sales",
          "Other",
          "Software Engineering",
          "Marketing",
          "Other",
          "Finance",
          "Media & Communications",
          "Software Engineering",
          "Finance",
          "Marketing",
          "Software Engineering",
          "Software Engineering",
          "Operations",
          "Business Development / Sales",
          "Business Development / Sales",
          "Human Resource",
          "Business Development / Sales",
          "Software Engineering",
          "Finance",
          "Business Development / Sales",
          "Business Development / Sales",
          "Marketing",
          "Human Resource",
          "Human Resource",
          "Operations",
          "Software Engineering",
          "Education",
          "Software Engineering",
          "Business Development / Sales",
          "Human Resource",
          "Engineering",
          "Software Engineering",
          "Software Engineering",
          "Business Development / Sales",
          "Software Engineering",
          "Engineering",
          "Software Engineering",
          "Software Engineering",
          "Marketing",
          "Education",
          "Software Engineering",
          "Business Development / Sales",
          "Finance",
          "Finance",
          "Administrative",
          "Software Engineering",
          "Marketing",
          "Business Development / Sales",
          "Business Development / Sales",
          "Software Engineering",
          "Business Development / Sales",
          "Operations",
          "Business Development / Sales",
          "Software Engineering",
          "Business Development / Sales",
          "Business Development / Sales",
          "Software Engineering",
          "Marketing",
          "Marketing",
          "Software Engineering",
          "Software Engineering",
          "Other",
          "Business Development / Sales",
          "Business Development / Sales",
          "Design",
          "Management",
          "Business Development / Sales",
          "Software Engineering",
          "Marketing",
          "Media & Communications",
          "Business Development / Sales",
          "Design",
          "Marketing",
          "Business Development / Sales",
          "Business Development / Sales",
          "Business Development / Sales",
          "Marketing",
          "Marketing",
          "Business Development / Sales",
          "Software Engineering",
          "Business Development / Sales",
          "Business Development / Sales",
          "Operations",
          "Software Engineering",
          "Administrative",
          "Design",
          "Finance",
          "Business Development / Sales",
          "Business Development / Sales",
          "Marketing",
          "Software Engineering",
          "Software Engineering",
          "Software Engineering",
          "Business Development / Sales",
          "Human Resource",
          "Human Resource",
          "Design",
          "Business Development / Sales",
          "Business Development / Sales",
          "Business Development / Sales",
          "Business Development / Sales",
          "Product Management",
          "Software Engineering",
          "Marketing",
          "Business Development / Sales",
          "Software Engineering",
          "Software Engineering",
          "Software Engineering",
          "Software Engineering",
          "Software Engineering",
          "Business Development / Sales",
          "Business Development / Sales",
          "Administrative",
          "Business Development / Sales",
          "Software Engineering",
          "Software Engineering",
          "Software Engineering",
          "Business Development / Sales",
          "Other",
          "Human Resource",
          "Human Resource",
          "Business Development / Sales",
          "Other",
          "Design",
          "Marketing",
          "Media & Communications",
          "Software Engineering",
          "Other",
          "Software Engineering",
          "Marketing",
          "Business Development / Sales",
          "Business Development / Sales",
          "Design",
          "Media & Communications",
          "Marketing",
          "Design",
          "Software Engineering",
          "Business Development / Sales",
          "Business Development / Sales",
          "Design",
          "Consulting",
          "Business Development / Sales",
          "Education",
          "Marketing",
          "Marketing",
          "Software Engineering",
          "Software Engineering",
          "Software Engineering",
          "Engineering",
          "Design",
          "Design",
          "Business Development / Sales",
          "Marketing",
          "Business Development / Sales",
          "Business Development / Sales",
          "Media & Communications",
          "Engineering",
          "Business Development / Sales",
          "Software Engineering",
          "Business Development / Sales",
          "Software Engineering",
          "Human Resource",
          "Business Development / Sales",
          "Healthcare",
          "Business Development / Sales",
          "Business Development / Sales",
          "Software Engineering",
          "Design",
          "Marketing",
          "Business Development / Sales",
          "Design",
          "Education",
          "Marketing",
          "Design",
          "Marketing",
          "Marketing",
          "Marketing",
          "Finance",
          "Marketing",
          "Healthcare",
          "Healthcare",
          "Healthcare",
          "Healthcare",
          "Engineering",
          "Healthcare",
          "Marketing",
          "Marketing",
          "Marketing",
          "Business Development / Sales",
          "Business Development / Sales",
          "Business Development / Sales",
          "Marketing",
          "Human Resource",
          "Other",
          "Marketing",
          "Business Development / Sales",
          "Business Development / Sales",
          "Business Development / Sales",
          "Business Development / Sales",
          "Marketing",
          "Marketing",
          "Human Resource",
          "Software Engineering",
          "Business Development / Sales",
          "Healthcare",
          "Software Engineering",
          "Software Engineering",
          "Other",
          "Software Engineering",
          "Software Engineering",
          "Business Development / Sales",
          "Business Development / Sales",
          "Software Engineering",
          "Design",
          "Human Resource",
          "Design",
          "Business Development / Sales",
          "Business Development / Sales",
          "Business Development / Sales",
          "Human Resource",
          "Business Development / Sales",
          "Other",
          "Software Engineering",
          "Marketing",
          "Software Engineering",
          "Software Engineering",
          "Software Engineering"
         ]
        },
        {
         "customdata": [
          [
           "Data Analyst"
          ],
          [
           "Data Analyst"
          ],
          [
           "Fresher Data Analyst"
          ],
          [
           "Data Analyst Executive"
          ],
          [
           "DATA ANALYSIS"
          ],
          [
           "Data Analyst Up To 25M"
          ],
          [
           "Digital Marketing Data Analysis"
          ],
          [
           "Data Assistant"
          ],
          [
           "Data Specialist"
          ],
          [
           "Business Analyst"
          ],
          [
           "Business Analyst"
          ],
          [
           "Business Analyst"
          ],
          [
           "Business Analyst"
          ],
          [
           "Business Analyst"
          ],
          [
           "BUSINESS ANALYST "
          ],
          [
           "Business Analyst"
          ],
          [
           "Business Analyst"
          ],
          [
           "Business Analyst"
          ],
          [
           "Data Entry - Logistic "
          ],
          [
           "Senior Data Engineer"
          ],
          [
           "[HN] Data Engineer"
          ],
          [
           "[HN] Data Engineer"
          ],
          [
           "Investment Analyst Executive"
          ],
          [
           "[REMOTE] Business Analyst"
          ],
          [
           "Business Analyst (BA)"
          ],
          [
           "Data Entry Management (Hanoi)"
          ],
          [
           "Business Analyst Intern"
          ],
          [
           "Data Entry (Hà Nội) "
          ],
          [
           "Digital Marketing Analyst"
          ],
          [
           "Business Analyst (Fresher)"
          ],
          [
           "Business Intelligence Analyst"
          ],
          [
           "Remote - Senior Data Engineer"
          ],
          [
           "Business Analyst/Product Owner "
          ],
          [
           "Business Analyst (Product Owner)"
          ],
          [
           "Business Analyst (Mid-level)"
          ],
          [
           "NHÂN VIÊN BUSINESS ANALYST"
          ],
          [
           "[HN] Data Engineer (GG Cloud)"
          ],
          [
           "Project Owner/Business Analyst "
          ],
          [
           "Data Scientist (Offer upto 1500 USD)"
          ],
          [
           " Thực Tập Sinh Business Analyst"
          ],
          [
           "Data Engineer Up To 2000 USD"
          ],
          [
           "[Glints 5 Ngày] Data Engineer Team Leader"
          ],
          [
           "Phân tích Nghiệp vụ (Business Analyst)"
          ],
          [
           "Tuyển Dụng Business Analyst Lead (BA Lead)"
          ],
          [
           "Business Analyst (Product Owner/Project Manager oriented)"
          ],
          [
           "Chuyên Viên Tư Vấn Giáo Dục - Data Có Sẵn"
          ],
          [
           "Nhân Viên Tư Vấn - Gia Hạn (Có sẵn Data)"
          ],
          [
           "Chuyên Viên Phân Tích Nghiệp Vụ (Business Analyst)"
          ],
          [
           "[HN] Business Analyst (digital banking) - 3300 Gross (Hybrid)"
          ],
          [
           "Chuyên viên Phân tích nghiệp vụ (Business Analyst)"
          ],
          [
           "Chuyên viên Phân tích nghiệp vụ (Business Analyst)"
          ],
          [
           "Nhân Viên Phân Tích Nghiệp Vụ (Business Analyst)"
          ],
          [
           "Chuyên Viên Phân Tích Nghiệp Vụ (Business Analyst)"
          ],
          [
           "Nhân Viên Phân Tích Nghiệp Vụ (Business Analyst)"
          ],
          [
           "Chuyên Viên Phân Tích Đầu Tư (Investment Analyst)"
          ],
          [
           "BUSINESS ANALYSIS (BA)"
          ],
          [
           "Freelancer Market Research Analyst Mỹ Phẩm Hàn Quốc - VN"
          ],
          [
           "Tuyển dụng nhân viên IT-Code vị trí BUSSINESS ANALYST"
          ],
          [
           "Project Manager"
          ],
          [
           "[Hanoi] Project Manager  (Banking) - Contract 1 yr"
          ],
          [
           "FRESHER TESTER"
          ],
          [
           "Chuyên Viên Tuyển Dụng IT"
          ],
          [
           "Marketing Executive"
          ],
          [
           "Software Developer (from freshman to senior)"
          ],
          [
           "Fresher Tester"
          ],
          [
           "Remote - Trading Support Engineer"
          ],
          [
           "Marketing Manager"
          ],
          [
           "IT Staff - NTN BEARING VIETNAM"
          ],
          [
           "Product Manager"
          ],
          [
           "Marketing Intern"
          ],
          [
           "MARKETING EXECUTIVE"
          ],
          [
           "Marketing Manager"
          ],
          [
           "Business Development Executive - AI Industry"
          ],
          [
           "Business Development Executive - AI Industry"
          ],
          [
           "Assistant Marketing Manager"
          ],
          [
           "Customer Support Executive"
          ],
          [
           "Backend Developer (Java)"
          ],
          [
           "Assistant Marketing Manager"
          ],
          [
           "CHUYÊN VIÊN PHÂN TÍCH DỮ LIỆU 10 - 13 TRIỆU (KPIs)"
          ],
          [
           "[Glints 5 Ngày] PHP Developer"
          ],
          [
           "Game Community Manager"
          ],
          [
           "[Glints 5 Ngày] Mobile Developer (React Native)"
          ],
          [
           "Financial Controller"
          ],
          [
           "CHUYÊN VIÊN KINH DOANH QUỐC TẾ"
          ],
          [
           "Product Owner "
          ],
          [
           "Content Marketing"
          ],
          [
           "Conten Marketing"
          ],
          [
           "Product Owner"
          ],
          [
           "Product Owner"
          ],
          [
           "BA – Chuyên viên Phân tích Nghiệp vụ"
          ],
          [
           "IT Project Management Assistant"
          ],
          [
           "Tuyển dụng vị trí nhân viên Google Ads - Nhà thuốc Minh Trang 1"
          ],
          [
           "CTV Telemarketing Online"
          ],
          [
           "Front End"
          ],
          [
           "Chuyên Viên Phân Tích Nghiệp Vụ (BA)"
          ],
          [
           "Chuyên Viên Phân Tích Dịch Vụ Khách Hàng "
          ],
          [
           "Blockchain Marketing Executive"
          ],
          [
           "Marketing leader US"
          ],
          [
           "Marketing Executive"
          ],
          [
           "Marketing Executive"
          ],
          [
           "Fresher Android Developer"
          ],
          [
           "Chuyên Viên Phân Tích Dịch Vụ Khách Hàng [miền Bắc]"
          ],
          [
           "Hiring telesales"
          ],
          [
           "Nhân Viên Sales Online"
          ],
          [
           "Lập Trình Viên Java"
          ],
          [
           "Cộng Tác Viên Gọi Lọc Nhu Cầu - Làm Việc Linh Hoạt Online"
          ],
          [
           "Test Automation Engineer"
          ],
          [
           "Nhân Viên Nhập Liệu Tiếng Anh Fulltime"
          ],
          [
           "Human Resources Manager"
          ],
          [
           "Test Leader"
          ],
          [
           "Telesale"
          ],
          [
           "IT Project Management Assistant"
          ],
          [
           "Nhân viên Kế toán tổng hợp - Accountant"
          ],
          [
           "Lập Trình Viên Java"
          ],
          [
           "Product Designer"
          ],
          [
           "Business Development Executive"
          ],
          [
           "Business Development Executive"
          ],
          [
           "Tuyển dụng nhân viên Telesale part-time "
          ],
          [
           "Tester (Manual)"
          ],
          [
           "COO Assistant"
          ],
          [
           "Tuyển Thực tập sinh Sales logistics"
          ],
          [
           "TUYỂN DỤNG TELESALE"
          ],
          [
           "[Glints 5 Ngày] Frontend Developer (ReactJS / VueJS)"
          ],
          [
           "Thực tập sinh Java"
          ],
          [
           "Video Editor"
          ],
          [
           "Manual Tester - HN"
          ],
          [
           "Senior UI/UX Designer"
          ],
          [
           "Senior UI/UX Designer"
          ],
          [
           "Trưởng Phòng Marketing"
          ],
          [
           "Product Owner"
          ],
          [
           "[HN] NHÂN VIÊN TELEMARKETING FULLTIME MIỀN BẮC"
          ],
          [
           "Content Social (Marketing Online)"
          ],
          [
           "UX Researcher"
          ],
          [
           "Chuyên Viên Tư Vấn Giáo Dục (Telesales specialist) "
          ],
          [
           "Nhân Viên Telesales"
          ],
          [
           "Blockchain Developer"
          ],
          [
           "Fresher Content Marketing"
          ],
          [
           "Trưởng Phòng Nhân Sự (HR Manager)"
          ],
          [
           "NodeJS Developer"
          ],
          [
           "KỸ SƯ PHẦN MỀM - BACKEND DEVELOPER"
          ],
          [
           "[HOT JOB] Sales Team Leader - Thu nhập lên đến 30tr"
          ],
          [
           "Java developer - All level"
          ],
          [
           "Tuyển dụng Nhân viên Kinh doanh"
          ],
          [
           "Content Writer (Marketing Online)"
          ],
          [
           "NHÂN VIÊN SUPPORT TIKTOK "
          ],
          [
           "Senior Marketing Executive (Remote)"
          ],
          [
           "Senior Marketing Executive (Remote)"
          ],
          [
           "Operational Excellence Associate"
          ],
          [
           "Nhân viên Telesale"
          ],
          [
           "Backend Developer (NodeJS)"
          ],
          [
           "TRƯỞNG NHÓM KINH DOANH QUỐC TẾ  FULL-TIME"
          ],
          [
           "Chuyên Viên Telesales - Sản Phẩm Khóa Học"
          ],
          [
           "Account Manager (Agency)"
          ],
          [
           "Nhân viên Sales Xuất khẩu"
          ],
          [
           "Account Intern (Hà Nội)"
          ],
          [
           "Chuyên viên Telesales Thu nhập khủng từ 15 -35 triệu/ tháng"
          ],
          [
           "Chuyên viên Telesales Thu nhập khủng từ 15 -35 triệu/ tháng"
          ],
          [
           "Chuyên Viên Telesales - Edtech Lớn Nhất Việt Nam"
          ],
          [
           "Nhân Viên Kinh Doanh"
          ],
          [
           "REACTJS DEVELOPER (FRESHER/JUNIOR/MIDDLE)"
          ],
          [
           "Top Sales - Best Sales Giáo dục (Thu Nhập 30 - 40M)"
          ],
          [
           "HR Intern "
          ],
          [
           "Chuyên Viên Tư vấn Giáo dục Cao cấp (Thu Nhập 30 - 40M)"
          ],
          [
           "Nhân Viên Sales Online"
          ],
          [
           "Chuyên Viên Tư vấn Giáo dục Cao cấp (Thu Nhập 30 - 40M)"
          ],
          [
           "Hiring Digital Marketing"
          ],
          [
           "Growpharco TUYỂN NHÂN VIÊN Y-DƯỢC TƯ VẤN VÀ CHĂM SÓC KHÁCH HÀNG"
          ],
          [
           "IT Recruiter"
          ],
          [
           "Crypto UX/ UI Designer"
          ],
          [
           "[Glints 5 Ngày] Frontend Developer (ReactJS)"
          ],
          [
           "Chuyên Viên Tư Vấn Tuyển Sinh Cao Cấp"
          ],
          [
           "NHÂN VIÊN KINH DOANH THẨM MỸ VIỆN"
          ],
          [
           "[HN] NHÂN VIÊN TELESALE THU NHẬP TỚI 20TR KHÔNG YC KINH NGHIỆM"
          ],
          [
           "Tư vấn khóa học"
          ],
          [
           " TUYỂN DỤNG NHÂN VIÊN KINH DOANH - KHÔNG YÊU CẦU KINH NGHIỆM"
          ],
          [
           "[Glints 5 Ngày] Java Developer"
          ],
          [
           "TƯ VẤN TUYỂN SINH"
          ],
          [
           "NTB Pharma New - Nhân viên Sale Admin"
          ],
          [
           "Trưởng Nhóm Telesale"
          ],
          [
           "Strategic Planning Manager"
          ],
          [
           "[HN] Junior Campaign Executive for International Market"
          ],
          [
           "[Glints 5 Ngày] Software Tester"
          ],
          [
           "[Glints 5 Ngày] Full-stack NET Developer (C/NET Core/SQL)"
          ],
          [
           "Nhân viên Kinh doanh"
          ],
          [
           "Nhân Viên Tư Vấn Mỹ Phẩm - Thu nhập từ 8 triệu"
          ],
          [
           "Nhân Viên Chăm Sóc Khách Hàng"
          ],
          [
           "IOS Developer"
          ],
          [
           "Nhân Viên Sale Online"
          ],
          [
           "Nhân Viên Sale Hoa Quả (Phú Diễn)"
          ],
          [
           "Java Developer"
          ],
          [
           "Chuyên Viên Tư Vấn Khóa Học Online"
          ],
          [
           "Mobile Developer - Lập Trình Di Động"
          ],
          [
           "Nhân Viên Chăm Sóc Khách Hàng"
          ],
          [
           "Nhân Viên Tư Vấn Sữa"
          ],
          [
           "[HN] Nhân viên Sale Fulltime"
          ],
          [
           "NHÂN VIÊN TELESALES BĐS (PART-TIME)"
          ],
          [
           "Thực Tập Sinh Account Solutions"
          ],
          [
           "Nhân Viên Kinh Doanh Tại Hà Nội"
          ],
          [
           "NHÂN VIÊN TELESALE (TƯ VẤN KHÓA HỌC TIẾNG ANH) "
          ],
          [
           "Chuyên viên Phát triển tổ chức"
          ],
          [
           "Nhân viên kinh doanh phần mềm "
          ],
          [
           "Thực Tập Sinh Tuyển Dụng - Hà Nội"
          ],
          [
           "Thực Tập Sinh Tuyển Dụng - Hà Nội"
          ],
          [
           "Telesales - Tư vấn khóa học qua điện thoại"
          ],
          [
           "[Glints 5 Ngày] Net Developer (IESD)"
          ],
          [
           "Chuyên viên Tuyển dụng Nội bộ"
          ],
          [
           " Product Owner - Dự Án Lĩnh Vực Edtech "
          ],
          [
           "[HN] Tư Vấn Viên - Part Time"
          ],
          [
           "NHÂN VIÊN KINH DOANH – Thu nhập hấp dẫn lên đến 20tr"
          ],
          [
           "Dược Sanfo TUYỂN DỤNG DƯỢC SĨ TƯ VẤN và CSKH"
          ],
          [
           "Thực Tập Sinh Tuyển Dụng - Hà Nội"
          ],
          [
           "Nhân Viên Quản Lý Kênh Sàn Thương Mại Điện"
          ],
          [
           "[HN] Nhân Viên Kinh Doanh Thang Máy"
          ],
          [
           "Nhân Viên Trực Page Chốt Đơn (Ngành Thương Mại)"
          ],
          [
           "Chuyên Viên Tuyển Dụng"
          ],
          [
           "Thực Tập Sinh Đào Tạo"
          ],
          [
           "Employer Branding-Recruitment Marketing Executive"
          ],
          [
           "[HN] Thực tập sinh Kinh doanh cho thuê"
          ],
          [
           "Nhân Viên Telesales Thực Phẩm Sạch"
          ],
          [
           "Product design Leader"
          ],
          [
           "Chuyên Viên Telesales"
          ],
          [
           "Remote - Full-stack Developer - Infrastructure"
          ],
          [
           "Remote - Senior C Developer"
          ],
          [
           "Chuyên Viên Tuyển Dụng Khối Giáo Viên"
          ],
          [
           "[HN] Chuyên Viên Tuyển Dụng"
          ],
          [
           "HR Executive in Total Rewards and Payroll"
          ],
          [
           "People and Culture Operations"
          ],
          [
           "People and Culture Assistant"
          ],
          [
           "Tư Vấn Viên Sản Phẩm Giáo Dục"
          ],
          [
           "Nhân Viên Trực Page"
          ],
          [
           "Digital Marketing Executive"
          ],
          [
           "NHÂN VIÊN CHĂM SÓC KHÁCH HÀNG (Customer Service)"
          ],
          [
           "Senior C-B Executive"
          ],
          [
           "Python Developer"
          ],
          [
           "[HN] Nhân Viên Kinh Doanh Tour Outbound"
          ],
          [
           "Trợ giảng lớp học"
          ],
          [
           "Chuyên Viên Tư Vấn Giáo Dục - Tiếng Anh Trẻ Em Part-time"
          ],
          [
           "GIẢNG VIÊN GIAO TIẾP ONLINE PART-TIME"
          ],
          [
           "Product Owner"
          ],
          [
           "Java Developer"
          ],
          [
           "Sales Manager"
          ],
          [
           "Chuyên Viên Tư Vấn Giáo Dục"
          ],
          [
           "Digital Marketing Executive"
          ],
          [
           "VIDEO EDITOR"
          ],
          [
           "Human Resources Manager"
          ],
          [
           "Financial Accountant"
          ],
          [
           "Dev Mobile (React-Native)"
          ],
          [
           "[HN] Credit Intern ( Thực Tập Sinh Thẩm Định) "
          ],
          [
           "Senior Talent Acquisition/ Senior Recruiter"
          ],
          [
           "[Hà Nội] Nhân Viên Kinh Doanh Phần Mềm Website "
          ],
          [
           "NET DEVELOPER"
          ],
          [
           "CHUYÊN VIÊN KINH DOANH (FULL-TIME)"
          ],
          [
           "Fullstack Developer"
          ],
          [
           "NodeJS Developer"
          ],
          [
           "[HN] Nhân Viên Kinh Doanh Tour Outbound"
          ],
          [
           "Chuyên viên Tuyển dụng"
          ],
          [
           "Nhân Viên Kinh Doanh Bất Động Sản"
          ],
          [
           "Nhân Viên Kinh Doanh Bất Động Sản"
          ],
          [
           "FRESHER/JUNIOR IOS DEVELOPER"
          ],
          [
           "[HN/DN/HCM] Công ty Difisoft - Frontend (ReactJS) Developer "
          ],
          [
           "Sales Leader/ Trưởng Nhóm Kinh Doanh"
          ],
          [
           "Sales Leader/ Trưởng Nhóm Kinh Doanh"
          ],
          [
           "DIGITAL MAKETER"
          ],
          [
           "Test Engineer"
          ],
          [
           "Project Coordinator"
          ],
          [
           "Project Coordinator"
          ],
          [
           "Tư Vấn Viên Sản Phẩm Giáo Dục"
          ],
          [
           "Market Research (Nghiên cứu thị trường marketing)"
          ],
          [
           "Head Of Marketing"
          ],
          [
           "Sales Dự Án"
          ],
          [
           "[Hà Nội] IT Support"
          ],
          [
           "Nhân Viên Sale Tour Inbound Và Outbound"
          ],
          [
           "Talent Acquisiton Junior"
          ],
          [
           "BLOCKCHAIN DEVELOPER"
          ],
          [
           "UA Marketing"
          ],
          [
           "[HN] Nhân Viên Kinh Doanh"
          ],
          [
           "CTV TUYỂN DỤNG (fulltime)"
          ],
          [
           "Frontend Developer "
          ],
          [
           "[HN] Cộng Tác Viên Tuyển Dụng Part-time"
          ],
          [
           "React Native Front end Developer "
          ],
          [
           "BLOCKCHAIN DEVELOPER"
          ],
          [
           "[HN] Frontend Developer"
          ],
          [
           "Business Consultant/Business Development"
          ],
          [
           "Frontend Developer"
          ],
          [
           "Nhân Viên Kinh Doanh"
          ],
          [
           "Talent Acquisition [Offer upto 1000 USD]"
          ],
          [
           "[HN/HCM/DN] Frontend (Mobile) Developer "
          ],
          [
           "[HN] Performance Digital Marketing "
          ],
          [
           "Brand Executive"
          ],
          [
           "ENGLISH FOREIGN TEACHER (PART-TIME) IN HANOI CITY"
          ],
          [
           "ENGLISH FOREIGN TEACHER (PART-TIME) IN HANOI CITY"
          ],
          [
           "Quản lý dịch vụ khách hàng (Customer Service Manager)"
          ],
          [
           "Marketing Executive"
          ],
          [
           "[Remote 3-6 tháng]TỔNG ĐÀI VIÊN CHĂM SÓC KHÁCH HÀNG"
          ],
          [
           "Ameriver Việt Nam - Tuyển dụng Nhân Viên Kho Dược tại Hà Nội"
          ],
          [
           "Devops"
          ],
          [
           "Mobile Developer (Flutter)"
          ],
          [
           "[HN] Nhân Viên Kinh Doanh"
          ],
          [
           "Product Marketing"
          ],
          [
           "[HN] UI/UX Designer"
          ],
          [
           "Chuyên Viên Tuyển Dụng"
          ],
          [
           "[AROMA] English Native Teacher in Hanoi"
          ],
          [
           "Social Media Manager"
          ],
          [
           "[Remote/Onsite] PHP Developer"
          ],
          [
           "[Daehong Communications  - Tuyển dụng BTL Account Executive ]"
          ],
          [
           "TRƯỞNG NHÓM KINH DOANH ONLINE - THỂ THAO"
          ],
          [
           "Nhân viên kinh doanh/ Sales B2B"
          ],
          [
           "Nhân Viên Digital Marketing"
          ],
          [
           "Talent Acquisition Executive"
          ],
          [
           "Software Project Coordinator"
          ],
          [
           "Partnership Specialist"
          ],
          [
           "Chuyên viên Tuyển Dụng Kiêm Đào Tạo Nội Bộ"
          ],
          [
           "Junior / QC Tester"
          ],
          [
           "Content Marketing Executive"
          ],
          [
           "Trưởng Nhóm Tư Vấn Giáo Dục (Sales Team Leader)"
          ],
          [
           "[HN] Nhân Viên Tư Vấn Tuyển Sinh"
          ],
          [
           "Scrum Master"
          ],
          [
           "Chuyên Viên Account Tư Vấn Dịch Vụ Marketing Tổng Thể"
          ],
          [
           "Content Marketing Intern"
          ],
          [
           "BRAND MARKETING SPECIALIST"
          ],
          [
           "Chuyên viên IT (Quản trị hệ thống thống tin)"
          ],
          [
           "Business Development Manager"
          ],
          [
           "CONTENT MARKETING EXECUTIVE"
          ],
          [
           "Chuyên viên Marketing - Marketing Executive"
          ],
          [
           "(HN) Senior Product Specialist (Industry/Institution)"
          ],
          [
           "[HN] Digital Marketing Team Leader"
          ],
          [
           "UI/UX Designer (Product Design)"
          ]
         ],
         "hovertemplate": "job_location=Hà Nội<br>Mức lương=%{x}<br>Số năm kinh nghiệm=%{y}<br>Loại công việc=%{z}<br>job_title=%{customdata[0]}<extra></extra>",
         "legendgroup": "Hà Nội",
         "marker": {
          "color": "#EF553B",
          "symbol": "circle"
         },
         "mode": "markers",
         "name": "Hà Nội",
         "scene": "scene",
         "showlegend": true,
         "type": "scatter3d",
         "x": [
          1000,
          1300,
          1500,
          8000000,
          15000000,
          25000000,
          11500000,
          12000000,
          150,
          650,
          25000000,
          17500000,
          1750,
          30000000,
          1300,
          14000000,
          17500000,
          3000,
          8500000,
          1500,
          150,
          150,
          12500000,
          1600,
          22500000,
          7500000,
          4500000,
          7500000,
          1000,
          6000000,
          150,
          150,
          1750,
          12000000,
          25000000,
          14000000,
          150,
          1500,
          1000,
          3000000,
          2000,
          3000,
          150,
          25000000,
          11500000,
          21000000,
          12500050,
          27500000,
          3150,
          20000000,
          20000000,
          35000000,
          40000000,
          35000000,
          150,
          22500000,
          100,
          16000000,
          1500,
          3500,
          450,
          17500000,
          12500000,
          150,
          10500000,
          150,
          37500000,
          19000000,
          2000,
          4000000,
          13500000,
          45000000,
          11500000,
          11500000,
          150,
          11500000,
          37500000,
          700,
          11500000,
          1600,
          16000000,
          1600,
          1250,
          1750,
          2000,
          12500000,
          12500000,
          2000,
          2000,
          1250,
          11500000,
          2000000,
          7500000,
          8500000,
          15000000,
          150,
          750,
          1250,
          13500000,
          13500000,
          150,
          150,
          10500000,
          22500000,
          150,
          3250000,
          2050,
          51000000,
          50000000,
          1000,
          9000000,
          16000000,
          150,
          22500000,
          17500000,
          1000,
          1000,
          2700000,
          32000000,
          9000000,
          7000000,
          11000000,
          1750,
          3000000,
          15000000,
          130000000,
          25000000,
          22500000,
          45000000,
          30000000,
          6000000,
          12500000,
          1500,
          9000000,
          15000000,
          25000000,
          450,
          65000000,
          1150,
          900,
          15000000,
          25000000,
          12500000,
          10000000,
          12000000,
          40000000,
          40000000,
          10000000,
          9500000,
          900,
          22500000,
          21500000,
          27500000,
          11500000,
          3500000,
          25000000,
          25000000,
          24000000,
          11500000,
          20000000,
          35000000,
          6500000,
          35000000,
          12500000,
          35000000,
          13500000,
          8000000,
          15000000,
          35000000,
          1900,
          26500000,
          750,
          12500000,
          7000000,
          12000000,
          1750,
          7500000,
          12500000,
          22500000,
          1750,
          9000000,
          22500000,
          2000,
          18500000,
          10000000,
          21000000,
          1500,
          9000000,
          8500000,
          1500,
          14000000,
          1250,
          150,
          11500000,
          11500000,
          20000,
          2500000,
          7000000,
          8500000,
          16500000,
          10500000,
          3000000,
          3000000,
          8500000,
          1900,
          13500000,
          1500,
          6000000,
          17500000,
          16000000,
          3000000,
          11500000,
          11500000,
          10000000,
          15000000,
          3000000,
          22000000,
          1999900,
          8000000,
          2000,
          15000000,
          150,
          150,
          12000000,
          15000000,
          18500000,
          12000000,
          12000000,
          17500000,
          11500000,
          900,
          15000000,
          20000000,
          25000000,
          18500000,
          1500000,
          6000000,
          6000000,
          1500,
          1400,
          2000,
          4000000,
          12500000,
          11500000,
          1400,
          15000000,
          17500000,
          5000000,
          21500000,
          15000000,
          2500,
          30000000,
          750,
          850,
          18500000,
          12500050,
          9000000,
          9000000,
          17500000,
          1500,
          17500000,
          17500000,
          16000000,
          850,
          1000,
          1000,
          150,
          18000000,
          2250,
          20000000,
          15000000,
          7500000,
          8500000,
          1600,
          750,
          15000000,
          3750000,
          40000000,
          3500000,
          10000000,
          1600,
          30000050,
          20000000,
          25000000,
          10000000,
          150,
          1500,
          15000000,
          10000000,
          25,
          26.5,
          20000000,
          11500000,
          8500000,
          8500000,
          1300,
          1550,
          7800000,
          21500000,
          25000000,
          15000000,
          15,
          12500000,
          30000000,
          150,
          17500000,
          25000000,
          20000000,
          800,
          700,
          11000000,
          150,
          150,
          450,
          14000000,
          17500000,
          2000,
          16000000,
          4500000,
          850,
          150,
          150,
          450,
          150,
          1500,
          17000000,
          1700
         ],
         "y": [
          13,
          13,
          null,
          13,
          13,
          13,
          13,
          null,
          null,
          null,
          13,
          null,
          35,
          35,
          13,
          13,
          13,
          510,
          null,
          35,
          null,
          null,
          null,
          35,
          13,
          null,
          null,
          null,
          13,
          null,
          13,
          13,
          13,
          null,
          13,
          13,
          13,
          35,
          13,
          null,
          35,
          510,
          13,
          13,
          null,
          null,
          13,
          13,
          35,
          13,
          13,
          13,
          13,
          13,
          13,
          13,
          null,
          13,
          13,
          510,
          null,
          13,
          13,
          null,
          null,
          13,
          35,
          null,
          35,
          null,
          13,
          510,
          13,
          13,
          13,
          null,
          35,
          13,
          null,
          13,
          null,
          13,
          35,
          35,
          35,
          13,
          13,
          13,
          13,
          13,
          null,
          null,
          null,
          13,
          null,
          null,
          null,
          13,
          13,
          13,
          null,
          null,
          null,
          13,
          13,
          null,
          35,
          null,
          510,
          13,
          null,
          null,
          null,
          13,
          13,
          null,
          null,
          null,
          13,
          null,
          null,
          null,
          35,
          null,
          null,
          13,
          13,
          13,
          13,
          35,
          null,
          13,
          13,
          null,
          null,
          13,
          13,
          510,
          13,
          13,
          13,
          null,
          null,
          null,
          13,
          13,
          13,
          13,
          13,
          13,
          13,
          null,
          35,
          13,
          null,
          null,
          null,
          null,
          null,
          null,
          13,
          null,
          null,
          13,
          13,
          13,
          null,
          13,
          35,
          13,
          null,
          null,
          null,
          13,
          null,
          35,
          null,
          null,
          null,
          35,
          null,
          13,
          35,
          null,
          13,
          null,
          13,
          null,
          null,
          35,
          null,
          13,
          13,
          null,
          null,
          null,
          null,
          null,
          null,
          13,
          13,
          null,
          null,
          null,
          13,
          35,
          13,
          null,
          13,
          null,
          null,
          13,
          13,
          null,
          13,
          null,
          13,
          null,
          null,
          35,
          null,
          13,
          13,
          13,
          13,
          35,
          null,
          null,
          null,
          null,
          13,
          null,
          13,
          13,
          null,
          null,
          null,
          null,
          13,
          13,
          35,
          null,
          13,
          13,
          35,
          13,
          null,
          null,
          35,
          null,
          35,
          null,
          null,
          13,
          null,
          13,
          null,
          null,
          null,
          13,
          13,
          13,
          13,
          13,
          13,
          13,
          null,
          13,
          35,
          null,
          null,
          null,
          13,
          null,
          13,
          null,
          null,
          13,
          null,
          13,
          null,
          13,
          13,
          13,
          13,
          13,
          13,
          13,
          13,
          13,
          13,
          35,
          13,
          null,
          null,
          13,
          35,
          null,
          35,
          13,
          13,
          13,
          13,
          35,
          13,
          13,
          null,
          null,
          13,
          13,
          null,
          13,
          13,
          13,
          13,
          null,
          13,
          null,
          null,
          13,
          13,
          510,
          13,
          13,
          35,
          35,
          13
         ],
         "z": [
          "Data Science",
          "Software Engineering",
          "Data Science",
          "Data Science",
          "Data Science",
          "Software Engineering",
          "Marketing",
          "Software Engineering",
          "Other",
          "Finance",
          "Business Development / Sales",
          "Software Engineering",
          "Software Engineering",
          "Software Engineering",
          "Data Science",
          "Data Science",
          "Software Engineering",
          "Software Engineering",
          "Administrative",
          "Engineering",
          "Data Science",
          "Data Science",
          "Finance",
          "Product Management",
          "Software Engineering",
          "Administrative",
          "Business Development / Sales",
          "Administrative",
          "Marketing",
          "Software Engineering",
          "Data Science",
          "Data Science",
          "Product Management",
          "Software Engineering",
          "Data Science",
          "Software Engineering",
          "Data Science",
          "Data Science",
          "Data Science",
          "Software Engineering",
          "Data Science",
          "Data Science",
          "Other",
          "Product Management",
          "Product Management",
          "Business Development / Sales",
          "Business Development / Sales",
          "Software Engineering",
          "Data Science",
          "Finance",
          "Software Engineering",
          "Software Engineering",
          "Software Engineering",
          "Software Engineering",
          "Finance",
          "Software Engineering",
          "Data Science",
          "Other",
          "Consulting",
          "Operations",
          "Software Engineering",
          "Human Resource",
          "Marketing",
          "Software Engineering",
          "Software Engineering",
          "Software Engineering",
          "Marketing",
          "Software Engineering",
          "Product Management",
          "Marketing",
          "Marketing",
          "Marketing",
          "Business Development / Sales",
          "Business Development / Sales",
          "Marketing",
          "Business Development / Sales",
          "Software Engineering",
          "Media & Communications",
          "Data Science",
          "Software Engineering",
          "Operations",
          "Software Engineering",
          "Finance",
          "Business Development / Sales",
          "Software Engineering",
          "Marketing",
          "Marketing",
          "Software Engineering",
          "Software Engineering",
          "Data Science",
          "Management",
          "Data Science",
          "Business Development / Sales",
          "Data Science",
          "Data Science",
          "Data Science",
          "Software Engineering",
          "Marketing",
          "Marketing",
          "Marketing",
          "Software Engineering",
          "Data Science",
          "Business Development / Sales",
          "Business Development / Sales",
          "Data Science",
          "Business Development / Sales",
          "Software Engineering",
          "Data Science",
          "Human Resource",
          "Software Engineering",
          "Business Development / Sales",
          "Software Engineering",
          "Finance",
          "Software Engineering",
          "Design",
          "Business Development / Sales",
          "Business Development / Sales",
          "Business Development / Sales",
          "Software Engineering",
          "Operations",
          "Other",
          "Business Development / Sales",
          "Software Engineering",
          "Software Engineering",
          "Design",
          "Software Engineering",
          "Design",
          "Design",
          "Marketing",
          "Software Engineering",
          "Marketing",
          "Marketing",
          "Design",
          "Business Development / Sales",
          "Business Development / Sales",
          "Software Engineering",
          "Marketing",
          "Human Resource",
          "Software Engineering",
          "Software Engineering",
          "Business Development / Sales",
          "Software Engineering",
          "Business Development / Sales",
          "Marketing",
          "Education",
          "Marketing",
          "Marketing",
          "Operations",
          "Marketing",
          "Software Engineering",
          "Business Development / Sales",
          "Business Development / Sales",
          "Marketing",
          "Business Development / Sales",
          "Marketing",
          "Business Development / Sales",
          "Business Development / Sales",
          "Business Development / Sales",
          "Business Development / Sales",
          "Software Engineering",
          "Business Development / Sales",
          "Human Resource",
          "Business Development / Sales",
          "Business Development / Sales",
          "Business Development / Sales",
          "Marketing",
          "Business Development / Sales",
          "Human Resource",
          "Software Engineering",
          "Software Engineering",
          "Business Development / Sales",
          "Healthcare",
          "Business Development / Sales",
          "Business Development / Sales",
          "Business Development / Sales",
          "Software Engineering",
          "Business Development / Sales",
          "Business Development / Sales",
          "Business Development / Sales",
          "Marketing",
          "Marketing",
          "Software Engineering",
          "Software Engineering",
          "Business Development / Sales",
          "Business Development / Sales",
          "Business Development / Sales",
          "Software Engineering",
          "Business Development / Sales",
          "Business Development / Sales",
          "Software Engineering",
          "Business Development / Sales",
          "Software Engineering",
          "Business Development / Sales",
          "Business Development / Sales",
          "Business Development / Sales",
          "Business Development / Sales",
          "Marketing",
          "Business Development / Sales",
          "Education",
          "Human Resource",
          "Business Development / Sales",
          "Human Resource",
          "Human Resource",
          "Business Development / Sales",
          "Software Engineering",
          "Human Resource",
          "Software Engineering",
          "Business Development / Sales",
          "Business Development / Sales",
          "Business Development / Sales",
          "Human Resource",
          "Marketing",
          "Business Development / Sales",
          "Business Development / Sales",
          "Human Resource",
          "Education",
          "Marketing",
          "Business Development / Sales",
          "Business Development / Sales",
          "Design",
          "Business Development / Sales",
          "Software Engineering",
          "Software Engineering",
          "Human Resource",
          "Human Resource",
          "Human Resource",
          "Human Resource",
          "Human Resource",
          "Business Development / Sales",
          "Business Development / Sales",
          "Marketing",
          "Business Development / Sales",
          "Human Resource",
          "Software Engineering",
          "Business Development / Sales",
          "Education",
          "Education",
          "Education",
          "Software Engineering",
          "Software Engineering",
          "Business Development / Sales",
          "Education",
          "Marketing",
          "Media & Communications",
          "Human Resource",
          "Finance",
          "Software Engineering",
          "Finance",
          "Human Resource",
          "Business Development / Sales",
          "Software Engineering",
          "Business Development / Sales",
          "Business Development / Sales",
          "Software Engineering",
          "Business Development / Sales",
          "Other",
          "Business Development / Sales",
          "Business Development / Sales",
          "Software Engineering",
          "Software Engineering",
          "Business Development / Sales",
          "Business Development / Sales",
          "Marketing",
          "Software Engineering",
          "Software Engineering",
          "Software Engineering",
          "Business Development / Sales",
          "Marketing",
          "Marketing",
          "Business Development / Sales",
          "Software Engineering",
          "Business Development / Sales",
          "Human Resource",
          "Software Engineering",
          "Marketing",
          "Business Development / Sales",
          "Human Resource",
          "Software Engineering",
          "Human Resource",
          "Engineering",
          "Software Engineering",
          "Software Engineering",
          "Business Development / Sales",
          "Software Engineering",
          "Business Development / Sales",
          "Human Resource",
          "Software Engineering",
          "Marketing",
          "Marketing",
          "Education",
          "Education",
          "Operations",
          "Marketing",
          "Business Development / Sales",
          "Other",
          "Software Engineering",
          "Software Engineering",
          "Business Development / Sales",
          "Marketing",
          "Design",
          "Human Resource",
          "Education",
          "Other",
          "Software Engineering",
          "Business Development / Sales",
          "Business Development / Sales",
          "Business Development / Sales",
          "Marketing",
          "Human Resource",
          "Management",
          "Marketing",
          "Human Resource",
          "Software Engineering",
          "Marketing",
          "Business Development / Sales",
          "Business Development / Sales",
          "Software Engineering",
          "Marketing",
          "Marketing",
          "Marketing",
          "Administrative",
          "Business Development / Sales",
          "Marketing",
          "Marketing",
          "Business Development / Sales",
          "Marketing",
          "Design"
         ]
        },
        {
         "customdata": [
          [
           "Data Analyst (Chuyên Viên Phân Tích Dữ Liệu Phòng MIS)"
          ]
         ],
         "hovertemplate": "job_location=Hà Nam<br>Mức lương=%{x}<br>Số năm kinh nghiệm=%{y}<br>Loại công việc=%{z}<br>job_title=%{customdata[0]}<extra></extra>",
         "legendgroup": "Hà Nam",
         "marker": {
          "color": "#00cc96",
          "symbol": "circle"
         },
         "mode": "markers",
         "name": "Hà Nam",
         "scene": "scene",
         "showlegend": true,
         "type": "scatter3d",
         "x": [
          950
         ],
         "y": [
          13
         ],
         "z": [
          "Data Science"
         ]
        },
        {
         "customdata": [
          [
           "Business Analyst"
          ],
          [
           "[HCM] Junior Application Officer"
          ],
          [
           "Assistant Brand Manager"
          ],
          [
           "Export Sales Manager - China Market"
          ],
          [
           "Sales Supervisor"
          ]
         ],
         "hovertemplate": "job_location=hủ Đức<br>Mức lương=%{x}<br>Số năm kinh nghiệm=%{y}<br>Loại công việc=%{z}<br>job_title=%{customdata[0]}<extra></extra>",
         "legendgroup": "hủ Đức",
         "marker": {
          "color": "#ab63fa",
          "symbol": "circle"
         },
         "mode": "markers",
         "name": "hủ Đức",
         "scene": "scene",
         "showlegend": true,
         "type": "scatter3d",
         "x": [
          25000000,
          150,
          14000000,
          35000000,
          22500000
         ],
         "y": [
          35,
          null,
          13,
          35,
          13
         ],
         "z": [
          "Marketing",
          "Software Engineering",
          "Other",
          "Business Development / Sales",
          "Business Development / Sales"
         ]
        },
        {
         "customdata": [
          [
           "Technical Data Steward "
          ],
          [
           "Software Tester"
          ],
          [
           "Nhân Viên Telesales"
          ],
          [
           "Nhân viên kinh doanh"
          ],
          [
           "Security Feature Test"
          ],
          [
           "UI/UX Designer"
          ],
          [
           "[DN] Tư Vấn Viên - Part Time"
          ],
          [
           "Nhân viên Tư Vấn Tuyển Sinh (Educational Consultant)"
          ],
          [
           "Nhân Viên Game Tester (Up to 30 triệu)"
          ],
          [
           "[Remote 3-6 tháng] Tổng đài viên CSKH (7 triệu - 10 triệu)"
          ],
          [
           "Thực tập sinh Sale – Marketing"
          ],
          [
           "[Remote 3-6 tháng] TỔNG ĐÀI VIÊN CSKH"
          ],
          [
           "Sales Intern - Đà Nẵng"
          ],
          [
           "[DN] Nhân Viên Tổ Chức Thi"
          ],
          [
           "Customer Success Specialist remote"
          ]
         ],
         "hovertemplate": "job_location=Da Nang<br>Mức lương=%{x}<br>Số năm kinh nghiệm=%{y}<br>Loại công việc=%{z}<br>job_title=%{customdata[0]}<extra></extra>",
         "legendgroup": "Da Nang",
         "marker": {
          "color": "#FFA15A",
          "symbol": "circle"
         },
         "mode": "markers",
         "name": "Da Nang",
         "scene": "scene",
         "showlegend": true,
         "type": "scatter3d",
         "x": [
          2800,
          20500000,
          8000000,
          17500000,
          150,
          1800,
          6000000,
          17500000,
          25000000,
          8500000,
          2500,
          8500000,
          2500000,
          9000000,
          2000000
         ],
         "y": [
          35,
          35,
          null,
          13,
          13,
          35,
          null,
          13,
          35,
          null,
          null,
          null,
          null,
          null,
          null
         ],
         "z": [
          "Other",
          "Other",
          "Business Development / Sales",
          "Business Development / Sales",
          "Software Engineering",
          "Design",
          "Business Development / Sales",
          "Consulting",
          "Software Engineering",
          "Business Development / Sales",
          "Business Development / Sales",
          "Business Development / Sales",
          "Business Development / Sales",
          "Education",
          "Business Development / Sales"
         ]
        },
        {
         "customdata": [
          [
           "IT Product Manager (Business Analyst/UI-UX)"
          ]
         ],
         "hovertemplate": "job_location=Quận Bốn<br>Mức lương=%{x}<br>Số năm kinh nghiệm=%{y}<br>Loại công việc=%{z}<br>job_title=%{customdata[0]}<extra></extra>",
         "legendgroup": "Quận Bốn",
         "marker": {
          "color": "#19d3f3",
          "symbol": "circle"
         },
         "mode": "markers",
         "name": "Quận Bốn",
         "scene": "scene",
         "showlegend": true,
         "type": "scatter3d",
         "x": [
          1000
         ],
         "y": [
          35
         ],
         "z": [
          "Product Management"
         ]
        },
        {
         "customdata": [
          [
           " Thực tập sinh SEO"
          ],
          [
           "Customer Service Representative (Night shift)"
          ],
          [
           "Digital Product Admin - Amazon "
          ]
         ],
         "hovertemplate": "job_location=Quận Bình Thạnh<br>Mức lương=%{x}<br>Số năm kinh nghiệm=%{y}<br>Loại công việc=%{z}<br>job_title=%{customdata[0]}<extra></extra>",
         "legendgroup": "Quận Bình Thạnh",
         "marker": {
          "color": "#FF6692",
          "symbol": "circle"
         },
         "mode": "markers",
         "name": "Quận Bình Thạnh",
         "scene": "scene",
         "showlegend": true,
         "type": "scatter3d",
         "x": [
          3000000,
          12000050,
          12000000
         ],
         "y": [
          null,
          null,
          13
         ],
         "z": [
          "Marketing",
          "Media & Communications",
          "Marketing"
         ]
        },
        {
         "customdata": [
          [
           "NHÂN VIÊN TÍN DỤNG"
          ]
         ],
         "hovertemplate": "job_location=Ðà Lạt<br>Mức lương=%{x}<br>Số năm kinh nghiệm=%{y}<br>Loại công việc=%{z}<br>job_title=%{customdata[0]}<extra></extra>",
         "legendgroup": "Ðà Lạt",
         "marker": {
          "color": "#B6E880",
          "symbol": "circle"
         },
         "mode": "markers",
         "name": "Ðà Lạt",
         "scene": "scene",
         "showlegend": true,
         "type": "scatter3d",
         "x": [
          10000000
         ],
         "y": [
          null
         ],
         "z": [
          "Finance"
         ]
        },
        {
         "customdata": [
          [
           "CHUYÊN VIÊN TƯ VẤN "
          ],
          [
           "[FTI/CT] Nhân Viên Kinh Doanh Dự Án (B2B)"
          ],
          [
           "Thực tập sinh chăm sóc khách hàng remote (Customer Service)"
          ],
          [
           "Customer Success Specialist Intern Remote"
          ]
         ],
         "hovertemplate": "job_location=Cần Thơ<br>Mức lương=%{x}<br>Số năm kinh nghiệm=%{y}<br>Loại công việc=%{z}<br>job_title=%{customdata[0]}<extra></extra>",
         "legendgroup": "Cần Thơ",
         "marker": {
          "color": "#FF97FF",
          "symbol": "circle"
         },
         "mode": "markers",
         "name": "Cần Thơ",
         "scene": "scene",
         "showlegend": true,
         "type": "scatter3d",
         "x": [
          150,
          19000000,
          2000000,
          2000000
         ],
         "y": [
          null,
          13,
          null,
          null
         ],
         "z": [
          "Other",
          "Business Development / Sales",
          "Business Development / Sales",
          "Business Development / Sales"
         ]
        },
        {
         "customdata": [
          [
           "Nhân viên Telesales Chăm Sóc Khách Hàng"
          ],
          [
           "Nhân Viên Kinh Doanh (Không yêu cầu kinh nghiệm)"
          ],
          [
           "Nhân Viên Kinh Doanh Chăm Sóc Khách Hàng "
          ],
          [
           "Nhân Viên Kinh Doanh (Không yêu cầu kinh nghiệm)"
          ],
          [
           "Nhân Viên Kinh Doanh Chăm Sóc Khách Hàng "
          ],
          [
           "Nhân Viên Tư Vấn Chăm Sóc Khách Hàng (không yêu cầu kinh nghiệm)"
          ],
          [
           "Nhân viên Telesales Tư Vấn Kinh Doanh "
          ],
          [
           "Nhân Viên Kinh Doanh Chăm Sóc Khách Hàng"
          ]
         ],
         "hovertemplate": "job_location=Buôn Ma Thuột<br>Mức lương=%{x}<br>Số năm kinh nghiệm=%{y}<br>Loại công việc=%{z}<br>job_title=%{customdata[0]}<extra></extra>",
         "legendgroup": "Buôn Ma Thuột",
         "marker": {
          "color": "#FECB52",
          "symbol": "circle"
         },
         "mode": "markers",
         "name": "Buôn Ma Thuột",
         "scene": "scene",
         "showlegend": true,
         "type": "scatter3d",
         "x": [
          13000000,
          13000000,
          13000000,
          13000000,
          13000000,
          13000000,
          13000000,
          13000000
         ],
         "y": [
          null,
          null,
          null,
          null,
          null,
          null,
          null,
          null
         ],
         "z": [
          "Business Development / Sales",
          "Business Development / Sales",
          "Business Development / Sales",
          "Business Development / Sales",
          "Business Development / Sales",
          "Business Development / Sales",
          "Business Development / Sales",
          "Business Development / Sales"
         ]
        },
        {
         "customdata": [
          [
           "IT Supervisor"
          ]
         ],
         "hovertemplate": "job_location=Nhơn Trạch<br>Mức lương=%{x}<br>Số năm kinh nghiệm=%{y}<br>Loại công việc=%{z}<br>job_title=%{customdata[0]}<extra></extra>",
         "legendgroup": "Nhơn Trạch",
         "marker": {
          "color": "#636efa",
          "symbol": "circle"
         },
         "mode": "markers",
         "name": "Nhơn Trạch",
         "scene": "scene",
         "showlegend": true,
         "type": "scatter3d",
         "x": [
          1100
         ],
         "y": [
          35
         ],
         "z": [
          "Software Engineering"
         ]
        },
        {
         "customdata": [
          [
           "Chuyên viên tuyển dụng"
          ]
         ],
         "hovertemplate": "job_location=Cầu Giấy<br>Mức lương=%{x}<br>Số năm kinh nghiệm=%{y}<br>Loại công việc=%{z}<br>job_title=%{customdata[0]}<extra></extra>",
         "legendgroup": "Cầu Giấy",
         "marker": {
          "color": "#EF553B",
          "symbol": "circle"
         },
         "mode": "markers",
         "name": "Cầu Giấy",
         "scene": "scene",
         "showlegend": true,
         "type": "scatter3d",
         "x": [
          14500000
         ],
         "y": [
          13
         ],
         "z": [
          "Human Resource"
         ]
        },
        {
         "customdata": [
          [
           "SALES EXECUTIVE - PHAN THIẾT"
          ]
         ],
         "hovertemplate": "job_location=Phan Thiết<br>Mức lương=%{x}<br>Số năm kinh nghiệm=%{y}<br>Loại công việc=%{z}<br>job_title=%{customdata[0]}<extra></extra>",
         "legendgroup": "Phan Thiết",
         "marker": {
          "color": "#00cc96",
          "symbol": "circle"
         },
         "mode": "markers",
         "name": "Phan Thiết",
         "scene": "scene",
         "showlegend": true,
         "type": "scatter3d",
         "x": [
          150
         ],
         "y": [
          13
         ],
         "z": [
          "Business Development / Sales"
         ]
        },
        {
         "customdata": [
          [
           "Marketing Manager ( Thảo Điền Quận 2- HCM)"
          ]
         ],
         "hovertemplate": "job_location=A Lưới<br>Mức lương=%{x}<br>Số năm kinh nghiệm=%{y}<br>Loại công việc=%{z}<br>job_title=%{customdata[0]}<extra></extra>",
         "legendgroup": "A Lưới",
         "marker": {
          "color": "#ab63fa",
          "symbol": "circle"
         },
         "mode": "markers",
         "name": "A Lưới",
         "scene": "scene",
         "showlegend": true,
         "type": "scatter3d",
         "x": [
          850
         ],
         "y": [
          35
         ],
         "z": [
          "Management"
         ]
        },
        {
         "customdata": [
          [
           "Nhân Viên Tư Vấn Chăm Sóc Khách Hàng"
          ]
         ],
         "hovertemplate": "job_location=Đắk Lắk<br>Mức lương=%{x}<br>Số năm kinh nghiệm=%{y}<br>Loại công việc=%{z}<br>job_title=%{customdata[0]}<extra></extra>",
         "legendgroup": "Đắk Lắk",
         "marker": {
          "color": "#FFA15A",
          "symbol": "circle"
         },
         "mode": "markers",
         "name": "Đắk Lắk",
         "scene": "scene",
         "showlegend": true,
         "type": "scatter3d",
         "x": [
          10500000
         ],
         "y": [
          null
         ],
         "z": [
          "Business Development / Sales"
         ]
        },
        {
         "customdata": [
          [
           "Customer Service Representative (Chat Management)"
          ]
         ],
         "hovertemplate": "job_location=An Nhơn<br>Mức lương=%{x}<br>Số năm kinh nghiệm=%{y}<br>Loại công việc=%{z}<br>job_title=%{customdata[0]}<extra></extra>",
         "legendgroup": "An Nhơn",
         "marker": {
          "color": "#19d3f3",
          "symbol": "circle"
         },
         "mode": "markers",
         "name": "An Nhơn",
         "scene": "scene",
         "showlegend": true,
         "type": "scatter3d",
         "x": [
          250
         ],
         "y": [
          null
         ],
         "z": [
          "Administrative"
         ]
        },
        {
         "customdata": [
          [
           "[Glints 5 Ngày] Supply Chain Director"
          ],
          [
           "Quản Lý Khu Vực - Bình Dương"
          ],
          [
           "Quản Lý Khu Vực - Bình Dương"
          ]
         ],
         "hovertemplate": "job_location=Bình Dương<br>Mức lương=%{x}<br>Số năm kinh nghiệm=%{y}<br>Loại công việc=%{z}<br>job_title=%{customdata[0]}<extra></extra>",
         "legendgroup": "Bình Dương",
         "marker": {
          "color": "#FF6692",
          "symbol": "circle"
         },
         "mode": "markers",
         "name": "Bình Dương",
         "scene": "scene",
         "showlegend": true,
         "type": "scatter3d",
         "x": [
          3500,
          32500000,
          32500000
         ],
         "y": [
          35,
          13,
          13
         ],
         "z": [
          "Other",
          "Business Development / Sales",
          "Business Development / Sales"
         ]
        },
        {
         "customdata": [
          [
           "Quản Lý Khu Vực - Biên Hòa"
          ],
          [
           "Quản Lý Cơ Sở - Biên Hòa"
          ],
          [
           "Quản Lý Kinh Doanh Khu Vực Biên Hòa"
          ],
          [
           "Quản Lý Kinh Doanh Khu Vực Biên Hòa"
          ]
         ],
         "hovertemplate": "job_location=Biên Hòa<br>Mức lương=%{x}<br>Số năm kinh nghiệm=%{y}<br>Loại công việc=%{z}<br>job_title=%{customdata[0]}<extra></extra>",
         "legendgroup": "Biên Hòa",
         "marker": {
          "color": "#B6E880",
          "symbol": "circle"
         },
         "mode": "markers",
         "name": "Biên Hòa",
         "scene": "scene",
         "showlegend": true,
         "type": "scatter3d",
         "x": [
          32500000,
          29000000,
          30000000,
          30000000
         ],
         "y": [
          13,
          13,
          13,
          13
         ],
         "z": [
          "Business Development / Sales",
          "Education",
          "Business Development / Sales",
          "Business Development / Sales"
         ]
        },
        {
         "customdata": [
          [
           "Quản Lý Cơ Sở - Nha Trang"
          ],
          [
           "Quản Lý Cơ Sở Nha Trang"
          ],
          [
           "Quản Lý Cơ Sở Nha Trang"
          ],
          [
           "Quản Lý Cơ Sở Nha Trang"
          ]
         ],
         "hovertemplate": "job_location=Nha Trang<br>Mức lương=%{x}<br>Số năm kinh nghiệm=%{y}<br>Loại công việc=%{z}<br>job_title=%{customdata[0]}<extra></extra>",
         "legendgroup": "Nha Trang",
         "marker": {
          "color": "#FF97FF",
          "symbol": "circle"
         },
         "mode": "markers",
         "name": "Nha Trang",
         "scene": "scene",
         "showlegend": true,
         "type": "scatter3d",
         "x": [
          29000000,
          29000000,
          29000000,
          29000000
         ],
         "y": [
          13,
          13,
          13,
          13
         ],
         "z": [
          "Education",
          "Education",
          "Education",
          "Education"
         ]
        },
        {
         "customdata": [
          [
           "[KH] Quản Lý Cơ Sở"
          ]
         ],
         "hovertemplate": "job_location=Khánh Hòa<br>Mức lương=%{x}<br>Số năm kinh nghiệm=%{y}<br>Loại công việc=%{z}<br>job_title=%{customdata[0]}<extra></extra>",
         "legendgroup": "Khánh Hòa",
         "marker": {
          "color": "#FECB52",
          "symbol": "circle"
         },
         "mode": "markers",
         "name": "Khánh Hòa",
         "scene": "scene",
         "showlegend": true,
         "type": "scatter3d",
         "x": [
          14000000
         ],
         "y": [
          13
         ],
         "z": [
          "Education"
         ]
        },
        {
         "customdata": [
          [
           "Chuyên viên điều phối lớp học"
          ]
         ],
         "hovertemplate": "job_location=Hai BàTrưng<br>Mức lương=%{x}<br>Số năm kinh nghiệm=%{y}<br>Loại công việc=%{z}<br>job_title=%{customdata[0]}<extra></extra>",
         "legendgroup": "Hai BàTrưng",
         "marker": {
          "color": "#636efa",
          "symbol": "circle"
         },
         "mode": "markers",
         "name": "Hai BàTrưng",
         "scene": "scene",
         "showlegend": true,
         "type": "scatter3d",
         "x": [
          14000000
         ],
         "y": [
          13
         ],
         "z": [
          "Education"
         ]
        }
       ],
       "layout": {
        "legend": {
         "title": {
          "text": "job_location"
         },
         "tracegroupgap": 0
        },
        "scene": {
         "domain": {
          "x": [
           0,
           1
          ],
          "y": [
           0,
           1
          ]
         },
         "xaxis": {
          "title": {
           "text": "Mức lương"
          }
         },
         "yaxis": {
          "title": {
           "text": "Số năm kinh nghiệm"
          }
         },
         "zaxis": {
          "title": {
           "text": "Loại công việc"
          }
         }
        },
        "template": {
         "data": {
          "bar": [
           {
            "error_x": {
             "color": "#2a3f5f"
            },
            "error_y": {
             "color": "#2a3f5f"
            },
            "marker": {
             "line": {
              "color": "#E5ECF6",
              "width": 0.5
             },
             "pattern": {
              "fillmode": "overlay",
              "size": 10,
              "solidity": 0.2
             }
            },
            "type": "bar"
           }
          ],
          "barpolar": [
           {
            "marker": {
             "line": {
              "color": "#E5ECF6",
              "width": 0.5
             },
             "pattern": {
              "fillmode": "overlay",
              "size": 10,
              "solidity": 0.2
             }
            },
            "type": "barpolar"
           }
          ],
          "carpet": [
           {
            "aaxis": {
             "endlinecolor": "#2a3f5f",
             "gridcolor": "white",
             "linecolor": "white",
             "minorgridcolor": "white",
             "startlinecolor": "#2a3f5f"
            },
            "baxis": {
             "endlinecolor": "#2a3f5f",
             "gridcolor": "white",
             "linecolor": "white",
             "minorgridcolor": "white",
             "startlinecolor": "#2a3f5f"
            },
            "type": "carpet"
           }
          ],
          "choropleth": [
           {
            "colorbar": {
             "outlinewidth": 0,
             "ticks": ""
            },
            "type": "choropleth"
           }
          ],
          "contour": [
           {
            "colorbar": {
             "outlinewidth": 0,
             "ticks": ""
            },
            "colorscale": [
             [
              0,
              "#0d0887"
             ],
             [
              0.1111111111111111,
              "#46039f"
             ],
             [
              0.2222222222222222,
              "#7201a8"
             ],
             [
              0.3333333333333333,
              "#9c179e"
             ],
             [
              0.4444444444444444,
              "#bd3786"
             ],
             [
              0.5555555555555556,
              "#d8576b"
             ],
             [
              0.6666666666666666,
              "#ed7953"
             ],
             [
              0.7777777777777778,
              "#fb9f3a"
             ],
             [
              0.8888888888888888,
              "#fdca26"
             ],
             [
              1,
              "#f0f921"
             ]
            ],
            "type": "contour"
           }
          ],
          "contourcarpet": [
           {
            "colorbar": {
             "outlinewidth": 0,
             "ticks": ""
            },
            "type": "contourcarpet"
           }
          ],
          "heatmap": [
           {
            "colorbar": {
             "outlinewidth": 0,
             "ticks": ""
            },
            "colorscale": [
             [
              0,
              "#0d0887"
             ],
             [
              0.1111111111111111,
              "#46039f"
             ],
             [
              0.2222222222222222,
              "#7201a8"
             ],
             [
              0.3333333333333333,
              "#9c179e"
             ],
             [
              0.4444444444444444,
              "#bd3786"
             ],
             [
              0.5555555555555556,
              "#d8576b"
             ],
             [
              0.6666666666666666,
              "#ed7953"
             ],
             [
              0.7777777777777778,
              "#fb9f3a"
             ],
             [
              0.8888888888888888,
              "#fdca26"
             ],
             [
              1,
              "#f0f921"
             ]
            ],
            "type": "heatmap"
           }
          ],
          "heatmapgl": [
           {
            "colorbar": {
             "outlinewidth": 0,
             "ticks": ""
            },
            "colorscale": [
             [
              0,
              "#0d0887"
             ],
             [
              0.1111111111111111,
              "#46039f"
             ],
             [
              0.2222222222222222,
              "#7201a8"
             ],
             [
              0.3333333333333333,
              "#9c179e"
             ],
             [
              0.4444444444444444,
              "#bd3786"
             ],
             [
              0.5555555555555556,
              "#d8576b"
             ],
             [
              0.6666666666666666,
              "#ed7953"
             ],
             [
              0.7777777777777778,
              "#fb9f3a"
             ],
             [
              0.8888888888888888,
              "#fdca26"
             ],
             [
              1,
              "#f0f921"
             ]
            ],
            "type": "heatmapgl"
           }
          ],
          "histogram": [
           {
            "marker": {
             "pattern": {
              "fillmode": "overlay",
              "size": 10,
              "solidity": 0.2
             }
            },
            "type": "histogram"
           }
          ],
          "histogram2d": [
           {
            "colorbar": {
             "outlinewidth": 0,
             "ticks": ""
            },
            "colorscale": [
             [
              0,
              "#0d0887"
             ],
             [
              0.1111111111111111,
              "#46039f"
             ],
             [
              0.2222222222222222,
              "#7201a8"
             ],
             [
              0.3333333333333333,
              "#9c179e"
             ],
             [
              0.4444444444444444,
              "#bd3786"
             ],
             [
              0.5555555555555556,
              "#d8576b"
             ],
             [
              0.6666666666666666,
              "#ed7953"
             ],
             [
              0.7777777777777778,
              "#fb9f3a"
             ],
             [
              0.8888888888888888,
              "#fdca26"
             ],
             [
              1,
              "#f0f921"
             ]
            ],
            "type": "histogram2d"
           }
          ],
          "histogram2dcontour": [
           {
            "colorbar": {
             "outlinewidth": 0,
             "ticks": ""
            },
            "colorscale": [
             [
              0,
              "#0d0887"
             ],
             [
              0.1111111111111111,
              "#46039f"
             ],
             [
              0.2222222222222222,
              "#7201a8"
             ],
             [
              0.3333333333333333,
              "#9c179e"
             ],
             [
              0.4444444444444444,
              "#bd3786"
             ],
             [
              0.5555555555555556,
              "#d8576b"
             ],
             [
              0.6666666666666666,
              "#ed7953"
             ],
             [
              0.7777777777777778,
              "#fb9f3a"
             ],
             [
              0.8888888888888888,
              "#fdca26"
             ],
             [
              1,
              "#f0f921"
             ]
            ],
            "type": "histogram2dcontour"
           }
          ],
          "mesh3d": [
           {
            "colorbar": {
             "outlinewidth": 0,
             "ticks": ""
            },
            "type": "mesh3d"
           }
          ],
          "parcoords": [
           {
            "line": {
             "colorbar": {
              "outlinewidth": 0,
              "ticks": ""
             }
            },
            "type": "parcoords"
           }
          ],
          "pie": [
           {
            "automargin": true,
            "type": "pie"
           }
          ],
          "scatter": [
           {
            "fillpattern": {
             "fillmode": "overlay",
             "size": 10,
             "solidity": 0.2
            },
            "type": "scatter"
           }
          ],
          "scatter3d": [
           {
            "line": {
             "colorbar": {
              "outlinewidth": 0,
              "ticks": ""
             }
            },
            "marker": {
             "colorbar": {
              "outlinewidth": 0,
              "ticks": ""
             }
            },
            "type": "scatter3d"
           }
          ],
          "scattercarpet": [
           {
            "marker": {
             "colorbar": {
              "outlinewidth": 0,
              "ticks": ""
             }
            },
            "type": "scattercarpet"
           }
          ],
          "scattergeo": [
           {
            "marker": {
             "colorbar": {
              "outlinewidth": 0,
              "ticks": ""
             }
            },
            "type": "scattergeo"
           }
          ],
          "scattergl": [
           {
            "marker": {
             "colorbar": {
              "outlinewidth": 0,
              "ticks": ""
             }
            },
            "type": "scattergl"
           }
          ],
          "scattermapbox": [
           {
            "marker": {
             "colorbar": {
              "outlinewidth": 0,
              "ticks": ""
             }
            },
            "type": "scattermapbox"
           }
          ],
          "scatterpolar": [
           {
            "marker": {
             "colorbar": {
              "outlinewidth": 0,
              "ticks": ""
             }
            },
            "type": "scatterpolar"
           }
          ],
          "scatterpolargl": [
           {
            "marker": {
             "colorbar": {
              "outlinewidth": 0,
              "ticks": ""
             }
            },
            "type": "scatterpolargl"
           }
          ],
          "scatterternary": [
           {
            "marker": {
             "colorbar": {
              "outlinewidth": 0,
              "ticks": ""
             }
            },
            "type": "scatterternary"
           }
          ],
          "surface": [
           {
            "colorbar": {
             "outlinewidth": 0,
             "ticks": ""
            },
            "colorscale": [
             [
              0,
              "#0d0887"
             ],
             [
              0.1111111111111111,
              "#46039f"
             ],
             [
              0.2222222222222222,
              "#7201a8"
             ],
             [
              0.3333333333333333,
              "#9c179e"
             ],
             [
              0.4444444444444444,
              "#bd3786"
             ],
             [
              0.5555555555555556,
              "#d8576b"
             ],
             [
              0.6666666666666666,
              "#ed7953"
             ],
             [
              0.7777777777777778,
              "#fb9f3a"
             ],
             [
              0.8888888888888888,
              "#fdca26"
             ],
             [
              1,
              "#f0f921"
             ]
            ],
            "type": "surface"
           }
          ],
          "table": [
           {
            "cells": {
             "fill": {
              "color": "#EBF0F8"
             },
             "line": {
              "color": "white"
             }
            },
            "header": {
             "fill": {
              "color": "#C8D4E3"
             },
             "line": {
              "color": "white"
             }
            },
            "type": "table"
           }
          ]
         },
         "layout": {
          "annotationdefaults": {
           "arrowcolor": "#2a3f5f",
           "arrowhead": 0,
           "arrowwidth": 1
          },
          "autotypenumbers": "strict",
          "coloraxis": {
           "colorbar": {
            "outlinewidth": 0,
            "ticks": ""
           }
          },
          "colorscale": {
           "diverging": [
            [
             0,
             "#8e0152"
            ],
            [
             0.1,
             "#c51b7d"
            ],
            [
             0.2,
             "#de77ae"
            ],
            [
             0.3,
             "#f1b6da"
            ],
            [
             0.4,
             "#fde0ef"
            ],
            [
             0.5,
             "#f7f7f7"
            ],
            [
             0.6,
             "#e6f5d0"
            ],
            [
             0.7,
             "#b8e186"
            ],
            [
             0.8,
             "#7fbc41"
            ],
            [
             0.9,
             "#4d9221"
            ],
            [
             1,
             "#276419"
            ]
           ],
           "sequential": [
            [
             0,
             "#0d0887"
            ],
            [
             0.1111111111111111,
             "#46039f"
            ],
            [
             0.2222222222222222,
             "#7201a8"
            ],
            [
             0.3333333333333333,
             "#9c179e"
            ],
            [
             0.4444444444444444,
             "#bd3786"
            ],
            [
             0.5555555555555556,
             "#d8576b"
            ],
            [
             0.6666666666666666,
             "#ed7953"
            ],
            [
             0.7777777777777778,
             "#fb9f3a"
            ],
            [
             0.8888888888888888,
             "#fdca26"
            ],
            [
             1,
             "#f0f921"
            ]
           ],
           "sequentialminus": [
            [
             0,
             "#0d0887"
            ],
            [
             0.1111111111111111,
             "#46039f"
            ],
            [
             0.2222222222222222,
             "#7201a8"
            ],
            [
             0.3333333333333333,
             "#9c179e"
            ],
            [
             0.4444444444444444,
             "#bd3786"
            ],
            [
             0.5555555555555556,
             "#d8576b"
            ],
            [
             0.6666666666666666,
             "#ed7953"
            ],
            [
             0.7777777777777778,
             "#fb9f3a"
            ],
            [
             0.8888888888888888,
             "#fdca26"
            ],
            [
             1,
             "#f0f921"
            ]
           ]
          },
          "colorway": [
           "#636efa",
           "#EF553B",
           "#00cc96",
           "#ab63fa",
           "#FFA15A",
           "#19d3f3",
           "#FF6692",
           "#B6E880",
           "#FF97FF",
           "#FECB52"
          ],
          "font": {
           "color": "#2a3f5f"
          },
          "geo": {
           "bgcolor": "white",
           "lakecolor": "white",
           "landcolor": "#E5ECF6",
           "showlakes": true,
           "showland": true,
           "subunitcolor": "white"
          },
          "hoverlabel": {
           "align": "left"
          },
          "hovermode": "closest",
          "mapbox": {
           "style": "light"
          },
          "paper_bgcolor": "white",
          "plot_bgcolor": "#E5ECF6",
          "polar": {
           "angularaxis": {
            "gridcolor": "white",
            "linecolor": "white",
            "ticks": ""
           },
           "bgcolor": "#E5ECF6",
           "radialaxis": {
            "gridcolor": "white",
            "linecolor": "white",
            "ticks": ""
           }
          },
          "scene": {
           "xaxis": {
            "backgroundcolor": "#E5ECF6",
            "gridcolor": "white",
            "gridwidth": 2,
            "linecolor": "white",
            "showbackground": true,
            "ticks": "",
            "zerolinecolor": "white"
           },
           "yaxis": {
            "backgroundcolor": "#E5ECF6",
            "gridcolor": "white",
            "gridwidth": 2,
            "linecolor": "white",
            "showbackground": true,
            "ticks": "",
            "zerolinecolor": "white"
           },
           "zaxis": {
            "backgroundcolor": "#E5ECF6",
            "gridcolor": "white",
            "gridwidth": 2,
            "linecolor": "white",
            "showbackground": true,
            "ticks": "",
            "zerolinecolor": "white"
           }
          },
          "shapedefaults": {
           "line": {
            "color": "#2a3f5f"
           }
          },
          "ternary": {
           "aaxis": {
            "gridcolor": "white",
            "linecolor": "white",
            "ticks": ""
           },
           "baxis": {
            "gridcolor": "white",
            "linecolor": "white",
            "ticks": ""
           },
           "bgcolor": "#E5ECF6",
           "caxis": {
            "gridcolor": "white",
            "linecolor": "white",
            "ticks": ""
           }
          },
          "title": {
           "x": 0.05
          },
          "xaxis": {
           "automargin": true,
           "gridcolor": "white",
           "linecolor": "white",
           "ticks": "",
           "title": {
            "standoff": 15
           },
           "zerolinecolor": "white",
           "zerolinewidth": 2
          },
          "yaxis": {
           "automargin": true,
           "gridcolor": "white",
           "linecolor": "white",
           "ticks": "",
           "title": {
            "standoff": 15
           },
           "zerolinecolor": "white",
           "zerolinewidth": 2
          }
         }
        },
        "title": {
         "text": "Mối tương quan giữa mức lương, kinh nghiệm và loại công việc"
        }
       }
      }
     },
     "metadata": {},
     "output_type": "display_data"
    }
   ],
   "source": [
    "# Đảm bảo cột kinh nghiệm là số năm (nếu cần chuyển đổi từ text sang số)\n",
    "import re\n",
    "\n",
    "def parse_experience(exp):\n",
    "    if pd.isna(exp):\n",
    "        return None\n",
    "\n",
    "    # Loại bỏ các ký tự không phải số và dấu cách\n",
    "    exp = re.sub(r'\\D', '', exp)\n",
    "\n",
    "    # Kiểm tra xem sau khi loại bỏ còn lại số không\n",
    "    if not exp:\n",
    "        return None\n",
    "\n",
    "    if '-' in exp:\n",
    "        low, high = exp.split('-')\n",
    "        return (int(low) + int(high)) / 2\n",
    "    return int(exp)\n",
    "\n",
    "cleaned_data['experience_years'] = cleaned_data['experience'].apply(parse_experience)\n",
    "\n",
    "# Vẽ biểu đồ scatter 3D để quan sát tương quan\n",
    "fig_scatter_3d = px.scatter_3d(cleaned_data,\n",
    "                               x='salary_parsed',\n",
    "                               y='experience_years',\n",
    "                               z='category',\n",
    "                               color='job_location',\n",
    "                               title='Mối tương quan giữa mức lương, kinh nghiệm và loại công việc',\n",
    "                               labels={'salary_parsed': 'Mức lương', 'experience_years': 'Số năm kinh nghiệm', 'category': 'Loại công việc'},\n",
    "                               hover_data=['job_title'])\n",
    "\n",
    "# Hiển thị biểu đồ scatter 3D\n",
    "fig_scatter_3d.show()\n"
   ]
  },
  {
   "cell_type": "code",
   "execution_count": 8,
   "metadata": {},
   "outputs": [
    {
     "data": {
      "application/vnd.plotly.v1+json": {
       "config": {
        "plotlyServerURL": "https://plot.ly"
       },
       "data": [
        {
         "hovertemplate": "job_location=Hà Nội<br>Mức lương=%{x}<br>Số năm kinh nghiệm=%{y}<br>job_title=%{z}<extra></extra>",
         "legendgroup": "Hà Nội",
         "marker": {
          "color": "#636efa",
          "symbol": "circle"
         },
         "mode": "markers",
         "name": "Hà Nội",
         "scene": "scene",
         "showlegend": true,
         "type": "scatter3d",
         "x": [
          1000,
          1300,
          1500,
          8000000,
          25000000,
          1000
         ],
         "y": [
          13,
          13,
          null,
          13,
          13,
          13
         ],
         "z": [
          "Data Analyst",
          "Data Analyst",
          "Fresher Data Analyst",
          "Data Analyst Executive",
          "Data Analyst Up To 25M",
          "Data Scientist (Offer upto 1500 USD)"
         ]
        },
        {
         "hovertemplate": "job_location=Ho Chi Minh City<br>Mức lương=%{x}<br>Số năm kinh nghiệm=%{y}<br>job_title=%{z}<extra></extra>",
         "legendgroup": "Ho Chi Minh City",
         "marker": {
          "color": "#EF553B",
          "symbol": "circle"
         },
         "mode": "markers",
         "name": "Ho Chi Minh City",
         "scene": "scene",
         "showlegend": true,
         "type": "scatter3d",
         "x": [
          20000000,
          30000000,
          38000000,
          25000000,
          150,
          18000000,
          2500000,
          3000000,
          2500000,
          150,
          11999900,
          1250,
          14000000,
          15000000,
          850,
          150,
          37000000,
          2250
         ],
         "y": [
          13,
          35,
          13,
          13,
          13,
          13,
          null,
          null,
          null,
          13,
          13,
          35,
          13,
          13,
          13,
          35,
          13,
          13
         ],
         "z": [
          "Data Analyst",
          "Data Analyst",
          "Data Analyst ",
          "Data Analyst",
          "Data Analyst",
          "DATA ANALYST SPECIALIST",
          "Data Analyst Intern",
          "DATA ANALYST INTERN",
          "Data Analyst Intern",
          "Junior Data Analyst",
          "Data Analyst / Data Research Engineer",
          "Data Analyst (BI Controller)",
          "Digital Execution and Data Analyst",
          "Game Data Analyst - Phân Tích Dữ Liệu Game",
          "Data Scientist",
          "Data Scientist",
          "Junior Data Scientist ",
          "Data Scientist (Python) (Salary 1500-3000)"
         ]
        },
        {
         "hovertemplate": "job_location=Hà Nam<br>Mức lương=%{x}<br>Số năm kinh nghiệm=%{y}<br>job_title=%{z}<extra></extra>",
         "legendgroup": "Hà Nam",
         "marker": {
          "color": "#00cc96",
          "symbol": "circle"
         },
         "mode": "markers",
         "name": "Hà Nam",
         "scene": "scene",
         "showlegend": true,
         "type": "scatter3d",
         "x": [
          950
         ],
         "y": [
          13
         ],
         "z": [
          "Data Analyst (Chuyên Viên Phân Tích Dữ Liệu Phòng MIS)"
         ]
        }
       ],
       "layout": {
        "legend": {
         "title": {
          "text": "job_location"
         },
         "tracegroupgap": 0
        },
        "scene": {
         "domain": {
          "x": [
           0,
           1
          ],
          "y": [
           0,
           1
          ]
         },
         "xaxis": {
          "title": {
           "text": "Mức lương"
          }
         },
         "yaxis": {
          "title": {
           "text": "Số năm kinh nghiệm"
          }
         },
         "zaxis": {
          "title": {
           "text": "job_title"
          }
         }
        },
        "template": {
         "data": {
          "bar": [
           {
            "error_x": {
             "color": "#2a3f5f"
            },
            "error_y": {
             "color": "#2a3f5f"
            },
            "marker": {
             "line": {
              "color": "#E5ECF6",
              "width": 0.5
             },
             "pattern": {
              "fillmode": "overlay",
              "size": 10,
              "solidity": 0.2
             }
            },
            "type": "bar"
           }
          ],
          "barpolar": [
           {
            "marker": {
             "line": {
              "color": "#E5ECF6",
              "width": 0.5
             },
             "pattern": {
              "fillmode": "overlay",
              "size": 10,
              "solidity": 0.2
             }
            },
            "type": "barpolar"
           }
          ],
          "carpet": [
           {
            "aaxis": {
             "endlinecolor": "#2a3f5f",
             "gridcolor": "white",
             "linecolor": "white",
             "minorgridcolor": "white",
             "startlinecolor": "#2a3f5f"
            },
            "baxis": {
             "endlinecolor": "#2a3f5f",
             "gridcolor": "white",
             "linecolor": "white",
             "minorgridcolor": "white",
             "startlinecolor": "#2a3f5f"
            },
            "type": "carpet"
           }
          ],
          "choropleth": [
           {
            "colorbar": {
             "outlinewidth": 0,
             "ticks": ""
            },
            "type": "choropleth"
           }
          ],
          "contour": [
           {
            "colorbar": {
             "outlinewidth": 0,
             "ticks": ""
            },
            "colorscale": [
             [
              0,
              "#0d0887"
             ],
             [
              0.1111111111111111,
              "#46039f"
             ],
             [
              0.2222222222222222,
              "#7201a8"
             ],
             [
              0.3333333333333333,
              "#9c179e"
             ],
             [
              0.4444444444444444,
              "#bd3786"
             ],
             [
              0.5555555555555556,
              "#d8576b"
             ],
             [
              0.6666666666666666,
              "#ed7953"
             ],
             [
              0.7777777777777778,
              "#fb9f3a"
             ],
             [
              0.8888888888888888,
              "#fdca26"
             ],
             [
              1,
              "#f0f921"
             ]
            ],
            "type": "contour"
           }
          ],
          "contourcarpet": [
           {
            "colorbar": {
             "outlinewidth": 0,
             "ticks": ""
            },
            "type": "contourcarpet"
           }
          ],
          "heatmap": [
           {
            "colorbar": {
             "outlinewidth": 0,
             "ticks": ""
            },
            "colorscale": [
             [
              0,
              "#0d0887"
             ],
             [
              0.1111111111111111,
              "#46039f"
             ],
             [
              0.2222222222222222,
              "#7201a8"
             ],
             [
              0.3333333333333333,
              "#9c179e"
             ],
             [
              0.4444444444444444,
              "#bd3786"
             ],
             [
              0.5555555555555556,
              "#d8576b"
             ],
             [
              0.6666666666666666,
              "#ed7953"
             ],
             [
              0.7777777777777778,
              "#fb9f3a"
             ],
             [
              0.8888888888888888,
              "#fdca26"
             ],
             [
              1,
              "#f0f921"
             ]
            ],
            "type": "heatmap"
           }
          ],
          "heatmapgl": [
           {
            "colorbar": {
             "outlinewidth": 0,
             "ticks": ""
            },
            "colorscale": [
             [
              0,
              "#0d0887"
             ],
             [
              0.1111111111111111,
              "#46039f"
             ],
             [
              0.2222222222222222,
              "#7201a8"
             ],
             [
              0.3333333333333333,
              "#9c179e"
             ],
             [
              0.4444444444444444,
              "#bd3786"
             ],
             [
              0.5555555555555556,
              "#d8576b"
             ],
             [
              0.6666666666666666,
              "#ed7953"
             ],
             [
              0.7777777777777778,
              "#fb9f3a"
             ],
             [
              0.8888888888888888,
              "#fdca26"
             ],
             [
              1,
              "#f0f921"
             ]
            ],
            "type": "heatmapgl"
           }
          ],
          "histogram": [
           {
            "marker": {
             "pattern": {
              "fillmode": "overlay",
              "size": 10,
              "solidity": 0.2
             }
            },
            "type": "histogram"
           }
          ],
          "histogram2d": [
           {
            "colorbar": {
             "outlinewidth": 0,
             "ticks": ""
            },
            "colorscale": [
             [
              0,
              "#0d0887"
             ],
             [
              0.1111111111111111,
              "#46039f"
             ],
             [
              0.2222222222222222,
              "#7201a8"
             ],
             [
              0.3333333333333333,
              "#9c179e"
             ],
             [
              0.4444444444444444,
              "#bd3786"
             ],
             [
              0.5555555555555556,
              "#d8576b"
             ],
             [
              0.6666666666666666,
              "#ed7953"
             ],
             [
              0.7777777777777778,
              "#fb9f3a"
             ],
             [
              0.8888888888888888,
              "#fdca26"
             ],
             [
              1,
              "#f0f921"
             ]
            ],
            "type": "histogram2d"
           }
          ],
          "histogram2dcontour": [
           {
            "colorbar": {
             "outlinewidth": 0,
             "ticks": ""
            },
            "colorscale": [
             [
              0,
              "#0d0887"
             ],
             [
              0.1111111111111111,
              "#46039f"
             ],
             [
              0.2222222222222222,
              "#7201a8"
             ],
             [
              0.3333333333333333,
              "#9c179e"
             ],
             [
              0.4444444444444444,
              "#bd3786"
             ],
             [
              0.5555555555555556,
              "#d8576b"
             ],
             [
              0.6666666666666666,
              "#ed7953"
             ],
             [
              0.7777777777777778,
              "#fb9f3a"
             ],
             [
              0.8888888888888888,
              "#fdca26"
             ],
             [
              1,
              "#f0f921"
             ]
            ],
            "type": "histogram2dcontour"
           }
          ],
          "mesh3d": [
           {
            "colorbar": {
             "outlinewidth": 0,
             "ticks": ""
            },
            "type": "mesh3d"
           }
          ],
          "parcoords": [
           {
            "line": {
             "colorbar": {
              "outlinewidth": 0,
              "ticks": ""
             }
            },
            "type": "parcoords"
           }
          ],
          "pie": [
           {
            "automargin": true,
            "type": "pie"
           }
          ],
          "scatter": [
           {
            "fillpattern": {
             "fillmode": "overlay",
             "size": 10,
             "solidity": 0.2
            },
            "type": "scatter"
           }
          ],
          "scatter3d": [
           {
            "line": {
             "colorbar": {
              "outlinewidth": 0,
              "ticks": ""
             }
            },
            "marker": {
             "colorbar": {
              "outlinewidth": 0,
              "ticks": ""
             }
            },
            "type": "scatter3d"
           }
          ],
          "scattercarpet": [
           {
            "marker": {
             "colorbar": {
              "outlinewidth": 0,
              "ticks": ""
             }
            },
            "type": "scattercarpet"
           }
          ],
          "scattergeo": [
           {
            "marker": {
             "colorbar": {
              "outlinewidth": 0,
              "ticks": ""
             }
            },
            "type": "scattergeo"
           }
          ],
          "scattergl": [
           {
            "marker": {
             "colorbar": {
              "outlinewidth": 0,
              "ticks": ""
             }
            },
            "type": "scattergl"
           }
          ],
          "scattermapbox": [
           {
            "marker": {
             "colorbar": {
              "outlinewidth": 0,
              "ticks": ""
             }
            },
            "type": "scattermapbox"
           }
          ],
          "scatterpolar": [
           {
            "marker": {
             "colorbar": {
              "outlinewidth": 0,
              "ticks": ""
             }
            },
            "type": "scatterpolar"
           }
          ],
          "scatterpolargl": [
           {
            "marker": {
             "colorbar": {
              "outlinewidth": 0,
              "ticks": ""
             }
            },
            "type": "scatterpolargl"
           }
          ],
          "scatterternary": [
           {
            "marker": {
             "colorbar": {
              "outlinewidth": 0,
              "ticks": ""
             }
            },
            "type": "scatterternary"
           }
          ],
          "surface": [
           {
            "colorbar": {
             "outlinewidth": 0,
             "ticks": ""
            },
            "colorscale": [
             [
              0,
              "#0d0887"
             ],
             [
              0.1111111111111111,
              "#46039f"
             ],
             [
              0.2222222222222222,
              "#7201a8"
             ],
             [
              0.3333333333333333,
              "#9c179e"
             ],
             [
              0.4444444444444444,
              "#bd3786"
             ],
             [
              0.5555555555555556,
              "#d8576b"
             ],
             [
              0.6666666666666666,
              "#ed7953"
             ],
             [
              0.7777777777777778,
              "#fb9f3a"
             ],
             [
              0.8888888888888888,
              "#fdca26"
             ],
             [
              1,
              "#f0f921"
             ]
            ],
            "type": "surface"
           }
          ],
          "table": [
           {
            "cells": {
             "fill": {
              "color": "#EBF0F8"
             },
             "line": {
              "color": "white"
             }
            },
            "header": {
             "fill": {
              "color": "#C8D4E3"
             },
             "line": {
              "color": "white"
             }
            },
            "type": "table"
           }
          ]
         },
         "layout": {
          "annotationdefaults": {
           "arrowcolor": "#2a3f5f",
           "arrowhead": 0,
           "arrowwidth": 1
          },
          "autotypenumbers": "strict",
          "coloraxis": {
           "colorbar": {
            "outlinewidth": 0,
            "ticks": ""
           }
          },
          "colorscale": {
           "diverging": [
            [
             0,
             "#8e0152"
            ],
            [
             0.1,
             "#c51b7d"
            ],
            [
             0.2,
             "#de77ae"
            ],
            [
             0.3,
             "#f1b6da"
            ],
            [
             0.4,
             "#fde0ef"
            ],
            [
             0.5,
             "#f7f7f7"
            ],
            [
             0.6,
             "#e6f5d0"
            ],
            [
             0.7,
             "#b8e186"
            ],
            [
             0.8,
             "#7fbc41"
            ],
            [
             0.9,
             "#4d9221"
            ],
            [
             1,
             "#276419"
            ]
           ],
           "sequential": [
            [
             0,
             "#0d0887"
            ],
            [
             0.1111111111111111,
             "#46039f"
            ],
            [
             0.2222222222222222,
             "#7201a8"
            ],
            [
             0.3333333333333333,
             "#9c179e"
            ],
            [
             0.4444444444444444,
             "#bd3786"
            ],
            [
             0.5555555555555556,
             "#d8576b"
            ],
            [
             0.6666666666666666,
             "#ed7953"
            ],
            [
             0.7777777777777778,
             "#fb9f3a"
            ],
            [
             0.8888888888888888,
             "#fdca26"
            ],
            [
             1,
             "#f0f921"
            ]
           ],
           "sequentialminus": [
            [
             0,
             "#0d0887"
            ],
            [
             0.1111111111111111,
             "#46039f"
            ],
            [
             0.2222222222222222,
             "#7201a8"
            ],
            [
             0.3333333333333333,
             "#9c179e"
            ],
            [
             0.4444444444444444,
             "#bd3786"
            ],
            [
             0.5555555555555556,
             "#d8576b"
            ],
            [
             0.6666666666666666,
             "#ed7953"
            ],
            [
             0.7777777777777778,
             "#fb9f3a"
            ],
            [
             0.8888888888888888,
             "#fdca26"
            ],
            [
             1,
             "#f0f921"
            ]
           ]
          },
          "colorway": [
           "#636efa",
           "#EF553B",
           "#00cc96",
           "#ab63fa",
           "#FFA15A",
           "#19d3f3",
           "#FF6692",
           "#B6E880",
           "#FF97FF",
           "#FECB52"
          ],
          "font": {
           "color": "#2a3f5f"
          },
          "geo": {
           "bgcolor": "white",
           "lakecolor": "white",
           "landcolor": "#E5ECF6",
           "showlakes": true,
           "showland": true,
           "subunitcolor": "white"
          },
          "hoverlabel": {
           "align": "left"
          },
          "hovermode": "closest",
          "mapbox": {
           "style": "light"
          },
          "paper_bgcolor": "white",
          "plot_bgcolor": "#E5ECF6",
          "polar": {
           "angularaxis": {
            "gridcolor": "white",
            "linecolor": "white",
            "ticks": ""
           },
           "bgcolor": "#E5ECF6",
           "radialaxis": {
            "gridcolor": "white",
            "linecolor": "white",
            "ticks": ""
           }
          },
          "scene": {
           "xaxis": {
            "backgroundcolor": "#E5ECF6",
            "gridcolor": "white",
            "gridwidth": 2,
            "linecolor": "white",
            "showbackground": true,
            "ticks": "",
            "zerolinecolor": "white"
           },
           "yaxis": {
            "backgroundcolor": "#E5ECF6",
            "gridcolor": "white",
            "gridwidth": 2,
            "linecolor": "white",
            "showbackground": true,
            "ticks": "",
            "zerolinecolor": "white"
           },
           "zaxis": {
            "backgroundcolor": "#E5ECF6",
            "gridcolor": "white",
            "gridwidth": 2,
            "linecolor": "white",
            "showbackground": true,
            "ticks": "",
            "zerolinecolor": "white"
           }
          },
          "shapedefaults": {
           "line": {
            "color": "#2a3f5f"
           }
          },
          "ternary": {
           "aaxis": {
            "gridcolor": "white",
            "linecolor": "white",
            "ticks": ""
           },
           "baxis": {
            "gridcolor": "white",
            "linecolor": "white",
            "ticks": ""
           },
           "bgcolor": "#E5ECF6",
           "caxis": {
            "gridcolor": "white",
            "linecolor": "white",
            "ticks": ""
           }
          },
          "title": {
           "x": 0.05
          },
          "xaxis": {
           "automargin": true,
           "gridcolor": "white",
           "linecolor": "white",
           "ticks": "",
           "title": {
            "standoff": 15
           },
           "zerolinecolor": "white",
           "zerolinewidth": 2
          },
          "yaxis": {
           "automargin": true,
           "gridcolor": "white",
           "linecolor": "white",
           "ticks": "",
           "title": {
            "standoff": 15
           },
           "zerolinecolor": "white",
           "zerolinewidth": 2
          }
         }
        },
        "title": {
         "text": "Mối tương quan giữa mức lương, kinh nghiệm và loại công việc của Data Analyst và Data Scientist"
        }
       }
      }
     },
     "metadata": {},
     "output_type": "display_data"
    }
   ],
   "source": [
    "def filter_job_titles(job_title):\n",
    "    keywords = [\"data analyst\", \"data scientist\"]\n",
    "    return any(keyword in job_title.lower() for keyword in keywords)\n",
    "\n",
    "# Áp dụng hàm lọc\n",
    "cleaned_data = cleaned_data[cleaned_data['job_title'].apply(filter_job_titles)]\n",
    "\n",
    "# Vẽ biểu đồ scatter 3D (giữ nguyên)\n",
    "fig_scatter_3d = px.scatter_3d(cleaned_data,\n",
    "                             x='salary_parsed',\n",
    "                             y='experience_years',\n",
    "                             z='job_title',\n",
    "                             color='job_location',\n",
    "                             title='Mối tương quan giữa mức lương, kinh nghiệm và loại công việc của Data Analyst và Data Scientist',\n",
    "                             labels={'salary_parsed': 'Mức lương', 'experience_years': 'Số năm kinh nghiệm', 'category': 'Loại công việc'},\n",
    "                             hover_data=['job_title'])\n",
    "\n",
    "fig_scatter_3d.show()"
   ]
  },
  {
   "cell_type": "code",
   "execution_count": 9,
   "metadata": {},
   "outputs": [
    {
     "data": {
      "text/html": [
       "<div>\n",
       "<style scoped>\n",
       "    .dataframe tbody tr th:only-of-type {\n",
       "        vertical-align: middle;\n",
       "    }\n",
       "\n",
       "    .dataframe tbody tr th {\n",
       "        vertical-align: top;\n",
       "    }\n",
       "\n",
       "    .dataframe thead th {\n",
       "        text-align: right;\n",
       "    }\n",
       "</style>\n",
       "<table border=\"1\" class=\"dataframe\">\n",
       "  <thead>\n",
       "    <tr style=\"text-align: right;\">\n",
       "      <th></th>\n",
       "      <th>Unnamed: 0</th>\n",
       "      <th>job_title</th>\n",
       "      <th>job_link</th>\n",
       "      <th>company_name</th>\n",
       "      <th>company_link</th>\n",
       "      <th>salary</th>\n",
       "      <th>currency</th>\n",
       "      <th>category</th>\n",
       "      <th>contract</th>\n",
       "      <th>experience</th>\n",
       "      <th>...</th>\n",
       "      <th>company_location</th>\n",
       "      <th>job_location</th>\n",
       "      <th>posted</th>\n",
       "      <th>updated</th>\n",
       "      <th>scrapped_time</th>\n",
       "      <th>salary_period</th>\n",
       "      <th>lowerbound</th>\n",
       "      <th>upperbound</th>\n",
       "      <th>salary_parsed</th>\n",
       "      <th>experience_years</th>\n",
       "    </tr>\n",
       "  </thead>\n",
       "  <tbody>\n",
       "    <tr>\n",
       "      <th>5</th>\n",
       "      <td>5</td>\n",
       "      <td>Data Analyst</td>\n",
       "      <td>https://glints.com/vn/opportunities/jobs/data-...</td>\n",
       "      <td>Cốc Cốc</td>\n",
       "      <td>https://glints.com/vn/companies/coc-coc/4089a7...</td>\n",
       "      <td>USD700 - 1.300/month</td>\n",
       "      <td>USD</td>\n",
       "      <td>Data Science</td>\n",
       "      <td>Việc làm fulltime</td>\n",
       "      <td>1 - 3 năm kinh nghiệm</td>\n",
       "      <td>...</td>\n",
       "      <td>NaN</td>\n",
       "      <td>Hà Nội</td>\n",
       "      <td>11 ngày trước</td>\n",
       "      <td>nhật 11 ngày trước</td>\n",
       "      <td>2022-11-11 13:42:32</td>\n",
       "      <td>month</td>\n",
       "      <td>700</td>\n",
       "      <td>1300</td>\n",
       "      <td>1000.0</td>\n",
       "      <td>13.0</td>\n",
       "    </tr>\n",
       "    <tr>\n",
       "      <th>6</th>\n",
       "      <td>6</td>\n",
       "      <td>Data Analyst</td>\n",
       "      <td>https://glints.com/vn/opportunities/jobs/data-...</td>\n",
       "      <td>Finan</td>\n",
       "      <td>https://glints.com/vn/companies/finan/7f174009...</td>\n",
       "      <td>VND15.000.000 - 25.000.000/month</td>\n",
       "      <td>VND</td>\n",
       "      <td>Data Science</td>\n",
       "      <td>Việc làm fulltime</td>\n",
       "      <td>1 - 3 năm kinh nghiệm</td>\n",
       "      <td>...</td>\n",
       "      <td>Địa chỉ văn phòng198/10E Điện Biên Phủ, Phường...</td>\n",
       "      <td>Ho Chi Minh City</td>\n",
       "      <td>10 tháng trước</td>\n",
       "      <td>nhật 1 tháng trước</td>\n",
       "      <td>2022-11-11 13:42:37</td>\n",
       "      <td>month</td>\n",
       "      <td>15000000</td>\n",
       "      <td>25000000</td>\n",
       "      <td>20000000.0</td>\n",
       "      <td>13.0</td>\n",
       "    </tr>\n",
       "    <tr>\n",
       "      <th>8</th>\n",
       "      <td>8</td>\n",
       "      <td>Data Analyst</td>\n",
       "      <td>https://glints.com/vn/opportunities/jobs/data-...</td>\n",
       "      <td>Công Ty CP Công Nghệ Sendo</td>\n",
       "      <td>https://glints.com/vn/companies/cong-ty-cp-con...</td>\n",
       "      <td>VND30.000.000/month</td>\n",
       "      <td>VND</td>\n",
       "      <td>Data Science</td>\n",
       "      <td>Việc làm fulltime</td>\n",
       "      <td>3 - 5 năm kinh nghiệm</td>\n",
       "      <td>...</td>\n",
       "      <td>Địa chỉ văn phòngĐường Số 8, Tân Thuận Đông, Q...</td>\n",
       "      <td>Ho Chi Minh City</td>\n",
       "      <td>3 ngày trước</td>\n",
       "      <td>nhật 3 ngày trước</td>\n",
       "      <td>2022-11-11 13:42:50</td>\n",
       "      <td>month</td>\n",
       "      <td>30000000</td>\n",
       "      <td>30000000</td>\n",
       "      <td>30000000.0</td>\n",
       "      <td>35.0</td>\n",
       "    </tr>\n",
       "    <tr>\n",
       "      <th>12</th>\n",
       "      <td>12</td>\n",
       "      <td>Data Analyst</td>\n",
       "      <td>https://glints.com/vn/opportunities/jobs/data-...</td>\n",
       "      <td>OKXE</td>\n",
       "      <td>https://glints.com/vn/companies/okxe/eaccd4b0-...</td>\n",
       "      <td>VND38.000.000/month</td>\n",
       "      <td>VND</td>\n",
       "      <td>Data Science</td>\n",
       "      <td>Việc làm fulltime</td>\n",
       "      <td>1 - 3 năm kinh nghiệm</td>\n",
       "      <td>...</td>\n",
       "      <td>Địa chỉ văn phòngTòa nhà Sao Mai - Tầng 11, số...</td>\n",
       "      <td>Ho Chi Minh City</td>\n",
       "      <td>29 ngày trước</td>\n",
       "      <td>nhật 29 ngày trước</td>\n",
       "      <td>2022-11-11 13:43:12</td>\n",
       "      <td>month</td>\n",
       "      <td>38000000</td>\n",
       "      <td>38000000</td>\n",
       "      <td>38000000.0</td>\n",
       "      <td>13.0</td>\n",
       "    </tr>\n",
       "    <tr>\n",
       "      <th>13</th>\n",
       "      <td>13</td>\n",
       "      <td>Data Analyst</td>\n",
       "      <td>https://glints.com/vn/opportunities/jobs/data-...</td>\n",
       "      <td>Finan</td>\n",
       "      <td>https://glints.com/vn/companies/finan/7f174009...</td>\n",
       "      <td>VND25.000.000/month</td>\n",
       "      <td>VND</td>\n",
       "      <td>Software Engineering</td>\n",
       "      <td>Việc làm fulltime</td>\n",
       "      <td>1 - 3 năm kinh nghiệm</td>\n",
       "      <td>...</td>\n",
       "      <td>Địa chỉ văn phòng198/10E Điện Biên Phủ, Phường...</td>\n",
       "      <td>Ho Chi Minh City</td>\n",
       "      <td>2 tháng trước</td>\n",
       "      <td>nhật 28 phút trước</td>\n",
       "      <td>2022-11-11 13:43:20</td>\n",
       "      <td>month</td>\n",
       "      <td>25000000</td>\n",
       "      <td>25000000</td>\n",
       "      <td>25000000.0</td>\n",
       "      <td>13.0</td>\n",
       "    </tr>\n",
       "  </tbody>\n",
       "</table>\n",
       "<p>5 rows × 24 columns</p>\n",
       "</div>"
      ],
      "text/plain": [
       "    Unnamed: 0      job_title  \\\n",
       "5            5   Data Analyst   \n",
       "6            6   Data Analyst   \n",
       "8            8   Data Analyst   \n",
       "12          12  Data Analyst    \n",
       "13          13   Data Analyst   \n",
       "\n",
       "                                             job_link  \\\n",
       "5   https://glints.com/vn/opportunities/jobs/data-...   \n",
       "6   https://glints.com/vn/opportunities/jobs/data-...   \n",
       "8   https://glints.com/vn/opportunities/jobs/data-...   \n",
       "12  https://glints.com/vn/opportunities/jobs/data-...   \n",
       "13  https://glints.com/vn/opportunities/jobs/data-...   \n",
       "\n",
       "                  company_name  \\\n",
       "5                      Cốc Cốc   \n",
       "6                        Finan   \n",
       "8   Công Ty CP Công Nghệ Sendo   \n",
       "12                        OKXE   \n",
       "13                       Finan   \n",
       "\n",
       "                                         company_link  \\\n",
       "5   https://glints.com/vn/companies/coc-coc/4089a7...   \n",
       "6   https://glints.com/vn/companies/finan/7f174009...   \n",
       "8   https://glints.com/vn/companies/cong-ty-cp-con...   \n",
       "12  https://glints.com/vn/companies/okxe/eaccd4b0-...   \n",
       "13  https://glints.com/vn/companies/finan/7f174009...   \n",
       "\n",
       "                              salary currency              category  \\\n",
       "5               USD700 - 1.300/month      USD          Data Science   \n",
       "6   VND15.000.000 - 25.000.000/month      VND          Data Science   \n",
       "8                VND30.000.000/month      VND          Data Science   \n",
       "12               VND38.000.000/month      VND          Data Science   \n",
       "13               VND25.000.000/month      VND  Software Engineering   \n",
       "\n",
       "             contract             experience  ...  \\\n",
       "5   Việc làm fulltime  1 - 3 năm kinh nghiệm  ...   \n",
       "6   Việc làm fulltime  1 - 3 năm kinh nghiệm  ...   \n",
       "8   Việc làm fulltime  3 - 5 năm kinh nghiệm  ...   \n",
       "12  Việc làm fulltime  1 - 3 năm kinh nghiệm  ...   \n",
       "13  Việc làm fulltime  1 - 3 năm kinh nghiệm  ...   \n",
       "\n",
       "                                     company_location      job_location  \\\n",
       "5                                                 NaN            Hà Nội   \n",
       "6   Địa chỉ văn phòng198/10E Điện Biên Phủ, Phường...  Ho Chi Minh City   \n",
       "8   Địa chỉ văn phòngĐường Số 8, Tân Thuận Đông, Q...  Ho Chi Minh City   \n",
       "12  Địa chỉ văn phòngTòa nhà Sao Mai - Tầng 11, số...  Ho Chi Minh City   \n",
       "13  Địa chỉ văn phòng198/10E Điện Biên Phủ, Phường...  Ho Chi Minh City   \n",
       "\n",
       "            posted             updated        scrapped_time salary_period  \\\n",
       "5    11 ngày trước  nhật 11 ngày trước  2022-11-11 13:42:32         month   \n",
       "6   10 tháng trước  nhật 1 tháng trước  2022-11-11 13:42:37         month   \n",
       "8     3 ngày trước   nhật 3 ngày trước  2022-11-11 13:42:50         month   \n",
       "12   29 ngày trước  nhật 29 ngày trước  2022-11-11 13:43:12         month   \n",
       "13   2 tháng trước  nhật 28 phút trước  2022-11-11 13:43:20         month   \n",
       "\n",
       "   lowerbound upperbound salary_parsed experience_years  \n",
       "5         700       1300        1000.0             13.0  \n",
       "6    15000000   25000000    20000000.0             13.0  \n",
       "8    30000000   30000000    30000000.0             35.0  \n",
       "12   38000000   38000000    38000000.0             13.0  \n",
       "13   25000000   25000000    25000000.0             13.0  \n",
       "\n",
       "[5 rows x 24 columns]"
      ]
     },
     "execution_count": 9,
     "metadata": {},
     "output_type": "execute_result"
    }
   ],
   "source": [
    "cleaned_data.head()"
   ]
  },
  {
   "cell_type": "code",
   "execution_count": null,
   "metadata": {},
   "outputs": [],
   "source": []
  }
 ],
 "metadata": {
  "kernelspec": {
   "display_name": "Python 3",
   "language": "python",
   "name": "python3"
  },
  "language_info": {
   "codemirror_mode": {
    "name": "ipython",
    "version": 3
   },
   "file_extension": ".py",
   "mimetype": "text/x-python",
   "name": "python",
   "nbconvert_exporter": "python",
   "pygments_lexer": "ipython3",
   "version": "3.11.5"
  }
 },
 "nbformat": 4,
 "nbformat_minor": 2
}
